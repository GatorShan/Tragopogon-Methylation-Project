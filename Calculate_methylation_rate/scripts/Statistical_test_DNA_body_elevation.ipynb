{
 "cells": [
  {
   "cell_type": "code",
   "execution_count": 1,
   "id": "6ce770be-b825-4f2a-b213-6bc50cc096f6",
   "metadata": {
    "tags": []
   },
   "outputs": [],
   "source": [
    "from scipy.stats import bartlett\n",
    "import pandas as pd\n",
    "import statsmodels.api as sm\n",
    "from statsmodels.formula.api import ols\n",
    "from statsmodels.stats.multicomp import pairwise_tukeyhsd\n",
    "import scipy.stats as stats\n",
    "import numpy as np"
   ]
  },
  {
   "cell_type": "markdown",
   "id": "dea68851-9e63-4d46-97fc-04e67bf7902a",
   "metadata": {},
   "source": [
    "## CG_DNA_body_vs_upstream"
   ]
  },
  {
   "cell_type": "code",
   "execution_count": 2,
   "id": "f032b429-72e6-47f9-8a58-754f9fa9cc57",
   "metadata": {
    "tags": []
   },
   "outputs": [
    {
     "name": "stdout",
     "output_type": "stream",
     "text": [
      "T-Statistic: 7.071843500164979\n",
      "P-Value: 0.009707593854618814\n"
     ]
    }
   ],
   "source": [
    "CG_Tdu_DNA_body = [0.940752831, 0.940052927]\n",
    "CG_Tdu_DNA_upstream = [0.892359313, 0.876552317]\n",
    "\n",
    "t_statistic, p_value = stats.ttest_ind(CG_Tdu_DNA_body, CG_Tdu_DNA_upstream, alternative='greater')\n",
    "print(\"T-Statistic:\", t_statistic)\n",
    "print(\"P-Value:\", p_value)"
   ]
  },
  {
   "cell_type": "code",
   "execution_count": 3,
   "id": "d7e668a8-e1b0-47cd-9c92-9000946b8212",
   "metadata": {
    "tags": []
   },
   "outputs": [
    {
     "name": "stdout",
     "output_type": "stream",
     "text": [
      "T-Statistic: 5.993033073308925\n",
      "P-Value: 0.01336552745834523\n"
     ]
    }
   ],
   "source": [
    "CG_Tpr_DNA_body = [0.907191895, 0.914563048]\n",
    "CG_Tpr_DNA_upstream = [0.823259096, 0.847373947]\n",
    "\n",
    "t_statistic, p_value = stats.ttest_ind(CG_Tpr_DNA_body, CG_Tpr_DNA_upstream, alternative='greater')\n",
    "print(\"T-Statistic:\", t_statistic)\n",
    "print(\"P-Value:\", p_value)"
   ]
  },
  {
   "cell_type": "code",
   "execution_count": 4,
   "id": "170f84ea-8abe-4117-9330-de1e6d66c64a",
   "metadata": {
    "tags": []
   },
   "outputs": [
    {
     "name": "stdout",
     "output_type": "stream",
     "text": [
      "T-Statistic: 14.172367820094367\n",
      "P-Value: 0.002470907887408751\n"
     ]
    }
   ],
   "source": [
    "CG_Tms_DNA_body = [0.925654546, 0.925261758]\n",
    "CG_Tms_DNA_upstream = [0.856445535, 0.845975067]\n",
    "\n",
    "t_statistic, p_value = stats.ttest_ind(CG_Tms_DNA_body, CG_Tms_DNA_upstream, alternative='greater')\n",
    "print(\"T-Statistic:\", t_statistic)\n",
    "print(\"P-Value:\", p_value)"
   ]
  },
  {
   "cell_type": "markdown",
   "id": "e8b605ba-c42b-42c2-8e91-9d4d2d237b5b",
   "metadata": {},
   "source": [
    "## CG_DNA_body_vs_downstream"
   ]
  },
  {
   "cell_type": "code",
   "execution_count": 5,
   "id": "5c936004-3f1f-4fec-a076-13a65099629a",
   "metadata": {
    "tags": []
   },
   "outputs": [
    {
     "name": "stdout",
     "output_type": "stream",
     "text": [
      "T-Statistic: 5.991912810507205\n",
      "P-Value: 0.013370326934646352\n"
     ]
    }
   ],
   "source": [
    "CG_Tdu_DNA_body = [0.940752831, 0.940052927]\n",
    "CG_Tdu_DNA_down = [0.899022624, 0.882461451]\n",
    "\n",
    "t_statistic, p_value = stats.ttest_ind(CG_Tdu_DNA_body, CG_Tdu_DNA_down, alternative='greater')\n",
    "print(\"T-Statistic:\", t_statistic)\n",
    "print(\"P-Value:\", p_value)"
   ]
  },
  {
   "cell_type": "code",
   "execution_count": 6,
   "id": "674ced93-e4ee-4226-bc38-785b0496f5aa",
   "metadata": {
    "tags": []
   },
   "outputs": [
    {
     "name": "stdout",
     "output_type": "stream",
     "text": [
      "T-Statistic: 6.2033517638476585\n",
      "P-Value: 0.012507742285498518\n"
     ]
    }
   ],
   "source": [
    "CG_Tpr_DNA_body = [0.907191895, 0.914563048]\n",
    "CG_Tpr_DNA_down = [0.832479779, 0.853148736]\n",
    "\n",
    "t_statistic, p_value = stats.ttest_ind(CG_Tpr_DNA_body, CG_Tpr_DNA_down, alternative='greater')\n",
    "print(\"T-Statistic:\", t_statistic)\n",
    "print(\"P-Value:\", p_value)"
   ]
  },
  {
   "cell_type": "code",
   "execution_count": 7,
   "id": "622d3f0d-9e42-4f14-b344-c81504d08b24",
   "metadata": {
    "tags": []
   },
   "outputs": [
    {
     "name": "stdout",
     "output_type": "stream",
     "text": [
      "T-Statistic: 16.050183117430908\n",
      "P-Value: 0.0019297016527777407\n"
     ]
    }
   ],
   "source": [
    "CG_Tms_DNA_body = [0.925654546, 0.925261758]\n",
    "CG_Tms_DNA_down = [0.862705425, 0.854376165]\n",
    "\n",
    "t_statistic, p_value = stats.ttest_ind(CG_Tms_DNA_body, CG_Tms_DNA_down, alternative='greater')\n",
    "print(\"T-Statistic:\", t_statistic)\n",
    "print(\"P-Value:\", p_value)"
   ]
  },
  {
   "cell_type": "markdown",
   "id": "d976ec6e-44cb-4592-988c-9b1f56be840d",
   "metadata": {},
   "source": [
    "## CHG_DNA_body_vs_upstream"
   ]
  },
  {
   "cell_type": "code",
   "execution_count": 8,
   "id": "2358972b-7928-4f15-a749-6fd051677843",
   "metadata": {
    "tags": []
   },
   "outputs": [
    {
     "name": "stdout",
     "output_type": "stream",
     "text": [
      "T-Statistic: 6.93454649151146\n",
      "P-Value: 0.010084133618228994\n"
     ]
    }
   ],
   "source": [
    "CHG_Tdu_DNA_body = [0.768672099, 0.771243756]\n",
    "CHG_Tdu_DNA_upstream = [0.732091786, 0.719637537]\n",
    "t_statistic, p_value = stats.ttest_ind(CHG_Tdu_DNA_body, CHG_Tdu_DNA_upstream, alternative='greater')\n",
    "print(\"T-Statistic:\", t_statistic)\n",
    "print(\"P-Value:\", p_value)"
   ]
  },
  {
   "cell_type": "code",
   "execution_count": 9,
   "id": "f805cf09-f680-4659-b4fc-d157cc81e416",
   "metadata": {
    "tags": []
   },
   "outputs": [
    {
     "name": "stdout",
     "output_type": "stream",
     "text": [
      "T-Statistic: 4.09199615050485\n",
      "P-Value: 0.02742681756877523\n"
     ]
    }
   ],
   "source": [
    "CHG_Tpr_DNA_body = [0.71515398, 0.723998008]\n",
    "CHG_Tpr_DNA_upstream = [0.649912599, 0.676107095]\n",
    "t_statistic, p_value = stats.ttest_ind(CHG_Tpr_DNA_body, CHG_Tpr_DNA_upstream, alternative='greater')\n",
    "print(\"T-Statistic:\", t_statistic)\n",
    "print(\"P-Value:\", p_value)"
   ]
  },
  {
   "cell_type": "code",
   "execution_count": 10,
   "id": "7049aab2-e4fa-42e9-949e-8db50e5b3f73",
   "metadata": {
    "tags": []
   },
   "outputs": [
    {
     "name": "stdout",
     "output_type": "stream",
     "text": [
      "T-Statistic: 10.838992853258707\n",
      "P-Value: 0.004202328465025687\n"
     ]
    }
   ],
   "source": [
    "CHG_Tms_DNA_body = [0.730676782, 0.732300465]\n",
    "CHG_Tms_DNA_upstream = [0.677726007, 0.666931299]\n",
    "t_statistic, p_value = stats.ttest_ind(CHG_Tms_DNA_body, CHG_Tms_DNA_upstream, alternative='greater')\n",
    "print(\"T-Statistic:\", t_statistic)\n",
    "print(\"P-Value:\", p_value)"
   ]
  },
  {
   "cell_type": "markdown",
   "id": "8eab6009-8e9f-4a9e-a9a4-da3eda23d779",
   "metadata": {},
   "source": [
    "## CHG_DNA_body_vs_downstream"
   ]
  },
  {
   "cell_type": "code",
   "execution_count": 11,
   "id": "ad3f215f-9ebf-4133-aaac-2bdd0d3b9308",
   "metadata": {
    "tags": []
   },
   "outputs": [
    {
     "name": "stdout",
     "output_type": "stream",
     "text": [
      "T-Statistic: 5.103149460491825\n",
      "P-Value: 0.018160101064359568\n"
     ]
    }
   ],
   "source": [
    "CHG_Tdu_DNA_body = [0.768672099, 0.771243756]\n",
    "CHG_Tdu_DNA_down = [0.740366581, 0.726231438]\n",
    "\n",
    "t_statistic, p_value = stats.ttest_ind(CHG_Tdu_DNA_body, CHG_Tdu_DNA_down, alternative='greater')\n",
    "print(\"T-Statistic:\", t_statistic)\n",
    "print(\"P-Value:\", p_value)"
   ]
  },
  {
   "cell_type": "code",
   "execution_count": 12,
   "id": "4a6ea179-8f81-43e6-8194-4297928fb81b",
   "metadata": {
    "tags": []
   },
   "outputs": [
    {
     "name": "stdout",
     "output_type": "stream",
     "text": [
      "T-Statistic: 4.317466311078687\n",
      "P-Value: 0.024841291106393004\n"
     ]
    }
   ],
   "source": [
    "CHG_Tpr_DNA_body = [0.71515398, 0.723998008]\n",
    "CHG_Tpr_DNA_down = [0.653732997, 0.677189013]\n",
    "\n",
    "t_statistic, p_value = stats.ttest_ind(CHG_Tpr_DNA_body, CHG_Tpr_DNA_down, alternative='greater')\n",
    "print(\"T-Statistic:\", t_statistic)\n",
    "print(\"P-Value:\", p_value)"
   ]
  },
  {
   "cell_type": "code",
   "execution_count": 13,
   "id": "97717679-2b2f-4410-8c9a-b73d010b835e",
   "metadata": {
    "tags": []
   },
   "outputs": [
    {
     "name": "stdout",
     "output_type": "stream",
     "text": [
      "T-Statistic: 12.271426989338424\n",
      "P-Value: 0.0032876077261213142\n"
     ]
    }
   ],
   "source": [
    "CHG_Tms_DNA_body = [0.730676782, 0.732300465]\n",
    "CHG_Tms_DNA_down = [0.681464518, 0.672751555]\n",
    "\n",
    "t_statistic, p_value = stats.ttest_ind(CHG_Tms_DNA_body, CHG_Tms_DNA_down, alternative='greater')\n",
    "print(\"T-Statistic:\", t_statistic)\n",
    "print(\"P-Value:\", p_value)"
   ]
  },
  {
   "cell_type": "markdown",
   "id": "67973efb-2d95-432e-a657-a9bd679e021d",
   "metadata": {},
   "source": [
    "## CHH_DNA_body_vs_upstream"
   ]
  },
  {
   "cell_type": "code",
   "execution_count": 14,
   "id": "559eb4bb-5743-4076-862c-3bf3f2f4fd5a",
   "metadata": {
    "tags": []
   },
   "outputs": [
    {
     "name": "stdout",
     "output_type": "stream",
     "text": [
      "T-Statistic: 0.8703425649708038\n",
      "P-Value: 0.2379387741424216\n"
     ]
    }
   ],
   "source": [
    "CHH_Tdu_DNA_body = [0.130368364, 0.156397682]\n",
    "CHH_Tdu_DNA_upstream = [0.120363014, 0.138694359]\n",
    "\n",
    "t_statistic, p_value = stats.ttest_ind(CHH_Tdu_DNA_body, CHH_Tdu_DNA_upstream, alternative='greater')\n",
    "print(\"T-Statistic:\", t_statistic)\n",
    "print(\"P-Value:\", p_value)"
   ]
  },
  {
   "cell_type": "code",
   "execution_count": 15,
   "id": "e9e70530-a60a-46d5-8a1b-ba65dff7ea2f",
   "metadata": {
    "tags": []
   },
   "outputs": [
    {
     "name": "stdout",
     "output_type": "stream",
     "text": [
      "T-Statistic: 2.2734947785502797\n",
      "P-Value: 0.07543774208918168\n"
     ]
    }
   ],
   "source": [
    "CHH_Tpr_DNA_body = [0.123949954, 0.134141027]\n",
    "CHH_Tpr_DNA_upstream = [0.107084651, 0.117643478]\n",
    "t_statistic, p_value = stats.ttest_ind(CHH_Tpr_DNA_body, CHH_Tpr_DNA_upstream, alternative='greater')\n",
    "print(\"T-Statistic:\", t_statistic)\n",
    "print(\"P-Value:\", p_value)"
   ]
  },
  {
   "cell_type": "code",
   "execution_count": 16,
   "id": "75fead43-df5d-49d6-b320-23cb274c183d",
   "metadata": {
    "tags": []
   },
   "outputs": [
    {
     "name": "stdout",
     "output_type": "stream",
     "text": [
      "T-Statistic: 3.970211450324715\n",
      "P-Value: 0.028989454023265603\n"
     ]
    }
   ],
   "source": [
    "CHH_Tms_DNA_body = [0.139464909, 0.134059826]\n",
    "CHH_Tms_DNA_upstream = [0.123793978, 0.117858304]\n",
    "t_statistic, p_value = stats.ttest_ind(CHH_Tms_DNA_body, CHH_Tms_DNA_upstream, alternative='greater')\n",
    "print(\"T-Statistic:\", t_statistic)\n",
    "print(\"P-Value:\", p_value)"
   ]
  },
  {
   "cell_type": "markdown",
   "id": "5cb3e31a-620d-48b8-8962-cf739967a26f",
   "metadata": {},
   "source": [
    "## CHH_DNA_body_vs_downstream"
   ]
  },
  {
   "cell_type": "code",
   "execution_count": 17,
   "id": "83606499-af57-4ae8-91f4-d4170687936b",
   "metadata": {
    "tags": []
   },
   "outputs": [
    {
     "name": "stdout",
     "output_type": "stream",
     "text": [
      "T-Statistic: 0.8241297236470676\n",
      "P-Value: 0.24825326794118363\n"
     ]
    }
   ],
   "source": [
    "CHH_Tdu_DNA_body = [0.130368364, 0.156397682]\n",
    "CHH_Tdu_DNA_down = [0.121291693, 0.139360785]\n",
    "\n",
    "t_statistic, p_value = stats.ttest_ind(CHH_Tdu_DNA_body, CHH_Tdu_DNA_down, alternative='greater')\n",
    "print(\"T-Statistic:\", t_statistic)\n",
    "print(\"P-Value:\", p_value)"
   ]
  },
  {
   "cell_type": "code",
   "execution_count": 18,
   "id": "b4412786-7e1e-4c98-9994-def1df0b877d",
   "metadata": {
    "tags": []
   },
   "outputs": [
    {
     "name": "stdout",
     "output_type": "stream",
     "text": [
      "T-Statistic: 2.3668866463984557\n",
      "P-Value: 0.07078076314653549\n"
     ]
    }
   ],
   "source": [
    "CHH_Tpr_DNA_body = [0.123949954, 0.134141027]\n",
    "CHH_Tpr_DNA_down = [0.106447767, 0.11697079]\n",
    "t_statistic, p_value = stats.ttest_ind(CHH_Tpr_DNA_body, CHH_Tpr_DNA_down, alternative='greater')\n",
    "print(\"T-Statistic:\", t_statistic)\n",
    "print(\"P-Value:\", p_value)"
   ]
  },
  {
   "cell_type": "code",
   "execution_count": 19,
   "id": "b7eda0a5-9914-41b2-bad8-58a45a089be1",
   "metadata": {
    "tags": []
   },
   "outputs": [
    {
     "name": "stdout",
     "output_type": "stream",
     "text": [
      "T-Statistic: 3.910583937992312\n",
      "P-Value: 0.029802159086351834\n"
     ]
    }
   ],
   "source": [
    "CHH_Tms_DNA_body = [0.139464909, 0.134059826]\n",
    "CHH_Tms_DNA_down = [0.124131386, 0.11830005]\n",
    "t_statistic, p_value = stats.ttest_ind(CHH_Tms_DNA_body, CHH_Tms_DNA_down, alternative='greater')\n",
    "print(\"T-Statistic:\", t_statistic)\n",
    "print(\"P-Value:\", p_value)"
   ]
  },
  {
   "cell_type": "code",
   "execution_count": null,
   "id": "9e59a514-3621-4b25-b9b3-aa358874fb03",
   "metadata": {},
   "outputs": [],
   "source": []
  }
 ],
 "metadata": {
  "kernelspec": {
   "display_name": "PyTorch-1.10",
   "language": "python",
   "name": "pytorch-1.10"
  },
  "language_info": {
   "codemirror_mode": {
    "name": "ipython",
    "version": 3
   },
   "file_extension": ".py",
   "mimetype": "text/x-python",
   "name": "python",
   "nbconvert_exporter": "python",
   "pygments_lexer": "ipython3",
   "version": "3.9.7"
  }
 },
 "nbformat": 4,
 "nbformat_minor": 5
}
