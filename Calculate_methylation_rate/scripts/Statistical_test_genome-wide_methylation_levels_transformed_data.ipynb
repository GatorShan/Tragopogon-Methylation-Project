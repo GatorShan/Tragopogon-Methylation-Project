{
 "cells": [
  {
   "cell_type": "code",
   "execution_count": 29,
   "id": "77595395-a8c9-4325-88cb-c89be3adf9a5",
   "metadata": {
    "tags": []
   },
   "outputs": [],
   "source": [
    "from scipy.stats import bartlett\n",
    "import pandas as pd\n",
    "import statsmodels.api as sm\n",
    "from statsmodels.formula.api import ols\n",
    "from statsmodels.stats.multicomp import pairwise_tukeyhsd\n",
    "import scipy.stats as stats\n",
    "import numpy as np"
   ]
  },
  {
   "cell_type": "markdown",
   "id": "f8068d97-0a65-4cc5-a3b3-a37658ad08d7",
   "metadata": {},
   "source": [
    "## The following test used the arcsine square root transformed data"
   ]
  },
  {
   "cell_type": "markdown",
   "id": "d8d396f6-a5d3-4afb-9d89-fb09791ec1d3",
   "metadata": {},
   "source": [
    "## CG context; genome wide methylation level"
   ]
  },
  {
   "cell_type": "code",
   "execution_count": 21,
   "id": "a318f191-84ee-4927-8c97-b7b6cbb65d84",
   "metadata": {
    "tags": []
   },
   "outputs": [],
   "source": [
    "CG_Tdu_genome_wide = [0.9019257154942122, 0.8914492423657467]\n",
    "CG_Tpr_genome_wide = [0.8449125121524577, 0.8592915816350719]\n",
    "CG_Tms_genome_wide = [0.8705786657582499, 0.8659178491131588]\n",
    "\n",
    "Trans_CG_Tdu_genome_wide = np.arcsin(np.sqrt(CG_Tdu_genome_wide)).tolist()\n",
    "Trans_CG_Tpr_genome_wide = np.arcsin(np.sqrt(CG_Tpr_genome_wide)).tolist()\n",
    "Trans_CG_Tms_genome_wide = np.arcsin(np.sqrt(CG_Tms_genome_wide)).tolist()"
   ]
  },
  {
   "cell_type": "markdown",
   "id": "e06aca33-b4af-48f1-84c3-7b2af05012ae",
   "metadata": {},
   "source": [
    "### Variance homo test"
   ]
  },
  {
   "cell_type": "code",
   "execution_count": 22,
   "id": "79408b68-a726-4fb0-8674-f8fbd49bbe48",
   "metadata": {
    "tags": []
   },
   "outputs": [
    {
     "name": "stdout",
     "output_type": "stream",
     "text": [
      "0.7008091531696429 0.7044030470826868\n"
     ]
    }
   ],
   "source": [
    "statistic, p_value = bartlett(Trans_CG_Tdu_genome_wide, Trans_CG_Tpr_genome_wide, Trans_CG_Tms_genome_wide)\n",
    "print(statistic, p_value)"
   ]
  },
  {
   "cell_type": "markdown",
   "id": "68e6b6f2-383d-4998-a82c-c1b381b4b138",
   "metadata": {},
   "source": [
    "### ANOVA and post hoc Tukey"
   ]
  },
  {
   "cell_type": "code",
   "execution_count": 23,
   "id": "928c0515-b58e-4c8a-8d7c-b7177efc93ed",
   "metadata": {},
   "outputs": [
    {
     "name": "stdout",
     "output_type": "stream",
     "text": [
      "ANOVA results:\n",
      "            df    sum_sq   mean_sq          F    PR(>F)\n",
      "species   2.0  0.004706  0.002353  18.719661  0.020206\n",
      "Residual  3.0  0.000377  0.000126        NaN       NaN\n",
      "\n",
      "Post hoc test results:\n",
      " Multiple Comparison of Means - Tukey HSD, FWER=0.05 \n",
      "====================================================\n",
      "group1 group2 meandiff p-adj   lower   upper  reject\n",
      "----------------------------------------------------\n",
      "   Tdu    Tms  -0.0443 0.0577 -0.0912  0.0025  False\n",
      "   Tdu    Tpr  -0.0675 0.0187 -0.1144 -0.0207   True\n",
      "   Tms    Tpr  -0.0232 0.2435   -0.07  0.0237  False\n",
      "----------------------------------------------------\n"
     ]
    }
   ],
   "source": [
    "CG_genome_wide = pd.DataFrame({'species': ['Tdu', 'Tdu', 'Tpr', 'Tpr', 'Tms', 'Tms'],\n",
    "                          'methylation': Trans_CG_Tdu_genome_wide + Trans_CG_Tpr_genome_wide + Trans_CG_Tms_genome_wide})\n",
    "model = ols('methylation ~ species', data=CG_genome_wide).fit()\n",
    "anova_table = sm.stats.anova_lm(model)\n",
    "\n",
    "posthoc = pairwise_tukeyhsd(CG_genome_wide['methylation'], CG_genome_wide['species'])\n",
    "\n",
    "print(\"ANOVA results:\\n\", anova_table)\n",
    "print(\"\\nPost hoc test results:\\n\", posthoc)"
   ]
  },
  {
   "cell_type": "markdown",
   "id": "2464d541-1f04-4820-bf74-d0c0783ac766",
   "metadata": {},
   "source": [
    "### Tms vs MPV"
   ]
  },
  {
   "cell_type": "code",
   "execution_count": 30,
   "id": "43ffb07a-0abb-48b0-9097-b34ee182387d",
   "metadata": {
    "tags": []
   },
   "outputs": [
    {
     "name": "stdout",
     "output_type": "stream",
     "text": [
      "T-Statistic: -2.6375229682726733\n",
      "P-Value: 0.23071003336777324\n"
     ]
    }
   ],
   "source": [
    "Tms = np.array([0.8705786657582499, 0.8659178491131588])\n",
    "MPV = np.mean(CG_Tdu_genome_wide + CG_Tpr_genome_wide)\n",
    "\n",
    "t_statistic, p_value = stats.ttest_1samp(Tms, MPV)\n",
    "\n",
    "print(\"T-Statistic:\", t_statistic)\n",
    "print(\"P-Value:\", p_value)"
   ]
  },
  {
   "cell_type": "markdown",
   "id": "3c3084f9-94ee-43c6-975e-320e3c6f7e36",
   "metadata": {},
   "source": [
    "### Tms vs MPV transformed"
   ]
  },
  {
   "cell_type": "code",
   "execution_count": 43,
   "id": "df6bdae6-9a2b-4f45-b772-3ee506878ee6",
   "metadata": {
    "tags": []
   },
   "outputs": [
    {
     "name": "stdout",
     "output_type": "stream",
     "text": [
      "T-Statistic: -2.66045070672953\n",
      "P-Value: 0.2288893757495026\n"
     ]
    }
   ],
   "source": [
    "t_statistic, p_value = stats.ttest_1samp(Trans_CG_Tms_genome_wide, np.arcsin(np.sqrt(np.mean(CG_Tdu_genome_wide + CG_Tpr_genome_wide))))\n",
    "\n",
    "print(\"T-Statistic:\", t_statistic)\n",
    "print(\"P-Value:\", p_value)"
   ]
  },
  {
   "cell_type": "markdown",
   "id": "aa04c12f-80e9-4d70-b461-9630dbbba50d",
   "metadata": {},
   "source": [
    "## CHG context; genome wide methylation level"
   ]
  },
  {
   "cell_type": "code",
   "execution_count": 44,
   "id": "fa30e4fa-b010-4379-99d6-7ebb702a0fc9",
   "metadata": {
    "tags": []
   },
   "outputs": [],
   "source": [
    "CHG_Tdu_genome_wide = [0.7400100633331924, 0.7242402876397463]\n",
    "CHG_Tpr_genome_wide = [0.6740839300527761, 0.6929469612134965]\n",
    "CHG_Tms_genome_wide = [0.6892210409240979, 0.6816075744576451]\n",
    "\n",
    "Trans_CHG_Tdu_genome_wide = np.arcsin(np.sqrt(CHG_Tdu_genome_wide)).tolist()\n",
    "Trans_CHG_Tpr_genome_wide = np.arcsin(np.sqrt(CHG_Tpr_genome_wide)).tolist()\n",
    "Trans_CHG_Tms_genome_wide = np.arcsin(np.sqrt(CHG_Tms_genome_wide)).tolist()"
   ]
  },
  {
   "cell_type": "markdown",
   "id": "ce281d9c-4140-4890-b93a-eec4f826244c",
   "metadata": {},
   "source": [
    "### Variance homo test"
   ]
  },
  {
   "cell_type": "code",
   "execution_count": 45,
   "id": "53adf565-cfb9-464d-b79e-aed426b60f10",
   "metadata": {
    "tags": []
   },
   "outputs": [
    {
     "name": "stdout",
     "output_type": "stream",
     "text": [
      "0.5227690509698711 0.7699847839104391\n"
     ]
    }
   ],
   "source": [
    "statistic, p_value = bartlett(Trans_CHG_Tdu_genome_wide, Trans_CHG_Tpr_genome_wide, Trans_CHG_Tms_genome_wide)\n",
    "print(statistic, p_value)"
   ]
  },
  {
   "cell_type": "markdown",
   "id": "af29072b-f45c-4bc8-9812-69e9d36c9e64",
   "metadata": {},
   "source": [
    "### ANOVA and post hoc Tukey"
   ]
  },
  {
   "cell_type": "code",
   "execution_count": 46,
   "id": "55449028-79a2-4c2c-ac0e-2334e9ded0f5",
   "metadata": {
    "tags": []
   },
   "outputs": [
    {
     "name": "stdout",
     "output_type": "stream",
     "text": [
      "ANOVA results:\n",
      "            df    sum_sq   mean_sq          F    PR(>F)\n",
      "species   2.0  0.003677  0.001838  13.864136  0.030505\n",
      "Residual  3.0  0.000398  0.000133        NaN       NaN\n",
      "\n",
      "Post hoc test results:\n",
      " Multiple Comparison of Means - Tukey HSD, FWER=0.05 \n",
      "====================================================\n",
      "group1 group2 meandiff p-adj   lower   upper  reject\n",
      "----------------------------------------------------\n",
      "   Tdu    Tms  -0.0515 0.0419 -0.0996 -0.0034   True\n",
      "   Tdu    Tpr  -0.0535 0.0379 -0.1016 -0.0054   True\n",
      "   Tms    Tpr   -0.002 0.9834 -0.0501  0.0461  False\n",
      "----------------------------------------------------\n"
     ]
    }
   ],
   "source": [
    "CHG_genome_wide = pd.DataFrame({'species': ['Tdu', 'Tdu', 'Tpr', 'Tpr', 'Tms', 'Tms'],\n",
    "                          'methylation': Trans_CHG_Tdu_genome_wide + Trans_CHG_Tpr_genome_wide + Trans_CHG_Tms_genome_wide})\n",
    "model = ols('methylation ~ species', data=CHG_genome_wide).fit()\n",
    "anova_table = sm.stats.anova_lm(model)\n",
    "\n",
    "posthoc = pairwise_tukeyhsd(CHG_genome_wide['methylation'], CHG_genome_wide['species'])\n",
    "\n",
    "print(\"ANOVA results:\\n\", anova_table)\n",
    "print(\"\\nPost hoc test results:\\n\", posthoc)"
   ]
  },
  {
   "cell_type": "markdown",
   "id": "72d9da64-a0c8-44d2-8c4f-e9bcd26ea9b8",
   "metadata": {},
   "source": [
    "### Tms vs MPV"
   ]
  },
  {
   "cell_type": "code",
   "execution_count": 16,
   "id": "fe5f2a84-697a-46da-8083-c7b8e7eaae9d",
   "metadata": {
    "tags": []
   },
   "outputs": [
    {
     "name": "stdout",
     "output_type": "stream",
     "text": [
      "T-Statistic: -5.885887320226351\n",
      "P-Value: 0.10713734027481443\n"
     ]
    }
   ],
   "source": [
    "Tms = np.array([0.6892210409240979, 0.6816075744576451])\n",
    "MPV = np.mean(CHG_Tdu_genome_wide + CHG_Tpr_genome_wide)\n",
    "\n",
    "t_statistic, p_value = stats.ttest_1samp(Tms, MPV)\n",
    "\n",
    "print(\"T-Statistic:\", t_statistic)\n",
    "print(\"P-Value:\", p_value)"
   ]
  },
  {
   "cell_type": "markdown",
   "id": "48fc14e1-7cb3-45c9-a98b-b22a6454bd89",
   "metadata": {},
   "source": [
    "### Tms vs MPV transformed"
   ]
  },
  {
   "cell_type": "code",
   "execution_count": 47,
   "id": "eb2502f7-550f-4f99-9c0e-5e9981a2ff3e",
   "metadata": {
    "tags": []
   },
   "outputs": [
    {
     "name": "stdout",
     "output_type": "stream",
     "text": [
      "T-Statistic: -5.944363045201038\n",
      "P-Value: 0.10610291424356669\n"
     ]
    }
   ],
   "source": [
    "t_statistic, p_value = stats.ttest_1samp(Trans_CHG_Tms_genome_wide, np.arcsin(np.sqrt(np.mean(CHG_Tdu_genome_wide + CHG_Tpr_genome_wide))))\n",
    "\n",
    "print(\"T-Statistic:\", t_statistic)\n",
    "print(\"P-Value:\", p_value)"
   ]
  },
  {
   "cell_type": "markdown",
   "id": "b60f0c40-e760-4b04-a844-620444fe5db5",
   "metadata": {},
   "source": [
    "## CHH context; genome wide methylation level"
   ]
  },
  {
   "cell_type": "code",
   "execution_count": 48,
   "id": "a68f09e5-3929-40b4-a03e-2cff0a88ade0",
   "metadata": {
    "tags": []
   },
   "outputs": [],
   "source": [
    "CHH_Tdu_genome_wide = [0.10027441958845365, 0.11646725561245197]\n",
    "CHH_Tpr_genome_wide = [0.09374047934202714, 0.1010612785565267]\n",
    "CHH_Tms_genome_wide = [0.10643238846709101, 0.10262629538960003]\n",
    "\n",
    "Trans_CHH_Tdu_genome_wide = np.arcsin(np.sqrt(CHH_Tdu_genome_wide)).tolist()\n",
    "Trans_CHH_Tpr_genome_wide = np.arcsin(np.sqrt(CHH_Tpr_genome_wide)).tolist()\n",
    "Trans_CHH_Tms_genome_wide = np.arcsin(np.sqrt(CHH_Tms_genome_wide)).tolist()"
   ]
  },
  {
   "cell_type": "markdown",
   "id": "17f67e79-6c6d-4fc1-95a1-11636cfff11f",
   "metadata": {},
   "source": [
    "### Variance homo test"
   ]
  },
  {
   "cell_type": "code",
   "execution_count": 49,
   "id": "1116350d-4b7b-4b15-9a6d-4919339ee5d9",
   "metadata": {
    "tags": []
   },
   "outputs": [
    {
     "name": "stdout",
     "output_type": "stream",
     "text": [
      "1.251385370103141 0.5348907893117119\n"
     ]
    }
   ],
   "source": [
    "statistic, p_value = bartlett(Trans_CHH_Tdu_genome_wide, Trans_CHH_Tpr_genome_wide, Trans_CHH_Tms_genome_wide)\n",
    "print(statistic, p_value)"
   ]
  },
  {
   "cell_type": "markdown",
   "id": "81dd39c5-715a-4664-b0fb-368802cada7f",
   "metadata": {},
   "source": [
    "### ANOVA and post hoc Tukey"
   ]
  },
  {
   "cell_type": "code",
   "execution_count": 50,
   "id": "e46d76b3-702a-44a8-b3a2-d2ca7ca1b137",
   "metadata": {
    "tags": []
   },
   "outputs": [
    {
     "name": "stdout",
     "output_type": "stream",
     "text": [
      "ANOVA results:\n",
      "            df    sum_sq   mean_sq         F    PR(>F)\n",
      "species   2.0  0.000332  0.000166  1.143262  0.427491\n",
      "Residual  3.0  0.000435  0.000145       NaN       NaN\n",
      "\n",
      "Post hoc test results:\n",
      " Multiple Comparison of Means - Tukey HSD, FWER=0.05\n",
      "===================================================\n",
      "group1 group2 meandiff p-adj   lower  upper  reject\n",
      "---------------------------------------------------\n",
      "   Tdu    Tms   -0.006 0.8764 -0.0564 0.0443  False\n",
      "   Tdu    Tpr  -0.0179 0.4113 -0.0682 0.0324  False\n",
      "   Tms    Tpr  -0.0119 0.6332 -0.0622 0.0385  False\n",
      "---------------------------------------------------\n"
     ]
    }
   ],
   "source": [
    "CHH_genome_wide = pd.DataFrame({'species': ['Tdu', 'Tdu', 'Tpr', 'Tpr', 'Tms', 'Tms'],\n",
    "                          'methylation': Trans_CHH_Tdu_genome_wide + Trans_CHH_Tpr_genome_wide + Trans_CHH_Tms_genome_wide})\n",
    "model = ols('methylation ~ species', data=CHH_genome_wide).fit()\n",
    "anova_table = sm.stats.anova_lm(model)\n",
    "\n",
    "posthoc = pairwise_tukeyhsd(CHH_genome_wide['methylation'], CHH_genome_wide['species'])\n",
    "\n",
    "print(\"ANOVA results:\\n\", anova_table)\n",
    "print(\"\\nPost hoc test results:\\n\", posthoc)"
   ]
  },
  {
   "cell_type": "markdown",
   "id": "184248b9-74d8-4e9a-992a-d015c3b097fd",
   "metadata": {},
   "source": [
    "### Tms vs MPV"
   ]
  },
  {
   "cell_type": "code",
   "execution_count": 20,
   "id": "c49cc719-25d6-4186-95f7-f9d8f4a87beb",
   "metadata": {
    "tags": []
   },
   "outputs": [
    {
     "name": "stdout",
     "output_type": "stream",
     "text": [
      "T-Statistic: 0.8636066538677756\n",
      "P-Value: 0.5465099016975564\n"
     ]
    }
   ],
   "source": [
    "Tms = np.array([0.10643238846709101, 0.10262629538960003])\n",
    "MPV = np.mean(CHH_Tdu_genome_wide + CHH_Tpr_genome_wide)\n",
    "\n",
    "t_statistic, p_value = stats.ttest_1samp(Tms, MPV)\n",
    "\n",
    "print(\"T-Statistic:\", t_statistic)\n",
    "print(\"P-Value:\", p_value)"
   ]
  },
  {
   "cell_type": "markdown",
   "id": "1049612c-eedc-46be-8542-015cfbb4dee3",
   "metadata": {},
   "source": [
    "### Tms vs MPV transformed"
   ]
  },
  {
   "cell_type": "code",
   "execution_count": 51,
   "id": "48788b91-6767-4688-a34e-97be97f9eeac",
   "metadata": {
    "tags": []
   },
   "outputs": [
    {
     "name": "stdout",
     "output_type": "stream",
     "text": [
      "T-Statistic: 0.8625761243446046\n",
      "P-Value: 0.5468858805147349\n"
     ]
    }
   ],
   "source": [
    "t_statistic, p_value = stats.ttest_1samp(Trans_CHH_Tms_genome_wide, np.arcsin(np.sqrt(np.mean(CHH_Tdu_genome_wide + CHH_Tpr_genome_wide))))\n",
    "\n",
    "print(\"T-Statistic:\", t_statistic)\n",
    "print(\"P-Value:\", p_value)"
   ]
  },
  {
   "cell_type": "code",
   "execution_count": null,
   "id": "0be15bf9-bb33-46a2-ac2e-b5ff36a3c510",
   "metadata": {},
   "outputs": [],
   "source": []
  }
 ],
 "metadata": {
  "kernelspec": {
   "display_name": "PyTorch-1.10",
   "language": "python",
   "name": "pytorch-1.10"
  },
  "language_info": {
   "codemirror_mode": {
    "name": "ipython",
    "version": 3
   },
   "file_extension": ".py",
   "mimetype": "text/x-python",
   "name": "python",
   "nbconvert_exporter": "python",
   "pygments_lexer": "ipython3",
   "version": "3.9.7"
  }
 },
 "nbformat": 4,
 "nbformat_minor": 5
}
