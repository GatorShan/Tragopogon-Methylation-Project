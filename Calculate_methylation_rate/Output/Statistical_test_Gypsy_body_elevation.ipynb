{
 "cells": [
  {
   "cell_type": "code",
   "execution_count": 1,
   "id": "6ce770be-b825-4f2a-b213-6bc50cc096f6",
   "metadata": {
    "tags": []
   },
   "outputs": [],
   "source": [
    "from scipy.stats import bartlett\n",
    "import pandas as pd\n",
    "import statsmodels.api as sm\n",
    "from statsmodels.formula.api import ols\n",
    "from statsmodels.stats.multicomp import pairwise_tukeyhsd\n",
    "import scipy.stats as stats\n",
    "import numpy as np"
   ]
  },
  {
   "cell_type": "markdown",
   "id": "dea68851-9e63-4d46-97fc-04e67bf7902a",
   "metadata": {},
   "source": [
    "## CG_Gypsy_body_vs_upstream"
   ]
  },
  {
   "cell_type": "code",
   "execution_count": 2,
   "id": "f032b429-72e6-47f9-8a58-754f9fa9cc57",
   "metadata": {
    "tags": []
   },
   "outputs": [
    {
     "name": "stdout",
     "output_type": "stream",
     "text": [
      "T-Statistic: 4.547759189265886\n",
      "P-Value: 0.022552412327452958\n"
     ]
    }
   ],
   "source": [
    "CG_Tdu_Gypsy_body = [0.926584645, 0.925598166]\n",
    "CG_Tdu_Gypsy_upstream = [0.913656164, 0.906735642]\n",
    "\n",
    "t_statistic, p_value = stats.ttest_ind(CG_Tdu_Gypsy_body, CG_Tdu_Gypsy_upstream, alternative='greater')\n",
    "print(\"T-Statistic:\", t_statistic)\n",
    "print(\"P-Value:\", p_value)"
   ]
  },
  {
   "cell_type": "code",
   "execution_count": 3,
   "id": "d7e668a8-e1b0-47cd-9c92-9000946b8212",
   "metadata": {
    "tags": []
   },
   "outputs": [
    {
     "name": "stdout",
     "output_type": "stream",
     "text": [
      "T-Statistic: 3.117856362508493\n",
      "P-Value: 0.04465219145354504\n"
     ]
    }
   ],
   "source": [
    "CG_Tpr_Gypsy_body = [0.885020325, 0.893161071]\n",
    "CG_Tpr_Gypsy_upstream = [0.860383291, 0.872440118]\n",
    "\n",
    "t_statistic, p_value = stats.ttest_ind(CG_Tpr_Gypsy_body, CG_Tpr_Gypsy_upstream, alternative='greater')\n",
    "print(\"T-Statistic:\", t_statistic)\n",
    "print(\"P-Value:\", p_value)"
   ]
  },
  {
   "cell_type": "code",
   "execution_count": 4,
   "id": "170f84ea-8abe-4117-9330-de1e6d66c64a",
   "metadata": {
    "tags": []
   },
   "outputs": [
    {
     "name": "stdout",
     "output_type": "stream",
     "text": [
      "T-Statistic: 13.620639419349683\n",
      "P-Value: 0.0026735040233591125\n"
     ]
    }
   ],
   "source": [
    "CG_Tms_Gypsy_body = [0.906023602, 0.906410912]\n",
    "CG_Tms_Gypsy_upstream = [0.885644814, 0.882409619]\n",
    "\n",
    "t_statistic, p_value = stats.ttest_ind(CG_Tms_Gypsy_body, CG_Tms_Gypsy_upstream, alternative='greater')\n",
    "print(\"T-Statistic:\", t_statistic)\n",
    "print(\"P-Value:\", p_value)"
   ]
  },
  {
   "cell_type": "markdown",
   "id": "e8b605ba-c42b-42c2-8e91-9d4d2d237b5b",
   "metadata": {},
   "source": [
    "## CG_Gypsy_body_vs_downstream"
   ]
  },
  {
   "cell_type": "code",
   "execution_count": 5,
   "id": "5c936004-3f1f-4fec-a076-13a65099629a",
   "metadata": {
    "tags": []
   },
   "outputs": [
    {
     "name": "stdout",
     "output_type": "stream",
     "text": [
      "T-Statistic: 4.593643323759166\n",
      "P-Value: 0.022133450586976085\n"
     ]
    }
   ],
   "source": [
    "CG_Tdu_Gypsy_body = [0.926584645, 0.925598166]\n",
    "CG_Tdu_Gypsy_down = [0.91409032, 0.907505183]\n",
    "\n",
    "t_statistic, p_value = stats.ttest_ind(CG_Tdu_Gypsy_body, CG_Tdu_Gypsy_down, alternative='greater')\n",
    "print(\"T-Statistic:\", t_statistic)\n",
    "print(\"P-Value:\", p_value)"
   ]
  },
  {
   "cell_type": "code",
   "execution_count": 6,
   "id": "674ced93-e4ee-4226-bc38-785b0496f5aa",
   "metadata": {
    "tags": []
   },
   "outputs": [
    {
     "name": "stdout",
     "output_type": "stream",
     "text": [
      "T-Statistic: 2.7271913614033303\n",
      "P-Value: 0.05613033918630368\n"
     ]
    }
   ],
   "source": [
    "CG_Tpr_Gypsy_body = [0.885020325, 0.893161071]\n",
    "CG_Tpr_Gypsy_down = [0.863781818, 0.875495954]\n",
    "\n",
    "t_statistic, p_value = stats.ttest_ind(CG_Tpr_Gypsy_body, CG_Tpr_Gypsy_down, alternative='greater')\n",
    "print(\"T-Statistic:\", t_statistic)\n",
    "print(\"P-Value:\", p_value)"
   ]
  },
  {
   "cell_type": "code",
   "execution_count": 7,
   "id": "622d3f0d-9e42-4f14-b344-c81504d08b24",
   "metadata": {
    "tags": []
   },
   "outputs": [
    {
     "name": "stdout",
     "output_type": "stream",
     "text": [
      "T-Statistic: 14.594245096378357\n",
      "P-Value: 0.002331102077623955\n"
     ]
    }
   ],
   "source": [
    "CG_Tms_Gypsy_body = [0.906023602, 0.906410912]\n",
    "CG_Tms_Gypsy_down = [0.887787449, 0.885105909]\n",
    "\n",
    "t_statistic, p_value = stats.ttest_ind(CG_Tms_Gypsy_body, CG_Tms_Gypsy_down, alternative='greater')\n",
    "print(\"T-Statistic:\", t_statistic)\n",
    "print(\"P-Value:\", p_value)"
   ]
  },
  {
   "cell_type": "markdown",
   "id": "d976ec6e-44cb-4592-988c-9b1f56be840d",
   "metadata": {},
   "source": [
    "## CHG_Gypsy_body_vs_upstream"
   ]
  },
  {
   "cell_type": "code",
   "execution_count": 8,
   "id": "2358972b-7928-4f15-a749-6fd051677843",
   "metadata": {
    "tags": []
   },
   "outputs": [
    {
     "name": "stdout",
     "output_type": "stream",
     "text": [
      "T-Statistic: 1.176864970107932\n",
      "P-Value: 0.18017192204695676\n"
     ]
    }
   ],
   "source": [
    "CHG_Tdu_Gypsy_body = [0.742895807, 0.74005215]\n",
    "CHG_Tdu_Gypsy_upstream = [0.740215078, 0.728185381]\n",
    "t_statistic, p_value = stats.ttest_ind(CHG_Tdu_Gypsy_body, CHG_Tdu_Gypsy_upstream, alternative='greater')\n",
    "print(\"T-Statistic:\", t_statistic)\n",
    "print(\"P-Value:\", p_value)"
   ]
  },
  {
   "cell_type": "code",
   "execution_count": 9,
   "id": "f805cf09-f680-4659-b4fc-d157cc81e416",
   "metadata": {
    "tags": []
   },
   "outputs": [
    {
     "name": "stdout",
     "output_type": "stream",
     "text": [
      "T-Statistic: 1.134761281314623\n",
      "P-Value: 0.18708272873593662\n"
     ]
    }
   ],
   "source": [
    "CHG_Tpr_Gypsy_body = [0.686054372, 0.697535611]\n",
    "CHG_Tpr_Gypsy_upstream = [0.671559782, 0.688658726]\n",
    "t_statistic, p_value = stats.ttest_ind(CHG_Tpr_Gypsy_body, CHG_Tpr_Gypsy_upstream, alternative='greater')\n",
    "print(\"T-Statistic:\", t_statistic)\n",
    "print(\"P-Value:\", p_value)"
   ]
  },
  {
   "cell_type": "code",
   "execution_count": 10,
   "id": "7049aab2-e4fa-42e9-949e-8db50e5b3f73",
   "metadata": {
    "tags": []
   },
   "outputs": [
    {
     "name": "stdout",
     "output_type": "stream",
     "text": [
      "T-Statistic: 4.41708245867075\n",
      "P-Value: 0.02381131375634452\n"
     ]
    }
   ],
   "source": [
    "CHG_Tms_Gypsy_body = [0.701892291, 0.698806131]\n",
    "CHG_Tms_Gypsy_upstream = [0.689155175, 0.683644349]\n",
    "t_statistic, p_value = stats.ttest_ind(CHG_Tms_Gypsy_body, CHG_Tms_Gypsy_upstream, alternative='greater')\n",
    "print(\"T-Statistic:\", t_statistic)\n",
    "print(\"P-Value:\", p_value)"
   ]
  },
  {
   "cell_type": "markdown",
   "id": "8eab6009-8e9f-4a9e-a9a4-da3eda23d779",
   "metadata": {},
   "source": [
    "## CHG_Gypsy_body_vs_downstream"
   ]
  },
  {
   "cell_type": "code",
   "execution_count": 11,
   "id": "ad3f215f-9ebf-4133-aaac-2bdd0d3b9308",
   "metadata": {
    "tags": []
   },
   "outputs": [
    {
     "name": "stdout",
     "output_type": "stream",
     "text": [
      "T-Statistic: -0.4869376684043055\n",
      "P-Value: 0.662779560798292\n"
     ]
    }
   ],
   "source": [
    "CHG_Tdu_Gypsy_body = [0.742895807, 0.74005215]\n",
    "CHG_Tdu_Gypsy_down = [0.748681831, 0.739122509]\n",
    "\n",
    "t_statistic, p_value = stats.ttest_ind(CHG_Tdu_Gypsy_body, CHG_Tdu_Gypsy_down, alternative='greater')\n",
    "print(\"T-Statistic:\", t_statistic)\n",
    "print(\"P-Value:\", p_value)"
   ]
  },
  {
   "cell_type": "code",
   "execution_count": 12,
   "id": "4a6ea179-8f81-43e6-8194-4297928fb81b",
   "metadata": {
    "tags": []
   },
   "outputs": [
    {
     "name": "stdout",
     "output_type": "stream",
     "text": [
      "T-Statistic: 0.3814719717755283\n",
      "P-Value: 0.36978342527273184\n"
     ]
    }
   ],
   "source": [
    "CHG_Tpr_Gypsy_body = [0.686054372, 0.697535611]\n",
    "CHG_Tpr_Gypsy_down = [0.679376641, 0.696385177]\n",
    "\n",
    "t_statistic, p_value = stats.ttest_ind(CHG_Tpr_Gypsy_body, CHG_Tpr_Gypsy_down, alternative='greater')\n",
    "print(\"T-Statistic:\", t_statistic)\n",
    "print(\"P-Value:\", p_value)"
   ]
  },
  {
   "cell_type": "code",
   "execution_count": 13,
   "id": "97717679-2b2f-4410-8c9a-b73d010b835e",
   "metadata": {
    "tags": []
   },
   "outputs": [
    {
     "name": "stdout",
     "output_type": "stream",
     "text": [
      "T-Statistic: 1.628042539548836\n",
      "P-Value: 0.12252788250209401\n"
     ]
    }
   ],
   "source": [
    "CHG_Tms_Gypsy_body = [0.701892291, 0.698806131]\n",
    "CHG_Tms_Gypsy_down = [0.698080503, 0.693155135]\n",
    "\n",
    "t_statistic, p_value = stats.ttest_ind(CHG_Tms_Gypsy_body, CHG_Tms_Gypsy_down, alternative='greater')\n",
    "print(\"T-Statistic:\", t_statistic)\n",
    "print(\"P-Value:\", p_value)"
   ]
  },
  {
   "cell_type": "markdown",
   "id": "67973efb-2d95-432e-a657-a9bd679e021d",
   "metadata": {},
   "source": [
    "## CHH_Gypsy_body_vs_upstream"
   ]
  },
  {
   "cell_type": "code",
   "execution_count": 14,
   "id": "559eb4bb-5743-4076-862c-3bf3f2f4fd5a",
   "metadata": {
    "tags": []
   },
   "outputs": [
    {
     "name": "stdout",
     "output_type": "stream",
     "text": [
      "T-Statistic: -0.4387306380028633\n",
      "P-Value: 0.6481493310883151\n"
     ]
    }
   ],
   "source": [
    "CHH_Tdu_Gypsy_body = [0.091892474, 0.111690271]\n",
    "CHH_Tdu_Gypsy_upstream = [0.09850718, 0.116944827]\n",
    "\n",
    "t_statistic, p_value = stats.ttest_ind(CHH_Tdu_Gypsy_body, CHH_Tdu_Gypsy_upstream, alternative='greater')\n",
    "print(\"T-Statistic:\", t_statistic)\n",
    "print(\"P-Value:\", p_value)"
   ]
  },
  {
   "cell_type": "code",
   "execution_count": 15,
   "id": "e9e70530-a60a-46d5-8a1b-ba65dff7ea2f",
   "metadata": {
    "tags": []
   },
   "outputs": [
    {
     "name": "stdout",
     "output_type": "stream",
     "text": [
      "T-Statistic: -0.8983534522723406\n",
      "P-Value: 0.7680976627773156\n"
     ]
    }
   ],
   "source": [
    "CHH_Tpr_Gypsy_body = [0.093399427, 0.097345653]\n",
    "CHH_Tpr_Gypsy_upstream = [0.095574438, 0.101768258]\n",
    "t_statistic, p_value = stats.ttest_ind(CHH_Tpr_Gypsy_body, CHH_Tpr_Gypsy_upstream, alternative='greater')\n",
    "print(\"T-Statistic:\", t_statistic)\n",
    "print(\"P-Value:\", p_value)"
   ]
  },
  {
   "cell_type": "code",
   "execution_count": 16,
   "id": "75fead43-df5d-49d6-b320-23cb274c183d",
   "metadata": {
    "tags": []
   },
   "outputs": [
    {
     "name": "stdout",
     "output_type": "stream",
     "text": [
      "T-Statistic: -1.496931545996936\n",
      "P-Value: 0.8634526518047849\n"
     ]
    }
   ],
   "source": [
    "CHH_Tms_Gypsy_body = [0.104367164, 0.102952177]\n",
    "CHH_Tms_Gypsy_upstream = [0.107710501, 0.104652609]\n",
    "t_statistic, p_value = stats.ttest_ind(CHH_Tms_Gypsy_body, CHH_Tms_Gypsy_upstream, alternative='greater')\n",
    "print(\"T-Statistic:\", t_statistic)\n",
    "print(\"P-Value:\", p_value)"
   ]
  },
  {
   "cell_type": "markdown",
   "id": "5cb3e31a-620d-48b8-8962-cf739967a26f",
   "metadata": {},
   "source": [
    "## CHH_Gypsy_body_vs_downstream"
   ]
  },
  {
   "cell_type": "code",
   "execution_count": 17,
   "id": "83606499-af57-4ae8-91f4-d4170687936b",
   "metadata": {
    "tags": []
   },
   "outputs": [
    {
     "name": "stdout",
     "output_type": "stream",
     "text": [
      "T-Statistic: -0.45322260054976055\n",
      "P-Value: 0.652593776561323\n"
     ]
    }
   ],
   "source": [
    "CHH_Tdu_Gypsy_body = [0.091892474, 0.111690271]\n",
    "CHH_Tdu_Gypsy_down = [0.098936251, 0.116702487]\n",
    "\n",
    "t_statistic, p_value = stats.ttest_ind(CHH_Tdu_Gypsy_body, CHH_Tdu_Gypsy_down, alternative='greater')\n",
    "print(\"T-Statistic:\", t_statistic)\n",
    "print(\"P-Value:\", p_value)"
   ]
  },
  {
   "cell_type": "code",
   "execution_count": 18,
   "id": "b4412786-7e1e-4c98-9994-def1df0b877d",
   "metadata": {
    "tags": []
   },
   "outputs": [
    {
     "name": "stdout",
     "output_type": "stream",
     "text": [
      "T-Statistic: -0.8440462400237131\n",
      "P-Value: 0.7562466820963919\n"
     ]
    }
   ],
   "source": [
    "CHH_Tpr_Gypsy_body = [0.093399427, 0.097345653]\n",
    "CHH_Tpr_Gypsy_down = [0.095376117, 0.101562317]\n",
    "t_statistic, p_value = stats.ttest_ind(CHH_Tpr_Gypsy_body, CHH_Tpr_Gypsy_down, alternative='greater')\n",
    "print(\"T-Statistic:\", t_statistic)\n",
    "print(\"P-Value:\", p_value)"
   ]
  },
  {
   "cell_type": "code",
   "execution_count": 19,
   "id": "b7eda0a5-9914-41b2-bad8-58a45a089be1",
   "metadata": {
    "tags": []
   },
   "outputs": [
    {
     "name": "stdout",
     "output_type": "stream",
     "text": [
      "T-Statistic: -1.3689317355997\n",
      "P-Value: 0.8477550455391178\n"
     ]
    }
   ],
   "source": [
    "CHH_Tms_Gypsy_body = [0.104367164, 0.102952177]\n",
    "CHH_Tms_Gypsy_down = [0.107371233, 0.104423806]\n",
    "t_statistic, p_value = stats.ttest_ind(CHH_Tms_Gypsy_body, CHH_Tms_Gypsy_down, alternative='greater')\n",
    "print(\"T-Statistic:\", t_statistic)\n",
    "print(\"P-Value:\", p_value)"
   ]
  },
  {
   "cell_type": "code",
   "execution_count": null,
   "id": "9e59a514-3621-4b25-b9b3-aa358874fb03",
   "metadata": {},
   "outputs": [],
   "source": []
  }
 ],
 "metadata": {
  "kernelspec": {
   "display_name": "PyTorch-1.10",
   "language": "python",
   "name": "pytorch-1.10"
  },
  "language_info": {
   "codemirror_mode": {
    "name": "ipython",
    "version": 3
   },
   "file_extension": ".py",
   "mimetype": "text/x-python",
   "name": "python",
   "nbconvert_exporter": "python",
   "pygments_lexer": "ipython3",
   "version": "3.9.7"
  }
 },
 "nbformat": 4,
 "nbformat_minor": 5
}
