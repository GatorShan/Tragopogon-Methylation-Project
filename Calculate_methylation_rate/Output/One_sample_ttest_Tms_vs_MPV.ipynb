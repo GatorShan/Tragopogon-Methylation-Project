{
 "cells": [
  {
   "cell_type": "markdown",
   "id": "87b92cdc-9f5a-4e7a-ad0e-82c1d23d1d8e",
   "metadata": {},
   "source": [
    "## CG TE body one sample ttest: compare if Tms is different from the MPV"
   ]
  },
  {
   "cell_type": "code",
   "execution_count": 1,
   "id": "472414ad-7308-42bb-b34b-7dffdc2235d7",
   "metadata": {
    "tags": []
   },
   "outputs": [
    {
     "name": "stdout",
     "output_type": "stream",
     "text": [
      "T-Statistic: -4.089555691158359\n",
      "P-Value: 0.15267379905359552\n"
     ]
    }
   ],
   "source": [
    "import scipy.stats as stats\n",
    "import numpy as np\n",
    "\n",
    "data = np.array([0.916044855, 0.915590914])  # Example data\n",
    "specific_value = 0.916746093  # Example specific value\n",
    "\n",
    "t_statistic, p_value = stats.ttest_1samp(data, specific_value)\n",
    "\n",
    "print(\"T-Statistic:\", t_statistic)\n",
    "print(\"P-Value:\", p_value)"
   ]
  },
  {
   "cell_type": "markdown",
   "id": "569a2c3e-45d0-4033-80df-eb119b946464",
   "metadata": {
    "tags": []
   },
   "source": [
    "## CHG TE body one sample ttest"
   ]
  },
  {
   "cell_type": "code",
   "execution_count": 2,
   "id": "99b337d2-a162-49ed-8d8a-a34d710c7d2f",
   "metadata": {
    "tags": []
   },
   "outputs": [
    {
     "name": "stdout",
     "output_type": "stream",
     "text": [
      "T-Statistic: -302.00682985655715\n",
      "P-Value: 0.0021079571149628966\n"
     ]
    }
   ],
   "source": [
    "data = np.array([0.7189503, 0.718847516])  # Example data\n",
    "specific_value = 0.734419643  # Example specific value\n",
    "\n",
    "t_statistic, p_value = stats.ttest_1samp(data, specific_value)\n",
    "\n",
    "print(\"T-Statistic:\", t_statistic)\n",
    "print(\"P-Value:\", p_value)"
   ]
  },
  {
   "cell_type": "markdown",
   "id": "72356788-bd18-429f-b221-33561564f468",
   "metadata": {},
   "source": [
    "### CHG TE body one sample ttest; one tailed"
   ]
  },
  {
   "cell_type": "code",
   "execution_count": 3,
   "id": "c942e1ac-06ee-4469-811e-96299bc92bf7",
   "metadata": {
    "tags": []
   },
   "outputs": [
    {
     "name": "stdout",
     "output_type": "stream",
     "text": [
      "T-Statistic: -302.00682985655715\n",
      "P-Value: 0.0010539785574814483\n"
     ]
    }
   ],
   "source": [
    "t_statistic, p_value = stats.ttest_1samp(data, specific_value, alternative='less')\n",
    "print(\"T-Statistic:\", t_statistic)\n",
    "print(\"P-Value:\", p_value)"
   ]
  },
  {
   "cell_type": "markdown",
   "id": "0c230949-6350-4a0b-8c41-55f77d3ab9ce",
   "metadata": {},
   "source": [
    "### the result above means T. miscellus TE body methylation level is significantly lower then MPV"
   ]
  },
  {
   "cell_type": "markdown",
   "id": "ae4e2973-bd6c-4f93-aade-37835ecd023c",
   "metadata": {},
   "source": [
    "## CHG gene promoter one sample ttest"
   ]
  },
  {
   "cell_type": "code",
   "execution_count": 4,
   "id": "4056c1e8-6196-4736-bcf6-5f92ef69755d",
   "metadata": {
    "tags": []
   },
   "outputs": [
    {
     "name": "stdout",
     "output_type": "stream",
     "text": [
      "T-Statistic: -3.646297158281211\n",
      "P-Value: 0.17040374363230487\n"
     ]
    }
   ],
   "source": [
    "data = np.array([0.615360467, 0.599295049])  # Example data\n",
    "specific_value = 0.636617402  # Example specific value\n",
    "\n",
    "t_statistic, p_value = stats.ttest_1samp(data, specific_value)\n",
    "\n",
    "print(\"T-Statistic:\", t_statistic)\n",
    "print(\"P-Value:\", p_value)"
   ]
  },
  {
   "cell_type": "markdown",
   "id": "578bda05-f990-4a5e-81a1-309e06280c37",
   "metadata": {},
   "source": [
    "## CHG TE upstream one sample ttest"
   ]
  },
  {
   "cell_type": "code",
   "execution_count": 5,
   "id": "9d77107d-5b1a-4467-83ae-8a82bf59e7f7",
   "metadata": {
    "tags": []
   },
   "outputs": [
    {
     "name": "stdout",
     "output_type": "stream",
     "text": [
      "T-Statistic: -3.3188847252104297\n",
      "P-Value: 0.18630968025115133\n"
     ]
    }
   ],
   "source": [
    "data = np.array([0.664017772, 0.650264175])  # Example data\n",
    "specific_value = 0.679964275  # Example specific value\n",
    "\n",
    "t_statistic, p_value = stats.ttest_1samp(data, specific_value)\n",
    "\n",
    "print(\"T-Statistic:\", t_statistic)\n",
    "print(\"P-Value:\", p_value)"
   ]
  },
  {
   "cell_type": "markdown",
   "id": "9504c125-a2b7-4299-9164-a0c9398f6ef4",
   "metadata": {},
   "source": [
    "## CHG TE downstream one sample ttest"
   ]
  },
  {
   "cell_type": "code",
   "execution_count": 6,
   "id": "8febb63f-d067-4d64-8430-39efd3dc57e5",
   "metadata": {
    "tags": []
   },
   "outputs": [
    {
     "name": "stdout",
     "output_type": "stream",
     "text": [
      "T-Statistic: -2.879771449036639\n",
      "P-Value: 0.2127727385691332\n"
     ]
    }
   ],
   "source": [
    "data = np.array([0.651408688, 0.635817067])  # Example data\n",
    "specific_value = 0.66606303  # Example specific value\n",
    "\n",
    "t_statistic, p_value = stats.ttest_1samp(data, specific_value)\n",
    "\n",
    "print(\"T-Statistic:\", t_statistic)\n",
    "print(\"P-Value:\", p_value)"
   ]
  },
  {
   "cell_type": "markdown",
   "id": "c03f8077-d5b0-4cfb-8a17-399327fdf643",
   "metadata": {},
   "source": [
    "## CHH gene promoter one sample ttest"
   ]
  },
  {
   "cell_type": "code",
   "execution_count": 7,
   "id": "0733e04e-eb1f-4e6d-90c6-16ecfadfab3c",
   "metadata": {
    "tags": []
   },
   "outputs": [
    {
     "name": "stdout",
     "output_type": "stream",
     "text": [
      "T-Statistic: -1.138641834453589\n",
      "P-Value: 0.45878748810926606\n"
     ]
    }
   ],
   "source": [
    "data = np.array([0.158212283, 0.145746969])  # Example data\n",
    "specific_value = 0.15907639  # Example specific value\n",
    "\n",
    "t_statistic, p_value = stats.ttest_1samp(data, specific_value)\n",
    "\n",
    "print(\"T-Statistic:\", t_statistic)\n",
    "print(\"P-Value:\", p_value)"
   ]
  },
  {
   "cell_type": "code",
   "execution_count": null,
   "id": "cb45df10-2987-4f6f-b048-0b0cde532d79",
   "metadata": {},
   "outputs": [],
   "source": []
  }
 ],
 "metadata": {
  "kernelspec": {
   "display_name": "PyTorch-1.10",
   "language": "python",
   "name": "pytorch-1.10"
  },
  "language_info": {
   "codemirror_mode": {
    "name": "ipython",
    "version": 3
   },
   "file_extension": ".py",
   "mimetype": "text/x-python",
   "name": "python",
   "nbconvert_exporter": "python",
   "pygments_lexer": "ipython3",
   "version": "3.9.7"
  }
 },
 "nbformat": 4,
 "nbformat_minor": 5
}
