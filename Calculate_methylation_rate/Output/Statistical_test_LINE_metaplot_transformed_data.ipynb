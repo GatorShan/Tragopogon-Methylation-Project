{
 "cells": [
  {
   "cell_type": "code",
   "execution_count": 1,
   "id": "77595395-a8c9-4325-88cb-c89be3adf9a5",
   "metadata": {
    "tags": []
   },
   "outputs": [],
   "source": [
    "from scipy.stats import bartlett\n",
    "import pandas as pd\n",
    "import statsmodels.api as sm\n",
    "from statsmodels.formula.api import ols\n",
    "from statsmodels.stats.multicomp import pairwise_tukeyhsd\n",
    "import scipy.stats as stats\n",
    "import numpy as np"
   ]
  },
  {
   "cell_type": "markdown",
   "id": "f8068d97-0a65-4cc5-a3b3-a37658ad08d7",
   "metadata": {},
   "source": [
    "## The following test used the arcsine square root transformed data\n",
    "## The methylation levels are from excel files: CG/CHG/CHH_anova_new_LINE_DNA.xlsx"
   ]
  },
  {
   "cell_type": "markdown",
   "id": "d8d396f6-a5d3-4afb-9d89-fb09791ec1d3",
   "metadata": {},
   "source": [
    "## CG context; LINE; upstream"
   ]
  },
  {
   "cell_type": "code",
   "execution_count": 2,
   "id": "a318f191-84ee-4927-8c97-b7b6cbb65d84",
   "metadata": {
    "tags": []
   },
   "outputs": [],
   "source": [
    "CG_Tdu_LINE_upstream = [0.873092354, 0.842691017]\n",
    "CG_Tpr_LINE_upstream = [0.76849903, 0.80350084]\n",
    "CG_Tms_LINE_upstream = [0.815490141, 0.798978264]\n",
    "\n",
    "Trans_CG_Tdu_LINE_upstream = np.arcsin(np.sqrt(CG_Tdu_LINE_upstream)).tolist()\n",
    "Trans_CG_Tpr_LINE_upstream = np.arcsin(np.sqrt(CG_Tpr_LINE_upstream)).tolist()\n",
    "Trans_CG_Tms_LINE_upstream = np.arcsin(np.sqrt(CG_Tms_LINE_upstream)).tolist()"
   ]
  },
  {
   "cell_type": "markdown",
   "id": "e06aca33-b4af-48f1-84c3-7b2af05012ae",
   "metadata": {},
   "source": [
    "### Variance homo test"
   ]
  },
  {
   "cell_type": "code",
   "execution_count": 3,
   "id": "79408b68-a726-4fb0-8674-f8fbd49bbe48",
   "metadata": {
    "tags": []
   },
   "outputs": [
    {
     "name": "stdout",
     "output_type": "stream",
     "text": [
      "0.39078127926689576 0.8225132890006389\n"
     ]
    }
   ],
   "source": [
    "statistic, p_value = bartlett(Trans_CG_Tdu_LINE_upstream, Trans_CG_Tpr_LINE_upstream, Trans_CG_Tms_LINE_upstream)\n",
    "print(statistic, p_value)"
   ]
  },
  {
   "cell_type": "markdown",
   "id": "68e6b6f2-383d-4998-a82c-c1b381b4b138",
   "metadata": {},
   "source": [
    "### ANOVA and post hoc Tukey"
   ]
  },
  {
   "cell_type": "code",
   "execution_count": 4,
   "id": "928c0515-b58e-4c8a-8d7c-b7177efc93ed",
   "metadata": {},
   "outputs": [
    {
     "name": "stdout",
     "output_type": "stream",
     "text": [
      "ANOVA results:\n",
      "            df    sum_sq   mean_sq         F    PR(>F)\n",
      "species   2.0  0.009539  0.004770  6.875721  0.075789\n",
      "Residual  3.0  0.002081  0.000694       NaN       NaN\n",
      "\n",
      "Post hoc test results:\n",
      " Multiple Comparison of Means - Tukey HSD, FWER=0.05\n",
      "===================================================\n",
      "group1 group2 meandiff p-adj   lower  upper  reject\n",
      "---------------------------------------------------\n",
      "   Tdu    Tms  -0.0684 0.1551 -0.1785 0.0416  False\n",
      "   Tdu    Tpr  -0.0946 0.0734 -0.2046 0.0155  False\n",
      "   Tms    Tpr  -0.0262 0.6295 -0.1362 0.0839  False\n",
      "---------------------------------------------------\n"
     ]
    }
   ],
   "source": [
    "CG_LINE_upstream = pd.DataFrame({'species': ['Tdu', 'Tdu', 'Tpr', 'Tpr', 'Tms', 'Tms'],\n",
    "                          'methylation': Trans_CG_Tdu_LINE_upstream + Trans_CG_Tpr_LINE_upstream + Trans_CG_Tms_LINE_upstream})\n",
    "model = ols('methylation ~ species', data=CG_LINE_upstream).fit()\n",
    "anova_table = sm.stats.anova_lm(model)\n",
    "\n",
    "posthoc = pairwise_tukeyhsd(CG_LINE_upstream['methylation'], CG_LINE_upstream['species'])\n",
    "\n",
    "print(\"ANOVA results:\\n\", anova_table)\n",
    "print(\"\\nPost hoc test results:\\n\", posthoc)"
   ]
  },
  {
   "cell_type": "markdown",
   "id": "338e8be2-569c-4469-9055-d6d66f5554be",
   "metadata": {},
   "source": [
    "## CG context; LINE; body"
   ]
  },
  {
   "cell_type": "code",
   "execution_count": 6,
   "id": "bd6fd08d-ed84-4d47-b0b7-c5dcc09f145b",
   "metadata": {
    "tags": []
   },
   "outputs": [],
   "source": [
    "CG_Tdu_LINE_body = [0.945239867, 0.944587146]\n",
    "CG_Tpr_LINE_body = [0.886832521, 0.896157275]\n",
    "CG_Tms_LINE_body = [0.922242588, 0.922356429]\n",
    "\n",
    "Trans_CG_Tdu_LINE_body = np.arcsin(np.sqrt(CG_Tdu_LINE_body)).tolist()\n",
    "Trans_CG_Tpr_LINE_body = np.arcsin(np.sqrt(CG_Tpr_LINE_body)).tolist()\n",
    "Trans_CG_Tms_LINE_body = np.arcsin(np.sqrt(CG_Tms_LINE_body)).tolist()"
   ]
  },
  {
   "cell_type": "code",
   "execution_count": 7,
   "id": "0f11d2c8-cb85-4774-9c9d-62c9376b513e",
   "metadata": {
    "tags": []
   },
   "outputs": [
    {
     "name": "stdout",
     "output_type": "stream",
     "text": [
      "6.883573161609177 0.032007450319256614\n"
     ]
    }
   ],
   "source": [
    "statistic, p_value = bartlett(Trans_CG_Tdu_LINE_body, Trans_CG_Tpr_LINE_body, Trans_CG_Tms_LINE_body)\n",
    "print(statistic, p_value)"
   ]
  },
  {
   "cell_type": "code",
   "execution_count": 8,
   "id": "202e65ba-0a70-4198-aee6-7db5c65f7dfd",
   "metadata": {
    "tags": []
   },
   "outputs": [
    {
     "name": "stdout",
     "output_type": "stream",
     "text": [
      "ANOVA results:\n",
      "            df    sum_sq   mean_sq           F    PR(>F)\n",
      "species   2.0  0.009757  0.004879  129.004549  0.001232\n",
      "Residual  3.0  0.000113  0.000038         NaN       NaN\n",
      "\n",
      "Post hoc test results:\n",
      " Multiple Comparison of Means - Tukey HSD, FWER=0.05 \n",
      "====================================================\n",
      "group1 group2 meandiff p-adj   lower   upper  reject\n",
      "----------------------------------------------------\n",
      "   Tdu    Tms  -0.0456 0.0104 -0.0713 -0.0199   True\n",
      "   Tdu    Tpr  -0.0987 0.0011 -0.1244  -0.073   True\n",
      "   Tms    Tpr  -0.0531 0.0067 -0.0788 -0.0274   True\n",
      "----------------------------------------------------\n"
     ]
    }
   ],
   "source": [
    "CG_LINE_body = pd.DataFrame({'species': ['Tdu', 'Tdu', 'Tpr', 'Tpr', 'Tms', 'Tms'],\n",
    "                          'methylation': Trans_CG_Tdu_LINE_body + Trans_CG_Tpr_LINE_body + Trans_CG_Tms_LINE_body})\n",
    "model = ols('methylation ~ species', data=CG_LINE_body).fit()\n",
    "anova_table = sm.stats.anova_lm(model)\n",
    "\n",
    "posthoc = pairwise_tukeyhsd(CG_LINE_body['methylation'], CG_LINE_body['species'])\n",
    "\n",
    "print(\"ANOVA results:\\n\", anova_table)\n",
    "print(\"\\nPost hoc test results:\\n\", posthoc)"
   ]
  },
  {
   "cell_type": "code",
   "execution_count": 9,
   "id": "7df47b15-ac1a-4b73-a8ec-7c63e5739464",
   "metadata": {
    "tags": []
   },
   "outputs": [
    {
     "name": "stdout",
     "output_type": "stream",
     "text": [
      "T-Statistic: 71.94782635429877\n",
      "P-Value: 0.008847783387926291\n"
     ]
    }
   ],
   "source": [
    "t_statistic, p_value = stats.ttest_1samp(CG_Tms_LINE_body, np.mean(CG_Tdu_LINE_body + CG_Tpr_LINE_body))\n",
    "\n",
    "print(\"T-Statistic:\", t_statistic)\n",
    "print(\"P-Value:\", p_value)"
   ]
  },
  {
   "cell_type": "code",
   "execution_count": 12,
   "id": "11df3d8c-1d45-4dfa-8119-cd2c623acc18",
   "metadata": {
    "tags": []
   },
   "outputs": [
    {
     "name": "stdout",
     "output_type": "stream",
     "text": [
      "T-Statistic: 71.94782635429877\n",
      "P-Value: 0.004423891693963146\n"
     ]
    }
   ],
   "source": [
    "t_statistic, p_value = stats.ttest_1samp(CG_Tms_LINE_body, np.mean(CG_Tdu_LINE_body + CG_Tpr_LINE_body), alternative='greater')\n",
    "\n",
    "print(\"T-Statistic:\", t_statistic)\n",
    "print(\"P-Value:\", p_value)"
   ]
  },
  {
   "cell_type": "markdown",
   "id": "51ca1e65-6812-4c87-8355-d4705f117cec",
   "metadata": {},
   "source": [
    "### the result above means T. miscellus LINE body methylation level is significantly higher then MPV"
   ]
  },
  {
   "cell_type": "markdown",
   "id": "962a512a-c43f-43dc-8aaa-5371347b40e1",
   "metadata": {},
   "source": [
    "## CG context; LINE; downstream"
   ]
  },
  {
   "cell_type": "code",
   "execution_count": 14,
   "id": "e3e089f1-864b-4c2d-8485-9d9da3e7a460",
   "metadata": {
    "tags": []
   },
   "outputs": [],
   "source": [
    "CG_Tdu_LINE_down = [0.874587176, 0.849780009]\n",
    "CG_Tpr_LINE_down = [0.785396684, 0.813311397]\n",
    "CG_Tms_LINE_down = [0.823882735, 0.81169017]\n",
    "\n",
    "Trans_CG_Tdu_LINE_down = np.arcsin(np.sqrt(CG_Tdu_LINE_down)).tolist()\n",
    "Trans_CG_Tpr_LINE_down = np.arcsin(np.sqrt(CG_Tpr_LINE_down)).tolist()\n",
    "Trans_CG_Tms_LINE_down = np.arcsin(np.sqrt(CG_Tms_LINE_down)).tolist()"
   ]
  },
  {
   "cell_type": "code",
   "execution_count": 15,
   "id": "adca5711-64e8-40e8-a9a8-710f3fdd0b00",
   "metadata": {
    "tags": []
   },
   "outputs": [
    {
     "name": "stdout",
     "output_type": "stream",
     "text": [
      "0.4744904835351841 0.7887978181239406\n"
     ]
    }
   ],
   "source": [
    "statistic, p_value = bartlett(Trans_CG_Tdu_LINE_down, Trans_CG_Tpr_LINE_down, Trans_CG_Tms_LINE_down)\n",
    "print(statistic, p_value)"
   ]
  },
  {
   "cell_type": "code",
   "execution_count": 16,
   "id": "5404cc8c-c644-49fa-a142-3243ff285a1c",
   "metadata": {
    "tags": []
   },
   "outputs": [
    {
     "name": "stdout",
     "output_type": "stream",
     "text": [
      "ANOVA results:\n",
      "            df    sum_sq   mean_sq         F    PR(>F)\n",
      "species   2.0  0.007569  0.003784  8.218982  0.060633\n",
      "Residual  3.0  0.001381  0.000460       NaN       NaN\n",
      "\n",
      "Post hoc test results:\n",
      " Multiple Comparison of Means - Tukey HSD, FWER=0.05\n",
      "===================================================\n",
      "group1 group2 meandiff p-adj   lower  upper  reject\n",
      "---------------------------------------------------\n",
      "   Tdu    Tms   -0.061 0.1275 -0.1506 0.0287  False\n",
      "   Tdu    Tpr  -0.0842 0.0587 -0.1739 0.0054  False\n",
      "   Tms    Tpr  -0.0233 0.5845 -0.1129 0.0664  False\n",
      "---------------------------------------------------\n"
     ]
    }
   ],
   "source": [
    "CG_LINE_down = pd.DataFrame({'species': ['Tdu', 'Tdu', 'Tpr', 'Tpr', 'Tms', 'Tms'],\n",
    "                          'methylation': Trans_CG_Tdu_LINE_down + Trans_CG_Tpr_LINE_down + Trans_CG_Tms_LINE_down})\n",
    "model = ols('methylation ~ species', data=CG_LINE_down).fit()\n",
    "anova_table = sm.stats.anova_lm(model)\n",
    "\n",
    "posthoc = pairwise_tukeyhsd(CG_LINE_down['methylation'], CG_LINE_down['species'])\n",
    "\n",
    "print(\"ANOVA results:\\n\", anova_table)\n",
    "print(\"\\nPost hoc test results:\\n\", posthoc)"
   ]
  },
  {
   "cell_type": "markdown",
   "id": "e81f1fa8-48bc-4f00-8b1e-7000c2c8a3a2",
   "metadata": {},
   "source": [
    "## CHG; LINE; upstream"
   ]
  },
  {
   "cell_type": "code",
   "execution_count": 17,
   "id": "941a3d98-4c09-4e36-9b40-6c4ee5e971ca",
   "metadata": {
    "tags": []
   },
   "outputs": [],
   "source": [
    "CHG_Tdu_LINE_upstream = [0.687069399, 0.661017079]\n",
    "CHG_Tpr_LINE_upstream = [0.576862138, 0.61572338]\n",
    "CHG_Tms_LINE_upstream = [0.61609, 0.598357536]\n",
    "\n",
    "Trans_CHG_Tdu_LINE_upstream = np.arcsin(np.sqrt(CHG_Tdu_LINE_upstream)).tolist()\n",
    "Trans_CHG_Tpr_LINE_upstream = np.arcsin(np.sqrt(CHG_Tpr_LINE_upstream)).tolist()\n",
    "Trans_CHG_Tms_LINE_upstream = np.arcsin(np.sqrt(CHG_Tms_LINE_upstream)).tolist()"
   ]
  },
  {
   "cell_type": "code",
   "execution_count": 18,
   "id": "5cd3086d-fc67-4093-a958-e563f60cae81",
   "metadata": {
    "tags": []
   },
   "outputs": [
    {
     "name": "stdout",
     "output_type": "stream",
     "text": [
      "0.3940910128580167 0.8211532647096631\n"
     ]
    }
   ],
   "source": [
    "statistic, p_value = bartlett(Trans_CHG_Tdu_LINE_upstream, Trans_CHG_Tpr_LINE_upstream, Trans_CHG_Tms_LINE_upstream)\n",
    "print(statistic, p_value)"
   ]
  },
  {
   "cell_type": "code",
   "execution_count": 19,
   "id": "6f570636-8703-4f90-ab22-f4d9c5990ace",
   "metadata": {
    "tags": []
   },
   "outputs": [
    {
     "name": "stdout",
     "output_type": "stream",
     "text": [
      "ANOVA results:\n",
      "            df    sum_sq   mean_sq        F    PR(>F)\n",
      "species   2.0  0.007685  0.003843  8.63009  0.056979\n",
      "Residual  3.0  0.001336  0.000445      NaN       NaN\n",
      "\n",
      "Post hoc test results:\n",
      " Multiple Comparison of Means - Tukey HSD, FWER=0.05\n",
      "===================================================\n",
      "group1 group2 meandiff p-adj   lower  upper  reject\n",
      "---------------------------------------------------\n",
      "   Tdu    Tms  -0.0698 0.0898 -0.1579 0.0184  False\n",
      "   Tdu    Tpr  -0.0809 0.0624  -0.169 0.0073  False\n",
      "   Tms    Tpr  -0.0111 0.8647 -0.0993 0.0771  False\n",
      "---------------------------------------------------\n"
     ]
    }
   ],
   "source": [
    "CHG_LINE_upstream = pd.DataFrame({'species': ['Tdu', 'Tdu', 'Tpr', 'Tpr', 'Tms', 'Tms'],\n",
    "                          'methylation': Trans_CHG_Tdu_LINE_upstream + Trans_CHG_Tpr_LINE_upstream + Trans_CHG_Tms_LINE_upstream})\n",
    "model = ols('methylation ~ species', data=CHG_LINE_upstream).fit()\n",
    "anova_table = sm.stats.anova_lm(model)\n",
    "\n",
    "posthoc = pairwise_tukeyhsd(CHG_LINE_upstream['methylation'], CHG_LINE_upstream['species'])\n",
    "\n",
    "print(\"ANOVA results:\\n\", anova_table)\n",
    "print(\"\\nPost hoc test results:\\n\", posthoc)"
   ]
  },
  {
   "cell_type": "markdown",
   "id": "d445f83c-b460-43b4-b0c5-8e8d90a401b0",
   "metadata": {},
   "source": [
    "## CHG; LINE; body"
   ]
  },
  {
   "cell_type": "code",
   "execution_count": 20,
   "id": "996443e9-0489-4926-acff-8ddc236d9dcb",
   "metadata": {
    "tags": []
   },
   "outputs": [],
   "source": [
    "CHG_Tdu_LINE_body = [0.753312247, 0.753715445]\n",
    "CHG_Tpr_LINE_body = [0.673849959, 0.684216014]\n",
    "CHG_Tms_LINE_body = [0.703201399, 0.702283531]\n",
    "\n",
    "Trans_CHG_Tdu_LINE_body = np.arcsin(np.sqrt(CHG_Tdu_LINE_body)).tolist()\n",
    "Trans_CHG_Tpr_LINE_body = np.arcsin(np.sqrt(CHG_Tpr_LINE_body)).tolist()\n",
    "Trans_CHG_Tms_LINE_body = np.arcsin(np.sqrt(CHG_Tms_LINE_body)).tolist()"
   ]
  },
  {
   "cell_type": "code",
   "execution_count": 21,
   "id": "ac357e4f-0001-47b9-a7c5-d8a0aaeb2275",
   "metadata": {
    "tags": []
   },
   "outputs": [
    {
     "name": "stdout",
     "output_type": "stream",
     "text": [
      "5.4511120742201555 0.06550976672770856\n"
     ]
    }
   ],
   "source": [
    "statistic, p_value = bartlett(Trans_CHG_Tdu_LINE_body, Trans_CHG_Tpr_LINE_body, Trans_CHG_Tms_LINE_body)\n",
    "print(statistic, p_value)"
   ]
  },
  {
   "cell_type": "code",
   "execution_count": 22,
   "id": "3db11f0b-5bbe-4716-bca1-2b03d6232894",
   "metadata": {
    "tags": []
   },
   "outputs": [
    {
     "name": "stdout",
     "output_type": "stream",
     "text": [
      "ANOVA results:\n",
      "            df    sum_sq   mean_sq           F    PR(>F)\n",
      "species   2.0  0.007179  0.003589  172.991905  0.000797\n",
      "Residual  3.0  0.000062  0.000021         NaN       NaN\n",
      "\n",
      "Post hoc test results:\n",
      " Multiple Comparison of Means - Tukey HSD, FWER=0.05 \n",
      "====================================================\n",
      "group1 group2 meandiff p-adj   lower   upper  reject\n",
      "----------------------------------------------------\n",
      "   Tdu    Tms  -0.0571 0.0022 -0.0761 -0.0381   True\n",
      "   Tdu    Tpr  -0.0828 0.0007 -0.1018 -0.0637   True\n",
      "   Tms    Tpr  -0.0256 0.0225 -0.0447 -0.0066   True\n",
      "----------------------------------------------------\n"
     ]
    }
   ],
   "source": [
    "CHG_LINE_body = pd.DataFrame({'species': ['Tdu', 'Tdu', 'Tpr', 'Tpr', 'Tms', 'Tms'],\n",
    "                          'methylation': Trans_CHG_Tdu_LINE_body + Trans_CHG_Tpr_LINE_body + Trans_CHG_Tms_LINE_body})\n",
    "model = ols('methylation ~ species', data=CHG_LINE_body).fit()\n",
    "anova_table = sm.stats.anova_lm(model)\n",
    "\n",
    "posthoc = pairwise_tukeyhsd(CHG_LINE_body['methylation'], CHG_LINE_body['species'])\n",
    "\n",
    "print(\"ANOVA results:\\n\", anova_table)\n",
    "print(\"\\nPost hoc test results:\\n\", posthoc)"
   ]
  },
  {
   "cell_type": "markdown",
   "id": "6dc0ae2f-1261-47be-9fa0-062c7be101ef",
   "metadata": {},
   "source": [
    "### Tms vs MPV"
   ]
  },
  {
   "cell_type": "code",
   "execution_count": 23,
   "id": "ec8c8562-a8d4-41e9-b251-4bd437a130c1",
   "metadata": {
    "tags": []
   },
   "outputs": [
    {
     "name": "stdout",
     "output_type": "stream",
     "text": [
      "T-Statistic: -29.4834360714161\n",
      "P-Value: 0.021584181015125502\n"
     ]
    }
   ],
   "source": [
    "t_statistic, p_value = stats.ttest_1samp(CHG_Tms_LINE_body, np.mean(CHG_Tdu_LINE_body + CHG_Tpr_LINE_body))\n",
    "\n",
    "print(\"T-Statistic:\", t_statistic)\n",
    "print(\"P-Value:\", p_value)"
   ]
  },
  {
   "cell_type": "code",
   "execution_count": 24,
   "id": "31365ade-a1dc-4afb-8d78-a5189a514c52",
   "metadata": {
    "tags": []
   },
   "outputs": [
    {
     "name": "stdout",
     "output_type": "stream",
     "text": [
      "T-Statistic: -29.4834360714161\n",
      "P-Value: 0.010792090507562751\n"
     ]
    }
   ],
   "source": [
    "t_statistic, p_value = stats.ttest_1samp(CHG_Tms_LINE_body, np.mean(CHG_Tdu_LINE_body + CHG_Tpr_LINE_body), alternative='less')\n",
    "\n",
    "print(\"T-Statistic:\", t_statistic)\n",
    "print(\"P-Value:\", p_value)"
   ]
  },
  {
   "cell_type": "markdown",
   "id": "cd7a6e25-2c44-448f-82f2-ef80352cba85",
   "metadata": {},
   "source": [
    "## CHG; LINE; downstream"
   ]
  },
  {
   "cell_type": "code",
   "execution_count": 25,
   "id": "fe651900-001e-425a-969b-d5a67a4d9811",
   "metadata": {
    "tags": []
   },
   "outputs": [],
   "source": [
    "CHG_Tdu_LINE_down = [0.691416488, 0.663892062]\n",
    "CHG_Tpr_LINE_down = [0.581703838, 0.61426825]\n",
    "CHG_Tms_LINE_down = [0.616740981, 0.601547589]\n",
    "\n",
    "Trans_CHG_Tdu_LINE_down = np.arcsin(np.sqrt(CHG_Tdu_LINE_down)).tolist()\n",
    "Trans_CHG_Tpr_LINE_down = np.arcsin(np.sqrt(CHG_Tpr_LINE_down)).tolist()\n",
    "Trans_CHG_Tms_LINE_down = np.arcsin(np.sqrt(CHG_Tms_LINE_down)).tolist()"
   ]
  },
  {
   "cell_type": "code",
   "execution_count": 26,
   "id": "c88119f3-d4b9-45b2-89aa-a6335b57c1f9",
   "metadata": {
    "tags": []
   },
   "outputs": [
    {
     "name": "stdout",
     "output_type": "stream",
     "text": [
      "0.3796677383637922 0.8270965287532629\n"
     ]
    }
   ],
   "source": [
    "statistic, p_value = bartlett(Trans_CHG_Tdu_LINE_down, Trans_CHG_Tpr_LINE_down, Trans_CHG_Tms_LINE_down)\n",
    "print(statistic, p_value)"
   ]
  },
  {
   "cell_type": "code",
   "execution_count": 27,
   "id": "c8b8c680-6f51-4e49-b19e-fc557f158df2",
   "metadata": {
    "tags": []
   },
   "outputs": [
    {
     "name": "stdout",
     "output_type": "stream",
     "text": [
      "ANOVA results:\n",
      "            df    sum_sq   mean_sq          F    PR(>F)\n",
      "species   2.0  0.008105  0.004053  10.987047  0.041634\n",
      "Residual  3.0  0.001107  0.000369        NaN       NaN\n",
      "\n",
      "Post hoc test results:\n",
      " Multiple Comparison of Means - Tukey HSD, FWER=0.05 \n",
      "====================================================\n",
      "group1 group2 meandiff p-adj   lower   upper  reject\n",
      "----------------------------------------------------\n",
      "   Tdu    Tms  -0.0717 0.0667 -0.1519  0.0086  False\n",
      "   Tdu    Tpr   -0.083 0.0458 -0.1633 -0.0028   True\n",
      "   Tms    Tpr  -0.0114 0.8341 -0.0916  0.0689  False\n",
      "----------------------------------------------------\n"
     ]
    }
   ],
   "source": [
    "CHG_LINE_down = pd.DataFrame({'species': ['Tdu', 'Tdu', 'Tpr', 'Tpr', 'Tms', 'Tms'],\n",
    "                          'methylation': Trans_CHG_Tdu_LINE_down + Trans_CHG_Tpr_LINE_down + Trans_CHG_Tms_LINE_down})\n",
    "model = ols('methylation ~ species', data=CHG_LINE_down).fit()\n",
    "anova_table = sm.stats.anova_lm(model)\n",
    "\n",
    "posthoc = pairwise_tukeyhsd(CHG_LINE_down['methylation'], CHG_LINE_down['species'])\n",
    "\n",
    "print(\"ANOVA results:\\n\", anova_table)\n",
    "print(\"\\nPost hoc test results:\\n\", posthoc)"
   ]
  },
  {
   "cell_type": "code",
   "execution_count": 28,
   "id": "b3ed9b95-0e6c-46f5-9c30-1e855e11443b",
   "metadata": {
    "tags": []
   },
   "outputs": [
    {
     "name": "stdout",
     "output_type": "stream",
     "text": [
      "T-Statistic: -3.774782418567247\n",
      "P-Value: 0.16486362497058382\n"
     ]
    }
   ],
   "source": [
    "t_statistic, p_value = stats.ttest_1samp(CHG_Tms_LINE_down, np.mean(CHG_Tdu_LINE_down + CHG_Tpr_LINE_down))\n",
    "\n",
    "print(\"T-Statistic:\", t_statistic)\n",
    "print(\"P-Value:\", p_value)"
   ]
  },
  {
   "cell_type": "markdown",
   "id": "20338137-fc77-48b4-80b6-a031455768f8",
   "metadata": {},
   "source": [
    "## CHH; LINE; upstream"
   ]
  },
  {
   "cell_type": "code",
   "execution_count": 29,
   "id": "cb996d6e-dc1b-4982-a64e-ff81f747656e",
   "metadata": {
    "tags": []
   },
   "outputs": [],
   "source": [
    "CHH_Tdu_LINE_upstream = [0.133116838, 0.144265973]\n",
    "CHH_Tpr_LINE_upstream = [0.114324337, 0.131024774]\n",
    "CHH_Tms_LINE_upstream = [0.133233226, 0.124663596]\n",
    "\n",
    "Trans_CHH_Tdu_LINE_upstream = np.arcsin(np.sqrt(CHH_Tdu_LINE_upstream)).tolist()\n",
    "Trans_CHH_Tpr_LINE_upstream = np.arcsin(np.sqrt(CHH_Tpr_LINE_upstream)).tolist()\n",
    "Trans_CHH_Tms_LINE_upstream = np.arcsin(np.sqrt(CHH_Tms_LINE_upstream)).tolist()"
   ]
  },
  {
   "cell_type": "code",
   "execution_count": 30,
   "id": "70bc8f05-e5fd-45c9-9727-66620302fda1",
   "metadata": {
    "tags": []
   },
   "outputs": [
    {
     "name": "stdout",
     "output_type": "stream",
     "text": [
      "0.34869605661800745 0.8400045014341114\n"
     ]
    }
   ],
   "source": [
    "statistic, p_value = bartlett(Trans_CHH_Tdu_LINE_upstream, Trans_CHH_Tpr_LINE_upstream, Trans_CHH_Tms_LINE_upstream)\n",
    "print(statistic, p_value)"
   ]
  },
  {
   "cell_type": "code",
   "execution_count": 31,
   "id": "ff36e523-ab91-42a7-b9d3-a7e3206c08c3",
   "metadata": {
    "tags": []
   },
   "outputs": [
    {
     "name": "stdout",
     "output_type": "stream",
     "text": [
      "ANOVA results:\n",
      "            df    sum_sq   mean_sq         F    PR(>F)\n",
      "species   2.0  0.000578  0.000289  1.617108  0.333817\n",
      "Residual  3.0  0.000536  0.000179       NaN       NaN\n",
      "\n",
      "Post hoc test results:\n",
      " Multiple Comparison of Means - Tukey HSD, FWER=0.05\n",
      "===================================================\n",
      "group1 group2 meandiff p-adj   lower  upper  reject\n",
      "---------------------------------------------------\n",
      "   Tdu    Tms  -0.0143 0.5918 -0.0702 0.0416  False\n",
      "   Tdu    Tpr  -0.0239 0.3133 -0.0798  0.032  False\n",
      "   Tms    Tpr  -0.0096  0.771 -0.0655 0.0463  False\n",
      "---------------------------------------------------\n"
     ]
    }
   ],
   "source": [
    "CHH_LINE_upstream = pd.DataFrame({'species': ['Tdu', 'Tdu', 'Tpr', 'Tpr', 'Tms', 'Tms'],\n",
    "                          'methylation': Trans_CHH_Tdu_LINE_upstream + Trans_CHH_Tpr_LINE_upstream + Trans_CHH_Tms_LINE_upstream})\n",
    "model = ols('methylation ~ species', data=CHH_LINE_upstream).fit()\n",
    "anova_table = sm.stats.anova_lm(model)\n",
    "\n",
    "posthoc = pairwise_tukeyhsd(CHH_LINE_upstream['methylation'], CHH_LINE_upstream['species'])\n",
    "\n",
    "print(\"ANOVA results:\\n\", anova_table)\n",
    "print(\"\\nPost hoc test results:\\n\", posthoc)"
   ]
  },
  {
   "cell_type": "markdown",
   "id": "3afef566-72ed-4bfc-83da-3ed9c3aeeaca",
   "metadata": {},
   "source": [
    "## CHH; LINE; body"
   ]
  },
  {
   "cell_type": "code",
   "execution_count": 32,
   "id": "e5d4a96e-1613-491e-9dcd-48f0f75de707",
   "metadata": {
    "tags": []
   },
   "outputs": [],
   "source": [
    "CHH_Tdu_LINE_body = [0.128488793, 0.157003068]\n",
    "CHH_Tpr_LINE_body = [0.124702754, 0.135907464]\n",
    "CHH_Tms_LINE_body = [0.143681781, 0.139397546]\n",
    "\n",
    "Trans_CHH_Tdu_LINE_body = np.arcsin(np.sqrt(CHH_Tdu_LINE_body)).tolist()\n",
    "Trans_CHH_Tpr_LINE_body = np.arcsin(np.sqrt(CHH_Tpr_LINE_body)).tolist()\n",
    "Trans_CHH_Tms_LINE_body = np.arcsin(np.sqrt(CHH_Tms_LINE_body)).tolist()"
   ]
  },
  {
   "cell_type": "code",
   "execution_count": 33,
   "id": "ba41f54c-a179-4ec5-8a11-7f52a45e37f3",
   "metadata": {
    "tags": []
   },
   "outputs": [
    {
     "name": "stdout",
     "output_type": "stream",
     "text": [
      "1.9405980500157702 0.3789696997412878\n"
     ]
    }
   ],
   "source": [
    "statistic, p_value = bartlett(Trans_CHH_Tdu_LINE_body, Trans_CHH_Tpr_LINE_body, Trans_CHH_Tms_LINE_body)\n",
    "print(statistic, p_value)"
   ]
  },
  {
   "cell_type": "code",
   "execution_count": 34,
   "id": "b628df62-9eed-4e54-9e55-725876752cb3",
   "metadata": {
    "tags": []
   },
   "outputs": [
    {
     "name": "stdout",
     "output_type": "stream",
     "text": [
      "ANOVA results:\n",
      "            df    sum_sq   mean_sq         F    PR(>F)\n",
      "species   2.0  0.000392  0.000196  0.594532  0.606047\n",
      "Residual  3.0  0.000990  0.000330       NaN       NaN\n",
      "\n",
      "Post hoc test results:\n",
      " Multiple Comparison of Means - Tukey HSD, FWER=0.05\n",
      "===================================================\n",
      "group1 group2 meandiff p-adj   lower  upper  reject\n",
      "---------------------------------------------------\n",
      "   Tdu    Tms  -0.0013 0.9971 -0.0772 0.0746  False\n",
      "   Tdu    Tpr  -0.0178 0.6368 -0.0937 0.0581  False\n",
      "   Tms    Tpr  -0.0165 0.6738 -0.0924 0.0594  False\n",
      "---------------------------------------------------\n"
     ]
    }
   ],
   "source": [
    "CHH_LINE_body = pd.DataFrame({'species': ['Tdu', 'Tdu', 'Tpr', 'Tpr', 'Tms', 'Tms'],\n",
    "                          'methylation': Trans_CHH_Tdu_LINE_body + Trans_CHH_Tpr_LINE_body + Trans_CHH_Tms_LINE_body})\n",
    "model = ols('methylation ~ species', data=CHH_LINE_body).fit()\n",
    "anova_table = sm.stats.anova_lm(model)\n",
    "\n",
    "posthoc = pairwise_tukeyhsd(CHH_LINE_body['methylation'], CHH_LINE_body['species'])\n",
    "\n",
    "print(\"ANOVA results:\\n\", anova_table)\n",
    "print(\"\\nPost hoc test results:\\n\", posthoc)"
   ]
  },
  {
   "cell_type": "markdown",
   "id": "f6a2500a-94f7-4be9-a47f-e8eb7e6c9f45",
   "metadata": {},
   "source": [
    "## CHH; LINE; downstream"
   ]
  },
  {
   "cell_type": "code",
   "execution_count": 35,
   "id": "b9420396-9e71-4d54-a6c3-325bc4c5f3b3",
   "metadata": {
    "tags": []
   },
   "outputs": [],
   "source": [
    "CHH_Tdu_LINE_down = [0.138814965, 0.151124717]\n",
    "CHH_Tpr_LINE_down = [0.114100494, 0.128921491]\n",
    "CHH_Tms_LINE_down = [0.134881675, 0.126055793]\n",
    "\n",
    "Trans_CHH_Tdu_LINE_down = np.arcsin(np.sqrt(CHH_Tdu_LINE_down)).tolist()\n",
    "Trans_CHH_Tpr_LINE_down = np.arcsin(np.sqrt(CHH_Tpr_LINE_down)).tolist()\n",
    "Trans_CHH_Tms_LINE_down = np.arcsin(np.sqrt(CHH_Tms_LINE_down)).tolist()"
   ]
  },
  {
   "cell_type": "code",
   "execution_count": 36,
   "id": "30b628bf-2db8-4524-b309-5c7f844316a0",
   "metadata": {
    "tags": []
   },
   "outputs": [
    {
     "name": "stdout",
     "output_type": "stream",
     "text": [
      "0.20207518823840714 0.903899050958438\n"
     ]
    }
   ],
   "source": [
    "statistic, p_value = bartlett(Trans_CHH_Tdu_LINE_down, Trans_CHH_Tpr_LINE_down, Trans_CHH_Tms_LINE_down)\n",
    "print(statistic, p_value)"
   ]
  },
  {
   "cell_type": "code",
   "execution_count": 37,
   "id": "538c495b-ddb8-464c-b1f5-7ede6d5b3b0f",
   "metadata": {
    "tags": []
   },
   "outputs": [
    {
     "name": "stdout",
     "output_type": "stream",
     "text": [
      "ANOVA results:\n",
      "            df    sum_sq   mean_sq         F    PR(>F)\n",
      "species   2.0  0.001217  0.000608  3.678401  0.155899\n",
      "Residual  3.0  0.000496  0.000165       NaN       NaN\n",
      "\n",
      "Post hoc test results:\n",
      " Multiple Comparison of Means - Tukey HSD, FWER=0.05\n",
      "===================================================\n",
      "group1 group2 meandiff p-adj   lower  upper  reject\n",
      "---------------------------------------------------\n",
      "   Tdu    Tms   -0.021 0.3597 -0.0748 0.0327  False\n",
      "   Tdu    Tpr  -0.0346 0.1437 -0.0884 0.0191  False\n",
      "   Tms    Tpr  -0.0136 0.5973 -0.0673 0.0401  False\n",
      "---------------------------------------------------\n"
     ]
    }
   ],
   "source": [
    "CHH_LINE_down = pd.DataFrame({'species': ['Tdu', 'Tdu', 'Tpr', 'Tpr', 'Tms', 'Tms'],\n",
    "                          'methylation': Trans_CHH_Tdu_LINE_down + Trans_CHH_Tpr_LINE_down + Trans_CHH_Tms_LINE_down})\n",
    "model = ols('methylation ~ species', data=CHH_LINE_down).fit()\n",
    "anova_table = sm.stats.anova_lm(model)\n",
    "\n",
    "posthoc = pairwise_tukeyhsd(CHH_LINE_down['methylation'], CHH_LINE_down['species'])\n",
    "\n",
    "print(\"ANOVA results:\\n\", anova_table)\n",
    "print(\"\\nPost hoc test results:\\n\", posthoc)"
   ]
  },
  {
   "cell_type": "code",
   "execution_count": null,
   "id": "4395f1ff-4763-4bd4-abd9-f34df8f57493",
   "metadata": {},
   "outputs": [],
   "source": []
  }
 ],
 "metadata": {
  "kernelspec": {
   "display_name": "PyTorch-1.10",
   "language": "python",
   "name": "pytorch-1.10"
  },
  "language_info": {
   "codemirror_mode": {
    "name": "ipython",
    "version": 3
   },
   "file_extension": ".py",
   "mimetype": "text/x-python",
   "name": "python",
   "nbconvert_exporter": "python",
   "pygments_lexer": "ipython3",
   "version": "3.9.7"
  }
 },
 "nbformat": 4,
 "nbformat_minor": 5
}
