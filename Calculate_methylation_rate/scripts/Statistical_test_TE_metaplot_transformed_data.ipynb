{
 "cells": [
  {
   "cell_type": "code",
   "execution_count": 1,
   "id": "77595395-a8c9-4325-88cb-c89be3adf9a5",
   "metadata": {
    "tags": []
   },
   "outputs": [],
   "source": [
    "from scipy.stats import bartlett\n",
    "import pandas as pd\n",
    "import statsmodels.api as sm\n",
    "from statsmodels.formula.api import ols\n",
    "from statsmodels.stats.multicomp import pairwise_tukeyhsd\n",
    "import scipy.stats as stats\n",
    "import numpy as np"
   ]
  },
  {
   "cell_type": "markdown",
   "id": "f8068d97-0a65-4cc5-a3b3-a37658ad08d7",
   "metadata": {},
   "source": [
    "## The following test used the arcsine square root transformed data\n",
    "## The methylation levels are from excel files: CG/CHG/CHH_anova_new.xlsx"
   ]
  },
  {
   "cell_type": "markdown",
   "id": "d8d396f6-a5d3-4afb-9d89-fb09791ec1d3",
   "metadata": {},
   "source": [
    "## CG context; TE; upstream"
   ]
  },
  {
   "cell_type": "code",
   "execution_count": 16,
   "id": "a318f191-84ee-4927-8c97-b7b6cbb65d84",
   "metadata": {
    "tags": []
   },
   "outputs": [],
   "source": [
    "CG_Tdu_TE_upstream = [0.902809441, 0.890915138]\n",
    "CG_Tpr_TE_upstream = [0.83815226, 0.854924864]\n",
    "CG_Tms_TE_upstream = [0.868784358, 0.862389196]\n",
    "\n",
    "Trans_CG_Tdu_TE_upstream = np.arcsin(np.sqrt(CG_Tdu_TE_upstream)).tolist()\n",
    "Trans_CG_Tpr_TE_upstream = np.arcsin(np.sqrt(CG_Tpr_TE_upstream)).tolist()\n",
    "Trans_CG_Tms_TE_upstream = np.arcsin(np.sqrt(CG_Tms_TE_upstream)).tolist()"
   ]
  },
  {
   "cell_type": "markdown",
   "id": "e06aca33-b4af-48f1-84c3-7b2af05012ae",
   "metadata": {},
   "source": [
    "### Variance homo test"
   ]
  },
  {
   "cell_type": "code",
   "execution_count": 17,
   "id": "79408b68-a726-4fb0-8674-f8fbd49bbe48",
   "metadata": {
    "tags": []
   },
   "outputs": [
    {
     "name": "stdout",
     "output_type": "stream",
     "text": [
      "0.5164909223145695 0.7724056132601254\n"
     ]
    }
   ],
   "source": [
    "statistic, p_value = bartlett(Trans_CG_Tdu_TE_upstream, Trans_CG_Tpr_TE_upstream, Trans_CG_Tms_TE_upstream)\n",
    "print(statistic, p_value)"
   ]
  },
  {
   "cell_type": "markdown",
   "id": "68e6b6f2-383d-4998-a82c-c1b381b4b138",
   "metadata": {},
   "source": [
    "### ANOVA and post hoc Tukey"
   ]
  },
  {
   "cell_type": "code",
   "execution_count": 18,
   "id": "928c0515-b58e-4c8a-8d7c-b7177efc93ed",
   "metadata": {},
   "outputs": [
    {
     "name": "stdout",
     "output_type": "stream",
     "text": [
      "ANOVA results:\n",
      "            df    sum_sq   mean_sq          F    PR(>F)\n",
      "species   2.0  0.005865  0.002933  17.382726  0.022389\n",
      "Residual  3.0  0.000506  0.000169        NaN       NaN\n",
      "\n",
      "Post hoc test results:\n",
      " Multiple Comparison of Means - Tukey HSD, FWER=0.05 \n",
      "====================================================\n",
      "group1 group2 meandiff p-adj   lower   upper  reject\n",
      "----------------------------------------------------\n",
      "   Tdu    Tms  -0.0485 0.0665 -0.1028  0.0057  False\n",
      "   Tdu    Tpr  -0.0756 0.0205 -0.1299 -0.0213   True\n",
      "   Tms    Tpr   -0.027 0.2408 -0.0813  0.0272  False\n",
      "----------------------------------------------------\n"
     ]
    }
   ],
   "source": [
    "CG_TE_upstream = pd.DataFrame({'species': ['Tdu', 'Tdu', 'Tpr', 'Tpr', 'Tms', 'Tms'],\n",
    "                          'methylation': Trans_CG_Tdu_TE_upstream + Trans_CG_Tpr_TE_upstream + Trans_CG_Tms_TE_upstream})\n",
    "model = ols('methylation ~ species', data=CG_TE_upstream).fit()\n",
    "anova_table = sm.stats.anova_lm(model)\n",
    "\n",
    "posthoc = pairwise_tukeyhsd(CG_TE_upstream['methylation'], CG_TE_upstream['species'])\n",
    "\n",
    "print(\"ANOVA results:\\n\", anova_table)\n",
    "print(\"\\nPost hoc test results:\\n\", posthoc)"
   ]
  },
  {
   "cell_type": "markdown",
   "id": "9edeead0-1dcd-40be-bffc-e9365e0bdd9c",
   "metadata": {},
   "source": [
    "### Tms vs MPV"
   ]
  },
  {
   "cell_type": "code",
   "execution_count": 19,
   "id": "466ee226-b011-4d3e-84bf-53db0aaff351",
   "metadata": {
    "tags": []
   },
   "outputs": [
    {
     "name": "stdout",
     "output_type": "stream",
     "text": [
      "T-Statistic: -1.9119605570586264\n",
      "P-Value: 0.3067846368250601\n"
     ]
    }
   ],
   "source": [
    "t_statistic, p_value = stats.ttest_1samp(CG_Tms_TE_upstream, np.mean(CG_Tdu_TE_upstream + CG_Tpr_TE_upstream))\n",
    "\n",
    "print(\"T-Statistic:\", t_statistic)\n",
    "print(\"P-Value:\", p_value)"
   ]
  },
  {
   "cell_type": "markdown",
   "id": "338e8be2-569c-4469-9055-d6d66f5554be",
   "metadata": {},
   "source": [
    "## CG context; TE; body"
   ]
  },
  {
   "cell_type": "code",
   "execution_count": 2,
   "id": "bd6fd08d-ed84-4d47-b0b7-c5dcc09f145b",
   "metadata": {
    "tags": []
   },
   "outputs": [],
   "source": [
    "CG_Tdu_TE_body = [0.929022168, 0.927088216]\n",
    "CG_Tpr_TE_body = [0.880771565, 0.888415578]\n",
    "CG_Tms_TE_body = [0.903621586, 0.903985638]\n",
    "\n",
    "Trans_CG_Tdu_TE_body = np.arcsin(np.sqrt(CG_Tdu_TE_body)).tolist()\n",
    "Trans_CG_Tpr_TE_body = np.arcsin(np.sqrt(CG_Tpr_TE_body)).tolist()\n",
    "Trans_CG_Tms_TE_body = np.arcsin(np.sqrt(CG_Tms_TE_body)).tolist()"
   ]
  },
  {
   "cell_type": "code",
   "execution_count": 3,
   "id": "0f11d2c8-cb85-4774-9c9d-62c9376b513e",
   "metadata": {
    "tags": []
   },
   "outputs": [
    {
     "name": "stdout",
     "output_type": "stream",
     "text": [
      "3.630634599369503 0.16278624816951856\n"
     ]
    }
   ],
   "source": [
    "statistic, p_value = bartlett(Trans_CG_Tdu_TE_body, Trans_CG_Tpr_TE_body, Trans_CG_Tms_TE_body)\n",
    "print(statistic, p_value)"
   ]
  },
  {
   "cell_type": "code",
   "execution_count": 4,
   "id": "202e65ba-0a70-4198-aee6-7db5c65f7dfd",
   "metadata": {
    "tags": []
   },
   "outputs": [
    {
     "name": "stdout",
     "output_type": "stream",
     "text": [
      "ANOVA results:\n",
      "            df    sum_sq   mean_sq          F    PR(>F)\n",
      "species   2.0  0.005682  0.002841  108.21758  0.001599\n",
      "Residual  3.0  0.000079  0.000026        NaN       NaN\n",
      "\n",
      "Post hoc test results:\n",
      " Multiple Comparison of Means - Tukey HSD, FWER=0.05 \n",
      "====================================================\n",
      "group1 group2 meandiff p-adj   lower   upper  reject\n",
      "----------------------------------------------------\n",
      "   Tdu    Tms  -0.0438 0.0069 -0.0652 -0.0224   True\n",
      "   Tdu    Tpr   -0.075 0.0014 -0.0964 -0.0536   True\n",
      "   Tms    Tpr  -0.0312 0.0181 -0.0526 -0.0098   True\n",
      "----------------------------------------------------\n"
     ]
    }
   ],
   "source": [
    "CG_TE_body = pd.DataFrame({'species': ['Tdu', 'Tdu', 'Tpr', 'Tpr', 'Tms', 'Tms'],\n",
    "                          'methylation': Trans_CG_Tdu_TE_body + Trans_CG_Tpr_TE_body + Trans_CG_Tms_TE_body})\n",
    "model = ols('methylation ~ species', data=CG_TE_body).fit()\n",
    "anova_table = sm.stats.anova_lm(model)\n",
    "\n",
    "posthoc = pairwise_tukeyhsd(CG_TE_body['methylation'], CG_TE_body['species'])\n",
    "\n",
    "print(\"ANOVA results:\\n\", anova_table)\n",
    "print(\"\\nPost hoc test results:\\n\", posthoc)"
   ]
  },
  {
   "cell_type": "code",
   "execution_count": 5,
   "id": "7df47b15-ac1a-4b73-a8ec-7c63e5739464",
   "metadata": {
    "tags": []
   },
   "outputs": [
    {
     "name": "stdout",
     "output_type": "stream",
     "text": [
      "T-Statistic: -13.84840489820144\n",
      "P-Value: 0.04589096764788375\n"
     ]
    }
   ],
   "source": [
    "t_statistic, p_value = stats.ttest_1samp(CG_Tms_TE_body, np.mean(CG_Tdu_TE_body + CG_Tpr_TE_body))\n",
    "\n",
    "print(\"T-Statistic:\", t_statistic)\n",
    "print(\"P-Value:\", p_value)"
   ]
  },
  {
   "cell_type": "code",
   "execution_count": 6,
   "id": "4ba9082e-d8cf-4764-819f-b21b6c2dd499",
   "metadata": {
    "tags": []
   },
   "outputs": [
    {
     "name": "stdout",
     "output_type": "stream",
     "text": [
      "T-Statistic: -13.84840489820144\n",
      "P-Value: 0.022945483823941876\n"
     ]
    }
   ],
   "source": [
    "t_statistic, p_value = stats.ttest_1samp(CG_Tms_TE_body, np.mean(CG_Tdu_TE_body + CG_Tpr_TE_body), alternative='less')\n",
    "\n",
    "print(\"T-Statistic:\", t_statistic)\n",
    "print(\"P-Value:\", p_value)"
   ]
  },
  {
   "cell_type": "code",
   "execution_count": 24,
   "id": "8582afba-66ab-426a-b082-9d0a904414b3",
   "metadata": {
    "tags": []
   },
   "outputs": [
    {
     "name": "stdout",
     "output_type": "stream",
     "text": [
      "T-Statistic: -13.93017907824194\n",
      "P-Value: 0.04562249849873204\n"
     ]
    }
   ],
   "source": [
    "t_statistic, p_value = stats.ttest_1samp(Trans_CG_Tms_TE_body, np.arcsin(np.sqrt(np.mean(CG_Tdu_TE_body + CG_Tpr_TE_body))))\n",
    "\n",
    "print(\"T-Statistic:\", t_statistic)\n",
    "print(\"P-Value:\", p_value)"
   ]
  },
  {
   "cell_type": "markdown",
   "id": "962a512a-c43f-43dc-8aaa-5371347b40e1",
   "metadata": {},
   "source": [
    "## CG context; TE; downstream"
   ]
  },
  {
   "cell_type": "code",
   "execution_count": 25,
   "id": "e3e089f1-864b-4c2d-8485-9d9da3e7a460",
   "metadata": {
    "tags": []
   },
   "outputs": [],
   "source": [
    "CG_Tdu_TE_down = [0.904779773, 0.893568579]\n",
    "CG_Tpr_TE_down = [0.842762567, 0.859031414]\n",
    "CG_Tms_TE_down = [0.871698715, 0.86621498]\n",
    "\n",
    "Trans_CG_Tdu_TE_down = np.arcsin(np.sqrt(CG_Tdu_TE_down)).tolist()\n",
    "Trans_CG_Tpr_TE_down = np.arcsin(np.sqrt(CG_Tpr_TE_down)).tolist()\n",
    "Trans_CG_Tms_TE_down = np.arcsin(np.sqrt(CG_Tms_TE_down)).tolist()"
   ]
  },
  {
   "cell_type": "code",
   "execution_count": 26,
   "id": "adca5711-64e8-40e8-a9a8-710f3fdd0b00",
   "metadata": {
    "tags": []
   },
   "outputs": [
    {
     "name": "stdout",
     "output_type": "stream",
     "text": [
      "0.6429103237890191 0.7250931411013195\n"
     ]
    }
   ],
   "source": [
    "statistic, p_value = bartlett(Trans_CG_Tdu_TE_down, Trans_CG_Tpr_TE_down, Trans_CG_Tms_TE_down)\n",
    "print(statistic, p_value)"
   ]
  },
  {
   "cell_type": "code",
   "execution_count": 27,
   "id": "5404cc8c-c644-49fa-a142-3243ff285a1c",
   "metadata": {
    "tags": []
   },
   "outputs": [
    {
     "name": "stdout",
     "output_type": "stream",
     "text": [
      "ANOVA results:\n",
      "            df    sum_sq   mean_sq          F    PR(>F)\n",
      "species   2.0  0.005527  0.002764  17.737971  0.021772\n",
      "Residual  3.0  0.000467  0.000156        NaN       NaN\n",
      "\n",
      "Post hoc test results:\n",
      " Multiple Comparison of Means - Tukey HSD, FWER=0.05 \n",
      "====================================================\n",
      "group1 group2 meandiff p-adj   lower   upper  reject\n",
      "----------------------------------------------------\n",
      "   Tdu    Tms  -0.0474 0.0639 -0.0995  0.0048  False\n",
      "   Tdu    Tpr  -0.0733   0.02 -0.1255 -0.0211   True\n",
      "   Tms    Tpr  -0.0259 0.2419 -0.0781  0.0262  False\n",
      "----------------------------------------------------\n"
     ]
    }
   ],
   "source": [
    "CG_TE_down = pd.DataFrame({'species': ['Tdu', 'Tdu', 'Tpr', 'Tpr', 'Tms', 'Tms'],\n",
    "                          'methylation': Trans_CG_Tdu_TE_down + Trans_CG_Tpr_TE_down + Trans_CG_Tms_TE_down})\n",
    "model = ols('methylation ~ species', data=CG_TE_down).fit()\n",
    "anova_table = sm.stats.anova_lm(model)\n",
    "\n",
    "posthoc = pairwise_tukeyhsd(CG_TE_down['methylation'], CG_TE_down['species'])\n",
    "\n",
    "print(\"ANOVA results:\\n\", anova_table)\n",
    "print(\"\\nPost hoc test results:\\n\", posthoc)"
   ]
  },
  {
   "cell_type": "code",
   "execution_count": 28,
   "id": "8a5a3ffa-b04c-4d83-a881-6c1791cb911c",
   "metadata": {
    "tags": []
   },
   "outputs": [
    {
     "name": "stdout",
     "output_type": "stream",
     "text": [
      "T-Statistic: -2.217005653993114\n",
      "P-Value: 0.2697575125921614\n"
     ]
    }
   ],
   "source": [
    "t_statistic, p_value = stats.ttest_1samp(CG_Tms_TE_down, np.mean(CG_Tdu_TE_down + CG_Tpr_TE_down))\n",
    "\n",
    "print(\"T-Statistic:\", t_statistic)\n",
    "print(\"P-Value:\", p_value)"
   ]
  },
  {
   "cell_type": "markdown",
   "id": "e81f1fa8-48bc-4f00-8b1e-7000c2c8a3a2",
   "metadata": {},
   "source": [
    "## CHG; TE; upstream"
   ]
  },
  {
   "cell_type": "code",
   "execution_count": 2,
   "id": "941a3d98-4c09-4e36-9b40-6c4ee5e971ca",
   "metadata": {
    "tags": []
   },
   "outputs": [],
   "source": [
    "CHG_Tdu_TE_upstream = [0.744685764, 0.730132785]\n",
    "CHG_Tpr_TE_upstream = [0.667256525, 0.687964717]\n",
    "CHG_Tms_TE_upstream = [0.689551242, 0.681802283]\n",
    "\n",
    "Trans_CHG_Tdu_TE_upstream = np.arcsin(np.sqrt(CHG_Tdu_TE_upstream)).tolist()\n",
    "Trans_CHG_Tpr_TE_upstream = np.arcsin(np.sqrt(CHG_Tpr_TE_upstream)).tolist()\n",
    "Trans_CHG_Tms_TE_upstream = np.arcsin(np.sqrt(CHG_Tms_TE_upstream)).tolist()"
   ]
  },
  {
   "cell_type": "code",
   "execution_count": 3,
   "id": "5cd3086d-fc67-4093-a958-e563f60cae81",
   "metadata": {
    "tags": []
   },
   "outputs": [
    {
     "name": "stdout",
     "output_type": "stream",
     "text": [
      "0.5759502081667643 0.7497802584734805\n"
     ]
    }
   ],
   "source": [
    "statistic, p_value = bartlett(Trans_CHG_Tdu_TE_upstream, Trans_CHG_Tpr_TE_upstream, Trans_CHG_Tms_TE_upstream)\n",
    "print(statistic, p_value)"
   ]
  },
  {
   "cell_type": "code",
   "execution_count": 4,
   "id": "6f570636-8703-4f90-ab22-f4d9c5990ace",
   "metadata": {
    "tags": []
   },
   "outputs": [
    {
     "name": "stdout",
     "output_type": "stream",
     "text": [
      "ANOVA results:\n",
      "            df    sum_sq   mean_sq          F    PR(>F)\n",
      "species   2.0  0.005115  0.002557  18.398332  0.020697\n",
      "Residual  3.0  0.000417  0.000139        NaN       NaN\n",
      "\n",
      "Post hoc test results:\n",
      " Multiple Comparison of Means - Tukey HSD, FWER=0.05 \n",
      "====================================================\n",
      "group1 group2 meandiff p-adj   lower   upper  reject\n",
      "----------------------------------------------------\n",
      "   Tdu    Tms  -0.0572 0.0338 -0.1064 -0.0079   True\n",
      "   Tdu    Tpr  -0.0658  0.023 -0.1151 -0.0165   True\n",
      "   Tms    Tpr  -0.0086 0.7645 -0.0579  0.0406  False\n",
      "----------------------------------------------------\n"
     ]
    }
   ],
   "source": [
    "CHG_TE_upstream = pd.DataFrame({'species': ['Tdu', 'Tdu', 'Tpr', 'Tpr', 'Tms', 'Tms'],\n",
    "                          'methylation': Trans_CHG_Tdu_TE_upstream + Trans_CHG_Tpr_TE_upstream + Trans_CHG_Tms_TE_upstream})\n",
    "model = ols('methylation ~ species', data=CHG_TE_upstream).fit()\n",
    "anova_table = sm.stats.anova_lm(model)\n",
    "\n",
    "posthoc = pairwise_tukeyhsd(CHG_TE_upstream['methylation'], CHG_TE_upstream['species'])\n",
    "\n",
    "print(\"ANOVA results:\\n\", anova_table)\n",
    "print(\"\\nPost hoc test results:\\n\", posthoc)"
   ]
  },
  {
   "cell_type": "markdown",
   "id": "2464d541-1f04-4820-bf74-d0c0783ac766",
   "metadata": {},
   "source": [
    "### Tms vs MPV"
   ]
  },
  {
   "cell_type": "code",
   "execution_count": 5,
   "id": "43ffb07a-0abb-48b0-9097-b34ee182387d",
   "metadata": {
    "tags": []
   },
   "outputs": [
    {
     "name": "stdout",
     "output_type": "stream",
     "text": [
      "T-Statistic: -5.635127311939618\n",
      "P-Value: 0.11180946626957758\n"
     ]
    }
   ],
   "source": [
    "t_statistic, p_value = stats.ttest_1samp(CHG_Tms_TE_upstream, np.mean(CHG_Tdu_TE_upstream + CHG_Tpr_TE_upstream))\n",
    "\n",
    "print(\"T-Statistic:\", t_statistic)\n",
    "print(\"P-Value:\", p_value)"
   ]
  },
  {
   "cell_type": "markdown",
   "id": "3c3084f9-94ee-43c6-975e-320e3c6f7e36",
   "metadata": {},
   "source": [
    "### Tms vs MPV transformed"
   ]
  },
  {
   "cell_type": "code",
   "execution_count": 6,
   "id": "df6bdae6-9a2b-4f45-b772-3ee506878ee6",
   "metadata": {
    "tags": []
   },
   "outputs": [
    {
     "name": "stdout",
     "output_type": "stream",
     "text": [
      "T-Statistic: -5.6895494139606315\n",
      "P-Value: 0.11076153052837805\n"
     ]
    }
   ],
   "source": [
    "t_statistic, p_value = stats.ttest_1samp(Trans_CHG_Tms_TE_upstream, np.arcsin(np.sqrt(np.mean(CHG_Tdu_TE_upstream + CHG_Tpr_TE_upstream))))\n",
    "\n",
    "print(\"T-Statistic:\", t_statistic)\n",
    "print(\"P-Value:\", p_value)"
   ]
  },
  {
   "cell_type": "markdown",
   "id": "d445f83c-b460-43b4-b0c5-8e8d90a401b0",
   "metadata": {},
   "source": [
    "## CHG; TE; body"
   ]
  },
  {
   "cell_type": "code",
   "execution_count": 7,
   "id": "996443e9-0489-4926-acff-8ddc236d9dcb",
   "metadata": {
    "tags": []
   },
   "outputs": [],
   "source": [
    "CHG_Tdu_TE_body = [0.792491292, 0.788490789]\n",
    "CHG_Tpr_TE_body = [0.73317691, 0.744328893]\n",
    "CHG_Tms_TE_body = [0.748785519, 0.747089245]\n",
    "\n",
    "Trans_CHG_Tdu_TE_body = np.arcsin(np.sqrt(CHG_Tdu_TE_body)).tolist()\n",
    "Trans_CHG_Tpr_TE_body = np.arcsin(np.sqrt(CHG_Tpr_TE_body)).tolist()\n",
    "Trans_CHG_Tms_TE_body = np.arcsin(np.sqrt(CHG_Tms_TE_body)).tolist()"
   ]
  },
  {
   "cell_type": "code",
   "execution_count": 8,
   "id": "ac357e4f-0001-47b9-a7c5-d8a0aaeb2275",
   "metadata": {
    "tags": []
   },
   "outputs": [
    {
     "name": "stdout",
     "output_type": "stream",
     "text": [
      "1.9557459205342056 0.37611025008276483\n"
     ]
    }
   ],
   "source": [
    "statistic, p_value = bartlett(Trans_CHG_Tdu_TE_body, Trans_CHG_Tpr_TE_body, Trans_CHG_Tms_TE_body)\n",
    "print(statistic, p_value)"
   ]
  },
  {
   "cell_type": "code",
   "execution_count": 9,
   "id": "3db11f0b-5bbe-4716-bca1-2b03d6232894",
   "metadata": {
    "tags": []
   },
   "outputs": [
    {
     "name": "stdout",
     "output_type": "stream",
     "text": [
      "ANOVA results:\n",
      "            df    sum_sq   mean_sq          F    PR(>F)\n",
      "species   2.0  0.004261  0.002131  67.604378  0.003198\n",
      "Residual  3.0  0.000095  0.000032        NaN       NaN\n",
      "\n",
      "Post hoc test results:\n",
      " Multiple Comparison of Means - Tukey HSD, FWER=0.05 \n",
      "====================================================\n",
      "group1 group2 meandiff p-adj   lower   upper  reject\n",
      "----------------------------------------------------\n",
      "   Tdu    Tms  -0.0506 0.0059  -0.074 -0.0271   True\n",
      "   Tdu    Tpr   -0.061 0.0034 -0.0845 -0.0376   True\n",
      "   Tms    Tpr  -0.0105  0.291  -0.034   0.013  False\n",
      "----------------------------------------------------\n"
     ]
    }
   ],
   "source": [
    "CHG_TE_body = pd.DataFrame({'species': ['Tdu', 'Tdu', 'Tpr', 'Tpr', 'Tms', 'Tms'],\n",
    "                          'methylation': Trans_CHG_Tdu_TE_body + Trans_CHG_Tpr_TE_body + Trans_CHG_Tms_TE_body})\n",
    "model = ols('methylation ~ species', data=CHG_TE_body).fit()\n",
    "anova_table = sm.stats.anova_lm(model)\n",
    "\n",
    "posthoc = pairwise_tukeyhsd(CHG_TE_body['methylation'], CHG_TE_body['species'])\n",
    "\n",
    "print(\"ANOVA results:\\n\", anova_table)\n",
    "print(\"\\nPost hoc test results:\\n\", posthoc)"
   ]
  },
  {
   "cell_type": "markdown",
   "id": "6dc0ae2f-1261-47be-9fa0-062c7be101ef",
   "metadata": {},
   "source": [
    "### Tms vs MPV"
   ]
  },
  {
   "cell_type": "code",
   "execution_count": 10,
   "id": "ec8c8562-a8d4-41e9-b251-4bd437a130c1",
   "metadata": {
    "tags": []
   },
   "outputs": [
    {
     "name": "stdout",
     "output_type": "stream",
     "text": [
      "T-Statistic: -19.6720447286224\n",
      "P-Value: 0.032333815686959304\n"
     ]
    }
   ],
   "source": [
    "t_statistic, p_value = stats.ttest_1samp(CHG_Tms_TE_body, np.mean(CHG_Tdu_TE_body + CHG_Tpr_TE_body))\n",
    "\n",
    "print(\"T-Statistic:\", t_statistic)\n",
    "print(\"P-Value:\", p_value)"
   ]
  },
  {
   "cell_type": "code",
   "execution_count": 11,
   "id": "c206c710-68ae-48f2-be71-c4f8e747793d",
   "metadata": {
    "tags": []
   },
   "outputs": [
    {
     "name": "stdout",
     "output_type": "stream",
     "text": [
      "T-Statistic: -19.6720447286224\n",
      "P-Value: 0.016166907843479652\n"
     ]
    }
   ],
   "source": [
    "t_statistic, p_value = stats.ttest_1samp(CHG_Tms_TE_body, np.mean(CHG_Tdu_TE_body + CHG_Tpr_TE_body), alternative='less')\n",
    "\n",
    "print(\"T-Statistic:\", t_statistic)\n",
    "print(\"P-Value:\", p_value)"
   ]
  },
  {
   "cell_type": "markdown",
   "id": "6a7a7aa6-38fe-408a-94a2-0be72a4eb6d2",
   "metadata": {},
   "source": [
    "### Tms vs MPV; transformed data"
   ]
  },
  {
   "cell_type": "code",
   "execution_count": 12,
   "id": "c074f06c-5d3d-4f90-a353-70e541f29174",
   "metadata": {
    "tags": []
   },
   "outputs": [
    {
     "name": "stdout",
     "output_type": "stream",
     "text": [
      "T-Statistic: -19.89725226904349\n",
      "P-Value: 0.03196846302872938\n"
     ]
    }
   ],
   "source": [
    "t_statistic, p_value = stats.ttest_1samp(Trans_CHG_Tms_TE_body, np.arcsin(np.sqrt(np.mean(CHG_Tdu_TE_body + CHG_Tpr_TE_body))))\n",
    "\n",
    "print(\"T-Statistic:\", t_statistic)\n",
    "print(\"P-Value:\", p_value)"
   ]
  },
  {
   "cell_type": "markdown",
   "id": "cd7a6e25-2c44-448f-82f2-ef80352cba85",
   "metadata": {},
   "source": [
    "## CHG; TE; downstream"
   ]
  },
  {
   "cell_type": "code",
   "execution_count": 3,
   "id": "fe651900-001e-425a-969b-d5a67a4d9811",
   "metadata": {
    "tags": []
   },
   "outputs": [],
   "source": [
    "CHG_Tdu_TE_down = [0.747819285, 0.734214965]\n",
    "CHG_Tpr_TE_down = [0.670819452, 0.690928467]\n",
    "CHG_Tms_TE_down = [0.692812895, 0.685654846]\n",
    "\n",
    "Trans_CHG_Tdu_TE_down = np.arcsin(np.sqrt(CHG_Tdu_TE_down)).tolist()\n",
    "Trans_CHG_Tpr_TE_down = np.arcsin(np.sqrt(CHG_Tpr_TE_down)).tolist()\n",
    "Trans_CHG_Tms_TE_down = np.arcsin(np.sqrt(CHG_Tms_TE_down)).tolist()"
   ]
  },
  {
   "cell_type": "code",
   "execution_count": 4,
   "id": "c88119f3-d4b9-45b2-89aa-a6335b57c1f9",
   "metadata": {
    "tags": []
   },
   "outputs": [
    {
     "name": "stdout",
     "output_type": "stream",
     "text": [
      "0.62973785114316 0.7298845371979639\n"
     ]
    }
   ],
   "source": [
    "statistic, p_value = bartlett(Trans_CHG_Tdu_TE_down, Trans_CHG_Tpr_TE_down, Trans_CHG_Tms_TE_down)\n",
    "print(statistic, p_value)"
   ]
  },
  {
   "cell_type": "code",
   "execution_count": 5,
   "id": "c8b8c680-6f51-4e49-b19e-fc557f158df2",
   "metadata": {
    "tags": []
   },
   "outputs": [
    {
     "name": "stdout",
     "output_type": "stream",
     "text": [
      "ANOVA results:\n",
      "            df    sum_sq   mean_sq          F    PR(>F)\n",
      "species   2.0  0.005193  0.002597  20.330606  0.018011\n",
      "Residual  3.0  0.000383  0.000128        NaN       NaN\n",
      "\n",
      "Post hoc test results:\n",
      " Multiple Comparison of Means - Tukey HSD, FWER=0.05 \n",
      "====================================================\n",
      "group1 group2 meandiff p-adj   lower   upper  reject\n",
      "----------------------------------------------------\n",
      "   Tdu    Tms  -0.0574 0.0297 -0.1047 -0.0102   True\n",
      "   Tdu    Tpr  -0.0664   0.02 -0.1136 -0.0192   True\n",
      "   Tms    Tpr   -0.009 0.7325 -0.0562  0.0383  False\n",
      "----------------------------------------------------\n"
     ]
    }
   ],
   "source": [
    "CHG_TE_down = pd.DataFrame({'species': ['Tdu', 'Tdu', 'Tpr', 'Tpr', 'Tms', 'Tms'],\n",
    "                          'methylation': Trans_CHG_Tdu_TE_down + Trans_CHG_Tpr_TE_down + Trans_CHG_Tms_TE_down})\n",
    "model = ols('methylation ~ species', data=CHG_TE_down).fit()\n",
    "anova_table = sm.stats.anova_lm(model)\n",
    "\n",
    "posthoc = pairwise_tukeyhsd(CHG_TE_down['methylation'], CHG_TE_down['species'])\n",
    "\n",
    "print(\"ANOVA results:\\n\", anova_table)\n",
    "print(\"\\nPost hoc test results:\\n\", posthoc)"
   ]
  },
  {
   "cell_type": "code",
   "execution_count": 6,
   "id": "b3ed9b95-0e6c-46f5-9c30-1e855e11443b",
   "metadata": {
    "tags": []
   },
   "outputs": [
    {
     "name": "stdout",
     "output_type": "stream",
     "text": [
      "T-Statistic: -6.066365779278698\n",
      "P-Value: 0.10400718715325138\n"
     ]
    }
   ],
   "source": [
    "t_statistic, p_value = stats.ttest_1samp(CHG_Tms_TE_down, np.mean(CHG_Tdu_TE_down + CHG_Tpr_TE_down))\n",
    "\n",
    "print(\"T-Statistic:\", t_statistic)\n",
    "print(\"P-Value:\", p_value)"
   ]
  },
  {
   "cell_type": "markdown",
   "id": "20338137-fc77-48b4-80b6-a031455768f8",
   "metadata": {},
   "source": [
    "## CHH; TE; upstream"
   ]
  },
  {
   "cell_type": "code",
   "execution_count": 7,
   "id": "cb996d6e-dc1b-4982-a64e-ff81f747656e",
   "metadata": {
    "tags": []
   },
   "outputs": [],
   "source": [
    "CHH_Tdu_TE_upstream = [0.108408375, 0.125128307]\n",
    "CHH_Tpr_TE_upstream = [0.099338136, 0.107693327]\n",
    "CHH_Tms_TE_upstream = [0.113732161, 0.109468584]\n",
    "\n",
    "Trans_CHH_Tdu_TE_upstream = np.arcsin(np.sqrt(CHH_Tdu_TE_upstream)).tolist()\n",
    "Trans_CHH_Tpr_TE_upstream = np.arcsin(np.sqrt(CHH_Tpr_TE_upstream)).tolist()\n",
    "Trans_CHH_Tms_TE_upstream = np.arcsin(np.sqrt(CHH_Tms_TE_upstream)).tolist()"
   ]
  },
  {
   "cell_type": "code",
   "execution_count": 8,
   "id": "70bc8f05-e5fd-45c9-9727-66620302fda1",
   "metadata": {
    "tags": []
   },
   "outputs": [
    {
     "name": "stdout",
     "output_type": "stream",
     "text": [
      "1.0871777549731945 0.5806605887160073\n"
     ]
    }
   ],
   "source": [
    "statistic, p_value = bartlett(Trans_CHH_Tdu_TE_upstream, Trans_CHH_Tpr_TE_upstream, Trans_CHH_Tms_TE_upstream)\n",
    "print(statistic, p_value)"
   ]
  },
  {
   "cell_type": "code",
   "execution_count": 9,
   "id": "ff36e523-ab91-42a7-b9d3-a7e3206c08c3",
   "metadata": {
    "tags": []
   },
   "outputs": [
    {
     "name": "stdout",
     "output_type": "stream",
     "text": [
      "ANOVA results:\n",
      "            df    sum_sq   mean_sq         F    PR(>F)\n",
      "species   2.0  0.000451  0.000226  1.483755  0.356445\n",
      "Residual  3.0  0.000456  0.000152       NaN       NaN\n",
      "\n",
      "Post hoc test results:\n",
      " Multiple Comparison of Means - Tukey HSD, FWER=0.05\n",
      "===================================================\n",
      "group1 group2 meandiff p-adj   lower  upper  reject\n",
      "---------------------------------------------------\n",
      "   Tdu    Tms  -0.0079 0.8087 -0.0595 0.0436  False\n",
      "   Tdu    Tpr   -0.021 0.3372 -0.0726 0.0305  False\n",
      "   Tms    Tpr  -0.0131 0.5951 -0.0646 0.0384  False\n",
      "---------------------------------------------------\n"
     ]
    }
   ],
   "source": [
    "CHH_TE_upstream = pd.DataFrame({'species': ['Tdu', 'Tdu', 'Tpr', 'Tpr', 'Tms', 'Tms'],\n",
    "                          'methylation': Trans_CHH_Tdu_TE_upstream + Trans_CHH_Tpr_TE_upstream + Trans_CHH_Tms_TE_upstream})\n",
    "model = ols('methylation ~ species', data=CHH_TE_upstream).fit()\n",
    "anova_table = sm.stats.anova_lm(model)\n",
    "\n",
    "posthoc = pairwise_tukeyhsd(CHH_TE_upstream['methylation'], CHH_TE_upstream['species'])\n",
    "\n",
    "print(\"ANOVA results:\\n\", anova_table)\n",
    "print(\"\\nPost hoc test results:\\n\", posthoc)"
   ]
  },
  {
   "cell_type": "markdown",
   "id": "3afef566-72ed-4bfc-83da-3ed9c3aeeaca",
   "metadata": {},
   "source": [
    "## CHH; TE; body"
   ]
  },
  {
   "cell_type": "code",
   "execution_count": 10,
   "id": "e5d4a96e-1613-491e-9dcd-48f0f75de707",
   "metadata": {
    "tags": []
   },
   "outputs": [],
   "source": [
    "CHH_Tdu_TE_body = [0.100231736, 0.120534747]\n",
    "CHH_Tpr_TE_body = [0.096859226, 0.102202639]\n",
    "CHH_Tms_TE_body = [0.109912719, 0.107765289]\n",
    "\n",
    "Trans_CHH_Tdu_TE_body = np.arcsin(np.sqrt(CHH_Tdu_TE_body)).tolist()\n",
    "Trans_CHH_Tpr_TE_body = np.arcsin(np.sqrt(CHH_Tpr_TE_body)).tolist()\n",
    "Trans_CHH_Tms_TE_body = np.arcsin(np.sqrt(CHH_Tms_TE_body)).tolist()"
   ]
  },
  {
   "cell_type": "code",
   "execution_count": 11,
   "id": "ba41f54c-a179-4ec5-8a11-7f52a45e37f3",
   "metadata": {
    "tags": []
   },
   "outputs": [
    {
     "name": "stdout",
     "output_type": "stream",
     "text": [
      "2.781304893859587 0.2489128492164053\n"
     ]
    }
   ],
   "source": [
    "statistic, p_value = bartlett(Trans_CHH_Tdu_TE_body, Trans_CHH_Tpr_TE_body, Trans_CHH_Tms_TE_body)\n",
    "print(statistic, p_value)"
   ]
  },
  {
   "cell_type": "code",
   "execution_count": 12,
   "id": "b628df62-9eed-4e54-9e55-725876752cb3",
   "metadata": {
    "tags": []
   },
   "outputs": [
    {
     "name": "stdout",
     "output_type": "stream",
     "text": [
      "ANOVA results:\n",
      "            df    sum_sq   mean_sq         F    PR(>F)\n",
      "species   2.0  0.000360  0.000180  0.945827  0.480284\n",
      "Residual  3.0  0.000572  0.000191       NaN       NaN\n",
      "\n",
      "Post hoc test results:\n",
      " Multiple Comparison of Means - Tukey HSD, FWER=0.05\n",
      "===================================================\n",
      "group1 group2 meandiff p-adj   lower  upper  reject\n",
      "---------------------------------------------------\n",
      "   Tdu    Tms  -0.0021 0.9868 -0.0598 0.0555  False\n",
      "   Tdu    Tpr  -0.0174 0.5022 -0.0751 0.0403  False\n",
      "   Tms    Tpr  -0.0153 0.5739 -0.0729 0.0424  False\n",
      "---------------------------------------------------\n"
     ]
    }
   ],
   "source": [
    "CHH_TE_body = pd.DataFrame({'species': ['Tdu', 'Tdu', 'Tpr', 'Tpr', 'Tms', 'Tms'],\n",
    "                          'methylation': Trans_CHH_Tdu_TE_body + Trans_CHH_Tpr_TE_body + Trans_CHH_Tms_TE_body})\n",
    "model = ols('methylation ~ species', data=CHH_TE_body).fit()\n",
    "anova_table = sm.stats.anova_lm(model)\n",
    "\n",
    "posthoc = pairwise_tukeyhsd(CHH_TE_body['methylation'], CHH_TE_body['species'])\n",
    "\n",
    "print(\"ANOVA results:\\n\", anova_table)\n",
    "print(\"\\nPost hoc test results:\\n\", posthoc)"
   ]
  },
  {
   "cell_type": "markdown",
   "id": "f6a2500a-94f7-4be9-a47f-e8eb7e6c9f45",
   "metadata": {},
   "source": [
    "## CHH; TE; downstream"
   ]
  },
  {
   "cell_type": "code",
   "execution_count": 13,
   "id": "b9420396-9e71-4d54-a6c3-325bc4c5f3b3",
   "metadata": {
    "tags": []
   },
   "outputs": [],
   "source": [
    "CHH_Tdu_TE_down = [0.109116204, 0.125886844]\n",
    "CHH_Tpr_TE_down = [0.099315734, 0.107640439]\n",
    "CHH_Tms_TE_down = [0.11406288, 0.109846765]\n",
    "\n",
    "Trans_CHH_Tdu_TE_down = np.arcsin(np.sqrt(CHH_Tdu_TE_down)).tolist()\n",
    "Trans_CHH_Tpr_TE_down = np.arcsin(np.sqrt(CHH_Tpr_TE_down)).tolist()\n",
    "Trans_CHH_Tms_TE_down = np.arcsin(np.sqrt(CHH_Tms_TE_down)).tolist()"
   ]
  },
  {
   "cell_type": "code",
   "execution_count": 14,
   "id": "30b628bf-2db8-4524-b309-5c7f844316a0",
   "metadata": {
    "tags": []
   },
   "outputs": [
    {
     "name": "stdout",
     "output_type": "stream",
     "text": [
      "1.104385125454822 0.5756861975121152\n"
     ]
    }
   ],
   "source": [
    "statistic, p_value = bartlett(Trans_CHH_Tdu_TE_down, Trans_CHH_Tpr_TE_down, Trans_CHH_Tms_TE_down)\n",
    "print(statistic, p_value)"
   ]
  },
  {
   "cell_type": "code",
   "execution_count": 15,
   "id": "538c495b-ddb8-464c-b1f5-7ede6d5b3b0f",
   "metadata": {
    "tags": []
   },
   "outputs": [
    {
     "name": "stdout",
     "output_type": "stream",
     "text": [
      "ANOVA results:\n",
      "            df    sum_sq   mean_sq         F  PR(>F)\n",
      "species   2.0  0.000503  0.000252  1.658995  0.3272\n",
      "Residual  3.0  0.000455  0.000152       NaN     NaN\n",
      "\n",
      "Post hoc test results:\n",
      " Multiple Comparison of Means - Tukey HSD, FWER=0.05\n",
      "===================================================\n",
      "group1 group2 meandiff p-adj   lower  upper  reject\n",
      "---------------------------------------------------\n",
      "   Tdu    Tms  -0.0085 0.7848   -0.06  0.043  False\n",
      "   Tdu    Tpr  -0.0222 0.3082 -0.0737 0.0292  False\n",
      "   Tms    Tpr  -0.0137   0.57 -0.0652 0.0378  False\n",
      "---------------------------------------------------\n"
     ]
    }
   ],
   "source": [
    "CHH_TE_down = pd.DataFrame({'species': ['Tdu', 'Tdu', 'Tpr', 'Tpr', 'Tms', 'Tms'],\n",
    "                          'methylation': Trans_CHH_Tdu_TE_down + Trans_CHH_Tpr_TE_down + Trans_CHH_Tms_TE_down})\n",
    "model = ols('methylation ~ species', data=CHH_TE_down).fit()\n",
    "anova_table = sm.stats.anova_lm(model)\n",
    "\n",
    "posthoc = pairwise_tukeyhsd(CHH_TE_down['methylation'], CHH_TE_down['species'])\n",
    "\n",
    "print(\"ANOVA results:\\n\", anova_table)\n",
    "print(\"\\nPost hoc test results:\\n\", posthoc)"
   ]
  },
  {
   "cell_type": "code",
   "execution_count": null,
   "id": "4395f1ff-4763-4bd4-abd9-f34df8f57493",
   "metadata": {},
   "outputs": [],
   "source": []
  }
 ],
 "metadata": {
  "kernelspec": {
   "display_name": "PyTorch-1.10",
   "language": "python",
   "name": "pytorch-1.10"
  },
  "language_info": {
   "codemirror_mode": {
    "name": "ipython",
    "version": 3
   },
   "file_extension": ".py",
   "mimetype": "text/x-python",
   "name": "python",
   "nbconvert_exporter": "python",
   "pygments_lexer": "ipython3",
   "version": "3.9.7"
  }
 },
 "nbformat": 4,
 "nbformat_minor": 5
}
