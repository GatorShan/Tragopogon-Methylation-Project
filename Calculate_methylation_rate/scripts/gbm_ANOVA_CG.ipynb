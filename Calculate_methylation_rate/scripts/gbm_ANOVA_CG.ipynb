{
 "cells": [
  {
   "cell_type": "code",
   "execution_count": 1,
   "id": "03b3625a-1199-424d-843b-ab313582e768",
   "metadata": {},
   "outputs": [],
   "source": [
    "import sys,os,re\n",
    "import pandas as pd\n",
    "import scipy.stats as stats\n",
    "\n",
    "Delimiter = '\\t'"
   ]
  },
  {
   "cell_type": "code",
   "execution_count": 2,
   "id": "499f6f08-96be-42ad-8645-351a634a7c9f",
   "metadata": {},
   "outputs": [],
   "source": [
    "df = pd.read_csv(\"/orange/soltis/shan158538/Methylation_output/feature_methylation/gbm_ANOVA/gbm_CG_shared_loci.txt\", sep=Delimiter)"
   ]
  },
  {
   "cell_type": "code",
   "execution_count": 3,
   "id": "4d0d51a9-a3b9-47b8-9ca0-816cad6fbe31",
   "metadata": {},
   "outputs": [
    {
     "data": {
      "text/html": [
       "<div>\n",
       "<style scoped>\n",
       "    .dataframe tbody tr th:only-of-type {\n",
       "        vertical-align: middle;\n",
       "    }\n",
       "\n",
       "    .dataframe tbody tr th {\n",
       "        vertical-align: top;\n",
       "    }\n",
       "\n",
       "    .dataframe thead th {\n",
       "        text-align: right;\n",
       "    }\n",
       "</style>\n",
       "<table border=\"1\" class=\"dataframe\">\n",
       "  <thead>\n",
       "    <tr style=\"text-align: right;\">\n",
       "      <th></th>\n",
       "      <th>Tdu_bin_0</th>\n",
       "      <th>Tdu_bin_1</th>\n",
       "      <th>Tdu_bin_2</th>\n",
       "      <th>Tdu_bin_3</th>\n",
       "      <th>Tdu_bin_4</th>\n",
       "      <th>Tdu_bin_5</th>\n",
       "      <th>Tdu_bin_6</th>\n",
       "      <th>Tdu_bin_7</th>\n",
       "      <th>Tdu_bin_8</th>\n",
       "      <th>Tdu_bin_9</th>\n",
       "      <th>...</th>\n",
       "      <th>Tms_bin_50</th>\n",
       "      <th>Tms_bin_51</th>\n",
       "      <th>Tms_bin_52</th>\n",
       "      <th>Tms_bin_53</th>\n",
       "      <th>Tms_bin_54</th>\n",
       "      <th>Tms_bin_55</th>\n",
       "      <th>Tms_bin_56</th>\n",
       "      <th>Tms_bin_57</th>\n",
       "      <th>Tms_bin_58</th>\n",
       "      <th>Tms_bin_59</th>\n",
       "    </tr>\n",
       "  </thead>\n",
       "  <tbody>\n",
       "    <tr>\n",
       "      <th>0</th>\n",
       "      <td>0.787159</td>\n",
       "      <td>0.786895</td>\n",
       "      <td>0.797584</td>\n",
       "      <td>0.790759</td>\n",
       "      <td>0.797642</td>\n",
       "      <td>0.759062</td>\n",
       "      <td>0.799584</td>\n",
       "      <td>0.755272</td>\n",
       "      <td>0.746063</td>\n",
       "      <td>0.757254</td>\n",
       "      <td>...</td>\n",
       "      <td>0.725057</td>\n",
       "      <td>0.712678</td>\n",
       "      <td>0.682264</td>\n",
       "      <td>0.709290</td>\n",
       "      <td>0.679792</td>\n",
       "      <td>0.701751</td>\n",
       "      <td>0.718174</td>\n",
       "      <td>0.697019</td>\n",
       "      <td>0.641792</td>\n",
       "      <td>0.619644</td>\n",
       "    </tr>\n",
       "    <tr>\n",
       "      <th>1</th>\n",
       "      <td>0.738946</td>\n",
       "      <td>0.760560</td>\n",
       "      <td>0.750532</td>\n",
       "      <td>0.754430</td>\n",
       "      <td>0.781729</td>\n",
       "      <td>0.710698</td>\n",
       "      <td>0.741494</td>\n",
       "      <td>0.718759</td>\n",
       "      <td>0.718392</td>\n",
       "      <td>0.740730</td>\n",
       "      <td>...</td>\n",
       "      <td>0.689795</td>\n",
       "      <td>0.700744</td>\n",
       "      <td>0.663690</td>\n",
       "      <td>0.692131</td>\n",
       "      <td>0.664832</td>\n",
       "      <td>0.692739</td>\n",
       "      <td>0.695399</td>\n",
       "      <td>0.665223</td>\n",
       "      <td>0.602873</td>\n",
       "      <td>0.560411</td>\n",
       "    </tr>\n",
       "  </tbody>\n",
       "</table>\n",
       "<p>2 rows × 180 columns</p>\n",
       "</div>"
      ],
      "text/plain": [
       "   Tdu_bin_0  Tdu_bin_1  Tdu_bin_2  Tdu_bin_3  Tdu_bin_4  Tdu_bin_5  \\\n",
       "0   0.787159   0.786895   0.797584   0.790759   0.797642   0.759062   \n",
       "1   0.738946   0.760560   0.750532   0.754430   0.781729   0.710698   \n",
       "\n",
       "   Tdu_bin_6  Tdu_bin_7  Tdu_bin_8  Tdu_bin_9  ...  Tms_bin_50  Tms_bin_51  \\\n",
       "0   0.799584   0.755272   0.746063   0.757254  ...    0.725057    0.712678   \n",
       "1   0.741494   0.718759   0.718392   0.740730  ...    0.689795    0.700744   \n",
       "\n",
       "   Tms_bin_52  Tms_bin_53  Tms_bin_54  Tms_bin_55  Tms_bin_56  Tms_bin_57  \\\n",
       "0    0.682264    0.709290    0.679792    0.701751    0.718174    0.697019   \n",
       "1    0.663690    0.692131    0.664832    0.692739    0.695399    0.665223   \n",
       "\n",
       "   Tms_bin_58  Tms_bin_59  \n",
       "0    0.641792    0.619644  \n",
       "1    0.602873    0.560411  \n",
       "\n",
       "[2 rows x 180 columns]"
      ]
     },
     "execution_count": 3,
     "metadata": {},
     "output_type": "execute_result"
    }
   ],
   "source": [
    "df"
   ]
  },
  {
   "cell_type": "code",
   "execution_count": 4,
   "id": "b5b64ab3-533b-4562-ba05-287385c2e7cf",
   "metadata": {},
   "outputs": [],
   "source": [
    "fvalue, pvalue = stats.f_oneway(df['Tdu_bin_0'], df['Tpr_bin_0'], df['Tms_bin_0'])"
   ]
  },
  {
   "cell_type": "code",
   "execution_count": 5,
   "id": "690d4dbb-da5b-4be8-a541-03907dfa5134",
   "metadata": {},
   "outputs": [
    {
     "name": "stdout",
     "output_type": "stream",
     "text": [
      "8.989319038523227 0.05407741784467521\n"
     ]
    }
   ],
   "source": [
    "print(fvalue, pvalue)"
   ]
  },
  {
   "cell_type": "code",
   "execution_count": 9,
   "id": "f5fe1a8a-8720-4d1b-adf1-5a01fe5177a0",
   "metadata": {},
   "outputs": [
    {
     "name": "stdout",
     "output_type": "stream",
     "text": [
      "For bin: 0 8.989319038523227 0.05407741784467521\n",
      "For bin: 1 6.731183532122481 0.07779352675242407\n",
      "For bin: 2 0.9849987517501768 0.4689727691713936\n",
      "For bin: 3 2.476334721535666 0.23169277190323173\n",
      "For bin: 4 4.016433785585154 0.14179119871743895\n",
      "For bin: 5 5.0178400128754514 0.11040311942675203\n",
      "For bin: 6 2.4481679075501876 0.23417658452402687\n",
      "For bin: 7 1.9625903895130419 0.28512494179714437\n",
      "For bin: 8 3.6944622777734493 0.15517651475194527\n",
      "For bin: 9 6.492386420049642 0.08130592194823508\n",
      "For bin: 10 7.91301598768112 0.06361268019421851\n",
      "For bin: 11 13.665274074453453 0.03110724096168484\n",
      "For bin: 12 12.061035828336104 0.03678727285304733\n",
      "For bin: 13 4.507475891231349 0.12476674173118642\n",
      "For bin: 14 7.938976925507429 0.063350420503093\n",
      "For bin: 15 2.4570593051877863 0.23338774606034496\n",
      "For bin: 16 2.6632248831280405 0.21626790969506746\n",
      "For bin: 17 6.330245815734204 0.08384434848861431\n",
      "For bin: 18 3.209606676509165 0.17974628819893138\n",
      "For bin: 19 1.6529731097119758 0.3281379709471145\n",
      "For bin: 20 3.4365452319124765 0.16749513900514135\n",
      "For bin: 21 2.6530246826842783 0.21706515874670823\n",
      "For bin: 22 3.085206588701371 0.18711065837151117\n",
      "For bin: 23 3.6324103163314163 0.15799918061439924\n",
      "For bin: 24 3.8666605315993245 0.14776810412553495\n",
      "For bin: 25 3.1751368884818043 0.18173785220413974\n",
      "For bin: 26 4.323143835867505 0.1307376312916614\n",
      "For bin: 27 4.4924864329677145 0.12523516704451884\n",
      "For bin: 28 6.7620743412735305 0.0773576451692022\n",
      "For bin: 29 5.667012227878629 0.09574799102940364\n",
      "For bin: 30 6.52329893789985 0.08083648631086608\n",
      "For bin: 31 6.025038276325086 0.08899668264440921\n",
      "For bin: 32 5.5991799085403775 0.09712356500346102\n",
      "For bin: 33 7.197664616165639 0.07161976684298636\n",
      "For bin: 34 6.657892365052565 0.07884423290187684\n",
      "For bin: 35 5.901950347328877 0.09122579091695764\n",
      "For bin: 36 6.009214113779129 0.08927814478216493\n",
      "For bin: 37 5.286672801627255 0.10390860665939579\n",
      "For bin: 38 4.580395782310828 0.12252906371896763\n",
      "For bin: 39 4.71552600187617 0.11855504976647685\n",
      "For bin: 40 4.486968748616752 0.1254083349706301\n",
      "For bin: 41 2.645000018312027 0.21769581658554954\n",
      "For bin: 42 1.5231491300803812 0.34950028305156483\n",
      "For bin: 43 8.931442942440839 0.054528092844001966\n",
      "For bin: 44 3.022097782525389 0.1910411681952299\n",
      "For bin: 45 4.495687794299838 0.12513487759168693\n",
      "For bin: 46 6.834984383352962 0.0763448423967348\n",
      "For bin: 47 8.991418827403722 0.05406118379463052\n",
      "For bin: 48 4.9527486139359915 0.1120778443322624\n",
      "For bin: 49 1.168173545417229 0.4215176630256423\n",
      "For bin: 50 5.245150526514884 0.1048695536793661\n",
      "For bin: 51 3.3446771498902765 0.17228188989941612\n",
      "For bin: 52 2.9561849002079965 0.19529543171780855\n",
      "For bin: 53 3.890694748137372 0.1467809783606738\n",
      "For bin: 54 3.365679247772433 0.17116764449213978\n",
      "For bin: 55 5.342618076791152 0.10263687913341002\n",
      "For bin: 56 6.301939745664184 0.08430105324711447\n",
      "For bin: 57 6.933675750043921 0.07500868280920067\n",
      "For bin: 58 4.027784830832182 0.14135468070030277\n",
      "For bin: 59 3.3724068977422386 0.17081325340048312\n"
     ]
    }
   ],
   "source": [
    "for bin_id in range(0,60):\n",
    "    Tdu = f'Tdu_bin_{bin_id}'\n",
    "    Tpr = f'Tpr_bin_{bin_id}'\n",
    "    Tms = f'Tms_bin_{bin_id}'\n",
    "    fvalue, pvalue = stats.f_oneway(df[Tdu], df[Tpr], df[Tms])\n",
    "    print (\"For bin:\", bin_id, fvalue, pvalue)"
   ]
  },
  {
   "cell_type": "code",
   "execution_count": null,
   "id": "3862dc4c-f344-4405-a6f5-7942b5ea8814",
   "metadata": {},
   "outputs": [],
   "source": []
  }
 ],
 "metadata": {
  "kernelspec": {
   "display_name": "Python 3 (ipykernel)",
   "language": "python",
   "name": "python3"
  },
  "language_info": {
   "codemirror_mode": {
    "name": "ipython",
    "version": 3
   },
   "file_extension": ".py",
   "mimetype": "text/x-python",
   "name": "python",
   "nbconvert_exporter": "python",
   "pygments_lexer": "ipython3",
   "version": "3.10.4"
  }
 },
 "nbformat": 4,
 "nbformat_minor": 5
}
