{
 "cells": [
  {
   "cell_type": "code",
   "execution_count": 1,
   "id": "6ce770be-b825-4f2a-b213-6bc50cc096f6",
   "metadata": {
    "tags": []
   },
   "outputs": [],
   "source": [
    "from scipy.stats import bartlett\n",
    "import pandas as pd\n",
    "import statsmodels.api as sm\n",
    "from statsmodels.formula.api import ols\n",
    "from statsmodels.stats.multicomp import pairwise_tukeyhsd\n",
    "import scipy.stats as stats\n",
    "import numpy as np"
   ]
  },
  {
   "cell_type": "markdown",
   "id": "dea68851-9e63-4d46-97fc-04e67bf7902a",
   "metadata": {},
   "source": [
    "## CG_LINE_body_vs_upstream"
   ]
  },
  {
   "cell_type": "code",
   "execution_count": 2,
   "id": "f032b429-72e6-47f9-8a58-754f9fa9cc57",
   "metadata": {
    "tags": []
   },
   "outputs": [
    {
     "name": "stdout",
     "output_type": "stream",
     "text": [
      "T-Statistic: 5.723548989913443\n",
      "P-Value: 0.01459785565147068\n"
     ]
    }
   ],
   "source": [
    "CG_Tdu_LINE_body = [0.945239867, 0.944587146]\n",
    "CG_Tdu_LINE_upstream = [0.873092354, 0.842691017]\n",
    "\n",
    "t_statistic, p_value = stats.ttest_ind(CG_Tdu_LINE_body, CG_Tdu_LINE_upstream, alternative='greater')\n",
    "print(\"T-Statistic:\", t_statistic)\n",
    "print(\"P-Value:\", p_value)"
   ]
  },
  {
   "cell_type": "code",
   "execution_count": 3,
   "id": "d7e668a8-e1b0-47cd-9c92-9000946b8212",
   "metadata": {
    "tags": []
   },
   "outputs": [
    {
     "name": "stdout",
     "output_type": "stream",
     "text": [
      "T-Statistic: 5.8248123112927725\n",
      "P-Value: 0.014115808548286259\n"
     ]
    }
   ],
   "source": [
    "CG_Tpr_LINE_body = [0.886832521, 0.896157275]\n",
    "CG_Tpr_LINE_upstream = [0.76849903, 0.80350084]\n",
    "\n",
    "t_statistic, p_value = stats.ttest_ind(CG_Tpr_LINE_body, CG_Tpr_LINE_upstream, alternative='greater')\n",
    "print(\"T-Statistic:\", t_statistic)\n",
    "print(\"P-Value:\", p_value)"
   ]
  },
  {
   "cell_type": "code",
   "execution_count": 4,
   "id": "170f84ea-8abe-4117-9330-de1e6d66c64a",
   "metadata": {
    "tags": []
   },
   "outputs": [
    {
     "name": "stdout",
     "output_type": "stream",
     "text": [
      "T-Statistic: 13.936946276841107\n",
      "P-Value: 0.0025544455673925884\n"
     ]
    }
   ],
   "source": [
    "CG_Tms_LINE_body = [0.922242588, 0.922356429]\n",
    "CG_Tms_LINE_upstream = [0.815490141, 0.798978264]\n",
    "\n",
    "t_statistic, p_value = stats.ttest_ind(CG_Tms_LINE_body, CG_Tms_LINE_upstream, alternative='greater')\n",
    "print(\"T-Statistic:\", t_statistic)\n",
    "print(\"P-Value:\", p_value)"
   ]
  },
  {
   "cell_type": "markdown",
   "id": "e8b605ba-c42b-42c2-8e91-9d4d2d237b5b",
   "metadata": {},
   "source": [
    "## CG_LINE_body_vs_downstream"
   ]
  },
  {
   "cell_type": "code",
   "execution_count": 5,
   "id": "5c936004-3f1f-4fec-a076-13a65099629a",
   "metadata": {
    "tags": []
   },
   "outputs": [
    {
     "name": "stdout",
     "output_type": "stream",
     "text": [
      "T-Statistic: 6.667532126714891\n",
      "P-Value: 0.010881278163634317\n"
     ]
    }
   ],
   "source": [
    "CG_Tdu_LINE_body = [0.945239867, 0.944587146]\n",
    "CG_Tdu_LINE_down = [0.874587176, 0.849780009]\n",
    "\n",
    "t_statistic, p_value = stats.ttest_ind(CG_Tdu_LINE_body, CG_Tdu_LINE_down, alternative='greater')\n",
    "print(\"T-Statistic:\", t_statistic)\n",
    "print(\"P-Value:\", p_value)"
   ]
  },
  {
   "cell_type": "code",
   "execution_count": 6,
   "id": "674ced93-e4ee-4226-bc38-785b0496f5aa",
   "metadata": {
    "tags": []
   },
   "outputs": [
    {
     "name": "stdout",
     "output_type": "stream",
     "text": [
      "T-Statistic: 6.261488800939448\n",
      "P-Value: 0.012285005311719872\n"
     ]
    }
   ],
   "source": [
    "CG_Tpr_LINE_body = [0.886832521, 0.896157275]\n",
    "CG_Tpr_LINE_down = [0.785396684, 0.813311397]\n",
    "\n",
    "t_statistic, p_value = stats.ttest_ind(CG_Tpr_LINE_body, CG_Tpr_LINE_down, alternative='greater')\n",
    "print(\"T-Statistic:\", t_statistic)\n",
    "print(\"P-Value:\", p_value)"
   ]
  },
  {
   "cell_type": "code",
   "execution_count": 7,
   "id": "622d3f0d-9e42-4f14-b344-c81504d08b24",
   "metadata": {
    "tags": []
   },
   "outputs": [
    {
     "name": "stdout",
     "output_type": "stream",
     "text": [
      "T-Statistic: 17.142988481035733\n",
      "P-Value: 0.001692727869614972\n"
     ]
    }
   ],
   "source": [
    "CG_Tms_LINE_body = [0.922242588, 0.922356429]\n",
    "CG_Tms_LINE_down = [0.823882735, 0.81169017]\n",
    "\n",
    "t_statistic, p_value = stats.ttest_ind(CG_Tms_LINE_body, CG_Tms_LINE_down, alternative='greater')\n",
    "print(\"T-Statistic:\", t_statistic)\n",
    "print(\"P-Value:\", p_value)"
   ]
  },
  {
   "cell_type": "markdown",
   "id": "d976ec6e-44cb-4592-988c-9b1f56be840d",
   "metadata": {},
   "source": [
    "## CHG_LINE_body_vs_upstream"
   ]
  },
  {
   "cell_type": "code",
   "execution_count": 8,
   "id": "2358972b-7928-4f15-a749-6fd051677843",
   "metadata": {
    "tags": []
   },
   "outputs": [
    {
     "name": "stdout",
     "output_type": "stream",
     "text": [
      "T-Statistic: 6.10011632456734\n",
      "P-Value: 0.012918269170635663\n"
     ]
    }
   ],
   "source": [
    "CHG_Tdu_LINE_body = [0.753312247, 0.753715445]\n",
    "CHG_Tdu_LINE_upstream = [0.687069399, 0.661017079]\n",
    "t_statistic, p_value = stats.ttest_ind(CHG_Tdu_LINE_body, CHG_Tdu_LINE_upstream, alternative='greater')\n",
    "print(\"T-Statistic:\", t_statistic)\n",
    "print(\"P-Value:\", p_value)"
   ]
  },
  {
   "cell_type": "code",
   "execution_count": 9,
   "id": "f805cf09-f680-4659-b4fc-d157cc81e416",
   "metadata": {
    "tags": []
   },
   "outputs": [
    {
     "name": "stdout",
     "output_type": "stream",
     "text": [
      "T-Statistic: 4.114378678575436\n",
      "P-Value: 0.027153022235504764\n"
     ]
    }
   ],
   "source": [
    "CHG_Tpr_LINE_body = [0.673849959, 0.684216014]\n",
    "CHG_Tpr_LINE_upstream = [0.576862138, 0.61572338]\n",
    "t_statistic, p_value = stats.ttest_ind(CHG_Tpr_LINE_body, CHG_Tpr_LINE_upstream, alternative='greater')\n",
    "print(\"T-Statistic:\", t_statistic)\n",
    "print(\"P-Value:\", p_value)"
   ]
  },
  {
   "cell_type": "code",
   "execution_count": 10,
   "id": "7049aab2-e4fa-42e9-949e-8db50e5b3f73",
   "metadata": {
    "tags": []
   },
   "outputs": [
    {
     "name": "stdout",
     "output_type": "stream",
     "text": [
      "T-Statistic: 10.758909947817282\n",
      "P-Value: 0.004264319513362661\n"
     ]
    }
   ],
   "source": [
    "CHG_Tms_LINE_body = [0.703201399, 0.702283531]\n",
    "CHG_Tms_LINE_upstream = [0.61609, 0.598357536]\n",
    "t_statistic, p_value = stats.ttest_ind(CHG_Tms_LINE_body, CHG_Tms_LINE_upstream, alternative='greater')\n",
    "print(\"T-Statistic:\", t_statistic)\n",
    "print(\"P-Value:\", p_value)"
   ]
  },
  {
   "cell_type": "markdown",
   "id": "8eab6009-8e9f-4a9e-a9a4-da3eda23d779",
   "metadata": {},
   "source": [
    "## CHG_LINE_body_vs_downstream"
   ]
  },
  {
   "cell_type": "code",
   "execution_count": 11,
   "id": "ad3f215f-9ebf-4133-aaac-2bdd0d3b9308",
   "metadata": {
    "tags": []
   },
   "outputs": [
    {
     "name": "stdout",
     "output_type": "stream",
     "text": [
      "T-Statistic: 5.511572385268649\n",
      "P-Value: 0.015689001012809366\n"
     ]
    }
   ],
   "source": [
    "CHG_Tdu_LINE_body = [0.753312247, 0.753715445]\n",
    "CHG_Tdu_LINE_down = [0.691416488, 0.663892062]\n",
    "\n",
    "t_statistic, p_value = stats.ttest_ind(CHG_Tdu_LINE_body, CHG_Tdu_LINE_down, alternative='greater')\n",
    "print(\"T-Statistic:\", t_statistic)\n",
    "print(\"P-Value:\", p_value)"
   ]
  },
  {
   "cell_type": "code",
   "execution_count": 12,
   "id": "4a6ea179-8f81-43e6-8194-4297928fb81b",
   "metadata": {
    "tags": []
   },
   "outputs": [
    {
     "name": "stdout",
     "output_type": "stream",
     "text": [
      "T-Statistic: 4.7431246835740115\n",
      "P-Value: 0.020844982733643304\n"
     ]
    }
   ],
   "source": [
    "CHG_Tpr_LINE_body = [0.673849959, 0.684216014]\n",
    "CHG_Tpr_LINE_down = [0.581703838, 0.61426825]\n",
    "\n",
    "t_statistic, p_value = stats.ttest_ind(CHG_Tpr_LINE_body, CHG_Tpr_LINE_down, alternative='greater')\n",
    "print(\"T-Statistic:\", t_statistic)\n",
    "print(\"P-Value:\", p_value)"
   ]
  },
  {
   "cell_type": "code",
   "execution_count": 13,
   "id": "97717679-2b2f-4410-8c9a-b73d010b835e",
   "metadata": {
    "tags": []
   },
   "outputs": [
    {
     "name": "stdout",
     "output_type": "stream",
     "text": [
      "T-Statistic: 12.298484222729845\n",
      "P-Value: 0.003273299446971416\n"
     ]
    }
   ],
   "source": [
    "CHG_Tms_LINE_body = [0.703201399, 0.702283531]\n",
    "CHG_Tms_LINE_down = [0.616740981, 0.601547589]\n",
    "\n",
    "t_statistic, p_value = stats.ttest_ind(CHG_Tms_LINE_body, CHG_Tms_LINE_down, alternative='greater')\n",
    "print(\"T-Statistic:\", t_statistic)\n",
    "print(\"P-Value:\", p_value)"
   ]
  },
  {
   "cell_type": "markdown",
   "id": "67973efb-2d95-432e-a657-a9bd679e021d",
   "metadata": {},
   "source": [
    "## CHH_LINE_body_vs_upstream"
   ]
  },
  {
   "cell_type": "code",
   "execution_count": 14,
   "id": "559eb4bb-5743-4076-862c-3bf3f2f4fd5a",
   "metadata": {
    "tags": []
   },
   "outputs": [
    {
     "name": "stdout",
     "output_type": "stream",
     "text": [
      "T-Statistic: 0.2648592392804449\n",
      "P-Value: 0.40795839556573243\n"
     ]
    }
   ],
   "source": [
    "CHH_Tdu_LINE_body = [0.128488793, 0.157003068]\n",
    "CHH_Tdu_LINE_upstream = [0.133116838, 0.144265973]\n",
    "\n",
    "t_statistic, p_value = stats.ttest_ind(CHH_Tdu_LINE_body, CHH_Tdu_LINE_upstream, alternative='greater')\n",
    "print(\"T-Statistic:\", t_statistic)\n",
    "print(\"P-Value:\", p_value)"
   ]
  },
  {
   "cell_type": "code",
   "execution_count": 15,
   "id": "e9e70530-a60a-46d5-8a1b-ba65dff7ea2f",
   "metadata": {
    "tags": []
   },
   "outputs": [
    {
     "name": "stdout",
     "output_type": "stream",
     "text": [
      "T-Statistic: 0.7588458298467728\n",
      "P-Value: 0.2635912617445757\n"
     ]
    }
   ],
   "source": [
    "CHH_Tpr_LINE_body = [0.124702754, 0.135907464]\n",
    "CHH_Tpr_LINE_upstream = [0.114324337, 0.131024774]\n",
    "t_statistic, p_value = stats.ttest_ind(CHH_Tpr_LINE_body, CHH_Tpr_LINE_upstream, alternative='greater')\n",
    "print(\"T-Statistic:\", t_statistic)\n",
    "print(\"P-Value:\", p_value)"
   ]
  },
  {
   "cell_type": "code",
   "execution_count": 16,
   "id": "75fead43-df5d-49d6-b320-23cb274c183d",
   "metadata": {
    "tags": []
   },
   "outputs": [
    {
     "name": "stdout",
     "output_type": "stream",
     "text": [
      "T-Statistic: 2.628413008296902\n",
      "P-Value: 0.05968854827978584\n"
     ]
    }
   ],
   "source": [
    "CHH_Tms_LINE_body = [0.143681781, 0.139397546]\n",
    "CHH_Tms_LINE_upstream = [0.133233226, 0.124663596]\n",
    "t_statistic, p_value = stats.ttest_ind(CHH_Tms_LINE_body, CHH_Tms_LINE_upstream, alternative='greater')\n",
    "print(\"T-Statistic:\", t_statistic)\n",
    "print(\"P-Value:\", p_value)"
   ]
  },
  {
   "cell_type": "markdown",
   "id": "5cb3e31a-620d-48b8-8962-cf739967a26f",
   "metadata": {},
   "source": [
    "## CHH_LINE_body_vs_downstream"
   ]
  },
  {
   "cell_type": "code",
   "execution_count": 17,
   "id": "83606499-af57-4ae8-91f4-d4170687936b",
   "metadata": {
    "tags": []
   },
   "outputs": [
    {
     "name": "stdout",
     "output_type": "stream",
     "text": [
      "T-Statistic: -0.14321056280277178\n",
      "P-Value: 0.5503749505308948\n"
     ]
    }
   ],
   "source": [
    "CHH_Tdu_LINE_body = [0.128488793, 0.157003068]\n",
    "CHH_Tdu_LINE_down = [0.138814965, 0.151124717]\n",
    "\n",
    "t_statistic, p_value = stats.ttest_ind(CHH_Tdu_LINE_body, CHH_Tdu_LINE_down, alternative='greater')\n",
    "print(\"T-Statistic:\", t_statistic)\n",
    "print(\"P-Value:\", p_value)"
   ]
  },
  {
   "cell_type": "code",
   "execution_count": 18,
   "id": "b4412786-7e1e-4c98-9994-def1df0b877d",
   "metadata": {
    "tags": []
   },
   "outputs": [
    {
     "name": "stdout",
     "output_type": "stream",
     "text": [
      "T-Statistic: 0.9466340300736718\n",
      "P-Value: 0.22187236588903197\n"
     ]
    }
   ],
   "source": [
    "CHH_Tpr_LINE_body = [0.124702754, 0.135907464]\n",
    "CHH_Tpr_LINE_down = [0.114100494, 0.128921491]\n",
    "t_statistic, p_value = stats.ttest_ind(CHH_Tpr_LINE_body, CHH_Tpr_LINE_down, alternative='greater')\n",
    "print(\"T-Statistic:\", t_statistic)\n",
    "print(\"P-Value:\", p_value)"
   ]
  },
  {
   "cell_type": "code",
   "execution_count": 19,
   "id": "b7eda0a5-9914-41b2-bad8-58a45a089be1",
   "metadata": {
    "tags": []
   },
   "outputs": [
    {
     "name": "stdout",
     "output_type": "stream",
     "text": [
      "T-Statistic: 2.2568971371360815\n",
      "P-Value: 0.07630933938208714\n"
     ]
    }
   ],
   "source": [
    "CHH_Tms_LINE_body = [0.143681781, 0.139397546]\n",
    "CHH_Tms_LINE_down = [0.134881675, 0.126055793]\n",
    "t_statistic, p_value = stats.ttest_ind(CHH_Tms_LINE_body, CHH_Tms_LINE_down, alternative='greater')\n",
    "print(\"T-Statistic:\", t_statistic)\n",
    "print(\"P-Value:\", p_value)"
   ]
  },
  {
   "cell_type": "code",
   "execution_count": null,
   "id": "9e59a514-3621-4b25-b9b3-aa358874fb03",
   "metadata": {},
   "outputs": [],
   "source": []
  }
 ],
 "metadata": {
  "kernelspec": {
   "display_name": "PyTorch-1.10",
   "language": "python",
   "name": "pytorch-1.10"
  },
  "language_info": {
   "codemirror_mode": {
    "name": "ipython",
    "version": 3
   },
   "file_extension": ".py",
   "mimetype": "text/x-python",
   "name": "python",
   "nbconvert_exporter": "python",
   "pygments_lexer": "ipython3",
   "version": "3.9.7"
  }
 },
 "nbformat": 4,
 "nbformat_minor": 5
}
