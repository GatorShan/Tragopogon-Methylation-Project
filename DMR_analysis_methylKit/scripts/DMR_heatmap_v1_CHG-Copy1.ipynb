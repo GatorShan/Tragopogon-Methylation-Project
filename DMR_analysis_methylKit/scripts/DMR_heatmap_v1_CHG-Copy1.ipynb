{
 "cells": [
  {
   "cell_type": "code",
   "execution_count": 1,
   "id": "cbec06bf-c804-4e9a-8bf8-9645c8940fc3",
   "metadata": {},
   "outputs": [],
   "source": [
    "import sys,os,re\n",
    "import pandas as pd\n",
    "Delimiter = '\\t'"
   ]
  },
  {
   "cell_type": "markdown",
   "id": "467e74e5-bed9-49de-9dc3-d55cf01d365d",
   "metadata": {},
   "source": [
    "### Overlap same direction"
   ]
  },
  {
   "cell_type": "code",
   "execution_count": 2,
   "id": "f6afdfd4-3b77-42b5-a76d-c4d9c4788443",
   "metadata": {},
   "outputs": [],
   "source": [
    "InFileName1 = \"/blue/soltis/shan158538/Methylation/OutPut/DMR_heatmap/CHG_new/Overlap_same_direction_parents_CHG_methylDiff_all_subgenomes_CHG_methylDiff_all.txt\"\n",
    "InFile1 = pd.read_csv(InFileName1, sep=Delimiter)\n",
    "InFile1_filtered = InFile1[['Scaffold', 'Start', 'Direction_x', 'Direction_y']]\n",
    "InFile1_filtered_sorted = InFile1_filtered.sort_values('Direction_x', ascending=False)\n",
    "InFile1_filtered_sorted.to_csv(\"/blue/soltis/shan158538/Methylation/OutPut/DMR_heatmap/CHG_new/Filtered_sorted_Overlap_same.txt\", sep=Delimiter, header=False, index=False)"
   ]
  },
  {
   "cell_type": "markdown",
   "id": "ebb4f014-6912-4549-a2fc-1773d4fe6351",
   "metadata": {},
   "source": [
    "### Unique parents"
   ]
  },
  {
   "cell_type": "code",
   "execution_count": 3,
   "id": "aba79ee1-3878-474c-9ff0-e6f44b25f978",
   "metadata": {},
   "outputs": [],
   "source": [
    "InFileName2 = \"/blue/soltis/shan158538/Methylation/OutPut/DMR_heatmap/CHG_new/Unique_parents_CHG_methylDiff_all.txt\"\n",
    "InFile2 = pd.read_csv(InFileName2, sep=Delimiter)\n",
    "InFile2_filtered = InFile2[['Scaffold', 'Start', 'Direction_x', 'Direction_y']]\n",
    "# To replace the missing value with 0\n",
    "InFile2_filtered_filled = InFile2_filtered.fillna(0)\n",
    "# Sort the df based on column 'Direction_x'\n",
    "InFile2_filtered_filled_sorted = InFile2_filtered_filled.sort_values('Direction_x', ascending=False)\n",
    "InFile2_filtered_filled_sorted.to_csv(\"/blue/soltis/shan158538/Methylation/OutPut/DMR_heatmap/CHG_new/Filtered_sorted_Unique_parents.txt\", sep=Delimiter, header=False, index=False)"
   ]
  },
  {
   "cell_type": "markdown",
   "id": "71d14773-71ef-4451-bc85-b33297c93bf6",
   "metadata": {},
   "source": [
    "### Processing file Unique_subgenomes_CHG_methylDiff_all.txt"
   ]
  },
  {
   "cell_type": "code",
   "execution_count": 4,
   "id": "6d699fd4-3590-4b5c-b22d-2f8240e5d4f8",
   "metadata": {},
   "outputs": [],
   "source": [
    "InFileName3 = \"/blue/soltis/shan158538/Methylation/OutPut/DMR_heatmap/CHG_new/Unique_subgenomes_CHG_methylDiff_all.txt\"\n",
    "InFile3 = pd.read_csv(InFileName3, sep=Delimiter)\n",
    "columns_to_keep = ['Scaffold', 'Start', 'Direction_x', 'Direction_y']\n",
    "InFile3_filtered = InFile3[columns_to_keep]\n",
    "InFile3_filtered_filled = InFile3_filtered.fillna(0)\n",
    "InFile3_filtered_filled_sorted = InFile3_filtered_filled.sort_values('Direction_y', ascending=False)\n",
    "InFile3_filtered_filled_sorted.to_csv(\"/blue/soltis/shan158538/Methylation/OutPut/DMR_heatmap/CHG_new/Filtered_sorted_Unique_subgenomes.txt\", sep=Delimiter, header=False, index=False)"
   ]
  },
  {
   "cell_type": "markdown",
   "id": "7ce58c07-9172-4147-8033-c2840b2d4db7",
   "metadata": {},
   "source": [
    "### Processing file Overlap_diff_direction_parents_methylDiff_all_subgenomes_CHG_methylDiff_all.txt"
   ]
  },
  {
   "cell_type": "code",
   "execution_count": 5,
   "id": "9518fca4-e4f9-48bf-9f49-df65b7457595",
   "metadata": {},
   "outputs": [],
   "source": [
    "InFileName4 = \"/blue/soltis/shan158538/Methylation/OutPut/DMR_heatmap/CHG_new/Overlap_diff_direction_parents_CHG_methylDiff_all_subgenomes_CHG_methylDiff_all.txt\"\n",
    "InFile4 = pd.read_csv(InFileName4, sep=Delimiter)\n",
    "InFile4_filtered = InFile4[['Scaffold', 'Start', 'Direction_x', 'Direction_y']]\n",
    "InFile4_filtered_sorted = InFile4_filtered.sort_values('Direction_x', ascending=False)\n",
    "InFile4_filtered_sorted.to_csv(\"/blue/soltis/shan158538/Methylation/OutPut/DMR_heatmap/CHG_new/Filtered_sorted_Overlap_diff.txt\", sep=Delimiter, header=False, index=False)\n",
    "\n"
   ]
  },
  {
   "cell_type": "code",
   "execution_count": null,
   "id": "f2bc7528-6b79-43bd-aa06-74862ad02474",
   "metadata": {},
   "outputs": [],
   "source": []
  }
 ],
 "metadata": {
  "kernelspec": {
   "display_name": "Python 3 (ipykernel)",
   "language": "python",
   "name": "python3"
  },
  "language_info": {
   "codemirror_mode": {
    "name": "ipython",
    "version": 3
   },
   "file_extension": ".py",
   "mimetype": "text/x-python",
   "name": "python",
   "nbconvert_exporter": "python",
   "pygments_lexer": "ipython3",
   "version": "3.10.4"
  }
 },
 "nbformat": 4,
 "nbformat_minor": 5
}
