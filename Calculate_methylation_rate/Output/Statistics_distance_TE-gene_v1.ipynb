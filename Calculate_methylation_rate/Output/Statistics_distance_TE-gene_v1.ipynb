{
 "cells": [
  {
   "cell_type": "code",
   "execution_count": 1,
   "id": "0fe97ba9-6ca8-456c-b32b-f58851bb0882",
   "metadata": {},
   "outputs": [],
   "source": [
    "import sys,os,re\n",
    "import pandas as pd\n",
    "import numpy as np\n",
    "import scipy.stats as stats\n",
    "import matplotlib.pyplot as plt\n",
    "from scipy.stats import ranksums\n",
    "from scipy.stats import bartlett\n",
    "Delimiter = '\\t'"
   ]
  },
  {
   "cell_type": "markdown",
   "id": "7ecf101c-70f2-459c-aed1-6d763d15e026",
   "metadata": {},
   "source": [
    "## This section is comparing the distance of copias and gypsies to thier cloest genes"
   ]
  },
  {
   "cell_type": "code",
   "execution_count": 2,
   "id": "9870e222-7e3a-49fb-8046-7219351a4d06",
   "metadata": {},
   "outputs": [],
   "source": [
    "Copia_distance = \"/blue/soltis/shan158538/Methylation/OutPut/TE-gene_distance/closest_gene_copia.tab\"\n",
    "Gypsy_distance = \"/blue/soltis/shan158538/Methylation/OutPut/TE-gene_distance/closest_gene_gypsy.tab\""
   ]
  },
  {
   "cell_type": "code",
   "execution_count": 3,
   "id": "699127ff-0327-4c3b-8962-a3b8a1ad716a",
   "metadata": {},
   "outputs": [],
   "source": [
    "Copia_InFile = pd.read_csv(Copia_distance, sep=Delimiter)\n",
    "Gypsy_InFile = pd.read_csv(Gypsy_distance, sep=Delimiter)"
   ]
  },
  {
   "cell_type": "code",
   "execution_count": 4,
   "id": "f5685cfd-2355-4ab3-a81f-6fc2c14c85ec",
   "metadata": {},
   "outputs": [
    {
     "data": {
      "text/html": [
       "<div>\n",
       "<style scoped>\n",
       "    .dataframe tbody tr th:only-of-type {\n",
       "        vertical-align: middle;\n",
       "    }\n",
       "\n",
       "    .dataframe tbody tr th {\n",
       "        vertical-align: top;\n",
       "    }\n",
       "\n",
       "    .dataframe thead th {\n",
       "        text-align: right;\n",
       "    }\n",
       "</style>\n",
       "<table border=\"1\" class=\"dataframe\">\n",
       "  <thead>\n",
       "    <tr style=\"text-align: right;\">\n",
       "      <th></th>\n",
       "      <th>uniqueTE_id</th>\n",
       "      <th>TE.middle.point</th>\n",
       "      <th>Gene.id</th>\n",
       "      <th>Gene.start</th>\n",
       "      <th>Gene.end</th>\n",
       "      <th>Gene.middle.point</th>\n",
       "      <th>Distance</th>\n",
       "    </tr>\n",
       "  </thead>\n",
       "  <tbody>\n",
       "    <tr>\n",
       "      <th>0</th>\n",
       "      <td>ID=162638</td>\n",
       "      <td>24</td>\n",
       "      <td>ID=TragDub17217</td>\n",
       "      <td>9764</td>\n",
       "      <td>12106</td>\n",
       "      <td>10935</td>\n",
       "      <td>10911</td>\n",
       "    </tr>\n",
       "    <tr>\n",
       "      <th>1</th>\n",
       "      <td>ID=162639</td>\n",
       "      <td>172</td>\n",
       "      <td>ID=TragDub17217</td>\n",
       "      <td>9764</td>\n",
       "      <td>12106</td>\n",
       "      <td>10935</td>\n",
       "      <td>10763</td>\n",
       "    </tr>\n",
       "    <tr>\n",
       "      <th>2</th>\n",
       "      <td>ID=162643</td>\n",
       "      <td>2273</td>\n",
       "      <td>ID=TragDub17217</td>\n",
       "      <td>9764</td>\n",
       "      <td>12106</td>\n",
       "      <td>10935</td>\n",
       "      <td>8662</td>\n",
       "    </tr>\n",
       "    <tr>\n",
       "      <th>3</th>\n",
       "      <td>ID=162644</td>\n",
       "      <td>2448</td>\n",
       "      <td>ID=TragDub17217</td>\n",
       "      <td>9764</td>\n",
       "      <td>12106</td>\n",
       "      <td>10935</td>\n",
       "      <td>8487</td>\n",
       "    </tr>\n",
       "    <tr>\n",
       "      <th>4</th>\n",
       "      <td>ID=162646</td>\n",
       "      <td>3344</td>\n",
       "      <td>ID=TragDub17217</td>\n",
       "      <td>9764</td>\n",
       "      <td>12106</td>\n",
       "      <td>10935</td>\n",
       "      <td>7591</td>\n",
       "    </tr>\n",
       "  </tbody>\n",
       "</table>\n",
       "</div>"
      ],
      "text/plain": [
       "  uniqueTE_id  TE.middle.point          Gene.id  Gene.start  Gene.end  \\\n",
       "0   ID=162638               24  ID=TragDub17217        9764     12106   \n",
       "1   ID=162639              172  ID=TragDub17217        9764     12106   \n",
       "2   ID=162643             2273  ID=TragDub17217        9764     12106   \n",
       "3   ID=162644             2448  ID=TragDub17217        9764     12106   \n",
       "4   ID=162646             3344  ID=TragDub17217        9764     12106   \n",
       "\n",
       "   Gene.middle.point  Distance  \n",
       "0              10935     10911  \n",
       "1              10935     10763  \n",
       "2              10935      8662  \n",
       "3              10935      8487  \n",
       "4              10935      7591  "
      ]
     },
     "execution_count": 4,
     "metadata": {},
     "output_type": "execute_result"
    }
   ],
   "source": [
    "Copia_InFile.head()"
   ]
  },
  {
   "cell_type": "code",
   "execution_count": 5,
   "id": "86a69565-a77f-48af-adfc-b7a6392b32b3",
   "metadata": {
    "tags": []
   },
   "outputs": [
    {
     "data": {
      "text/html": [
       "<div>\n",
       "<style scoped>\n",
       "    .dataframe tbody tr th:only-of-type {\n",
       "        vertical-align: middle;\n",
       "    }\n",
       "\n",
       "    .dataframe tbody tr th {\n",
       "        vertical-align: top;\n",
       "    }\n",
       "\n",
       "    .dataframe thead th {\n",
       "        text-align: right;\n",
       "    }\n",
       "</style>\n",
       "<table border=\"1\" class=\"dataframe\">\n",
       "  <thead>\n",
       "    <tr style=\"text-align: right;\">\n",
       "      <th></th>\n",
       "      <th>uniqueTE_id</th>\n",
       "      <th>TE.middle.point</th>\n",
       "      <th>Gene.id</th>\n",
       "      <th>Gene.start</th>\n",
       "      <th>Gene.end</th>\n",
       "      <th>Gene.middle.point</th>\n",
       "      <th>Distance</th>\n",
       "    </tr>\n",
       "  </thead>\n",
       "  <tbody>\n",
       "    <tr>\n",
       "      <th>0</th>\n",
       "      <td>ID=162703</td>\n",
       "      <td>59683</td>\n",
       "      <td>ID=TragDub17218</td>\n",
       "      <td>86578</td>\n",
       "      <td>88577</td>\n",
       "      <td>87577</td>\n",
       "      <td>27894</td>\n",
       "    </tr>\n",
       "    <tr>\n",
       "      <th>1</th>\n",
       "      <td>ID=162705</td>\n",
       "      <td>60442</td>\n",
       "      <td>ID=TragDub17218</td>\n",
       "      <td>86578</td>\n",
       "      <td>88577</td>\n",
       "      <td>87577</td>\n",
       "      <td>27135</td>\n",
       "    </tr>\n",
       "    <tr>\n",
       "      <th>2</th>\n",
       "      <td>ID=162708</td>\n",
       "      <td>61120</td>\n",
       "      <td>ID=TragDub17218</td>\n",
       "      <td>86578</td>\n",
       "      <td>88577</td>\n",
       "      <td>87577</td>\n",
       "      <td>26457</td>\n",
       "    </tr>\n",
       "    <tr>\n",
       "      <th>3</th>\n",
       "      <td>ID=162766</td>\n",
       "      <td>116698</td>\n",
       "      <td>ID=TragDub17218</td>\n",
       "      <td>86578</td>\n",
       "      <td>88577</td>\n",
       "      <td>87577</td>\n",
       "      <td>29121</td>\n",
       "    </tr>\n",
       "    <tr>\n",
       "      <th>4</th>\n",
       "      <td>ID=162767</td>\n",
       "      <td>118165</td>\n",
       "      <td>ID=TragDub17218</td>\n",
       "      <td>86578</td>\n",
       "      <td>88577</td>\n",
       "      <td>87577</td>\n",
       "      <td>30588</td>\n",
       "    </tr>\n",
       "  </tbody>\n",
       "</table>\n",
       "</div>"
      ],
      "text/plain": [
       "  uniqueTE_id  TE.middle.point          Gene.id  Gene.start  Gene.end  \\\n",
       "0   ID=162703            59683  ID=TragDub17218       86578     88577   \n",
       "1   ID=162705            60442  ID=TragDub17218       86578     88577   \n",
       "2   ID=162708            61120  ID=TragDub17218       86578     88577   \n",
       "3   ID=162766           116698  ID=TragDub17218       86578     88577   \n",
       "4   ID=162767           118165  ID=TragDub17218       86578     88577   \n",
       "\n",
       "   Gene.middle.point  Distance  \n",
       "0              87577     27894  \n",
       "1              87577     27135  \n",
       "2              87577     26457  \n",
       "3              87577     29121  \n",
       "4              87577     30588  "
      ]
     },
     "execution_count": 5,
     "metadata": {},
     "output_type": "execute_result"
    }
   ],
   "source": [
    "Gypsy_InFile.head()"
   ]
  },
  {
   "cell_type": "code",
   "execution_count": 6,
   "id": "c4a1b92d-4165-457b-aa34-67de6914e2b6",
   "metadata": {
    "tags": []
   },
   "outputs": [],
   "source": [
    "Copia_array = Copia_InFile['Distance'].to_numpy()\n",
    "Gypsy_array = Gypsy_InFile['Distance'].to_numpy()"
   ]
  },
  {
   "cell_type": "markdown",
   "id": "b2ab2ffb-ac31-435b-877e-488fdd54dd52",
   "metadata": {},
   "source": [
    "### The following is comparing the variance between two TE types. They are not too different from each other (the 4:1 rule)."
   ]
  },
  {
   "cell_type": "code",
   "execution_count": 7,
   "id": "5b7695c9-510b-47ee-ba49-25f40d1100cf",
   "metadata": {
    "tags": []
   },
   "outputs": [
    {
     "name": "stdout",
     "output_type": "stream",
     "text": [
      "1250862928.2018456 1857531505.3567488\n"
     ]
    }
   ],
   "source": [
    "print(np.var(Copia_array), np.var(Gypsy_array))"
   ]
  },
  {
   "cell_type": "markdown",
   "id": "e01376ee-68b7-4e27-8875-f15daff91350",
   "metadata": {},
   "source": [
    "### The following is checking the data distribution. Not normally distributed. So I used Wilcoxon rank sum test"
   ]
  },
  {
   "cell_type": "code",
   "execution_count": 8,
   "id": "83f875ee-d6c1-43dd-8efe-fd5313d637f6",
   "metadata": {
    "tags": []
   },
   "outputs": [
    {
     "data": {
      "image/png": "[encoded data removed]",
      "text/plain": [
       "<Figure size 432x288 with 1 Axes>"
      ]
     },
     "metadata": {
      "needs_background": "light"
     },
     "output_type": "display_data"
    }
   ],
   "source": [
    "plt.hist(Copia_array)\n",
    "plt.show() "
   ]
  },
  {
   "cell_type": "code",
   "execution_count": 9,
   "id": "d98c5fc2-ea38-4584-8c14-91bab9b8be4c",
   "metadata": {
    "tags": []
   },
   "outputs": [
    {
     "data": {
      "image/png": "[encoded data removed]",
      "text/plain": [
       "<Figure size 432x288 with 1 Axes>"
      ]
     },
     "metadata": {
      "needs_background": "light"
     },
     "output_type": "display_data"
    }
   ],
   "source": [
    "plt.hist(Gypsy_array)\n",
    "plt.show() "
   ]
  },
  {
   "cell_type": "markdown",
   "id": "e5452760-2e21-4be7-8271-11676e5eb894",
   "metadata": {},
   "source": [
    "### The actual Wilcoxon rank sum test. The null hypothesis is that the median in copias is less than that of gypsies."
   ]
  },
  {
   "cell_type": "code",
   "execution_count": 10,
   "id": "67d490cd-d1a9-4f14-b461-df4c7462c811",
   "metadata": {
    "tags": []
   },
   "outputs": [
    {
     "data": {
      "text/plain": [
       "RanksumsResult(statistic=-62.37202278624924, pvalue=0.0)"
      ]
     },
     "execution_count": 10,
     "metadata": {},
     "output_type": "execute_result"
    }
   ],
   "source": [
    "ranksums(Copia_array, Gypsy_array, alternative = 'less')"
   ]
  },
  {
   "cell_type": "markdown",
   "id": "713aec64-dd76-446a-84a1-b904a4a83a27",
   "metadata": {},
   "source": [
    "### Some other basic statistics below."
   ]
  },
  {
   "cell_type": "code",
   "execution_count": 11,
   "id": "ed2480f2-f935-4a5f-b252-5241840cd5da",
   "metadata": {
    "tags": []
   },
   "outputs": [
    {
     "data": {
      "text/plain": [
       "24586.654226367005"
      ]
     },
     "execution_count": 11,
     "metadata": {},
     "output_type": "execute_result"
    }
   ],
   "source": [
    "np.mean(Copia_array)"
   ]
  },
  {
   "cell_type": "code",
   "execution_count": 12,
   "id": "97604fea-6ffd-4f19-8379-456cd2e8e787",
   "metadata": {
    "tags": []
   },
   "outputs": [
    {
     "data": {
      "text/plain": [
       "11710.5"
      ]
     },
     "execution_count": 12,
     "metadata": {},
     "output_type": "execute_result"
    }
   ],
   "source": [
    "np.median(Copia_array)"
   ]
  },
  {
   "cell_type": "code",
   "execution_count": 13,
   "id": "b1bc7ba5-862f-4707-88a0-5de5fb45986c",
   "metadata": {
    "tags": []
   },
   "outputs": [
    {
     "data": {
      "text/plain": [
       "33121.348787990326"
      ]
     },
     "execution_count": 13,
     "metadata": {},
     "output_type": "execute_result"
    }
   ],
   "source": [
    "np.mean(Gypsy_array)"
   ]
  },
  {
   "cell_type": "code",
   "execution_count": 14,
   "id": "800ca029-8128-4041-ba60-63923aef3640",
   "metadata": {
    "tags": []
   },
   "outputs": [
    {
     "data": {
      "text/plain": [
       "17139.0"
      ]
     },
     "execution_count": 14,
     "metadata": {},
     "output_type": "execute_result"
    }
   ],
   "source": [
    "np.median(Gypsy_array)"
   ]
  }
 ],
 "metadata": {
  "kernelspec": {
   "display_name": "PyTorch-1.10",
   "language": "python",
   "name": "pytorch-1.10"
  },
  "language_info": {
   "codemirror_mode": {
    "name": "ipython",
    "version": 3
   },
   "file_extension": ".py",
   "mimetype": "text/x-python",
   "name": "python",
   "nbconvert_exporter": "python",
   "pygments_lexer": "ipython3",
   "version": "3.9.7"
  }
 },
 "nbformat": 4,
 "nbformat_minor": 5
}
