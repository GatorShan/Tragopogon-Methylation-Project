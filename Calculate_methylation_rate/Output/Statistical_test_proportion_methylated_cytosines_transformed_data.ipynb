{
 "cells": [
  {
   "cell_type": "code",
   "execution_count": 4,
   "id": "77595395-a8c9-4325-88cb-c89be3adf9a5",
   "metadata": {
    "tags": []
   },
   "outputs": [],
   "source": [
    "from scipy.stats import bartlett\n",
    "import pandas as pd\n",
    "import statsmodels.api as sm\n",
    "from statsmodels.formula.api import ols\n",
    "from statsmodels.stats.multicomp import pairwise_tukeyhsd\n",
    "import numpy as np"
   ]
  },
  {
   "cell_type": "markdown",
   "id": "185607ea-2d04-426e-b3fe-588e09caa96b",
   "metadata": {},
   "source": [
    "## The following analysis used the arcsine square root transformed data"
   ]
  },
  {
   "cell_type": "markdown",
   "id": "d8d396f6-a5d3-4afb-9d89-fb09791ec1d3",
   "metadata": {},
   "source": [
    "## CG proportion"
   ]
  },
  {
   "cell_type": "code",
   "execution_count": 5,
   "id": "cb841f7b-e4c6-4954-9310-89cf6531f369",
   "metadata": {
    "tags": []
   },
   "outputs": [],
   "source": [
    "CG_Tdu_proportion = [0.4663, 0.4403]\n",
    "CG_Tpr_proportion = [0.4548, 0.4489]\n",
    "CG_Tms_proportion = [0.4455, 0.4477]\n",
    "\n",
    "Trans_CG_Tdu_proportion = np.arcsin(np.sqrt(CG_Tdu_proportion)).tolist()\n",
    "Trans_CG_Tpr_proportion = np.arcsin(np.sqrt(CG_Tpr_proportion)).tolist()\n",
    "Trans_CG_Tms_proportion = np.arcsin(np.sqrt(CG_Tms_proportion)).tolist()"
   ]
  },
  {
   "cell_type": "markdown",
   "id": "e06aca33-b4af-48f1-84c3-7b2af05012ae",
   "metadata": {},
   "source": [
    "### Variance homo test"
   ]
  },
  {
   "cell_type": "code",
   "execution_count": 6,
   "id": "79408b68-a726-4fb0-8674-f8fbd49bbe48",
   "metadata": {
    "tags": []
   },
   "outputs": [
    {
     "name": "stdout",
     "output_type": "stream",
     "text": [
      "3.307853979524127 0.19129720948399365\n"
     ]
    }
   ],
   "source": [
    "statistic, p_value = bartlett(Trans_CG_Tdu_proportion, Trans_CG_Tpr_proportion, Trans_CG_Tms_proportion)\n",
    "print(statistic, p_value)"
   ]
  },
  {
   "cell_type": "markdown",
   "id": "68e6b6f2-383d-4998-a82c-c1b381b4b138",
   "metadata": {},
   "source": [
    "### ANOVA and post hoc Tukey"
   ]
  },
  {
   "cell_type": "code",
   "execution_count": 7,
   "id": "928c0515-b58e-4c8a-8d7c-b7177efc93ed",
   "metadata": {},
   "outputs": [
    {
     "name": "stdout",
     "output_type": "stream",
     "text": [
      "ANOVA results:\n",
      "            df    sum_sq   mean_sq         F    PR(>F)\n",
      "species   2.0  0.000050  0.000025  0.207859  0.823112\n",
      "Residual  3.0  0.000361  0.000120       NaN       NaN\n",
      "\n",
      "Post hoc test results:\n",
      " Multiple Comparison of Means - Tukey HSD, FWER=0.05\n",
      "===================================================\n",
      "group1 group2 meandiff p-adj   lower  upper  reject\n",
      "---------------------------------------------------\n",
      "   Tdu    Tms  -0.0067 0.8241 -0.0526 0.0391  False\n",
      "   Tdu    Tpr  -0.0014 0.9906 -0.0473 0.0444  False\n",
      "   Tms    Tpr   0.0053 0.8849 -0.0406 0.0511  False\n",
      "---------------------------------------------------\n"
     ]
    }
   ],
   "source": [
    "CG_proportion = pd.DataFrame({'species': ['Tdu', 'Tdu', 'Tpr', 'Tpr', 'Tms', 'Tms'],\n",
    "                          'methylation': Trans_CG_Tdu_proportion + Trans_CG_Tpr_proportion + Trans_CG_Tms_proportion})\n",
    "model = ols('methylation ~ species', data=CG_proportion).fit()\n",
    "anova_table = sm.stats.anova_lm(model)\n",
    "\n",
    "posthoc = pairwise_tukeyhsd(CG_proportion['methylation'], CG_proportion['species'])\n",
    "\n",
    "print(\"ANOVA results:\\n\", anova_table)\n",
    "print(\"\\nPost hoc test results:\\n\", posthoc)"
   ]
  },
  {
   "cell_type": "markdown",
   "id": "aa04c12f-80e9-4d70-b461-9630dbbba50d",
   "metadata": {},
   "source": [
    "## CHG proportion"
   ]
  },
  {
   "cell_type": "code",
   "execution_count": 8,
   "id": "dcc0af08-c0b5-4cb3-a59f-4e55687f3f18",
   "metadata": {
    "tags": []
   },
   "outputs": [],
   "source": [
    "CHG_Tdu_proportion = [0.3220, 0.3029]\n",
    "CHG_Tpr_proportion = [0.3154, 0.3129]\n",
    "CHG_Tms_proportion = [0.3029, 0.3042]\n",
    "\n",
    "Trans_CHG_Tdu_proportion = np.arcsin(np.sqrt(CHG_Tdu_proportion)).tolist()\n",
    "Trans_CHG_Tpr_proportion = np.arcsin(np.sqrt(CHG_Tpr_proportion)).tolist()\n",
    "Trans_CHG_Tms_proportion = np.arcsin(np.sqrt(CHG_Tms_proportion)).tolist()"
   ]
  },
  {
   "cell_type": "markdown",
   "id": "ce281d9c-4140-4890-b93a-eec4f826244c",
   "metadata": {},
   "source": [
    "### Variance homo test"
   ]
  },
  {
   "cell_type": "code",
   "execution_count": 9,
   "id": "53adf565-cfb9-464d-b79e-aed426b60f10",
   "metadata": {
    "tags": []
   },
   "outputs": [
    {
     "name": "stdout",
     "output_type": "stream",
     "text": [
      "4.290639326005211 0.11703062070452404\n"
     ]
    }
   ],
   "source": [
    "statistic, p_value = bartlett(Trans_CHG_Tdu_proportion, Trans_CHG_Tpr_proportion, Trans_CHG_Tms_proportion)\n",
    "print(statistic, p_value)"
   ]
  },
  {
   "cell_type": "markdown",
   "id": "af29072b-f45c-4bc8-9812-69e9d36c9e64",
   "metadata": {},
   "source": [
    "### ANOVA and post hoc Tukey"
   ]
  },
  {
   "cell_type": "code",
   "execution_count": 10,
   "id": "55449028-79a2-4c2c-ac0e-2334e9ded0f5",
   "metadata": {
    "tags": []
   },
   "outputs": [
    {
     "name": "stdout",
     "output_type": "stream",
     "text": [
      "ANOVA results:\n",
      "            df    sum_sq   mean_sq         F    PR(>F)\n",
      "species   2.0  0.000151  0.000076  1.047271  0.451881\n",
      "Residual  3.0  0.000217  0.000072       NaN       NaN\n",
      "\n",
      "Post hoc test results:\n",
      " Multiple Comparison of Means - Tukey HSD, FWER=0.05\n",
      "===================================================\n",
      "group1 group2 meandiff p-adj   lower  upper  reject\n",
      "---------------------------------------------------\n",
      "   Tdu    Tms  -0.0096  0.563 -0.0451 0.0259  False\n",
      "   Tdu    Tpr   0.0019 0.9738 -0.0337 0.0374  False\n",
      "   Tms    Tpr   0.0115 0.4649 -0.0241  0.047  False\n",
      "---------------------------------------------------\n"
     ]
    }
   ],
   "source": [
    "CHG_proportion = pd.DataFrame({'species': ['Tdu', 'Tdu', 'Tpr', 'Tpr', 'Tms', 'Tms'],\n",
    "                          'methylation': Trans_CHG_Tdu_proportion + Trans_CHG_Tpr_proportion + Trans_CHG_Tms_proportion})\n",
    "model = ols('methylation ~ species', data=CHG_proportion).fit()\n",
    "anova_table = sm.stats.anova_lm(model)\n",
    "\n",
    "posthoc = pairwise_tukeyhsd(CHG_proportion['methylation'], CHG_proportion['species'])\n",
    "\n",
    "print(\"ANOVA results:\\n\", anova_table)\n",
    "print(\"\\nPost hoc test results:\\n\", posthoc)"
   ]
  },
  {
   "cell_type": "markdown",
   "id": "b60f0c40-e760-4b04-a844-620444fe5db5",
   "metadata": {},
   "source": [
    "## CHH proportion"
   ]
  },
  {
   "cell_type": "code",
   "execution_count": 13,
   "id": "c214e857-7aa5-41ce-820a-767818c1e9ce",
   "metadata": {
    "tags": []
   },
   "outputs": [],
   "source": [
    "CHH_Tdu_proportion = [0.2116, 0.2568]\n",
    "CHH_Tpr_proportion = [0.2298, 0.2381]\n",
    "CHH_Tms_proportion = [0.2517, 0.2482]\n",
    "\n",
    "Trans_CHH_Tdu_proportion = np.arcsin(np.sqrt(CHH_Tdu_proportion)).tolist()\n",
    "Trans_CHH_Tpr_proportion = np.arcsin(np.sqrt(CHH_Tpr_proportion)).tolist()\n",
    "Trans_CHH_Tms_proportion = np.arcsin(np.sqrt(CHH_Tms_proportion)).tolist()"
   ]
  },
  {
   "cell_type": "markdown",
   "id": "17f67e79-6c6d-4fc1-95a1-11636cfff11f",
   "metadata": {},
   "source": [
    "### Variance homo test"
   ]
  },
  {
   "cell_type": "code",
   "execution_count": 14,
   "id": "1116350d-4b7b-4b15-9a6d-4919339ee5d9",
   "metadata": {
    "tags": []
   },
   "outputs": [
    {
     "name": "stdout",
     "output_type": "stream",
     "text": [
      "3.72052137056524 0.15563205409340222\n"
     ]
    }
   ],
   "source": [
    "statistic, p_value = bartlett(Trans_CHH_Tdu_proportion, Trans_CHH_Tpr_proportion, Trans_CHH_Tms_proportion)\n",
    "print(statistic, p_value)"
   ]
  },
  {
   "cell_type": "markdown",
   "id": "81dd39c5-715a-4664-b0fb-368802cada7f",
   "metadata": {},
   "source": [
    "### ANOVA and post hoc Tukey"
   ]
  },
  {
   "cell_type": "code",
   "execution_count": 15,
   "id": "e46d76b3-702a-44a8-b3a2-d2ca7ca1b137",
   "metadata": {
    "tags": []
   },
   "outputs": [
    {
     "name": "stdout",
     "output_type": "stream",
     "text": [
      "ANOVA results:\n",
      "            df    sum_sq   mean_sq         F    PR(>F)\n",
      "species   2.0  0.000469  0.000235  0.474826  0.661978\n",
      "Residual  3.0  0.001483  0.000494       NaN       NaN\n",
      "\n",
      "Post hoc test results:\n",
      " Multiple Comparison of Means - Tukey HSD, FWER=0.05\n",
      "===================================================\n",
      "group1 group2 meandiff p-adj   lower  upper  reject\n",
      "---------------------------------------------------\n",
      "   Tdu    Tms   0.0188 0.7044 -0.0741 0.1117  False\n",
      "   Tdu    Tpr   0.0001    1.0 -0.0928  0.093  False\n",
      "   Tms    Tpr  -0.0187 0.7076 -0.1116 0.0742  False\n",
      "---------------------------------------------------\n"
     ]
    }
   ],
   "source": [
    "CHH_proportion = pd.DataFrame({'species': ['Tdu', 'Tdu', 'Tpr', 'Tpr', 'Tms', 'Tms'],\n",
    "                          'methylation': Trans_CHH_Tdu_proportion + Trans_CHH_Tpr_proportion + Trans_CHH_Tms_proportion})\n",
    "model = ols('methylation ~ species', data=CHH_proportion).fit()\n",
    "anova_table = sm.stats.anova_lm(model)\n",
    "\n",
    "posthoc = pairwise_tukeyhsd(CHH_proportion['methylation'], CHH_proportion['species'])\n",
    "\n",
    "print(\"ANOVA results:\\n\", anova_table)\n",
    "print(\"\\nPost hoc test results:\\n\", posthoc)"
   ]
  },
  {
   "cell_type": "code",
   "execution_count": null,
   "id": "66cb8693-fd44-432b-a64b-fd8d21c9be39",
   "metadata": {},
   "outputs": [],
   "source": []
  }
 ],
 "metadata": {
  "kernelspec": {
   "display_name": "PyTorch-1.10",
   "language": "python",
   "name": "pytorch-1.10"
  },
  "language_info": {
   "codemirror_mode": {
    "name": "ipython",
    "version": 3
   },
   "file_extension": ".py",
   "mimetype": "text/x-python",
   "name": "python",
   "nbconvert_exporter": "python",
   "pygments_lexer": "ipython3",
   "version": "3.9.7"
  }
 },
 "nbformat": 4,
 "nbformat_minor": 5
}
