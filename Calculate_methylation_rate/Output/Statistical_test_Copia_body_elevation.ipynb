{
 "cells": [
  {
   "cell_type": "code",
   "execution_count": 1,
   "id": "6ce770be-b825-4f2a-b213-6bc50cc096f6",
   "metadata": {
    "tags": []
   },
   "outputs": [],
   "source": [
    "from scipy.stats import bartlett\n",
    "import pandas as pd\n",
    "import statsmodels.api as sm\n",
    "from statsmodels.formula.api import ols\n",
    "from statsmodels.stats.multicomp import pairwise_tukeyhsd\n",
    "import scipy.stats as stats\n",
    "import numpy as np"
   ]
  },
  {
   "cell_type": "markdown",
   "id": "dea68851-9e63-4d46-97fc-04e67bf7902a",
   "metadata": {},
   "source": [
    "## CG_Copia_body_vs_upstream"
   ]
  },
  {
   "cell_type": "code",
   "execution_count": 2,
   "id": "f032b429-72e6-47f9-8a58-754f9fa9cc57",
   "metadata": {
    "tags": []
   },
   "outputs": [
    {
     "name": "stdout",
     "output_type": "stream",
     "text": [
      "T-Statistic: 5.1365515904929495\n",
      "P-Value: 0.017937200534658256\n"
     ]
    }
   ],
   "source": [
    "CG_Tdu_Copia_body = [0.928795993, 0.926723414]\n",
    "CG_Tdu_Copia_upstream = [0.903119136, 0.891431991]\n",
    "\n",
    "t_statistic, p_value = stats.ttest_ind(CG_Tdu_Copia_body, CG_Tdu_Copia_upstream, alternative='greater')\n",
    "print(\"T-Statistic:\", t_statistic)\n",
    "print(\"P-Value:\", p_value)"
   ]
  },
  {
   "cell_type": "code",
   "execution_count": 3,
   "id": "d7e668a8-e1b0-47cd-9c92-9000946b8212",
   "metadata": {
    "tags": []
   },
   "outputs": [
    {
     "name": "stdout",
     "output_type": "stream",
     "text": [
      "T-Statistic: 3.8667950036236483\n",
      "P-Value: 0.030420256589208973\n"
     ]
    }
   ],
   "source": [
    "CG_Tpr_Copia_body = [0.875911121, 0.883135738]\n",
    "CG_Tpr_Copia_upstream = [0.83669493, 0.853086323]\n",
    "\n",
    "t_statistic, p_value = stats.ttest_ind(CG_Tpr_Copia_body, CG_Tpr_Copia_upstream, alternative='greater')\n",
    "print(\"T-Statistic:\", t_statistic)\n",
    "print(\"P-Value:\", p_value)"
   ]
  },
  {
   "cell_type": "code",
   "execution_count": 4,
   "id": "170f84ea-8abe-4117-9330-de1e6d66c64a",
   "metadata": {
    "tags": []
   },
   "outputs": [
    {
     "name": "stdout",
     "output_type": "stream",
     "text": [
      "T-Statistic: 11.679202783177578\n",
      "P-Value: 0.003625764322929162\n"
     ]
    }
   ],
   "source": [
    "CG_Tms_Copia_body = [0.899822095, 0.900261217]\n",
    "CG_Tms_Copia_upstream = [0.868074974, 0.862105898]\n",
    "\n",
    "t_statistic, p_value = stats.ttest_ind(CG_Tms_Copia_body, CG_Tms_Copia_upstream, alternative='greater')\n",
    "print(\"T-Statistic:\", t_statistic)\n",
    "print(\"P-Value:\", p_value)"
   ]
  },
  {
   "cell_type": "markdown",
   "id": "e8b605ba-c42b-42c2-8e91-9d4d2d237b5b",
   "metadata": {},
   "source": [
    "## CG_Copia_body_vs_downstream"
   ]
  },
  {
   "cell_type": "code",
   "execution_count": 5,
   "id": "5c936004-3f1f-4fec-a076-13a65099629a",
   "metadata": {
    "tags": []
   },
   "outputs": [
    {
     "name": "stdout",
     "output_type": "stream",
     "text": [
      "T-Statistic: 4.789065409270102\n",
      "P-Value: 0.02047108214597379\n"
     ]
    }
   ],
   "source": [
    "CG_Tdu_Copia_body = [0.928795993, 0.926723414]\n",
    "CG_Tdu_Copia_down = [0.904247749, 0.892058444]\n",
    "\n",
    "t_statistic, p_value = stats.ttest_ind(CG_Tdu_Copia_body, CG_Tdu_Copia_down, alternative='greater')\n",
    "print(\"T-Statistic:\", t_statistic)\n",
    "print(\"P-Value:\", p_value)"
   ]
  },
  {
   "cell_type": "code",
   "execution_count": 6,
   "id": "674ced93-e4ee-4226-bc38-785b0496f5aa",
   "metadata": {
    "tags": []
   },
   "outputs": [
    {
     "name": "stdout",
     "output_type": "stream",
     "text": [
      "T-Statistic: 3.5897770059172096\n",
      "P-Value: 0.03479841031230476\n"
     ]
    }
   ],
   "source": [
    "CG_Tpr_Copia_body = [0.875911121, 0.883135738]\n",
    "CG_Tpr_Copia_down = [0.837105468, 0.854459954]\n",
    "\n",
    "t_statistic, p_value = stats.ttest_ind(CG_Tpr_Copia_body, CG_Tpr_Copia_down, alternative='greater')\n",
    "print(\"T-Statistic:\", t_statistic)\n",
    "print(\"P-Value:\", p_value)"
   ]
  },
  {
   "cell_type": "code",
   "execution_count": 7,
   "id": "622d3f0d-9e42-4f14-b344-c81504d08b24",
   "metadata": {
    "tags": []
   },
   "outputs": [
    {
     "name": "stdout",
     "output_type": "stream",
     "text": [
      "T-Statistic: 11.173209453139275\n",
      "P-Value: 0.0039576179387595814\n"
     ]
    }
   ],
   "source": [
    "CG_Tms_Copia_body = [0.899822095, 0.900261217]\n",
    "CG_Tms_Copia_down = [0.868804366, 0.862680547]\n",
    "\n",
    "t_statistic, p_value = stats.ttest_ind(CG_Tms_Copia_body, CG_Tms_Copia_down, alternative='greater')\n",
    "print(\"T-Statistic:\", t_statistic)\n",
    "print(\"P-Value:\", p_value)"
   ]
  },
  {
   "cell_type": "markdown",
   "id": "d976ec6e-44cb-4592-988c-9b1f56be840d",
   "metadata": {},
   "source": [
    "## CHG_Copia_body_vs_upstream"
   ]
  },
  {
   "cell_type": "code",
   "execution_count": 8,
   "id": "2358972b-7928-4f15-a749-6fd051677843",
   "metadata": {
    "tags": []
   },
   "outputs": [
    {
     "name": "stdout",
     "output_type": "stream",
     "text": [
      "T-Statistic: 10.628251991310515\n",
      "P-Value: 0.0043684319198721\n"
     ]
    }
   ],
   "source": [
    "CHG_Tdu_Copia_body = [0.821439146, 0.817313519]\n",
    "CHG_Tdu_Copia_upstream = [0.745737733, 0.731069643]\n",
    "t_statistic, p_value = stats.ttest_ind(CHG_Tdu_Copia_body, CHG_Tdu_Copia_upstream, alternative='greater')\n",
    "print(\"T-Statistic:\", t_statistic)\n",
    "print(\"P-Value:\", p_value)"
   ]
  },
  {
   "cell_type": "code",
   "execution_count": 9,
   "id": "f805cf09-f680-4659-b4fc-d157cc81e416",
   "metadata": {
    "tags": []
   },
   "outputs": [
    {
     "name": "stdout",
     "output_type": "stream",
     "text": [
      "T-Statistic: 7.654472846332193\n",
      "P-Value: 0.008321300872034308\n"
     ]
    }
   ],
   "source": [
    "CHG_Tpr_Copia_body = [0.763143268, 0.773038406]\n",
    "CHG_Tpr_Copia_upstream = [0.667292501, 0.688658192]\n",
    "t_statistic, p_value = stats.ttest_ind(CHG_Tpr_Copia_body, CHG_Tpr_Copia_upstream, alternative='greater')\n",
    "print(\"T-Statistic:\", t_statistic)\n",
    "print(\"P-Value:\", p_value)"
   ]
  },
  {
   "cell_type": "code",
   "execution_count": 10,
   "id": "7049aab2-e4fa-42e9-949e-8db50e5b3f73",
   "metadata": {
    "tags": []
   },
   "outputs": [
    {
     "name": "stdout",
     "output_type": "stream",
     "text": [
      "T-Statistic: 23.253813873787706\n",
      "P-Value: 0.0009221019381098825\n"
     ]
    }
   ],
   "source": [
    "CHG_Tms_Copia_body = [0.777663571, 0.776843105]\n",
    "CHG_Tms_Copia_upstream = [0.689851464, 0.682041371]\n",
    "t_statistic, p_value = stats.ttest_ind(CHG_Tms_Copia_body, CHG_Tms_Copia_upstream, alternative='greater')\n",
    "print(\"T-Statistic:\", t_statistic)\n",
    "print(\"P-Value:\", p_value)"
   ]
  },
  {
   "cell_type": "markdown",
   "id": "8eab6009-8e9f-4a9e-a9a4-da3eda23d779",
   "metadata": {},
   "source": [
    "## CHG_Copia_body_vs_downstream"
   ]
  },
  {
   "cell_type": "code",
   "execution_count": 11,
   "id": "ad3f215f-9ebf-4133-aaac-2bdd0d3b9308",
   "metadata": {
    "tags": []
   },
   "outputs": [
    {
     "name": "stdout",
     "output_type": "stream",
     "text": [
      "T-Statistic: 10.767143856614085\n",
      "P-Value: 0.004257882982116008\n"
     ]
    }
   ],
   "source": [
    "CHG_Tdu_Copia_body = [0.821439146, 0.817313519]\n",
    "CHG_Tdu_Copia_down = [0.74766884, 0.733640324]\n",
    "\n",
    "t_statistic, p_value = stats.ttest_ind(CHG_Tdu_Copia_body, CHG_Tdu_Copia_down, alternative='greater')\n",
    "print(\"T-Statistic:\", t_statistic)\n",
    "print(\"P-Value:\", p_value)"
   ]
  },
  {
   "cell_type": "code",
   "execution_count": 12,
   "id": "4a6ea179-8f81-43e6-8194-4297928fb81b",
   "metadata": {
    "tags": []
   },
   "outputs": [
    {
     "name": "stdout",
     "output_type": "stream",
     "text": [
      "T-Statistic: 7.6950559631621\n",
      "P-Value: 0.008235911542315608\n"
     ]
    }
   ],
   "source": [
    "CHG_Tpr_Copia_body = [0.763143268, 0.773038406]\n",
    "CHG_Tpr_Copia_down = [0.667451824, 0.688657798]\n",
    "\n",
    "t_statistic, p_value = stats.ttest_ind(CHG_Tpr_Copia_body, CHG_Tpr_Copia_down, alternative='greater')\n",
    "print(\"T-Statistic:\", t_statistic)\n",
    "print(\"P-Value:\", p_value)"
   ]
  },
  {
   "cell_type": "code",
   "execution_count": 13,
   "id": "97717679-2b2f-4410-8c9a-b73d010b835e",
   "metadata": {
    "tags": []
   },
   "outputs": [
    {
     "name": "stdout",
     "output_type": "stream",
     "text": [
      "T-Statistic: 22.9509156419353\n",
      "P-Value: 0.0009465321856125646\n"
     ]
    }
   ],
   "source": [
    "CHG_Tms_Copia_body = [0.777663571, 0.776843105]\n",
    "CHG_Tms_Copia_down = [0.691833883, 0.684096469]\n",
    "\n",
    "t_statistic, p_value = stats.ttest_ind(CHG_Tms_Copia_body, CHG_Tms_Copia_down, alternative='greater')\n",
    "print(\"T-Statistic:\", t_statistic)\n",
    "print(\"P-Value:\", p_value)"
   ]
  },
  {
   "cell_type": "markdown",
   "id": "67973efb-2d95-432e-a657-a9bd679e021d",
   "metadata": {},
   "source": [
    "## CHH_Copia_body_vs_upstream"
   ]
  },
  {
   "cell_type": "code",
   "execution_count": 14,
   "id": "559eb4bb-5743-4076-862c-3bf3f2f4fd5a",
   "metadata": {
    "tags": []
   },
   "outputs": [
    {
     "name": "stdout",
     "output_type": "stream",
     "text": [
      "T-Statistic: -0.6355701296076762\n",
      "P-Value: 0.7049608069948536\n"
     ]
    }
   ],
   "source": [
    "CHH_Tdu_Copia_body = [0.095655382, 0.117189578]\n",
    "CHH_Tdu_Copia_upstream = [0.106638489, 0.123647298]\n",
    "\n",
    "t_statistic, p_value = stats.ttest_ind(CHH_Tdu_Copia_body, CHH_Tdu_Copia_upstream, alternative='greater')\n",
    "print(\"T-Statistic:\", t_statistic)\n",
    "print(\"P-Value:\", p_value)"
   ]
  },
  {
   "cell_type": "code",
   "execution_count": 15,
   "id": "e9e70530-a60a-46d5-8a1b-ba65dff7ea2f",
   "metadata": {
    "tags": []
   },
   "outputs": [
    {
     "name": "stdout",
     "output_type": "stream",
     "text": [
      "T-Statistic: -0.9293523170228696\n",
      "P-Value: 0.7745914146293122\n"
     ]
    }
   ],
   "source": [
    "CHH_Tpr_Copia_body = [0.094727815, 0.099611501]\n",
    "CHH_Tpr_Copia_upstream = [0.097503003, 0.105718738]\n",
    "t_statistic, p_value = stats.ttest_ind(CHH_Tpr_Copia_body, CHH_Tpr_Copia_upstream, alternative='greater')\n",
    "print(\"T-Statistic:\", t_statistic)\n",
    "print(\"P-Value:\", p_value)"
   ]
  },
  {
   "cell_type": "code",
   "execution_count": 16,
   "id": "75fead43-df5d-49d6-b320-23cb274c183d",
   "metadata": {
    "tags": []
   },
   "outputs": [
    {
     "name": "stdout",
     "output_type": "stream",
     "text": [
      "T-Statistic: -1.6232876019344504\n",
      "P-Value: 0.8769968072448783\n"
     ]
    }
   ],
   "source": [
    "CHH_Tms_Copia_body = [0.107353653, 0.105608699]\n",
    "CHH_Tms_Copia_upstream = [0.112049017, 0.108028287]\n",
    "t_statistic, p_value = stats.ttest_ind(CHH_Tms_Copia_body, CHH_Tms_Copia_upstream, alternative='greater')\n",
    "print(\"T-Statistic:\", t_statistic)\n",
    "print(\"P-Value:\", p_value)"
   ]
  },
  {
   "cell_type": "markdown",
   "id": "5cb3e31a-620d-48b8-8962-cf739967a26f",
   "metadata": {},
   "source": [
    "## CHH_Copia_body_vs_downstream"
   ]
  },
  {
   "cell_type": "code",
   "execution_count": 17,
   "id": "83606499-af57-4ae8-91f4-d4170687936b",
   "metadata": {
    "tags": []
   },
   "outputs": [
    {
     "name": "stdout",
     "output_type": "stream",
     "text": [
      "T-Statistic: -0.7053779090653242\n",
      "P-Value: 0.7231691030423191\n"
     ]
    }
   ],
   "source": [
    "CHH_Tdu_Copia_body = [0.095655382, 0.117189578]\n",
    "CHH_Tdu_Copia_down = [0.107737857, 0.12424714]\n",
    "\n",
    "t_statistic, p_value = stats.ttest_ind(CHH_Tdu_Copia_body, CHH_Tdu_Copia_down, alternative='greater')\n",
    "print(\"T-Statistic:\", t_statistic)\n",
    "print(\"P-Value:\", p_value)"
   ]
  },
  {
   "cell_type": "code",
   "execution_count": 18,
   "id": "b4412786-7e1e-4c98-9994-def1df0b877d",
   "metadata": {
    "tags": []
   },
   "outputs": [
    {
     "name": "stdout",
     "output_type": "stream",
     "text": [
      "T-Statistic: -1.0666525593857628\n",
      "P-Value: 0.8010814336720753\n"
     ]
    }
   ],
   "source": [
    "CHH_Tpr_Copia_body = [0.094727815, 0.099611501]\n",
    "CHH_Tpr_Copia_down = [0.098153554, 0.106506922]\n",
    "t_statistic, p_value = stats.ttest_ind(CHH_Tpr_Copia_body, CHH_Tpr_Copia_down, alternative='greater')\n",
    "print(\"T-Statistic:\", t_statistic)\n",
    "print(\"P-Value:\", p_value)"
   ]
  },
  {
   "cell_type": "code",
   "execution_count": 19,
   "id": "b7eda0a5-9914-41b2-bad8-58a45a089be1",
   "metadata": {
    "tags": []
   },
   "outputs": [
    {
     "name": "stdout",
     "output_type": "stream",
     "text": [
      "T-Statistic: -1.9690348290091566\n",
      "P-Value: 0.9061083605265785\n"
     ]
    }
   ],
   "source": [
    "CHH_Tms_Copia_body = [0.107353653, 0.105608699]\n",
    "CHH_Tms_Copia_down = [0.112863317, 0.108802279]\n",
    "t_statistic, p_value = stats.ttest_ind(CHH_Tms_Copia_body, CHH_Tms_Copia_down, alternative='greater')\n",
    "print(\"T-Statistic:\", t_statistic)\n",
    "print(\"P-Value:\", p_value)"
   ]
  },
  {
   "cell_type": "code",
   "execution_count": null,
   "id": "9e59a514-3621-4b25-b9b3-aa358874fb03",
   "metadata": {},
   "outputs": [],
   "source": []
  }
 ],
 "metadata": {
  "kernelspec": {
   "display_name": "PyTorch-1.10",
   "language": "python",
   "name": "pytorch-1.10"
  },
  "language_info": {
   "codemirror_mode": {
    "name": "ipython",
    "version": 3
   },
   "file_extension": ".py",
   "mimetype": "text/x-python",
   "name": "python",
   "nbconvert_exporter": "python",
   "pygments_lexer": "ipython3",
   "version": "3.9.7"
  }
 },
 "nbformat": 4,
 "nbformat_minor": 5
}
