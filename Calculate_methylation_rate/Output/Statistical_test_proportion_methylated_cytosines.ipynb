{
 "cells": [
  {
   "cell_type": "code",
   "execution_count": 1,
   "id": "77595395-a8c9-4325-88cb-c89be3adf9a5",
   "metadata": {
    "tags": []
   },
   "outputs": [],
   "source": [
    "from scipy.stats import bartlett\n",
    "import pandas as pd\n",
    "import statsmodels.api as sm\n",
    "from statsmodels.formula.api import ols\n",
    "from statsmodels.stats.multicomp import pairwise_tukeyhsd"
   ]
  },
  {
   "cell_type": "markdown",
   "id": "d8d396f6-a5d3-4afb-9d89-fb09791ec1d3",
   "metadata": {},
   "source": [
    "## CG proportion"
   ]
  },
  {
   "cell_type": "markdown",
   "id": "e06aca33-b4af-48f1-84c3-7b2af05012ae",
   "metadata": {},
   "source": [
    "### Variance homo test"
   ]
  },
  {
   "cell_type": "code",
   "execution_count": 2,
   "id": "79408b68-a726-4fb0-8674-f8fbd49bbe48",
   "metadata": {
    "tags": []
   },
   "outputs": [
    {
     "name": "stdout",
     "output_type": "stream",
     "text": [
      "3.3097322058172067 0.19111764408897944\n"
     ]
    }
   ],
   "source": [
    "CG_Tdu_proportion = [0.4663, 0.4403]\n",
    "CG_Tpr_proportion = [0.4548, 0.4489]\n",
    "CG_Tms_proportion = [0.4455, 0.4477]\n",
    "statistic, p_value = bartlett(CG_Tdu_proportion, CG_Tpr_proportion, CG_Tms_proportion)\n",
    "print(statistic, p_value)"
   ]
  },
  {
   "cell_type": "markdown",
   "id": "68e6b6f2-383d-4998-a82c-c1b381b4b138",
   "metadata": {},
   "source": [
    "### ANOVA and post hoc Tukey"
   ]
  },
  {
   "cell_type": "code",
   "execution_count": 3,
   "id": "928c0515-b58e-4c8a-8d7c-b7177efc93ed",
   "metadata": {},
   "outputs": [
    {
     "name": "stdout",
     "output_type": "stream",
     "text": [
      "ANOVA results:\n",
      "            df    sum_sq   mean_sq         F    PR(>F)\n",
      "species   2.0  0.000050  0.000025  0.208356  0.822753\n",
      "Residual  3.0  0.000358  0.000119       NaN       NaN\n",
      "\n",
      "Post hoc test results:\n",
      " Multiple Comparison of Means - Tukey HSD, FWER=0.05\n",
      "===================================================\n",
      "group1 group2 meandiff p-adj   lower  upper  reject\n",
      "---------------------------------------------------\n",
      "   Tdu    Tms  -0.0067 0.8235 -0.0523 0.0389  False\n",
      "   Tdu    Tpr  -0.0015 0.9904 -0.0471 0.0442  False\n",
      "   Tms    Tpr   0.0052  0.885 -0.0404 0.0509  False\n",
      "---------------------------------------------------\n"
     ]
    }
   ],
   "source": [
    "CG_proportion = pd.DataFrame({'species': ['Tdu', 'Tdu', 'Tpr', 'Tpr', 'Tms', 'Tms'],\n",
    "                          'methylation': [0.4663, 0.4403, 0.4548, 0.4489, 0.4455, 0.4477]})\n",
    "model = ols('methylation ~ species', data=CG_proportion).fit()\n",
    "anova_table = sm.stats.anova_lm(model)\n",
    "\n",
    "posthoc = pairwise_tukeyhsd(CG_proportion['methylation'], CG_proportion['species'])\n",
    "\n",
    "print(\"ANOVA results:\\n\", anova_table)\n",
    "print(\"\\nPost hoc test results:\\n\", posthoc)"
   ]
  },
  {
   "cell_type": "markdown",
   "id": "aa04c12f-80e9-4d70-b461-9630dbbba50d",
   "metadata": {},
   "source": [
    "## CHG proportion"
   ]
  },
  {
   "cell_type": "markdown",
   "id": "ce281d9c-4140-4890-b93a-eec4f826244c",
   "metadata": {},
   "source": [
    "### Variance homo test"
   ]
  },
  {
   "cell_type": "code",
   "execution_count": 4,
   "id": "53adf565-cfb9-464d-b79e-aed426b60f10",
   "metadata": {
    "tags": []
   },
   "outputs": [
    {
     "name": "stdout",
     "output_type": "stream",
     "text": [
      "4.299369460713496 0.11652088748193955\n"
     ]
    }
   ],
   "source": [
    "CHG_Tdu_proportion = [0.3220, 0.3029]\n",
    "CHG_Tpr_proportion = [0.3154, 0.3129]\n",
    "CHG_Tms_proportion = [0.3029, 0.3042]\n",
    "statistic, p_value = bartlett(CHG_Tdu_proportion, CHG_Tpr_proportion, CHG_Tms_proportion)\n",
    "print(statistic, p_value)"
   ]
  },
  {
   "cell_type": "markdown",
   "id": "af29072b-f45c-4bc8-9812-69e9d36c9e64",
   "metadata": {},
   "source": [
    "### ANOVA and post hoc Tukey"
   ]
  },
  {
   "cell_type": "code",
   "execution_count": 5,
   "id": "55449028-79a2-4c2c-ac0e-2334e9ded0f5",
   "metadata": {
    "tags": []
   },
   "outputs": [
    {
     "name": "stdout",
     "output_type": "stream",
     "text": [
      "ANOVA results:\n",
      "            df    sum_sq   mean_sq        F    PR(>F)\n",
      "species   2.0  0.000130  0.000065  1.04338  0.452918\n",
      "Residual  3.0  0.000186  0.000062      NaN       NaN\n",
      "\n",
      "Post hoc test results:\n",
      " Multiple Comparison of Means - Tukey HSD, FWER=0.05\n",
      "===================================================\n",
      "group1 group2 meandiff p-adj   lower  upper  reject\n",
      "---------------------------------------------------\n",
      "   Tdu    Tms  -0.0089 0.5627 -0.0418  0.024  False\n",
      "   Tdu    Tpr   0.0017 0.9749 -0.0312 0.0346  False\n",
      "   Tms    Tpr   0.0106 0.4666 -0.0223 0.0435  False\n",
      "---------------------------------------------------\n"
     ]
    }
   ],
   "source": [
    "CHG_proportion = pd.DataFrame({'species': ['Tdu', 'Tdu', 'Tpr', 'Tpr', 'Tms', 'Tms'],\n",
    "                          'methylation': [0.3220, 0.3029, 0.3154, 0.3129, 0.3029, 0.3042]})\n",
    "model = ols('methylation ~ species', data=CHG_proportion).fit()\n",
    "anova_table = sm.stats.anova_lm(model)\n",
    "\n",
    "posthoc = pairwise_tukeyhsd(CHG_proportion['methylation'], CHG_proportion['species'])\n",
    "\n",
    "print(\"ANOVA results:\\n\", anova_table)\n",
    "print(\"\\nPost hoc test results:\\n\", posthoc)"
   ]
  },
  {
   "cell_type": "markdown",
   "id": "b60f0c40-e760-4b04-a844-620444fe5db5",
   "metadata": {},
   "source": [
    "## CHH proportion"
   ]
  },
  {
   "cell_type": "markdown",
   "id": "17f67e79-6c6d-4fc1-95a1-11636cfff11f",
   "metadata": {},
   "source": [
    "### Variance homo test"
   ]
  },
  {
   "cell_type": "code",
   "execution_count": 6,
   "id": "1116350d-4b7b-4b15-9a6d-4919339ee5d9",
   "metadata": {
    "tags": []
   },
   "outputs": [
    {
     "name": "stdout",
     "output_type": "stream",
     "text": [
      "3.6881691004557258 0.15817005137028328\n"
     ]
    }
   ],
   "source": [
    "CHH_Tdu_proportion = [0.2116, 0.2568]\n",
    "CHH_Tpr_proportion = [0.2298, 0.2381]\n",
    "CHH_Tms_proportion = [0.2517, 0.2482]\n",
    "statistic, p_value = bartlett(CHH_Tdu_proportion, CHH_Tpr_proportion, CHH_Tms_proportion)\n",
    "print(statistic, p_value)"
   ]
  },
  {
   "cell_type": "markdown",
   "id": "81dd39c5-715a-4664-b0fb-368802cada7f",
   "metadata": {},
   "source": [
    "### ANOVA and post hoc Tukey"
   ]
  },
  {
   "cell_type": "code",
   "execution_count": 7,
   "id": "e46d76b3-702a-44a8-b3a2-d2ca7ca1b137",
   "metadata": {
    "tags": []
   },
   "outputs": [
    {
     "name": "stdout",
     "output_type": "stream",
     "text": [
      "ANOVA results:\n",
      "            df    sum_sq   mean_sq         F    PR(>F)\n",
      "species   2.0  0.000336  0.000168  0.474654  0.662065\n",
      "Residual  3.0  0.001062  0.000354       NaN       NaN\n",
      "\n",
      "Post hoc test results:\n",
      " Multiple Comparison of Means - Tukey HSD, FWER=0.05\n",
      "===================================================\n",
      "group1 group2 meandiff p-adj   lower  upper  reject\n",
      "---------------------------------------------------\n",
      "   Tdu    Tms   0.0158 0.7095 -0.0629 0.0944  False\n",
      "   Tdu    Tpr  -0.0003 0.9999 -0.0789 0.0784  False\n",
      "   Tms    Tpr   -0.016 0.7026 -0.0946 0.0626  False\n",
      "---------------------------------------------------\n"
     ]
    }
   ],
   "source": [
    "CHH_proportion = pd.DataFrame({'species': ['Tdu', 'Tdu', 'Tpr', 'Tpr', 'Tms', 'Tms'],\n",
    "                          'methylation': [0.2116, 0.2568, 0.2298, 0.2381, 0.2517, 0.2482]})\n",
    "model = ols('methylation ~ species', data=CHH_proportion).fit()\n",
    "anova_table = sm.stats.anova_lm(model)\n",
    "\n",
    "posthoc = pairwise_tukeyhsd(CHH_proportion['methylation'], CHH_proportion['species'])\n",
    "\n",
    "print(\"ANOVA results:\\n\", anova_table)\n",
    "print(\"\\nPost hoc test results:\\n\", posthoc)"
   ]
  }
 ],
 "metadata": {
  "kernelspec": {
   "display_name": "PyTorch-1.10",
   "language": "python",
   "name": "pytorch-1.10"
  },
  "language_info": {
   "codemirror_mode": {
    "name": "ipython",
    "version": 3
   },
   "file_extension": ".py",
   "mimetype": "text/x-python",
   "name": "python",
   "nbconvert_exporter": "python",
   "pygments_lexer": "ipython3",
   "version": "3.9.7"
  }
 },
 "nbformat": 4,
 "nbformat_minor": 5
}
