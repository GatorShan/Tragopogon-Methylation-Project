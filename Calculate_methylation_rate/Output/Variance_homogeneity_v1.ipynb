{
 "cells": [
  {
   "cell_type": "code",
   "execution_count": 4,
   "id": "77595395-a8c9-4325-88cb-c89be3adf9a5",
   "metadata": {
    "tags": []
   },
   "outputs": [],
   "source": [
    "from scipy.stats import bartlett"
   ]
  },
  {
   "cell_type": "markdown",
   "id": "e06aca33-b4af-48f1-84c3-7b2af05012ae",
   "metadata": {},
   "source": [
    "### CHH context - gene"
   ]
  },
  {
   "cell_type": "code",
   "execution_count": 5,
   "id": "79408b68-a726-4fb0-8674-f8fbd49bbe48",
   "metadata": {
    "tags": []
   },
   "outputs": [
    {
     "name": "stdout",
     "output_type": "stream",
     "text": [
      "0.38854703138630436 0.8234326517124293\n"
     ]
    }
   ],
   "source": [
    "Tdu_gene_CHH_upstream = [0.178035671, 0.187641771]\n",
    "Tpr_gene_CHH_upstream = [0.125319166, 0.145308954]\n",
    "Tms_gene_CHH_upstream = [0.158212283, 0.145746969]\n",
    "statistic, p_value = bartlett(Tdu_gene_CHH_upstream, Tpr_gene_CHH_upstream, Tms_gene_CHH_upstream)\n",
    "print(statistic, p_value)"
   ]
  },
  {
   "cell_type": "code",
   "execution_count": 6,
   "id": "007fce43-01f8-49c1-97fb-6a00b3bc71be",
   "metadata": {},
   "outputs": [
    {
     "name": "stdout",
     "output_type": "stream",
     "text": [
      "0.4583774037838845 0.7951784676654051\n"
     ]
    }
   ],
   "source": [
    "Tdu_gene_CHH_body = [0.039414411, 0.045923972]\n",
    "Tpr_gene_CHH_body = [0.03630393, 0.042531319]\n",
    "Tms_gene_CHH_body = [0.042083058, 0.039196993]\n",
    "statistic, p_value = bartlett(Tdu_gene_CHH_body, Tpr_gene_CHH_body, Tms_gene_CHH_body)\n",
    "print(statistic, p_value)"
   ]
  },
  {
   "cell_type": "code",
   "execution_count": 7,
   "id": "4e22b845-95e7-4c81-831a-29aa4d412268",
   "metadata": {
    "tags": []
   },
   "outputs": [
    {
     "name": "stdout",
     "output_type": "stream",
     "text": [
      "0.3684928406288961 0.8317308232010245\n"
     ]
    }
   ],
   "source": [
    "Tdu_gene_CHH_downstream = [0.138612438, 0.145704222]\n",
    "Tpr_gene_CHH_downstream = [0.106119, 0.12077379]\n",
    "Tms_gene_CHH_downstream = [0.128232183, 0.118715246]\n",
    "statistic, p_value = bartlett(Tdu_gene_CHH_downstream, Tpr_gene_CHH_downstream, Tms_gene_CHH_downstream)\n",
    "print(statistic, p_value)"
   ]
  },
  {
   "cell_type": "markdown",
   "id": "15fc94c2-16fc-4962-b6cf-2bedcf8b8be2",
   "metadata": {},
   "source": [
    "### CHH context - TE"
   ]
  },
  {
   "cell_type": "code",
   "execution_count": 8,
   "id": "32ce1d5a-f1be-4696-8983-ceab6b599aa3",
   "metadata": {
    "tags": []
   },
   "outputs": [
    {
     "name": "stdout",
     "output_type": "stream",
     "text": [
      "0.46991964966687544 0.7906026115823153\n"
     ]
    }
   ],
   "source": [
    "Tdu_TE_CHH_upstream = [0.121304255, 0.137081406]\n",
    "Tpr_TE_CHH_upstream = [0.106623638, 0.118309106]\n",
    "Tms_TE_CHH_upstream = [0.123175928, 0.116566403]\n",
    "statistic, p_value = bartlett(Tdu_TE_CHH_upstream, Tpr_TE_CHH_upstream, Tms_TE_CHH_upstream)\n",
    "print(statistic, p_value)"
   ]
  },
  {
   "cell_type": "code",
   "execution_count": 9,
   "id": "2c173cb5-eca6-4150-992f-e8315d2d8813",
   "metadata": {
    "tags": []
   },
   "outputs": [
    {
     "name": "stdout",
     "output_type": "stream",
     "text": [
      "1.4674115941957204 0.48012643808129596\n"
     ]
    }
   ],
   "source": [
    "Tdu_TE_CHH_body = [0.126877963, 0.149382106]\n",
    "Tpr_TE_CHH_body = [0.117701931, 0.127294359]\n",
    "Tms_TE_CHH_body = [0.134058144, 0.129273358]\n",
    "statistic, p_value = bartlett(Tdu_TE_CHH_body, Tpr_TE_CHH_body, Tms_TE_CHH_body)\n",
    "print(statistic, p_value)"
   ]
  },
  {
   "cell_type": "code",
   "execution_count": 10,
   "id": "c7799199-c2cb-459f-959f-32bfde9cbed7",
   "metadata": {
    "tags": []
   },
   "outputs": [
    {
     "name": "stdout",
     "output_type": "stream",
     "text": [
      "0.3322460497153574 0.8469420328567997\n"
     ]
    }
   ],
   "source": [
    "Tdu_TE_CHH_downstream = [0.12227936, 0.136559458]\n",
    "Tpr_TE_CHH_downstream = [0.105659396, 0.117502632]\n",
    "Tms_TE_CHH_downstream = [0.12299781, 0.116031113]\n",
    "statistic, p_value = bartlett(Tdu_TE_CHH_downstream, Tpr_TE_CHH_downstream, Tms_TE_CHH_downstream)\n",
    "print(statistic, p_value)"
   ]
  },
  {
   "cell_type": "markdown",
   "id": "d7dd8da9-50aa-4c43-a414-e72366cfee76",
   "metadata": {},
   "source": [
    "### CHG context - gene"
   ]
  },
  {
   "cell_type": "code",
   "execution_count": 11,
   "id": "de6675b2-89db-458f-97ec-f287b5d53374",
   "metadata": {
    "tags": []
   },
   "outputs": [
    {
     "name": "stdout",
     "output_type": "stream",
     "text": [
      "0.4516560304939107 0.7978553088148191\n"
     ]
    }
   ],
   "source": [
    "Tdu_gene_CHG_upstream = [0.697022076, 0.667568198]\n",
    "Tpr_gene_CHG_upstream = [0.572108976, 0.609770358]\n",
    "Tms_gene_CHG_upstream = [0.615360467, 0.599295049]\n",
    "statistic, p_value = bartlett(Tdu_gene_CHG_upstream, Tpr_gene_CHG_upstream, Tms_gene_CHG_upstream)\n",
    "print(statistic, p_value)"
   ]
  },
  {
   "cell_type": "code",
   "execution_count": 12,
   "id": "490304b1-d805-4877-838f-3fc1543f27e4",
   "metadata": {
    "tags": []
   },
   "outputs": [
    {
     "name": "stdout",
     "output_type": "stream",
     "text": [
      "0.4105537515795446 0.8144217915149299\n"
     ]
    }
   ],
   "source": [
    "Tdu_gene_CHG_body = [0.297689801, 0.254133874]\n",
    "Tpr_gene_CHG_body = [0.209229495, 0.246671347]\n",
    "Tms_gene_CHG_body = [0.234339632, 0.214725357]\n",
    "statistic, p_value = bartlett(Tdu_gene_CHG_body, Tpr_gene_CHG_body, Tms_gene_CHG_body)\n",
    "print(statistic, p_value)"
   ]
  },
  {
   "cell_type": "code",
   "execution_count": 13,
   "id": "d5bfdd9c-7028-493b-bfac-41ef95acbd5f",
   "metadata": {
    "tags": []
   },
   "outputs": [
    {
     "name": "stdout",
     "output_type": "stream",
     "text": [
      "0.33782448975459406 0.8445830166203352\n"
     ]
    }
   ],
   "source": [
    "Tdu_gene_CHG_downstream = [0.664935977, 0.633694114]\n",
    "Tpr_gene_CHG_downstream = [0.5594882, 0.591807914]\n",
    "Tms_gene_CHG_downstream = [0.593102803, 0.576764276]\n",
    "statistic, p_value = bartlett(Tdu_gene_CHG_downstream, Tpr_gene_CHG_downstream, Tms_gene_CHG_downstream)\n",
    "print(statistic, p_value)"
   ]
  },
  {
   "cell_type": "markdown",
   "id": "73772259-aab9-44e5-8df1-7760c1bc1e35",
   "metadata": {},
   "source": [
    "### CHG context - TE"
   ]
  },
  {
   "cell_type": "code",
   "execution_count": 14,
   "id": "9f45e224-352a-47d7-813d-075ed1a13d83",
   "metadata": {
    "tags": []
   },
   "outputs": [
    {
     "name": "stdout",
     "output_type": "stream",
     "text": [
      "0.5580359669940532 0.7565262981042815\n"
     ]
    }
   ],
   "source": [
    "Tdu_TE_CHG_upstream = [0.722581195, 0.706769916]\n",
    "Tpr_TE_CHG_upstream = [0.629746481, 0.660759507]\n",
    "Tms_TE_CHG_upstream = [0.664017772, 0.650264175]\n",
    "statistic, p_value = bartlett(Tdu_TE_CHG_upstream, Tpr_TE_CHG_upstream, Tms_TE_CHG_upstream)\n",
    "print(statistic, p_value)"
   ]
  },
  {
   "cell_type": "code",
   "execution_count": 17,
   "id": "27b6be8f-5e58-4115-b36c-9106c604a398",
   "metadata": {
    "tags": []
   },
   "outputs": [
    {
     "name": "stdout",
     "output_type": "stream",
     "text": [
      "6.730846230618858 0.03454739549318308\n"
     ]
    }
   ],
   "source": [
    "Tdu_TE_CHG_body = [0.761610711, 0.764065083]\n",
    "Tpr_TE_CHG_body = [0.699673073, 0.712329704]\n",
    "Tms_TE_CHG_body = [0.7189503, 0.718847516]\n",
    "statistic, p_value = bartlett(Tdu_TE_CHG_body, Tpr_TE_CHG_body, Tms_TE_CHG_body)\n",
    "print(statistic, p_value)"
   ]
  },
  {
   "cell_type": "code",
   "execution_count": 18,
   "id": "c0cb88c4-ee84-4500-8a4f-0dd691b6c5ea",
   "metadata": {
    "tags": []
   },
   "outputs": [
    {
     "name": "stdout",
     "output_type": "stream",
     "text": [
      "0.43721576732124684 0.8036367754906186\n"
     ]
    }
   ],
   "source": [
    "Tdu_TE_CHG_downstream = [0.713915019, 0.694932983]\n",
    "Tpr_TE_CHG_downstream = [0.611210027, 0.644194092]\n",
    "Tms_TE_CHG_downstream = [0.651408688, 0.635817067]\n",
    "statistic, p_value = bartlett(Tdu_TE_CHG_downstream, Tpr_TE_CHG_downstream, Tms_TE_CHG_downstream)\n",
    "print(statistic, p_value)"
   ]
  },
  {
   "cell_type": "markdown",
   "id": "6e611cb6-03ed-41b5-adc4-574c59884ca4",
   "metadata": {},
   "source": [
    "### CG context - gene"
   ]
  },
  {
   "cell_type": "code",
   "execution_count": 19,
   "id": "98f6096f-912f-4877-a0a4-4dd5d78e011b",
   "metadata": {
    "tags": []
   },
   "outputs": [
    {
     "name": "stdout",
     "output_type": "stream",
     "text": [
      "0.4438299568812995 0.8009834623026992\n"
     ]
    }
   ],
   "source": [
    "Tdu_gene_CG_upstream = [0.837290993, 0.807038493]\n",
    "Tpr_gene_CG_upstream = [0.728584424, 0.767677256]\n",
    "Tms_gene_CG_upstream = [0.773947273, 0.75713841]\n",
    "statistic, p_value = bartlett(Tdu_gene_CG_upstream, Tpr_gene_CG_upstream, Tms_gene_CG_upstream)\n",
    "print(statistic, p_value)"
   ]
  },
  {
   "cell_type": "code",
   "execution_count": 20,
   "id": "a341cae1-1b7b-46d2-9500-8af8a43dc17b",
   "metadata": {
    "tags": []
   },
   "outputs": [
    {
     "name": "stdout",
     "output_type": "stream",
     "text": [
      "0.36003853960084453 0.835254116076077\n"
     ]
    }
   ],
   "source": [
    "Tdu_gene_CG_body = [0.705694195, 0.660255375]\n",
    "Tpr_gene_CG_body = [0.564510754, 0.618834705]\n",
    "Tms_gene_CG_body = [0.630203556, 0.604491524]\n",
    "statistic, p_value = bartlett(Tdu_gene_CG_body, Tpr_gene_CG_body, Tms_gene_CG_body)\n",
    "print(statistic, p_value)"
   ]
  },
  {
   "cell_type": "code",
   "execution_count": 21,
   "id": "5ed701d6-df41-498b-9097-faa9d0c6cc75",
   "metadata": {
    "tags": []
   },
   "outputs": [
    {
     "name": "stdout",
     "output_type": "stream",
     "text": [
      "0.19170308306046627 0.9085988952581012\n"
     ]
    }
   ],
   "source": [
    "Tdu_gene_CG_downstream = [0.85059487, 0.819337174]\n",
    "Tpr_gene_CG_downstream = [0.759557397, 0.789068091]\n",
    "Tms_gene_CG_downstream = [0.80150015, 0.782772218]\n",
    "statistic, p_value = bartlett(Tdu_gene_CG_downstream, Tpr_gene_CG_downstream, Tms_gene_CG_downstream)\n",
    "print(statistic, p_value)"
   ]
  },
  {
   "cell_type": "markdown",
   "id": "d712631d-4b59-400b-82ed-0af622a5bda8",
   "metadata": {},
   "source": [
    "### CG context - TE"
   ]
  },
  {
   "cell_type": "code",
   "execution_count": 22,
   "id": "5a50805f-754e-44ca-93f8-22dd369122fa",
   "metadata": {
    "tags": []
   },
   "outputs": [
    {
     "name": "stdout",
     "output_type": "stream",
     "text": [
      "0.32151617228982016 0.8514980353656796\n"
     ]
    }
   ],
   "source": [
    "Tdu_TE_CG_upstream = [0.877573484, 0.852189497]\n",
    "Tpr_TE_CG_upstream = [0.789767905, 0.820775231]\n",
    "Tms_TE_CG_upstream = [0.831605787, 0.816308928]\n",
    "statistic, p_value = bartlett(Tdu_TE_CG_upstream, Tpr_TE_CG_upstream, Tms_TE_CG_upstream)\n",
    "print(statistic, p_value)"
   ]
  },
  {
   "cell_type": "code",
   "execution_count": 23,
   "id": "3f43db8c-d069-4593-853e-17bb99b27d7b",
   "metadata": {
    "tags": []
   },
   "outputs": [
    {
     "name": "stdout",
     "output_type": "stream",
     "text": [
      "3.5315204546326253 0.17105669506945254\n"
     ]
    }
   ],
   "source": [
    "Tdu_TE_CG_body = [0.938282705, 0.935396559]\n",
    "Tpr_TE_CG_body = [0.892349412, 0.900955696]\n",
    "Tms_TE_CG_body = [0.916044855, 0.915590914]\n",
    "statistic, p_value = bartlett(Tdu_TE_CG_body, Tpr_TE_CG_body, Tms_TE_CG_body)\n",
    "print(statistic, p_value)"
   ]
  },
  {
   "cell_type": "code",
   "execution_count": 24,
   "id": "3d733da7-6a9e-4cf8-ba37-79f36795a76b",
   "metadata": {
    "tags": []
   },
   "outputs": [
    {
     "name": "stdout",
     "output_type": "stream",
     "text": [
      "0.2943819672136544 0.8631291181619689\n"
     ]
    }
   ],
   "source": [
    "Tdu_TE_CG_downstream = [0.875958325, 0.849714895]\n",
    "Tpr_TE_CG_downstream = [0.783378626, 0.814137078]\n",
    "Tms_TE_CG_downstream = [0.828061725, 0.812314999]\n",
    "statistic, p_value = bartlett(Tdu_TE_CG_downstream, Tpr_TE_CG_downstream, Tms_TE_CG_downstream)\n",
    "print(statistic, p_value)"
   ]
  },
  {
   "cell_type": "code",
   "execution_count": null,
   "id": "928c0515-b58e-4c8a-8d7c-b7177efc93ed",
   "metadata": {},
   "outputs": [],
   "source": []
  }
 ],
 "metadata": {
  "kernelspec": {
   "display_name": "PyTorch-1.10",
   "language": "python",
   "name": "pytorch-1.10"
  },
  "language_info": {
   "codemirror_mode": {
    "name": "ipython",
    "version": 3
   },
   "file_extension": ".py",
   "mimetype": "text/x-python",
   "name": "python",
   "nbconvert_exporter": "python",
   "pygments_lexer": "ipython3",
   "version": "3.9.7"
  }
 },
 "nbformat": 4,
 "nbformat_minor": 5
}
