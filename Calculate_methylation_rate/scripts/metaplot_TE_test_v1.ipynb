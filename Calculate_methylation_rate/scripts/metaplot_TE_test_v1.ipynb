{
 "cells": [
  {
   "cell_type": "markdown",
   "id": "97ab880b-17b5-4dd3-abad-bc2c1ba294c7",
   "metadata": {},
   "source": [
    "## Below is the output of the metaplot"
   ]
  },
  {
   "cell_type": "code",
   "execution_count": 1,
   "id": "3dd64edb-7e92-4361-abd2-9ec7692e95bc",
   "metadata": {},
   "outputs": [
    {
     "ename": "SyntaxError",
     "evalue": "invalid syntax. Perhaps you forgot a comma? (1450280656.py, line 1)",
     "output_type": "error",
     "traceback": [
      "\u001b[0;36m  Input \u001b[0;32mIn [1]\u001b[0;36m\u001b[0m\n\u001b[0;31m    [shan158538@login1 DES1_test1]$ cat DES1_CHG_TE_test1_gbm_metaplot.tsv\u001b[0m\n\u001b[0m     ^\u001b[0m\n\u001b[0;31mSyntaxError\u001b[0m\u001b[0;31m:\u001b[0m invalid syntax. Perhaps you forgot a comma?\n"
     ]
    }
   ],
   "source": [
    "[shan158538@login1 DES1_test1]$ cat DES1_CHG_TE_test1_gbm_metaplot.tsv\n",
    "#from_script: gbm_metaplot_pe.py; numBins: 20; numBinsStream: 20; streamSize: 1000; methTypes: CHG\n",
    "sample\tbin\tmethType\tmCount\ttCount\tvalue\n",
    "DES1\t0\tCHG\t0\t3\t0.000000\n",
    "DES1\t1\tCHG\t0\t9\t0.000000\n",
    "DES1\t2\tCHG\t0\t18\t0.000000\n",
    "DES1\t3\tCHG\t0\t13\t0.000000\n",
    "DES1\t4\tCHG\t0\t14\t0.000000\n",
    "DES1\t5\tCHG\t0\t7\t0.000000\n",
    "DES1\t6\tCHG\t0\t21\t0.000000\n",
    "DES1\t7\tCHG\t0\t18\t0.000000\n",
    "DES1\t8\tCHG\t13\t20\t0.650000\n",
    "DES1\t9\tCHG\t8\t25\t0.320000\n",
    "DES1\t10\tCHG\t31\t54\t0.574074\n",
    "DES1\t11\tCHG\t0\t22\t0.000000\n",
    "DES1\t12\tCHG\t23\t35\t0.657143\n",
    "DES1\t13\tCHG\t27\t39\t0.692308\n",
    "DES1\t14\tCHG\t0\t18\t0.000000\n",
    "DES1\t15\tCHG\t30\t50\t0.600000\n",
    "DES1\t16\tCHG\t0\t0\t0.000000\n",
    "DES1\t17\tCHG\t0\t0\t0.000000\n",
    "DES1\t18\tCHG\t0\t0\t0.000000\n",
    "DES1\t19\tCHG\t0\t0\t0.000000\n",
    "DES1\t20\tCHG\t33\t45\t0.733333\n",
    "DES1\t21\tCHG\t61\t92\t0.663043\n",
    "DES1\t22\tCHG\t70\t77\t0.909091\n",
    "DES1\t23\tCHG\t95\t115\t0.826087\n",
    "DES1\t24\tCHG\t9\t22\t0.409091\n",
    "DES1\t25\tCHG\t16\t17\t0.941176\n",
    "DES1\t26\tCHG\t0\t4\t0.000000\n",
    "DES1\t27\tCHG\t0\t0\t0.000000\n",
    "DES1\t28\tCHG\t0\t0\t0.000000\n",
    "DES1\t29\tCHG\t24\t25\t0.960000\n",
    "DES1\t30\tCHG\t41\t52\t0.788462\n",
    "DES1\t31\tCHG\t64\t70\t0.914286\n",
    "DES1\t32\tCHG\t22\t23\t0.956522\n",
    "DES1\t33\tCHG\t0\t0\t0.000000\n",
    "DES1\t34\tCHG\t0\t0\t0.000000\n",
    "DES1\t35\tCHG\t0\t0\t0.000000\n",
    "DES1\t36\tCHG\t0\t0\t0.000000\n",
    "DES1\t37\tCHG\t30\t35\t0.857143\n",
    "DES1\t38\tCHG\t101\t111\t0.909910\n",
    "DES1\t39\tCHG\t84\t117\t0.717949\n",
    "DES1\t40\tCHG\t248\t282\t0.879433\n",
    "DES1\t41\tCHG\t214\t237\t0.902954\n",
    "DES1\t42\tCHG\t153\t196\t0.780612\n",
    "DES1\t43\tCHG\t56\t58\t0.965517\n",
    "DES1\t44\tCHG\t0\t0\t0.000000\n",
    "DES1\t45\tCHG\t0\t0\t0.000000"
   ]
  },
  {
   "cell_type": "markdown",
   "id": "f7e29a8e-c03c-4712-9ba7-d2f8ffdb4298",
   "metadata": {},
   "source": [
    "## Below is the testing process"
   ]
  },
  {
   "cell_type": "code",
   "execution_count": 2,
   "id": "112bae67-6f84-47b4-bded-0677c4459587",
   "metadata": {},
   "outputs": [],
   "source": [
    "import sys,os,re\n",
    "import pandas as pd\n",
    "\n",
    "InFileName1 = \"/orange/soltis/shan158538/Methylation_output/feature_methylation/gene_CHG_shared/DES1_test1/allc_DES1_8066.tsv\"\n",
    "InFileName2 = \"/orange/soltis/shan158538/Methylation_output/feature_methylation/gene_CHG_shared/DES1_test1/allc_DES1_928.tsv\"\n",
    "Delimiter = '\\t'\n",
    "InFile1 = pd.read_csv(InFileName1, sep=Delimiter, header=None, names=['chr', 'pos', 'strand', 'context', 'mc', 'cov', 'methylated'])\n",
    "InFile2 = pd.read_csv(InFileName2, sep=Delimiter, header=None, names=['chr', 'pos', 'strand', 'context', 'mc', 'cov', 'methylated'])"
   ]
  },
  {
   "cell_type": "code",
   "execution_count": 5,
   "id": "8d5fc21b-bd6d-433a-9276-5bb06e6b5ad3",
   "metadata": {},
   "outputs": [
    {
     "data": {
      "text/html": [
       "<div>\n",
       "<style scoped>\n",
       "    .dataframe tbody tr th:only-of-type {\n",
       "        vertical-align: middle;\n",
       "    }\n",
       "\n",
       "    .dataframe tbody tr th {\n",
       "        vertical-align: top;\n",
       "    }\n",
       "\n",
       "    .dataframe thead th {\n",
       "        text-align: right;\n",
       "    }\n",
       "</style>\n",
       "<table border=\"1\" class=\"dataframe\">\n",
       "  <thead>\n",
       "    <tr style=\"text-align: right;\">\n",
       "      <th></th>\n",
       "      <th>chr</th>\n",
       "      <th>pos</th>\n",
       "      <th>strand</th>\n",
       "      <th>context</th>\n",
       "      <th>mc</th>\n",
       "      <th>cov</th>\n",
       "      <th>methylated</th>\n",
       "    </tr>\n",
       "  </thead>\n",
       "  <tbody>\n",
       "    <tr>\n",
       "      <th>35</th>\n",
       "      <td>Tdub_V1_scaffold_8066</td>\n",
       "      <td>4174</td>\n",
       "      <td>NaN</td>\n",
       "      <td>CHG</td>\n",
       "      <td>12</td>\n",
       "      <td>18</td>\n",
       "      <td>NaN</td>\n",
       "    </tr>\n",
       "    <tr>\n",
       "      <th>36</th>\n",
       "      <td>Tdub_V1_scaffold_8066</td>\n",
       "      <td>4203</td>\n",
       "      <td>NaN</td>\n",
       "      <td>CHG</td>\n",
       "      <td>19</td>\n",
       "      <td>20</td>\n",
       "      <td>NaN</td>\n",
       "    </tr>\n",
       "  </tbody>\n",
       "</table>\n",
       "</div>"
      ],
      "text/plain": [
       "                      chr   pos  strand context  mc  cov  methylated\n",
       "35  Tdub_V1_scaffold_8066  4174     NaN     CHG  12   18         NaN\n",
       "36  Tdub_V1_scaffold_8066  4203     NaN     CHG  19   20         NaN"
      ]
     },
     "execution_count": 5,
     "metadata": {},
     "output_type": "execute_result"
    }
   ],
   "source": [
    "# Bin 11 of file 1\n",
    "InFile1[(InFile1['pos'] > 4157) & (InFile1['pos'] < 4207)]"
   ]
  },
  {
   "cell_type": "code",
   "execution_count": 4,
   "id": "3b7c40ce-53c4-45e8-ab67-9531f8351373",
   "metadata": {},
   "outputs": [
    {
     "data": {
      "text/html": [
       "<div>\n",
       "<style scoped>\n",
       "    .dataframe tbody tr th:only-of-type {\n",
       "        vertical-align: middle;\n",
       "    }\n",
       "\n",
       "    .dataframe tbody tr th {\n",
       "        vertical-align: top;\n",
       "    }\n",
       "\n",
       "    .dataframe thead th {\n",
       "        text-align: right;\n",
       "    }\n",
       "</style>\n",
       "<table border=\"1\" class=\"dataframe\">\n",
       "  <thead>\n",
       "    <tr style=\"text-align: right;\">\n",
       "      <th></th>\n",
       "      <th>chr</th>\n",
       "      <th>pos</th>\n",
       "      <th>strand</th>\n",
       "      <th>context</th>\n",
       "      <th>mc</th>\n",
       "      <th>cov</th>\n",
       "      <th>methylated</th>\n",
       "    </tr>\n",
       "  </thead>\n",
       "  <tbody>\n",
       "    <tr>\n",
       "      <th>74</th>\n",
       "      <td>Tdub_V1_scaffold_928</td>\n",
       "      <td>7428</td>\n",
       "      <td>NaN</td>\n",
       "      <td>CHG</td>\n",
       "      <td>0</td>\n",
       "      <td>6</td>\n",
       "      <td>NaN</td>\n",
       "    </tr>\n",
       "    <tr>\n",
       "      <th>75</th>\n",
       "      <td>Tdub_V1_scaffold_928</td>\n",
       "      <td>7435</td>\n",
       "      <td>NaN</td>\n",
       "      <td>CHG</td>\n",
       "      <td>0</td>\n",
       "      <td>4</td>\n",
       "      <td>NaN</td>\n",
       "    </tr>\n",
       "    <tr>\n",
       "      <th>76</th>\n",
       "      <td>Tdub_V1_scaffold_928</td>\n",
       "      <td>7444</td>\n",
       "      <td>NaN</td>\n",
       "      <td>CHG</td>\n",
       "      <td>0</td>\n",
       "      <td>6</td>\n",
       "      <td>NaN</td>\n",
       "    </tr>\n",
       "  </tbody>\n",
       "</table>\n",
       "</div>"
      ],
      "text/plain": [
       "                     chr   pos  strand context  mc  cov  methylated\n",
       "74  Tdub_V1_scaffold_928  7428     NaN     CHG   0    6         NaN\n",
       "75  Tdub_V1_scaffold_928  7435     NaN     CHG   0    4         NaN\n",
       "76  Tdub_V1_scaffold_928  7444     NaN     CHG   0    6         NaN"
      ]
     },
     "execution_count": 4,
     "metadata": {},
     "output_type": "execute_result"
    }
   ],
   "source": [
    "# Bin 11 of file 2\n",
    "InFile2[(InFile2['pos'] > 7427) & (InFile2['pos'] < 7477)]"
   ]
  },
  {
   "cell_type": "code",
   "execution_count": 8,
   "id": "6f317e21-aee2-4d4f-9835-19f9791781fb",
   "metadata": {},
   "outputs": [
    {
     "data": {
      "text/html": [
       "<div>\n",
       "<style scoped>\n",
       "    .dataframe tbody tr th:only-of-type {\n",
       "        vertical-align: middle;\n",
       "    }\n",
       "\n",
       "    .dataframe tbody tr th {\n",
       "        vertical-align: top;\n",
       "    }\n",
       "\n",
       "    .dataframe thead th {\n",
       "        text-align: right;\n",
       "    }\n",
       "</style>\n",
       "<table border=\"1\" class=\"dataframe\">\n",
       "  <thead>\n",
       "    <tr style=\"text-align: right;\">\n",
       "      <th></th>\n",
       "      <th>chr</th>\n",
       "      <th>pos</th>\n",
       "      <th>strand</th>\n",
       "      <th>context</th>\n",
       "      <th>mc</th>\n",
       "      <th>cov</th>\n",
       "      <th>methylated</th>\n",
       "    </tr>\n",
       "  </thead>\n",
       "  <tbody>\n",
       "    <tr>\n",
       "      <th>48</th>\n",
       "      <td>Tdub_V1_scaffold_8066</td>\n",
       "      <td>5302</td>\n",
       "      <td>NaN</td>\n",
       "      <td>CHG</td>\n",
       "      <td>6</td>\n",
       "      <td>6</td>\n",
       "      <td>NaN</td>\n",
       "    </tr>\n",
       "    <tr>\n",
       "      <th>49</th>\n",
       "      <td>Tdub_V1_scaffold_8066</td>\n",
       "      <td>5323</td>\n",
       "      <td>NaN</td>\n",
       "      <td>CHG</td>\n",
       "      <td>10</td>\n",
       "      <td>11</td>\n",
       "      <td>NaN</td>\n",
       "    </tr>\n",
       "  </tbody>\n",
       "</table>\n",
       "</div>"
      ],
      "text/plain": [
       "                      chr   pos  strand context  mc  cov  methylated\n",
       "48  Tdub_V1_scaffold_8066  5302     NaN     CHG   6    6         NaN\n",
       "49  Tdub_V1_scaffold_8066  5323     NaN     CHG  10   11         NaN"
      ]
     },
     "execution_count": 8,
     "metadata": {},
     "output_type": "execute_result"
    }
   ],
   "source": [
    "# Bin 26 of file 1; adjusted on CDS\n",
    "InFile1[(InFile1['pos'] > 5243) & (InFile1['pos'] < 5360)]"
   ]
  },
  {
   "cell_type": "code",
   "execution_count": 9,
   "id": "bb00ca64-c60f-439d-877e-2392e5bda4c4",
   "metadata": {},
   "outputs": [
    {
     "data": {
      "text/html": [
       "<div>\n",
       "<style scoped>\n",
       "    .dataframe tbody tr th:only-of-type {\n",
       "        vertical-align: middle;\n",
       "    }\n",
       "\n",
       "    .dataframe tbody tr th {\n",
       "        vertical-align: top;\n",
       "    }\n",
       "\n",
       "    .dataframe thead th {\n",
       "        text-align: right;\n",
       "    }\n",
       "</style>\n",
       "<table border=\"1\" class=\"dataframe\">\n",
       "  <thead>\n",
       "    <tr style=\"text-align: right;\">\n",
       "      <th></th>\n",
       "      <th>chr</th>\n",
       "      <th>pos</th>\n",
       "      <th>strand</th>\n",
       "      <th>context</th>\n",
       "      <th>mc</th>\n",
       "      <th>cov</th>\n",
       "      <th>methylated</th>\n",
       "    </tr>\n",
       "  </thead>\n",
       "  <tbody>\n",
       "  </tbody>\n",
       "</table>\n",
       "</div>"
      ],
      "text/plain": [
       "Empty DataFrame\n",
       "Columns: [chr, pos, strand, context, mc, cov, methylated]\n",
       "Index: []"
      ]
     },
     "execution_count": 9,
     "metadata": {},
     "output_type": "execute_result"
    }
   ],
   "source": [
    "# Bin 26 of file 2; adjusted on CDS\n",
    "InFile2[(InFile2['pos'] > 8103) & (InFile2['pos'] < 8138)]"
   ]
  },
  {
   "cell_type": "code",
   "execution_count": 10,
   "id": "833197a6-4cf5-4e28-b7d5-f179e267311c",
   "metadata": {},
   "outputs": [
    {
     "data": {
      "text/html": [
       "<div>\n",
       "<style scoped>\n",
       "    .dataframe tbody tr th:only-of-type {\n",
       "        vertical-align: middle;\n",
       "    }\n",
       "\n",
       "    .dataframe tbody tr th {\n",
       "        vertical-align: top;\n",
       "    }\n",
       "\n",
       "    .dataframe thead th {\n",
       "        text-align: right;\n",
       "    }\n",
       "</style>\n",
       "<table border=\"1\" class=\"dataframe\">\n",
       "  <thead>\n",
       "    <tr style=\"text-align: right;\">\n",
       "      <th></th>\n",
       "      <th>chr</th>\n",
       "      <th>pos</th>\n",
       "      <th>strand</th>\n",
       "      <th>context</th>\n",
       "      <th>mc</th>\n",
       "      <th>cov</th>\n",
       "      <th>methylated</th>\n",
       "    </tr>\n",
       "  </thead>\n",
       "  <tbody>\n",
       "    <tr>\n",
       "      <th>95</th>\n",
       "      <td>Tdub_V1_scaffold_8066</td>\n",
       "      <td>7143</td>\n",
       "      <td>NaN</td>\n",
       "      <td>CHG</td>\n",
       "      <td>29</td>\n",
       "      <td>30</td>\n",
       "      <td>NaN</td>\n",
       "    </tr>\n",
       "  </tbody>\n",
       "</table>\n",
       "</div>"
      ],
      "text/plain": [
       "                      chr   pos  strand context  mc  cov  methylated\n",
       "95  Tdub_V1_scaffold_8066  7143     NaN     CHG  29   30         NaN"
      ]
     },
     "execution_count": 10,
     "metadata": {},
     "output_type": "execute_result"
    }
   ],
   "source": [
    "# Bin 44 of file 1\n",
    "InFile1[(InFile1['pos'] > 7142) & (InFile1['pos'] < 7492)]"
   ]
  },
  {
   "cell_type": "code",
   "execution_count": 11,
   "id": "de579236-9297-4560-b7ff-c085995487cc",
   "metadata": {},
   "outputs": [
    {
     "data": {
      "text/html": [
       "<div>\n",
       "<style scoped>\n",
       "    .dataframe tbody tr th:only-of-type {\n",
       "        vertical-align: middle;\n",
       "    }\n",
       "\n",
       "    .dataframe tbody tr th {\n",
       "        vertical-align: top;\n",
       "    }\n",
       "\n",
       "    .dataframe thead th {\n",
       "        text-align: right;\n",
       "    }\n",
       "</style>\n",
       "<table border=\"1\" class=\"dataframe\">\n",
       "  <thead>\n",
       "    <tr style=\"text-align: right;\">\n",
       "      <th></th>\n",
       "      <th>chr</th>\n",
       "      <th>pos</th>\n",
       "      <th>strand</th>\n",
       "      <th>context</th>\n",
       "      <th>mc</th>\n",
       "      <th>cov</th>\n",
       "      <th>methylated</th>\n",
       "    </tr>\n",
       "  </thead>\n",
       "  <tbody>\n",
       "    <tr>\n",
       "      <th>115</th>\n",
       "      <td>Tdub_V1_scaffold_928</td>\n",
       "      <td>8799</td>\n",
       "      <td>NaN</td>\n",
       "      <td>CHG</td>\n",
       "      <td>3</td>\n",
       "      <td>3</td>\n",
       "      <td>NaN</td>\n",
       "    </tr>\n",
       "    <tr>\n",
       "      <th>116</th>\n",
       "      <td>Tdub_V1_scaffold_928</td>\n",
       "      <td>8801</td>\n",
       "      <td>NaN</td>\n",
       "      <td>CHG</td>\n",
       "      <td>24</td>\n",
       "      <td>25</td>\n",
       "      <td>NaN</td>\n",
       "    </tr>\n",
       "  </tbody>\n",
       "</table>\n",
       "</div>"
      ],
      "text/plain": [
       "                      chr   pos  strand context  mc  cov  methylated\n",
       "115  Tdub_V1_scaffold_928  8799     NaN     CHG   3    3         NaN\n",
       "116  Tdub_V1_scaffold_928  8801     NaN     CHG  24   25         NaN"
      ]
     },
     "execution_count": 11,
     "metadata": {},
     "output_type": "execute_result"
    }
   ],
   "source": [
    "# Bin 44 of file 2\n",
    "InFile2[(InFile2['pos'] > 8780) & (InFile2['pos'] < 8830)]"
   ]
  },
  {
   "cell_type": "code",
   "execution_count": null,
   "id": "7ee1db9e-fee1-4ca3-85f9-f540f509d984",
   "metadata": {},
   "outputs": [],
   "source": []
  }
 ],
 "metadata": {
  "kernelspec": {
   "display_name": "Python 3 (ipykernel)",
   "language": "python",
   "name": "python3"
  },
  "language_info": {
   "codemirror_mode": {
    "name": "ipython",
    "version": 3
   },
   "file_extension": ".py",
   "mimetype": "text/x-python",
   "name": "python",
   "nbconvert_exporter": "python",
   "pygments_lexer": "ipython3",
   "version": "3.10.4"
  }
 },
 "nbformat": 4,
 "nbformat_minor": 5
}
