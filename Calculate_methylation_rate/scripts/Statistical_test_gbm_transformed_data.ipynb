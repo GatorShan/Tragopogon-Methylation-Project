{
 "cells": [
  {
   "cell_type": "code",
   "execution_count": 1,
   "id": "77595395-a8c9-4325-88cb-c89be3adf9a5",
   "metadata": {
    "tags": []
   },
   "outputs": [],
   "source": [
    "from scipy.stats import bartlett\n",
    "import pandas as pd\n",
    "import statsmodels.api as sm\n",
    "from statsmodels.formula.api import ols\n",
    "from statsmodels.stats.multicomp import pairwise_tukeyhsd\n",
    "import scipy.stats as stats\n",
    "import numpy as np"
   ]
  },
  {
   "cell_type": "markdown",
   "id": "f8068d97-0a65-4cc5-a3b3-a37658ad08d7",
   "metadata": {},
   "source": [
    "## The following test used the arcsine square root transformed data\n",
    "## The methylation levels are from excel files: CG_anova_new.xlsx, CHG_anova_new.xlsx, and CHH_anova_new.xlsx"
   ]
  },
  {
   "cell_type": "markdown",
   "id": "d8d396f6-a5d3-4afb-9d89-fb09791ec1d3",
   "metadata": {},
   "source": [
    "## CG context; gene; upstream"
   ]
  },
  {
   "cell_type": "code",
   "execution_count": 2,
   "id": "a318f191-84ee-4927-8c97-b7b6cbb65d84",
   "metadata": {
    "tags": []
   },
   "outputs": [],
   "source": [
    "CG_Tdu_gene_upstream = [0.837290993, 0.807038493]\n",
    "CG_Tpr_gene_upstream = [0.728584424, 0.767677256]\n",
    "CG_Tms_gene_upstream = [0.773947273, 0.75713841]\n",
    "\n",
    "Trans_CG_Tdu_gene_upstream = np.arcsin(np.sqrt(CG_Tdu_gene_upstream)).tolist()\n",
    "Trans_CG_Tpr_gene_upstream = np.arcsin(np.sqrt(CG_Tpr_gene_upstream)).tolist()\n",
    "Trans_CG_Tms_gene_upstream = np.arcsin(np.sqrt(CG_Tms_gene_upstream)).tolist()"
   ]
  },
  {
   "cell_type": "markdown",
   "id": "e06aca33-b4af-48f1-84c3-7b2af05012ae",
   "metadata": {},
   "source": [
    "### Variance homo test"
   ]
  },
  {
   "cell_type": "code",
   "execution_count": 3,
   "id": "79408b68-a726-4fb0-8674-f8fbd49bbe48",
   "metadata": {
    "tags": []
   },
   "outputs": [
    {
     "name": "stdout",
     "output_type": "stream",
     "text": [
      "0.43702528521591855 0.8037133183480293\n"
     ]
    }
   ],
   "source": [
    "statistic, p_value = bartlett(Trans_CG_Tdu_gene_upstream, Trans_CG_Tpr_gene_upstream, Trans_CG_Tms_gene_upstream)\n",
    "print(statistic, p_value)"
   ]
  },
  {
   "cell_type": "markdown",
   "id": "68e6b6f2-383d-4998-a82c-c1b381b4b138",
   "metadata": {},
   "source": [
    "### ANOVA and post hoc Tukey"
   ]
  },
  {
   "cell_type": "code",
   "execution_count": 4,
   "id": "928c0515-b58e-4c8a-8d7c-b7177efc93ed",
   "metadata": {},
   "outputs": [
    {
     "name": "stdout",
     "output_type": "stream",
     "text": [
      "ANOVA results:\n",
      "            df    sum_sq   mean_sq         F    PR(>F)\n",
      "species   2.0  0.009029  0.004515  6.786428  0.077017\n",
      "Residual  3.0  0.001996  0.000665       NaN       NaN\n",
      "\n",
      "Post hoc test results:\n",
      " Multiple Comparison of Means - Tukey HSD, FWER=0.05\n",
      "===================================================\n",
      "group1 group2 meandiff p-adj   lower  upper  reject\n",
      "---------------------------------------------------\n",
      "   Tdu    Tms  -0.0704 0.1394 -0.1782 0.0374  False\n",
      "   Tdu    Tpr  -0.0905 0.0778 -0.1982 0.0173  False\n",
      "   Tms    Tpr  -0.0201 0.7402 -0.1278 0.0877  False\n",
      "---------------------------------------------------\n"
     ]
    }
   ],
   "source": [
    "CG_gene_upstream = pd.DataFrame({'species': ['Tdu', 'Tdu', 'Tpr', 'Tpr', 'Tms', 'Tms'],\n",
    "                          'methylation': Trans_CG_Tdu_gene_upstream + Trans_CG_Tpr_gene_upstream + Trans_CG_Tms_gene_upstream})\n",
    "model = ols('methylation ~ species', data=CG_gene_upstream).fit()\n",
    "anova_table = sm.stats.anova_lm(model)\n",
    "\n",
    "posthoc = pairwise_tukeyhsd(CG_gene_upstream['methylation'], CG_gene_upstream['species'])\n",
    "\n",
    "print(\"ANOVA results:\\n\", anova_table)\n",
    "print(\"\\nPost hoc test results:\\n\", posthoc)"
   ]
  },
  {
   "cell_type": "markdown",
   "id": "338e8be2-569c-4469-9055-d6d66f5554be",
   "metadata": {},
   "source": [
    "## CG context; gene; body"
   ]
  },
  {
   "cell_type": "code",
   "execution_count": 5,
   "id": "bd6fd08d-ed84-4d47-b0b7-c5dcc09f145b",
   "metadata": {
    "tags": []
   },
   "outputs": [],
   "source": [
    "CG_Tdu_gene_body = [0.705694195, 0.660255375]\n",
    "CG_Tpr_gene_body = [0.564510754, 0.618834705]\n",
    "CG_Tms_gene_body = [0.630203556, 0.604491524]\n",
    "\n",
    "Trans_CG_Tdu_gene_body = np.arcsin(np.sqrt(CG_Tdu_gene_body)).tolist()\n",
    "Trans_CG_Tpr_gene_body = np.arcsin(np.sqrt(CG_Tpr_gene_body)).tolist()\n",
    "Trans_CG_Tms_gene_body = np.arcsin(np.sqrt(CG_Tms_gene_body)).tolist()"
   ]
  },
  {
   "cell_type": "code",
   "execution_count": 6,
   "id": "0f11d2c8-cb85-4774-9c9d-62c9376b513e",
   "metadata": {
    "tags": []
   },
   "outputs": [
    {
     "name": "stdout",
     "output_type": "stream",
     "text": [
      "0.35997045407493317 0.8352825509179558\n"
     ]
    }
   ],
   "source": [
    "statistic, p_value = bartlett(Trans_CG_Tdu_gene_body, Trans_CG_Tpr_gene_body, Trans_CG_Tms_gene_body)\n",
    "print(statistic, p_value)"
   ]
  },
  {
   "cell_type": "code",
   "execution_count": 7,
   "id": "202e65ba-0a70-4198-aee6-7db5c65f7dfd",
   "metadata": {
    "tags": []
   },
   "outputs": [
    {
     "name": "stdout",
     "output_type": "stream",
     "text": [
      "ANOVA results:\n",
      "            df    sum_sq   mean_sq         F    PR(>F)\n",
      "species   2.0  0.009681  0.004841  4.727446  0.118215\n",
      "Residual  3.0  0.003072  0.001024       NaN       NaN\n",
      "\n",
      "Post hoc test results:\n",
      " Multiple Comparison of Means - Tukey HSD, FWER=0.05\n",
      "===================================================\n",
      "group1 group2 meandiff p-adj   lower  upper  reject\n",
      "---------------------------------------------------\n",
      "   Tdu    Tms  -0.0691 0.2251 -0.2028 0.0646  False\n",
      "   Tdu    Tpr  -0.0952 0.1149 -0.2289 0.0385  False\n",
      "   Tms    Tpr  -0.0262 0.7197 -0.1599 0.1076  False\n",
      "---------------------------------------------------\n"
     ]
    }
   ],
   "source": [
    "CG_gene_body = pd.DataFrame({'species': ['Tdu', 'Tdu', 'Tpr', 'Tpr', 'Tms', 'Tms'],\n",
    "                          'methylation': Trans_CG_Tdu_gene_body + Trans_CG_Tpr_gene_body + Trans_CG_Tms_gene_body})\n",
    "model = ols('methylation ~ species', data=CG_gene_body).fit()\n",
    "anova_table = sm.stats.anova_lm(model)\n",
    "\n",
    "posthoc = pairwise_tukeyhsd(CG_gene_body['methylation'], CG_gene_body['species'])\n",
    "\n",
    "print(\"ANOVA results:\\n\", anova_table)\n",
    "print(\"\\nPost hoc test results:\\n\", posthoc)"
   ]
  },
  {
   "cell_type": "markdown",
   "id": "962a512a-c43f-43dc-8aaa-5371347b40e1",
   "metadata": {},
   "source": [
    "## CG context; gene; downstream"
   ]
  },
  {
   "cell_type": "code",
   "execution_count": 8,
   "id": "e3e089f1-864b-4c2d-8485-9d9da3e7a460",
   "metadata": {
    "tags": []
   },
   "outputs": [],
   "source": [
    "CG_Tdu_gene_down = [0.85059487, 0.819337174]\n",
    "CG_Tpr_gene_down = [0.759557397, 0.789068091]\n",
    "CG_Tms_gene_down = [0.80150015, 0.782772218]\n",
    "\n",
    "Trans_CG_Tdu_gene_down = np.arcsin(np.sqrt(CG_Tdu_gene_down)).tolist()\n",
    "Trans_CG_Tpr_gene_down = np.arcsin(np.sqrt(CG_Tpr_gene_down)).tolist()\n",
    "Trans_CG_Tms_gene_down = np.arcsin(np.sqrt(CG_Tms_gene_down)).tolist()"
   ]
  },
  {
   "cell_type": "code",
   "execution_count": 9,
   "id": "adca5711-64e8-40e8-a9a8-710f3fdd0b00",
   "metadata": {
    "tags": []
   },
   "outputs": [
    {
     "name": "stdout",
     "output_type": "stream",
     "text": [
      "0.23850525794055188 0.887583543119622\n"
     ]
    }
   ],
   "source": [
    "statistic, p_value = bartlett(Trans_CG_Tdu_gene_down, Trans_CG_Tpr_gene_down, Trans_CG_Tms_gene_down)\n",
    "print(statistic, p_value)"
   ]
  },
  {
   "cell_type": "code",
   "execution_count": 10,
   "id": "5404cc8c-c644-49fa-a142-3243ff285a1c",
   "metadata": {
    "tags": []
   },
   "outputs": [
    {
     "name": "stdout",
     "output_type": "stream",
     "text": [
      "ANOVA results:\n",
      "            df    sum_sq   mean_sq         F    PR(>F)\n",
      "species   2.0  0.006295  0.003147  5.310503  0.103364\n",
      "Residual  3.0  0.001778  0.000593       NaN       NaN\n",
      "\n",
      "Post hoc test results:\n",
      " Multiple Comparison of Means - Tukey HSD, FWER=0.05\n",
      "===================================================\n",
      "group1 group2 meandiff p-adj   lower  upper  reject\n",
      "---------------------------------------------------\n",
      "   Tdu    Tms  -0.0554 0.2035 -0.1571 0.0464  False\n",
      "   Tdu    Tpr  -0.0769    0.1 -0.1786 0.0248  False\n",
      "   Tms    Tpr  -0.0215 0.6852 -0.1233 0.0802  False\n",
      "---------------------------------------------------\n"
     ]
    }
   ],
   "source": [
    "CG_gene_down = pd.DataFrame({'species': ['Tdu', 'Tdu', 'Tpr', 'Tpr', 'Tms', 'Tms'],\n",
    "                          'methylation': Trans_CG_Tdu_gene_down + Trans_CG_Tpr_gene_down + Trans_CG_Tms_gene_down})\n",
    "model = ols('methylation ~ species', data=CG_gene_down).fit()\n",
    "anova_table = sm.stats.anova_lm(model)\n",
    "\n",
    "posthoc = pairwise_tukeyhsd(CG_gene_down['methylation'], CG_gene_down['species'])\n",
    "\n",
    "print(\"ANOVA results:\\n\", anova_table)\n",
    "print(\"\\nPost hoc test results:\\n\", posthoc)"
   ]
  },
  {
   "cell_type": "markdown",
   "id": "e81f1fa8-48bc-4f00-8b1e-7000c2c8a3a2",
   "metadata": {},
   "source": [
    "## CHG; gene; upstream"
   ]
  },
  {
   "cell_type": "code",
   "execution_count": 11,
   "id": "941a3d98-4c09-4e36-9b40-6c4ee5e971ca",
   "metadata": {
    "tags": []
   },
   "outputs": [],
   "source": [
    "CHG_Tdu_gene_upstream = [0.697022076, 0.667568198]\n",
    "CHG_Tpr_gene_upstream = [0.572108976, 0.609770358]\n",
    "CHG_Tms_gene_upstream = [0.615360467, 0.599295049]\n",
    "\n",
    "Trans_CHG_Tdu_gene_upstream = np.arcsin(np.sqrt(CHG_Tdu_gene_upstream)).tolist()\n",
    "Trans_CHG_Tpr_gene_upstream = np.arcsin(np.sqrt(CHG_Tpr_gene_upstream)).tolist()\n",
    "Trans_CHG_Tms_gene_upstream = np.arcsin(np.sqrt(CHG_Tms_gene_upstream)).tolist()"
   ]
  },
  {
   "cell_type": "code",
   "execution_count": 12,
   "id": "5cd3086d-fc67-4093-a958-e563f60cae81",
   "metadata": {
    "tags": []
   },
   "outputs": [
    {
     "name": "stdout",
     "output_type": "stream",
     "text": [
      "0.44979764288233237 0.7985970155669799\n"
     ]
    }
   ],
   "source": [
    "statistic, p_value = bartlett(Trans_CHG_Tdu_gene_upstream, Trans_CHG_Tpr_gene_upstream, Trans_CHG_Tms_gene_upstream)\n",
    "print(statistic, p_value)"
   ]
  },
  {
   "cell_type": "code",
   "execution_count": 13,
   "id": "6f570636-8703-4f90-ab22-f4d9c5990ace",
   "metadata": {
    "tags": []
   },
   "outputs": [
    {
     "name": "stdout",
     "output_type": "stream",
     "text": [
      "ANOVA results:\n",
      "            df    sum_sq   mean_sq          F    PR(>F)\n",
      "species   2.0  0.010334  0.005167  11.317076  0.040036\n",
      "Residual  3.0  0.001370  0.000457        NaN       NaN\n",
      "\n",
      "Post hoc test results:\n",
      " Multiple Comparison of Means - Tukey HSD, FWER=0.05 \n",
      "====================================================\n",
      "group1 group2 meandiff p-adj   lower   upper  reject\n",
      "----------------------------------------------------\n",
      "   Tdu    Tms  -0.0785 0.0693 -0.1678  0.0108  False\n",
      "   Tdu    Tpr  -0.0952 0.0423 -0.1845 -0.0059   True\n",
      "   Tms    Tpr  -0.0167 0.7391  -0.106  0.0726  False\n",
      "----------------------------------------------------\n"
     ]
    }
   ],
   "source": [
    "CHG_gene_upstream = pd.DataFrame({'species': ['Tdu', 'Tdu', 'Tpr', 'Tpr', 'Tms', 'Tms'],\n",
    "                          'methylation': Trans_CHG_Tdu_gene_upstream + Trans_CHG_Tpr_gene_upstream + Trans_CHG_Tms_gene_upstream})\n",
    "model = ols('methylation ~ species', data=CHG_gene_upstream).fit()\n",
    "anova_table = sm.stats.anova_lm(model)\n",
    "\n",
    "posthoc = pairwise_tukeyhsd(CHG_gene_upstream['methylation'], CHG_gene_upstream['species'])\n",
    "\n",
    "print(\"ANOVA results:\\n\", anova_table)\n",
    "print(\"\\nPost hoc test results:\\n\", posthoc)"
   ]
  },
  {
   "cell_type": "code",
   "execution_count": null,
   "id": "7285a915-d998-42f1-8f06-68bb4117aab9",
   "metadata": {},
   "outputs": [],
   "source": [
    "t_statistic, p_value = stats.ttest_1samp(Tms, MPV)\n",
    "\n",
    "print(\"T-Statistic:\", t_statistic)\n",
    "print(\"P-Value:\", p_value)"
   ]
  },
  {
   "cell_type": "markdown",
   "id": "2464d541-1f04-4820-bf74-d0c0783ac766",
   "metadata": {},
   "source": [
    "### Tms vs MPV"
   ]
  },
  {
   "cell_type": "code",
   "execution_count": 14,
   "id": "43ffb07a-0abb-48b0-9097-b34ee182387d",
   "metadata": {
    "tags": []
   },
   "outputs": [
    {
     "name": "stdout",
     "output_type": "stream",
     "text": [
      "T-Statistic: -3.6462971582811967\n",
      "P-Value: 0.1704037436323055\n"
     ]
    }
   ],
   "source": [
    "t_statistic, p_value = stats.ttest_1samp(CHG_Tms_gene_upstream, np.mean(CHG_Tdu_gene_upstream + CHG_Tpr_gene_upstream))\n",
    "\n",
    "print(\"T-Statistic:\", t_statistic)\n",
    "print(\"P-Value:\", p_value)"
   ]
  },
  {
   "cell_type": "markdown",
   "id": "3c3084f9-94ee-43c6-975e-320e3c6f7e36",
   "metadata": {},
   "source": [
    "### Tms vs MPV transformed"
   ]
  },
  {
   "cell_type": "code",
   "execution_count": 15,
   "id": "df6bdae6-9a2b-4f45-b772-3ee506878ee6",
   "metadata": {
    "tags": []
   },
   "outputs": [
    {
     "name": "stdout",
     "output_type": "stream",
     "text": [
      "T-Statistic: -3.6709105061097396\n",
      "P-Value: 0.16931447860107196\n"
     ]
    }
   ],
   "source": [
    "t_statistic, p_value = stats.ttest_1samp(Trans_CHG_Tms_gene_upstream, np.arcsin(np.sqrt(np.mean(CHG_Tdu_gene_upstream + CHG_Tpr_gene_upstream))))\n",
    "\n",
    "print(\"T-Statistic:\", t_statistic)\n",
    "print(\"P-Value:\", p_value)"
   ]
  },
  {
   "cell_type": "markdown",
   "id": "d445f83c-b460-43b4-b0c5-8e8d90a401b0",
   "metadata": {},
   "source": [
    "## CHG; gene; body"
   ]
  },
  {
   "cell_type": "code",
   "execution_count": 16,
   "id": "996443e9-0489-4926-acff-8ddc236d9dcb",
   "metadata": {
    "tags": []
   },
   "outputs": [],
   "source": [
    "CHG_Tdu_gene_body = [0.297689801, 0.254133874]\n",
    "CHG_Tpr_gene_body = [0.209229495, 0.246671347]\n",
    "CHG_Tms_gene_body = [0.234339632, 0.214725357]\n",
    "\n",
    "Trans_CHG_Tdu_gene_body = np.arcsin(np.sqrt(CHG_Tdu_gene_body)).tolist()\n",
    "Trans_CHG_Tpr_gene_body = np.arcsin(np.sqrt(CHG_Tpr_gene_body)).tolist()\n",
    "Trans_CHG_Tms_gene_body = np.arcsin(np.sqrt(CHG_Tms_gene_body)).tolist()"
   ]
  },
  {
   "cell_type": "code",
   "execution_count": 17,
   "id": "ac357e4f-0001-47b9-a7c5-d8a0aaeb2275",
   "metadata": {
    "tags": []
   },
   "outputs": [
    {
     "name": "stdout",
     "output_type": "stream",
     "text": [
      "0.36242028106044527 0.8342600284297195\n"
     ]
    }
   ],
   "source": [
    "statistic, p_value = bartlett(Trans_CHG_Tdu_gene_body, Trans_CHG_Tpr_gene_body, Trans_CHG_Tms_gene_body)\n",
    "print(statistic, p_value)"
   ]
  },
  {
   "cell_type": "code",
   "execution_count": 18,
   "id": "3db11f0b-5bbe-4716-bca1-2b03d6232894",
   "metadata": {
    "tags": []
   },
   "outputs": [
    {
     "name": "stdout",
     "output_type": "stream",
     "text": [
      "ANOVA results:\n",
      "            df    sum_sq   mean_sq         F    PR(>F)\n",
      "species   2.0  0.004384  0.002192  2.671089  0.215657\n",
      "Residual  3.0  0.002462  0.000821       NaN       NaN\n",
      "\n",
      "Post hoc test results:\n",
      " Multiple Comparison of Means - Tukey HSD, FWER=0.05\n",
      "===================================================\n",
      "group1 group2 meandiff p-adj   lower  upper  reject\n",
      "---------------------------------------------------\n",
      "   Tdu    Tms  -0.0592 0.2442 -0.1789 0.0605  False\n",
      "   Tdu    Tpr  -0.0553 0.2752  -0.175 0.0644  False\n",
      "   Tms    Tpr   0.0039 0.9901 -0.1159 0.1236  False\n",
      "---------------------------------------------------\n"
     ]
    }
   ],
   "source": [
    "CHG_gene_body = pd.DataFrame({'species': ['Tdu', 'Tdu', 'Tpr', 'Tpr', 'Tms', 'Tms'],\n",
    "                          'methylation': Trans_CHG_Tdu_gene_body + Trans_CHG_Tpr_gene_body + Trans_CHG_Tms_gene_body})\n",
    "model = ols('methylation ~ species', data=CHG_gene_body).fit()\n",
    "anova_table = sm.stats.anova_lm(model)\n",
    "\n",
    "posthoc = pairwise_tukeyhsd(CHG_gene_body['methylation'], CHG_gene_body['species'])\n",
    "\n",
    "print(\"ANOVA results:\\n\", anova_table)\n",
    "print(\"\\nPost hoc test results:\\n\", posthoc)"
   ]
  },
  {
   "cell_type": "markdown",
   "id": "cd7a6e25-2c44-448f-82f2-ef80352cba85",
   "metadata": {},
   "source": [
    "## CHG; gene; downstream"
   ]
  },
  {
   "cell_type": "code",
   "execution_count": 19,
   "id": "fe651900-001e-425a-969b-d5a67a4d9811",
   "metadata": {
    "tags": []
   },
   "outputs": [],
   "source": [
    "CHG_Tdu_gene_down = [0.664935977, 0.633694114]\n",
    "CHG_Tpr_gene_down = [0.5594882, 0.591807914]\n",
    "CHG_Tms_gene_down = [0.593102803, 0.576764276]\n",
    "\n",
    "Trans_CHG_Tdu_gene_down = np.arcsin(np.sqrt(CHG_Tdu_gene_down)).tolist()\n",
    "Trans_CHG_Tpr_gene_down = np.arcsin(np.sqrt(CHG_Tpr_gene_down)).tolist()\n",
    "Trans_CHG_Tms_gene_down = np.arcsin(np.sqrt(CHG_Tms_gene_down)).tolist()"
   ]
  },
  {
   "cell_type": "code",
   "execution_count": 20,
   "id": "c88119f3-d4b9-45b2-89aa-a6335b57c1f9",
   "metadata": {
    "tags": []
   },
   "outputs": [
    {
     "name": "stdout",
     "output_type": "stream",
     "text": [
      "0.35005370081966614 0.8394344813067607\n"
     ]
    }
   ],
   "source": [
    "statistic, p_value = bartlett(Trans_CHG_Tdu_gene_down, Trans_CHG_Tpr_gene_down, Trans_CHG_Tms_gene_down)\n",
    "print(statistic, p_value)"
   ]
  },
  {
   "cell_type": "code",
   "execution_count": 21,
   "id": "c8b8c680-6f51-4e49-b19e-fc557f158df2",
   "metadata": {
    "tags": []
   },
   "outputs": [
    {
     "name": "stdout",
     "output_type": "stream",
     "text": [
      "ANOVA results:\n",
      "            df    sum_sq   mean_sq         F    PR(>F)\n",
      "species   2.0  0.006817  0.003409  8.463595  0.058413\n",
      "Residual  3.0  0.001208  0.000403       NaN       NaN\n",
      "\n",
      "Post hoc test results:\n",
      " Multiple Comparison of Means - Tukey HSD, FWER=0.05\n",
      "===================================================\n",
      "group1 group2 meandiff p-adj   lower  upper  reject\n",
      "---------------------------------------------------\n",
      "   Tdu    Tms  -0.0664 0.0897 -0.1502 0.0175  False\n",
      "   Tdu    Tpr  -0.0757 0.0649 -0.1596 0.0081  False\n",
      "   Tms    Tpr  -0.0094 0.8907 -0.0932 0.0745  False\n",
      "---------------------------------------------------\n"
     ]
    }
   ],
   "source": [
    "CHG_gene_down = pd.DataFrame({'species': ['Tdu', 'Tdu', 'Tpr', 'Tpr', 'Tms', 'Tms'],\n",
    "                          'methylation': Trans_CHG_Tdu_gene_down + Trans_CHG_Tpr_gene_down + Trans_CHG_Tms_gene_down})\n",
    "model = ols('methylation ~ species', data=CHG_gene_down).fit()\n",
    "anova_table = sm.stats.anova_lm(model)\n",
    "\n",
    "posthoc = pairwise_tukeyhsd(CHG_gene_down['methylation'], CHG_gene_down['species'])\n",
    "\n",
    "print(\"ANOVA results:\\n\", anova_table)\n",
    "print(\"\\nPost hoc test results:\\n\", posthoc)"
   ]
  },
  {
   "cell_type": "markdown",
   "id": "20338137-fc77-48b4-80b6-a031455768f8",
   "metadata": {},
   "source": [
    "## CHH; gene; upstream"
   ]
  },
  {
   "cell_type": "code",
   "execution_count": 22,
   "id": "cb996d6e-dc1b-4982-a64e-ff81f747656e",
   "metadata": {
    "tags": []
   },
   "outputs": [],
   "source": [
    "CHH_Tdu_gene_upstream = [0.178035671, 0.187641771]\n",
    "CHH_Tpr_gene_upstream = [0.125319166, 0.145308954]\n",
    "CHH_Tms_gene_upstream = [0.158212283, 0.145746969]\n",
    "\n",
    "Trans_CHH_Tdu_gene_upstream = np.arcsin(np.sqrt(CHH_Tdu_gene_upstream)).tolist()\n",
    "Trans_CHH_Tpr_gene_upstream = np.arcsin(np.sqrt(CHH_Tpr_gene_upstream)).tolist()\n",
    "Trans_CHH_Tms_gene_upstream = np.arcsin(np.sqrt(CHH_Tms_gene_upstream)).tolist()"
   ]
  },
  {
   "cell_type": "code",
   "execution_count": 23,
   "id": "70bc8f05-e5fd-45c9-9727-66620302fda1",
   "metadata": {
    "tags": []
   },
   "outputs": [
    {
     "name": "stdout",
     "output_type": "stream",
     "text": [
      "0.5122166715234203 0.7740581060751353\n"
     ]
    }
   ],
   "source": [
    "statistic, p_value = bartlett(Trans_CHH_Tdu_gene_upstream, Trans_CHH_Tpr_gene_upstream, Trans_CHH_Tms_gene_upstream)\n",
    "print(statistic, p_value)"
   ]
  },
  {
   "cell_type": "code",
   "execution_count": 24,
   "id": "ff36e523-ab91-42a7-b9d3-a7e3206c08c3",
   "metadata": {
    "tags": []
   },
   "outputs": [
    {
     "name": "stdout",
     "output_type": "stream",
     "text": [
      "ANOVA results:\n",
      "            df    sum_sq   mean_sq          F    PR(>F)\n",
      "species   2.0  0.004370  0.002185  10.001823  0.047096\n",
      "Residual  3.0  0.000655  0.000218        NaN       NaN\n",
      "\n",
      "Post hoc test results:\n",
      " Multiple Comparison of Means - Tukey HSD, FWER=0.05 \n",
      "====================================================\n",
      "group1 group2 meandiff p-adj   lower   upper  reject\n",
      "----------------------------------------------------\n",
      "   Tdu    Tms  -0.0414 0.1316 -0.1032  0.0204  False\n",
      "   Tdu    Tpr  -0.0653 0.0432 -0.1271 -0.0036   True\n",
      "   Tms    Tpr  -0.0239 0.3649 -0.0857  0.0378  False\n",
      "----------------------------------------------------\n"
     ]
    }
   ],
   "source": [
    "CHH_gene_upstream = pd.DataFrame({'species': ['Tdu', 'Tdu', 'Tpr', 'Tpr', 'Tms', 'Tms'],\n",
    "                          'methylation': Trans_CHH_Tdu_gene_upstream + Trans_CHH_Tpr_gene_upstream + Trans_CHH_Tms_gene_upstream})\n",
    "model = ols('methylation ~ species', data=CHH_gene_upstream).fit()\n",
    "anova_table = sm.stats.anova_lm(model)\n",
    "\n",
    "posthoc = pairwise_tukeyhsd(CHH_gene_upstream['methylation'], CHH_gene_upstream['species'])\n",
    "\n",
    "print(\"ANOVA results:\\n\", anova_table)\n",
    "print(\"\\nPost hoc test results:\\n\", posthoc)"
   ]
  },
  {
   "cell_type": "markdown",
   "id": "928b1a29-7e4b-4307-b983-d1ee89428a1a",
   "metadata": {},
   "source": [
    "### Tms vs MPV"
   ]
  },
  {
   "cell_type": "code",
   "execution_count": 25,
   "id": "f6c4c8c2-25a3-457e-9b40-50c679d334d9",
   "metadata": {
    "tags": []
   },
   "outputs": [
    {
     "name": "stdout",
     "output_type": "stream",
     "text": [
      "T-Statistic: -1.1386419146761948\n",
      "P-Value: 0.4587874658705643\n"
     ]
    }
   ],
   "source": [
    "t_statistic, p_value = stats.ttest_1samp(CHH_Tms_gene_upstream, np.mean(CHH_Tdu_gene_upstream + CHH_Tpr_gene_upstream))\n",
    "\n",
    "print(\"T-Statistic:\", t_statistic)\n",
    "print(\"P-Value:\", p_value)"
   ]
  },
  {
   "cell_type": "markdown",
   "id": "69018aaf-5ba0-4d16-9aea-2017ead6db49",
   "metadata": {},
   "source": [
    "### Tms vs MPV transformed"
   ]
  },
  {
   "cell_type": "code",
   "execution_count": 26,
   "id": "f0452195-467c-4c69-948d-58110e6638ff",
   "metadata": {
    "tags": []
   },
   "outputs": [
    {
     "name": "stdout",
     "output_type": "stream",
     "text": [
      "T-Statistic: -1.1362088316161327\n",
      "P-Value: 0.4594627610564632\n"
     ]
    }
   ],
   "source": [
    "t_statistic, p_value = stats.ttest_1samp(Trans_CHH_Tms_gene_upstream, np.arcsin(np.sqrt(np.mean(CHH_Tdu_gene_upstream + CHH_Tpr_gene_upstream))))\n",
    "\n",
    "print(\"T-Statistic:\", t_statistic)\n",
    "print(\"P-Value:\", p_value)"
   ]
  },
  {
   "cell_type": "markdown",
   "id": "3afef566-72ed-4bfc-83da-3ed9c3aeeaca",
   "metadata": {},
   "source": [
    "## CHH; gene; body"
   ]
  },
  {
   "cell_type": "code",
   "execution_count": 27,
   "id": "e5d4a96e-1613-491e-9dcd-48f0f75de707",
   "metadata": {
    "tags": []
   },
   "outputs": [],
   "source": [
    "CHH_Tdu_gene_body = [0.039414411, 0.045923972]\n",
    "CHH_Tpr_gene_body = [0.03630393, 0.042531319]\n",
    "CHH_Tms_gene_body = [0.042083058, 0.039196993]\n",
    "\n",
    "Trans_CHH_Tdu_gene_body = np.arcsin(np.sqrt(CHH_Tdu_gene_body)).tolist()\n",
    "Trans_CHH_Tpr_gene_body = np.arcsin(np.sqrt(CHH_Tpr_gene_body)).tolist()\n",
    "Trans_CHH_Tms_gene_body = np.arcsin(np.sqrt(CHH_Tms_gene_body)).tolist()"
   ]
  },
  {
   "cell_type": "code",
   "execution_count": 28,
   "id": "ba41f54c-a179-4ec5-8a11-7f52a45e37f3",
   "metadata": {
    "tags": []
   },
   "outputs": [
    {
     "name": "stdout",
     "output_type": "stream",
     "text": [
      "0.45282699950603045 0.7973883136159973\n"
     ]
    }
   ],
   "source": [
    "statistic, p_value = bartlett(Trans_CHH_Tdu_gene_body, Trans_CHH_Tpr_gene_body, Trans_CHH_Tms_gene_body)\n",
    "print(statistic, p_value)"
   ]
  },
  {
   "cell_type": "code",
   "execution_count": 29,
   "id": "b628df62-9eed-4e54-9e55-725876752cb3",
   "metadata": {
    "tags": []
   },
   "outputs": [
    {
     "name": "stdout",
     "output_type": "stream",
     "text": [
      "ANOVA results:\n",
      "            df    sum_sq   mean_sq         F    PR(>F)\n",
      "species   2.0  0.000068  0.000034  0.359485  0.724516\n",
      "Residual  3.0  0.000285  0.000095       NaN       NaN\n",
      "\n",
      "Post hoc test results:\n",
      " Multiple Comparison of Means - Tukey HSD, FWER=0.05\n",
      "===================================================\n",
      "group1 group2 meandiff p-adj   lower  upper  reject\n",
      "---------------------------------------------------\n",
      "   Tdu    Tms   -0.005 0.8724 -0.0457 0.0358  False\n",
      "   Tdu    Tpr  -0.0082 0.7071 -0.0489 0.0325  False\n",
      "   Tms    Tpr  -0.0032 0.9421  -0.044 0.0375  False\n",
      "---------------------------------------------------\n"
     ]
    }
   ],
   "source": [
    "CHH_gene_body = pd.DataFrame({'species': ['Tdu', 'Tdu', 'Tpr', 'Tpr', 'Tms', 'Tms'],\n",
    "                          'methylation': Trans_CHH_Tdu_gene_body + Trans_CHH_Tpr_gene_body + Trans_CHH_Tms_gene_body})\n",
    "model = ols('methylation ~ species', data=CHH_gene_body).fit()\n",
    "anova_table = sm.stats.anova_lm(model)\n",
    "\n",
    "posthoc = pairwise_tukeyhsd(CHH_gene_body['methylation'], CHH_gene_body['species'])\n",
    "\n",
    "print(\"ANOVA results:\\n\", anova_table)\n",
    "print(\"\\nPost hoc test results:\\n\", posthoc)"
   ]
  },
  {
   "cell_type": "markdown",
   "id": "f6a2500a-94f7-4be9-a47f-e8eb7e6c9f45",
   "metadata": {},
   "source": [
    "## CHH; gene; downstream"
   ]
  },
  {
   "cell_type": "code",
   "execution_count": 30,
   "id": "b9420396-9e71-4d54-a6c3-325bc4c5f3b3",
   "metadata": {
    "tags": []
   },
   "outputs": [],
   "source": [
    "CHH_Tdu_gene_down = [0.138612438, 0.145704222]\n",
    "CHH_Tpr_gene_down = [0.106119, 0.12077379]\n",
    "CHH_Tms_gene_down = [0.128232183, 0.118715246]\n",
    "\n",
    "Trans_CHH_Tdu_gene_down = np.arcsin(np.sqrt(CHH_Tdu_gene_down)).tolist()\n",
    "Trans_CHH_Tpr_gene_down = np.arcsin(np.sqrt(CHH_Tpr_gene_down)).tolist()\n",
    "Trans_CHH_Tms_gene_down = np.arcsin(np.sqrt(CHH_Tms_gene_down)).tolist()"
   ]
  },
  {
   "cell_type": "code",
   "execution_count": 31,
   "id": "30b628bf-2db8-4524-b309-5c7f844316a0",
   "metadata": {
    "tags": []
   },
   "outputs": [
    {
     "name": "stdout",
     "output_type": "stream",
     "text": [
      "0.4622996329875085 0.7936205596787761\n"
     ]
    }
   ],
   "source": [
    "statistic, p_value = bartlett(Trans_CHH_Tdu_gene_down, Trans_CHH_Tpr_gene_down, Trans_CHH_Tms_gene_down)\n",
    "print(statistic, p_value)"
   ]
  },
  {
   "cell_type": "code",
   "execution_count": 32,
   "id": "538c495b-ddb8-464c-b1f5-7ede6d5b3b0f",
   "metadata": {
    "tags": []
   },
   "outputs": [
    {
     "name": "stdout",
     "output_type": "stream",
     "text": [
      "ANOVA results:\n",
      "            df    sum_sq   mean_sq         F    PR(>F)\n",
      "species   2.0  0.001914  0.000957  6.780231  0.077103\n",
      "Residual  3.0  0.000423  0.000141       NaN       NaN\n",
      "\n",
      "Post hoc test results:\n",
      " Multiple Comparison of Means - Tukey HSD, FWER=0.05\n",
      "===================================================\n",
      "group1 group2 meandiff p-adj   lower  upper  reject\n",
      "---------------------------------------------------\n",
      "   Tdu    Tms  -0.0276 0.1955 -0.0772 0.0221  False\n",
      "   Tdu    Tpr  -0.0432 0.0712 -0.0928 0.0064  False\n",
      "   Tms    Tpr  -0.0156 0.4791 -0.0653  0.034  False\n",
      "---------------------------------------------------\n"
     ]
    }
   ],
   "source": [
    "CHH_gene_down = pd.DataFrame({'species': ['Tdu', 'Tdu', 'Tpr', 'Tpr', 'Tms', 'Tms'],\n",
    "                          'methylation': Trans_CHH_Tdu_gene_down + Trans_CHH_Tpr_gene_down + Trans_CHH_Tms_gene_down})\n",
    "model = ols('methylation ~ species', data=CHH_gene_down).fit()\n",
    "anova_table = sm.stats.anova_lm(model)\n",
    "\n",
    "posthoc = pairwise_tukeyhsd(CHH_gene_down['methylation'], CHH_gene_down['species'])\n",
    "\n",
    "print(\"ANOVA results:\\n\", anova_table)\n",
    "print(\"\\nPost hoc test results:\\n\", posthoc)"
   ]
  },
  {
   "cell_type": "code",
   "execution_count": null,
   "id": "4395f1ff-4763-4bd4-abd9-f34df8f57493",
   "metadata": {},
   "outputs": [],
   "source": []
  }
 ],
 "metadata": {
  "kernelspec": {
   "display_name": "PyTorch-1.10",
   "language": "python",
   "name": "pytorch-1.10"
  },
  "language_info": {
   "codemirror_mode": {
    "name": "ipython",
    "version": 3
   },
   "file_extension": ".py",
   "mimetype": "text/x-python",
   "name": "python",
   "nbconvert_exporter": "python",
   "pygments_lexer": "ipython3",
   "version": "3.9.7"
  }
 },
 "nbformat": 4,
 "nbformat_minor": 5
}
