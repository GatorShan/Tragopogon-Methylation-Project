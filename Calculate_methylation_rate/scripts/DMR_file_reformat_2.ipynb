{
 "cells": [
  {
   "cell_type": "code",
   "execution_count": 1,
   "id": "0fe97ba9-6ca8-456c-b32b-f58851bb0882",
   "metadata": {},
   "outputs": [],
   "source": [
    "import sys,os,re\n",
    "import pandas as pd\n",
    "Delimiter = '\\t'"
   ]
  },
  {
   "cell_type": "code",
   "execution_count": 2,
   "id": "9870e222-7e3a-49fb-8046-7219351a4d06",
   "metadata": {},
   "outputs": [],
   "source": [
    "InFileName1 = \"/blue/soltis/shan158538/Methylation/OutPut/DMG_identification/CG/Unique_subgenomes_methylDiff_all.txt\""
   ]
  },
  {
   "cell_type": "code",
   "execution_count": 3,
   "id": "699127ff-0327-4c3b-8962-a3b8a1ad716a",
   "metadata": {},
   "outputs": [],
   "source": [
    "InFile1 = pd.read_csv(InFileName1, sep=Delimiter)"
   ]
  },
  {
   "cell_type": "code",
   "execution_count": 4,
   "id": "f5685cfd-2355-4ab3-a81f-6fc2c14c85ec",
   "metadata": {},
   "outputs": [
    {
     "data": {
      "text/html": [
       "<div>\n",
       "<style scoped>\n",
       "    .dataframe tbody tr th:only-of-type {\n",
       "        vertical-align: middle;\n",
       "    }\n",
       "\n",
       "    .dataframe tbody tr th {\n",
       "        vertical-align: top;\n",
       "    }\n",
       "\n",
       "    .dataframe thead th {\n",
       "        text-align: right;\n",
       "    }\n",
       "</style>\n",
       "<table border=\"1\" class=\"dataframe\">\n",
       "  <thead>\n",
       "    <tr style=\"text-align: right;\">\n",
       "      <th></th>\n",
       "      <th>Unnamed: 0</th>\n",
       "      <th>Scaffold</th>\n",
       "      <th>Start</th>\n",
       "      <th>End_x</th>\n",
       "      <th>Strand_x</th>\n",
       "      <th>P_x</th>\n",
       "      <th>Q_x</th>\n",
       "      <th>Direction_x</th>\n",
       "      <th>End_y</th>\n",
       "      <th>Strand_y</th>\n",
       "      <th>P_y</th>\n",
       "      <th>Q_y</th>\n",
       "      <th>Direction_y</th>\n",
       "      <th>_merge</th>\n",
       "    </tr>\n",
       "  </thead>\n",
       "  <tbody>\n",
       "    <tr>\n",
       "      <th>0</th>\n",
       "      <td>3549</td>\n",
       "      <td>Tdub_V1_scaffold_10</td>\n",
       "      <td>404401</td>\n",
       "      <td>NaN</td>\n",
       "      <td>NaN</td>\n",
       "      <td>NaN</td>\n",
       "      <td>NaN</td>\n",
       "      <td>NaN</td>\n",
       "      <td>404700.0</td>\n",
       "      <td>*</td>\n",
       "      <td>0.0</td>\n",
       "      <td>0.000000e+00</td>\n",
       "      <td>36.137255</td>\n",
       "      <td>right_only</td>\n",
       "    </tr>\n",
       "    <tr>\n",
       "      <th>1</th>\n",
       "      <td>3550</td>\n",
       "      <td>Tdub_V1_scaffold_10</td>\n",
       "      <td>471601</td>\n",
       "      <td>NaN</td>\n",
       "      <td>NaN</td>\n",
       "      <td>NaN</td>\n",
       "      <td>NaN</td>\n",
       "      <td>NaN</td>\n",
       "      <td>471900.0</td>\n",
       "      <td>*</td>\n",
       "      <td>0.0</td>\n",
       "      <td>0.000000e+00</td>\n",
       "      <td>-65.259926</td>\n",
       "      <td>right_only</td>\n",
       "    </tr>\n",
       "    <tr>\n",
       "      <th>2</th>\n",
       "      <td>3551</td>\n",
       "      <td>Tdub_V1_scaffold_10</td>\n",
       "      <td>471901</td>\n",
       "      <td>NaN</td>\n",
       "      <td>NaN</td>\n",
       "      <td>NaN</td>\n",
       "      <td>NaN</td>\n",
       "      <td>NaN</td>\n",
       "      <td>472200.0</td>\n",
       "      <td>*</td>\n",
       "      <td>0.0</td>\n",
       "      <td>0.000000e+00</td>\n",
       "      <td>-51.932773</td>\n",
       "      <td>right_only</td>\n",
       "    </tr>\n",
       "    <tr>\n",
       "      <th>3</th>\n",
       "      <td>3552</td>\n",
       "      <td>Tdub_V1_scaffold_10</td>\n",
       "      <td>618601</td>\n",
       "      <td>NaN</td>\n",
       "      <td>NaN</td>\n",
       "      <td>NaN</td>\n",
       "      <td>NaN</td>\n",
       "      <td>NaN</td>\n",
       "      <td>618900.0</td>\n",
       "      <td>*</td>\n",
       "      <td>0.0</td>\n",
       "      <td>4.000000e-16</td>\n",
       "      <td>37.597405</td>\n",
       "      <td>right_only</td>\n",
       "    </tr>\n",
       "    <tr>\n",
       "      <th>4</th>\n",
       "      <td>3553</td>\n",
       "      <td>Tdub_V1_scaffold_10006</td>\n",
       "      <td>19801</td>\n",
       "      <td>NaN</td>\n",
       "      <td>NaN</td>\n",
       "      <td>NaN</td>\n",
       "      <td>NaN</td>\n",
       "      <td>NaN</td>\n",
       "      <td>20100.0</td>\n",
       "      <td>*</td>\n",
       "      <td>0.0</td>\n",
       "      <td>0.000000e+00</td>\n",
       "      <td>-66.298343</td>\n",
       "      <td>right_only</td>\n",
       "    </tr>\n",
       "  </tbody>\n",
       "</table>\n",
       "</div>"
      ],
      "text/plain": [
       "   Unnamed: 0                Scaffold   Start  End_x  Strand_x  P_x  Q_x  \\\n",
       "0        3549     Tdub_V1_scaffold_10  404401    NaN       NaN  NaN  NaN   \n",
       "1        3550     Tdub_V1_scaffold_10  471601    NaN       NaN  NaN  NaN   \n",
       "2        3551     Tdub_V1_scaffold_10  471901    NaN       NaN  NaN  NaN   \n",
       "3        3552     Tdub_V1_scaffold_10  618601    NaN       NaN  NaN  NaN   \n",
       "4        3553  Tdub_V1_scaffold_10006   19801    NaN       NaN  NaN  NaN   \n",
       "\n",
       "   Direction_x     End_y Strand_y  P_y           Q_y  Direction_y      _merge  \n",
       "0          NaN  404700.0        *  0.0  0.000000e+00    36.137255  right_only  \n",
       "1          NaN  471900.0        *  0.0  0.000000e+00   -65.259926  right_only  \n",
       "2          NaN  472200.0        *  0.0  0.000000e+00   -51.932773  right_only  \n",
       "3          NaN  618900.0        *  0.0  4.000000e-16    37.597405  right_only  \n",
       "4          NaN   20100.0        *  0.0  0.000000e+00   -66.298343  right_only  "
      ]
     },
     "execution_count": 4,
     "metadata": {},
     "output_type": "execute_result"
    }
   ],
   "source": [
    "InFile1.head()"
   ]
  },
  {
   "cell_type": "code",
   "execution_count": 5,
   "id": "61b26696-c40c-437c-9031-688a47bbb811",
   "metadata": {},
   "outputs": [],
   "source": [
    "InFile1_pos = InFile1[InFile1['Direction_y'] > 0]\n",
    "InFile1_pos.to_csv(\"/blue/soltis/shan158538/Methylation/OutPut/DMG_identification/CG/Unique_subgenomes_methylDiff_pos.txt\", sep=Delimiter, header=True, index=False)"
   ]
  },
  {
   "cell_type": "code",
   "execution_count": 6,
   "id": "aed02e7d-1904-434c-a49f-91ac99239861",
   "metadata": {},
   "outputs": [],
   "source": [
    "InFile1_neg = InFile1[InFile1['Direction_y'] < 0]\n",
    "InFile1_neg.to_csv(\"/blue/soltis/shan158538/Methylation/OutPut/DMG_identification/CG/Unique_subgenomes_methylDiff_neg.txt\", sep=Delimiter, header=True, index=False)"
   ]
  },
  {
   "cell_type": "code",
   "execution_count": 9,
   "id": "7f43b8cf-1462-4be5-922b-26bede83ef33",
   "metadata": {},
   "outputs": [],
   "source": [
    "InFileName2 = \"/blue/soltis/shan158538/Methylation/OutPut/DMG_identification/CG/Unique_parents_methylDiff_all.txt\"\n",
    "InFile2 = pd.read_csv(InFileName2, sep=Delimiter)"
   ]
  },
  {
   "cell_type": "code",
   "execution_count": 11,
   "id": "ba0f8448-c5a4-4bb1-9600-7e3b5e9120df",
   "metadata": {},
   "outputs": [],
   "source": [
    "InFile2_pos = InFile2[InFile2['Direction_x'] > 0]\n",
    "InFile2_pos.to_csv(\"/blue/soltis/shan158538/Methylation/OutPut/DMG_identification/CG/Unique_parents_methylDiff_pos.txt\", sep=Delimiter, header=True, index=False)"
   ]
  },
  {
   "cell_type": "code",
   "execution_count": 12,
   "id": "c43d6842-097a-4bc5-b5a1-f9ac672c81e5",
   "metadata": {},
   "outputs": [],
   "source": [
    "InFile2_neg = InFile2[InFile2['Direction_x'] < 0]\n",
    "InFile2_neg.to_csv(\"/blue/soltis/shan158538/Methylation/OutPut/DMG_identification/CG/Unique_parents_methylDiff_neg.txt\", sep=Delimiter, header=True, index=False)"
   ]
  },
  {
   "cell_type": "code",
   "execution_count": 14,
   "id": "4ad8552b-366e-43b5-9b2f-0d30fbfdaca9",
   "metadata": {},
   "outputs": [],
   "source": [
    "InFileName3 = \"/blue/soltis/shan158538/Methylation/OutPut/DMG_identification/CG/Overlap_same_direction_parents_methylDiff_all_subgenomes_methylDiff_all.txt\"\n",
    "InFile3 = pd.read_csv(InFileName3, sep=Delimiter)"
   ]
  },
  {
   "cell_type": "code",
   "execution_count": 15,
   "id": "150b3043-45ad-4801-9f1d-240e2ca474ef",
   "metadata": {},
   "outputs": [],
   "source": [
    "InFile3_pos = InFile3[InFile3['Direction_x'] > 0]\n",
    "InFile3_pos.to_csv(\"/blue/soltis/shan158538/Methylation/OutPut/DMG_identification/CG/Overlap_same_direction_parents_methylDiff_pos_subgenomes_methylDiff_pos.txt\", sep=Delimiter, header=True, index=False)"
   ]
  },
  {
   "cell_type": "code",
   "execution_count": 16,
   "id": "3f398c17-3ea2-4739-80b5-4658eb4f3a4a",
   "metadata": {},
   "outputs": [],
   "source": [
    "InFile3_neg = InFile3[InFile3['Direction_x'] < 0]\n",
    "InFile3_neg.to_csv(\"/blue/soltis/shan158538/Methylation/OutPut/DMG_identification/CG/Overlap_same_direction_parents_methylDiff_neg_subgenomes_methylDiff_neg.txt\", sep=Delimiter, header=True, index=False)\n"
   ]
  },
  {
   "cell_type": "code",
   "execution_count": null,
   "id": "9399a52a-b62f-4f4e-aca7-389869c5b17a",
   "metadata": {},
   "outputs": [],
   "source": []
  }
 ],
 "metadata": {
  "kernelspec": {
   "display_name": "Python 3 (ipykernel)",
   "language": "python",
   "name": "python3"
  },
  "language_info": {
   "codemirror_mode": {
    "name": "ipython",
    "version": 3
   },
   "file_extension": ".py",
   "mimetype": "text/x-python",
   "name": "python",
   "nbconvert_exporter": "python",
   "pygments_lexer": "ipython3",
   "version": "3.10.12"
  }
 },
 "nbformat": 4,
 "nbformat_minor": 5
}
