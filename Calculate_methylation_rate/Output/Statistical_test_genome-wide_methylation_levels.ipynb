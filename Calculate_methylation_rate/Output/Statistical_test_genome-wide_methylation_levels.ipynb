{
 "cells": [
  {
   "cell_type": "code",
   "execution_count": 9,
   "id": "77595395-a8c9-4325-88cb-c89be3adf9a5",
   "metadata": {
    "tags": []
   },
   "outputs": [],
   "source": [
    "from scipy.stats import bartlett\n",
    "import pandas as pd\n",
    "import statsmodels.api as sm\n",
    "from statsmodels.formula.api import ols\n",
    "from statsmodels.stats.multicomp import pairwise_tukeyhsd\n",
    "import scipy.stats as stats\n",
    "import numpy as np"
   ]
  },
  {
   "cell_type": "markdown",
   "id": "d8d396f6-a5d3-4afb-9d89-fb09791ec1d3",
   "metadata": {},
   "source": [
    "## CG context; genome wide methylation level"
   ]
  },
  {
   "cell_type": "markdown",
   "id": "e06aca33-b4af-48f1-84c3-7b2af05012ae",
   "metadata": {},
   "source": [
    "### Variance homo test"
   ]
  },
  {
   "cell_type": "code",
   "execution_count": 10,
   "id": "79408b68-a726-4fb0-8674-f8fbd49bbe48",
   "metadata": {
    "tags": []
   },
   "outputs": [
    {
     "name": "stdout",
     "output_type": "stream",
     "text": [
      "0.7388403468985676 0.6911349528762308\n"
     ]
    }
   ],
   "source": [
    "CG_Tdu_genome_wide = [0.9019257154942122, 0.8914492423657467]\n",
    "CG_Tpr_genome_wide = [0.8449125121524577, 0.8592915816350719]\n",
    "CG_Tms_genome_wide = [0.8705786657582499, 0.8659178491131588]\n",
    "statistic, p_value = bartlett(CG_Tdu_genome_wide, CG_Tpr_genome_wide, CG_Tms_genome_wide)\n",
    "print(statistic, p_value)"
   ]
  },
  {
   "cell_type": "markdown",
   "id": "68e6b6f2-383d-4998-a82c-c1b381b4b138",
   "metadata": {},
   "source": [
    "### ANOVA and post hoc Tukey"
   ]
  },
  {
   "cell_type": "code",
   "execution_count": 8,
   "id": "928c0515-b58e-4c8a-8d7c-b7177efc93ed",
   "metadata": {},
   "outputs": [
    {
     "name": "stdout",
     "output_type": "stream",
     "text": [
      "ANOVA results:\n",
      "            df    sum_sq   mean_sq          F    PR(>F)\n",
      "species   2.0  0.002038  0.001019  18.078135  0.021207\n",
      "Residual  3.0  0.000169  0.000056        NaN       NaN\n",
      "\n",
      "Post hoc test results:\n",
      " Multiple Comparison of Means - Tukey HSD, FWER=0.05 \n",
      "====================================================\n",
      "group1 group2 meandiff p-adj   lower   upper  reject\n",
      "----------------------------------------------------\n",
      "   Tdu    Tms  -0.0284 0.0643 -0.0598  0.0029  False\n",
      "   Tdu    Tpr  -0.0446 0.0194  -0.076 -0.0132   True\n",
      "   Tms    Tpr  -0.0161 0.2267 -0.0475  0.0152  False\n",
      "----------------------------------------------------\n"
     ]
    }
   ],
   "source": [
    "CG_genome_wide = pd.DataFrame({'species': ['Tdu', 'Tdu', 'Tpr', 'Tpr', 'Tms', 'Tms'],\n",
    "                          'methylation': [0.9019257154942122, 0.8914492423657467, 0.8449125121524577, 0.8592915816350719, 0.8705786657582499, 0.8659178491131588]})\n",
    "model = ols('methylation ~ species', data=CG_genome_wide).fit()\n",
    "anova_table = sm.stats.anova_lm(model)\n",
    "\n",
    "posthoc = pairwise_tukeyhsd(CG_genome_wide['methylation'], CG_genome_wide['species'])\n",
    "\n",
    "print(\"ANOVA results:\\n\", anova_table)\n",
    "print(\"\\nPost hoc test results:\\n\", posthoc)"
   ]
  },
  {
   "cell_type": "markdown",
   "id": "2464d541-1f04-4820-bf74-d0c0783ac766",
   "metadata": {},
   "source": [
    "### Tms vs MPV"
   ]
  },
  {
   "cell_type": "code",
   "execution_count": 11,
   "id": "43ffb07a-0abb-48b0-9097-b34ee182387d",
   "metadata": {
    "tags": []
   },
   "outputs": [
    {
     "name": "stdout",
     "output_type": "stream",
     "text": [
      "T-Statistic: -2.6375229682726733\n",
      "P-Value: 0.23071003336777324\n"
     ]
    }
   ],
   "source": [
    "Tms = np.array([0.8705786657582499, 0.8659178491131588])\n",
    "MPV = np.mean(CG_Tdu_genome_wide + CG_Tpr_genome_wide)\n",
    "\n",
    "t_statistic, p_value = stats.ttest_1samp(Tms, MPV)\n",
    "\n",
    "print(\"T-Statistic:\", t_statistic)\n",
    "print(\"P-Value:\", p_value)"
   ]
  },
  {
   "cell_type": "markdown",
   "id": "aa04c12f-80e9-4d70-b461-9630dbbba50d",
   "metadata": {},
   "source": [
    "## CHG context; genome wide methylation level"
   ]
  },
  {
   "cell_type": "markdown",
   "id": "ce281d9c-4140-4890-b93a-eec4f826244c",
   "metadata": {},
   "source": [
    "### Variance homo test"
   ]
  },
  {
   "cell_type": "code",
   "execution_count": 14,
   "id": "53adf565-cfb9-464d-b79e-aed426b60f10",
   "metadata": {
    "tags": []
   },
   "outputs": [
    {
     "name": "stdout",
     "output_type": "stream",
     "text": [
      "0.5134356022084625 0.7735864882183526\n"
     ]
    }
   ],
   "source": [
    "CHG_Tdu_genome_wide = [0.7400100633331924, 0.7242402876397463]\n",
    "CHG_Tpr_genome_wide = [0.6740839300527761, 0.6929469612134965]\n",
    "CHG_Tms_genome_wide = [0.6892210409240979, 0.6816075744576451]\n",
    "statistic, p_value = bartlett(CHG_Tdu_genome_wide, CHG_Tpr_genome_wide, CHG_Tms_genome_wide)\n",
    "print(statistic, p_value)"
   ]
  },
  {
   "cell_type": "markdown",
   "id": "af29072b-f45c-4bc8-9812-69e9d36c9e64",
   "metadata": {},
   "source": [
    "### ANOVA and post hoc Tukey"
   ]
  },
  {
   "cell_type": "code",
   "execution_count": 15,
   "id": "55449028-79a2-4c2c-ac0e-2334e9ded0f5",
   "metadata": {
    "tags": []
   },
   "outputs": [
    {
     "name": "stdout",
     "output_type": "stream",
     "text": [
      "ANOVA results:\n",
      "            df    sum_sq   mean_sq          F    PR(>F)\n",
      "species   2.0  0.003032  0.001516  13.731802  0.030904\n",
      "Residual  3.0  0.000331  0.000110        NaN       NaN\n",
      "\n",
      "Post hoc test results:\n",
      " Multiple Comparison of Means - Tukey HSD, FWER=0.05 \n",
      "====================================================\n",
      "group1 group2 meandiff p-adj   lower   upper  reject\n",
      "----------------------------------------------------\n",
      "   Tdu    Tms  -0.0467 0.0425 -0.0906 -0.0028   True\n",
      "   Tdu    Tpr  -0.0486 0.0383 -0.0925 -0.0047   True\n",
      "   Tms    Tpr  -0.0019 0.9823 -0.0458   0.042  False\n",
      "----------------------------------------------------\n"
     ]
    }
   ],
   "source": [
    "CHG_genome_wide = pd.DataFrame({'species': ['Tdu', 'Tdu', 'Tpr', 'Tpr', 'Tms', 'Tms'],\n",
    "                          'methylation': [0.7400100633331924, 0.7242402876397463, 0.6740839300527761, 0.6929469612134965, 0.6892210409240979, 0.6816075744576451]})\n",
    "model = ols('methylation ~ species', data=CHG_genome_wide).fit()\n",
    "anova_table = sm.stats.anova_lm(model)\n",
    "\n",
    "posthoc = pairwise_tukeyhsd(CHG_genome_wide['methylation'], CHG_genome_wide['species'])\n",
    "\n",
    "print(\"ANOVA results:\\n\", anova_table)\n",
    "print(\"\\nPost hoc test results:\\n\", posthoc)"
   ]
  },
  {
   "cell_type": "markdown",
   "id": "72d9da64-a0c8-44d2-8c4f-e9bcd26ea9b8",
   "metadata": {},
   "source": [
    "### Tms vs MPV"
   ]
  },
  {
   "cell_type": "code",
   "execution_count": 16,
   "id": "fe5f2a84-697a-46da-8083-c7b8e7eaae9d",
   "metadata": {
    "tags": []
   },
   "outputs": [
    {
     "name": "stdout",
     "output_type": "stream",
     "text": [
      "T-Statistic: -5.885887320226351\n",
      "P-Value: 0.10713734027481443\n"
     ]
    }
   ],
   "source": [
    "Tms = np.array([0.6892210409240979, 0.6816075744576451])\n",
    "MPV = np.mean(CHG_Tdu_genome_wide + CHG_Tpr_genome_wide)\n",
    "\n",
    "t_statistic, p_value = stats.ttest_1samp(Tms, MPV)\n",
    "\n",
    "print(\"T-Statistic:\", t_statistic)\n",
    "print(\"P-Value:\", p_value)"
   ]
  },
  {
   "cell_type": "markdown",
   "id": "b60f0c40-e760-4b04-a844-620444fe5db5",
   "metadata": {},
   "source": [
    "## CHH context; genome wide methylation level"
   ]
  },
  {
   "cell_type": "markdown",
   "id": "17f67e79-6c6d-4fc1-95a1-11636cfff11f",
   "metadata": {},
   "source": [
    "### Variance homo test"
   ]
  },
  {
   "cell_type": "code",
   "execution_count": 18,
   "id": "1116350d-4b7b-4b15-9a6d-4919339ee5d9",
   "metadata": {
    "tags": []
   },
   "outputs": [
    {
     "name": "stdout",
     "output_type": "stream",
     "text": [
      "1.3017311463750418 0.5215941034403512\n"
     ]
    }
   ],
   "source": [
    "CHH_Tdu_genome_wide = [0.10027441958845365, 0.11646725561245197]\n",
    "CHH_Tpr_genome_wide = [0.09374047934202714, 0.1010612785565267]\n",
    "CHH_Tms_genome_wide = [0.10643238846709101, 0.10262629538960003]\n",
    "statistic, p_value = bartlett(CHH_Tdu_genome_wide, CHH_Tpr_genome_wide, CHH_Tms_genome_wide)\n",
    "print(statistic, p_value)"
   ]
  },
  {
   "cell_type": "markdown",
   "id": "81dd39c5-715a-4664-b0fb-368802cada7f",
   "metadata": {},
   "source": [
    "### ANOVA and post hoc Tukey"
   ]
  },
  {
   "cell_type": "code",
   "execution_count": 19,
   "id": "e46d76b3-702a-44a8-b3a2-d2ca7ca1b137",
   "metadata": {
    "tags": []
   },
   "outputs": [
    {
     "name": "stdout",
     "output_type": "stream",
     "text": [
      "ANOVA results:\n",
      "            df    sum_sq   mean_sq         F    PR(>F)\n",
      "species   2.0  0.000124  0.000062  1.125756  0.431773\n",
      "Residual  3.0  0.000165  0.000055       NaN       NaN\n",
      "\n",
      "Post hoc test results:\n",
      " Multiple Comparison of Means - Tukey HSD, FWER=0.05\n",
      "===================================================\n",
      "group1 group2 meandiff p-adj   lower  upper  reject\n",
      "---------------------------------------------------\n",
      "   Tdu    Tms  -0.0038 0.8686 -0.0348 0.0272  False\n",
      "   Tdu    Tpr   -0.011  0.414  -0.042   0.02  False\n",
      "   Tms    Tpr  -0.0071 0.6458 -0.0381 0.0239  False\n",
      "---------------------------------------------------\n"
     ]
    }
   ],
   "source": [
    "CHH_genome_wide = pd.DataFrame({'species': ['Tdu', 'Tdu', 'Tpr', 'Tpr', 'Tms', 'Tms'],\n",
    "                          'methylation': [0.10027441958845365, 0.11646725561245197, 0.09374047934202714, 0.1010612785565267, 0.10643238846709101, 0.10262629538960003]})\n",
    "model = ols('methylation ~ species', data=CHH_genome_wide).fit()\n",
    "anova_table = sm.stats.anova_lm(model)\n",
    "\n",
    "posthoc = pairwise_tukeyhsd(CHH_genome_wide['methylation'], CHH_genome_wide['species'])\n",
    "\n",
    "print(\"ANOVA results:\\n\", anova_table)\n",
    "print(\"\\nPost hoc test results:\\n\", posthoc)"
   ]
  },
  {
   "cell_type": "markdown",
   "id": "184248b9-74d8-4e9a-992a-d015c3b097fd",
   "metadata": {},
   "source": [
    "### Tms vs MPV"
   ]
  },
  {
   "cell_type": "code",
   "execution_count": 20,
   "id": "c49cc719-25d6-4186-95f7-f9d8f4a87beb",
   "metadata": {
    "tags": []
   },
   "outputs": [
    {
     "name": "stdout",
     "output_type": "stream",
     "text": [
      "T-Statistic: 0.8636066538677756\n",
      "P-Value: 0.5465099016975564\n"
     ]
    }
   ],
   "source": [
    "Tms = np.array([0.10643238846709101, 0.10262629538960003])\n",
    "MPV = np.mean(CHH_Tdu_genome_wide + CHH_Tpr_genome_wide)\n",
    "\n",
    "t_statistic, p_value = stats.ttest_1samp(Tms, MPV)\n",
    "\n",
    "print(\"T-Statistic:\", t_statistic)\n",
    "print(\"P-Value:\", p_value)"
   ]
  },
  {
   "cell_type": "code",
   "execution_count": null,
   "id": "96ca349c-6ce0-4d1c-8696-05197efa4d4a",
   "metadata": {},
   "outputs": [],
   "source": []
  }
 ],
 "metadata": {
  "kernelspec": {
   "display_name": "PyTorch-1.10",
   "language": "python",
   "name": "pytorch-1.10"
  },
  "language_info": {
   "codemirror_mode": {
    "name": "ipython",
    "version": 3
   },
   "file_extension": ".py",
   "mimetype": "text/x-python",
   "name": "python",
   "nbconvert_exporter": "python",
   "pygments_lexer": "ipython3",
   "version": "3.9.7"
  }
 },
 "nbformat": 4,
 "nbformat_minor": 5
}
