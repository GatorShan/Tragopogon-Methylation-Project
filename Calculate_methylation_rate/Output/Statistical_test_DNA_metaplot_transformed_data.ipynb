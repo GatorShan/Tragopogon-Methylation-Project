{
 "cells": [
  {
   "cell_type": "code",
   "execution_count": 1,
   "id": "77595395-a8c9-4325-88cb-c89be3adf9a5",
   "metadata": {
    "tags": []
   },
   "outputs": [],
   "source": [
    "from scipy.stats import bartlett\n",
    "import pandas as pd\n",
    "import statsmodels.api as sm\n",
    "from statsmodels.formula.api import ols\n",
    "from statsmodels.stats.multicomp import pairwise_tukeyhsd\n",
    "import scipy.stats as stats\n",
    "import numpy as np"
   ]
  },
  {
   "cell_type": "markdown",
   "id": "f8068d97-0a65-4cc5-a3b3-a37658ad08d7",
   "metadata": {},
   "source": [
    "## The following test used the arcsine square root transformed data\n",
    "## The methylation levels are from excel files: CG/CHG/CHH_anova_new_LINE_DNA.xlsx"
   ]
  },
  {
   "cell_type": "markdown",
   "id": "d8d396f6-a5d3-4afb-9d89-fb09791ec1d3",
   "metadata": {},
   "source": [
    "## CG context; DNA; upstream"
   ]
  },
  {
   "cell_type": "code",
   "execution_count": 2,
   "id": "a318f191-84ee-4927-8c97-b7b6cbb65d84",
   "metadata": {
    "tags": []
   },
   "outputs": [],
   "source": [
    "CG_Tdu_DNA_upstream = [0.892359313, 0.876552317]\n",
    "CG_Tpr_DNA_upstream = [0.823259096, 0.847373947]\n",
    "CG_Tms_DNA_upstream = [0.856445535, 0.845975067]\n",
    "\n",
    "Trans_CG_Tdu_DNA_upstream = np.arcsin(np.sqrt(CG_Tdu_DNA_upstream)).tolist()\n",
    "Trans_CG_Tpr_DNA_upstream = np.arcsin(np.sqrt(CG_Tpr_DNA_upstream)).tolist()\n",
    "Trans_CG_Tms_DNA_upstream = np.arcsin(np.sqrt(CG_Tms_DNA_upstream)).tolist()"
   ]
  },
  {
   "cell_type": "markdown",
   "id": "e06aca33-b4af-48f1-84c3-7b2af05012ae",
   "metadata": {},
   "source": [
    "### Variance homo test"
   ]
  },
  {
   "cell_type": "code",
   "execution_count": 3,
   "id": "79408b68-a726-4fb0-8674-f8fbd49bbe48",
   "metadata": {
    "tags": []
   },
   "outputs": [
    {
     "name": "stdout",
     "output_type": "stream",
     "text": [
      "0.39692414795633096 0.8199908691422889\n"
     ]
    }
   ],
   "source": [
    "statistic, p_value = bartlett(Trans_CG_Tdu_DNA_upstream, Trans_CG_Tpr_DNA_upstream, Trans_CG_Tms_DNA_upstream)\n",
    "print(statistic, p_value)"
   ]
  },
  {
   "cell_type": "markdown",
   "id": "68e6b6f2-383d-4998-a82c-c1b381b4b138",
   "metadata": {},
   "source": [
    "### ANOVA and post hoc Tukey"
   ]
  },
  {
   "cell_type": "code",
   "execution_count": 4,
   "id": "928c0515-b58e-4c8a-8d7c-b7177efc93ed",
   "metadata": {},
   "outputs": [
    {
     "name": "stdout",
     "output_type": "stream",
     "text": [
      "ANOVA results:\n",
      "            df    sum_sq   mean_sq         F    PR(>F)\n",
      "species   2.0  0.005293  0.002646  8.416933  0.058826\n",
      "Residual  3.0  0.000943  0.000314       NaN       NaN\n",
      "\n",
      "Post hoc test results:\n",
      " Multiple Comparison of Means - Tukey HSD, FWER=0.05\n",
      "===================================================\n",
      "group1 group2 meandiff p-adj   lower  upper  reject\n",
      "---------------------------------------------------\n",
      "   Tdu    Tms  -0.0493 0.1338 -0.1234 0.0248  False\n",
      "   Tdu    Tpr   -0.071 0.0558 -0.1451 0.0031  False\n",
      "   Tms    Tpr  -0.0217 0.5194 -0.0958 0.0524  False\n",
      "---------------------------------------------------\n"
     ]
    }
   ],
   "source": [
    "CG_DNA_upstream = pd.DataFrame({'species': ['Tdu', 'Tdu', 'Tpr', 'Tpr', 'Tms', 'Tms'],\n",
    "                          'methylation': Trans_CG_Tdu_DNA_upstream + Trans_CG_Tpr_DNA_upstream + Trans_CG_Tms_DNA_upstream})\n",
    "model = ols('methylation ~ species', data=CG_DNA_upstream).fit()\n",
    "anova_table = sm.stats.anova_lm(model)\n",
    "\n",
    "posthoc = pairwise_tukeyhsd(CG_DNA_upstream['methylation'], CG_DNA_upstream['species'])\n",
    "\n",
    "print(\"ANOVA results:\\n\", anova_table)\n",
    "print(\"\\nPost hoc test results:\\n\", posthoc)"
   ]
  },
  {
   "cell_type": "markdown",
   "id": "338e8be2-569c-4469-9055-d6d66f5554be",
   "metadata": {},
   "source": [
    "## CG context; DNA; body"
   ]
  },
  {
   "cell_type": "code",
   "execution_count": 5,
   "id": "bd6fd08d-ed84-4d47-b0b7-c5dcc09f145b",
   "metadata": {
    "tags": []
   },
   "outputs": [],
   "source": [
    "CG_Tdu_DNA_body = [0.940752831, 0.940052927]\n",
    "CG_Tpr_DNA_body = [0.907191895, 0.914563048]\n",
    "CG_Tms_DNA_body = [0.925654546, 0.925261758]\n",
    "\n",
    "Trans_CG_Tdu_DNA_body = np.arcsin(np.sqrt(CG_Tdu_DNA_body)).tolist()\n",
    "Trans_CG_Tpr_DNA_body = np.arcsin(np.sqrt(CG_Tpr_DNA_body)).tolist()\n",
    "Trans_CG_Tms_DNA_body = np.arcsin(np.sqrt(CG_Tms_DNA_body)).tolist()"
   ]
  },
  {
   "cell_type": "code",
   "execution_count": 6,
   "id": "0f11d2c8-cb85-4774-9c9d-62c9376b513e",
   "metadata": {
    "tags": []
   },
   "outputs": [
    {
     "name": "stdout",
     "output_type": "stream",
     "text": [
      "4.703095436886438 0.0952216717705572\n"
     ]
    }
   ],
   "source": [
    "statistic, p_value = bartlett(Trans_CG_Tdu_DNA_body, Trans_CG_Tpr_DNA_body, Trans_CG_Tms_DNA_body)\n",
    "print(statistic, p_value)"
   ]
  },
  {
   "cell_type": "code",
   "execution_count": 7,
   "id": "202e65ba-0a70-4198-aee6-7db5c65f7dfd",
   "metadata": {
    "tags": []
   },
   "outputs": [
    {
     "name": "stdout",
     "output_type": "stream",
     "text": [
      "ANOVA results:\n",
      "            df    sum_sq   mean_sq          F    PR(>F)\n",
      "species   2.0  0.003194  0.001597  56.313246  0.004179\n",
      "Residual  3.0  0.000085  0.000028        NaN       NaN\n",
      "\n",
      "Post hoc test results:\n",
      " Multiple Comparison of Means - Tukey HSD, FWER=0.05 \n",
      "====================================================\n",
      "group1 group2 meandiff p-adj   lower   upper  reject\n",
      "----------------------------------------------------\n",
      "   Tdu    Tms  -0.0299 0.0226 -0.0522 -0.0077   True\n",
      "   Tdu    Tpr  -0.0565 0.0037 -0.0787 -0.0342   True\n",
      "   Tms    Tpr  -0.0266 0.0313 -0.0488 -0.0043   True\n",
      "----------------------------------------------------\n"
     ]
    }
   ],
   "source": [
    "CG_DNA_body = pd.DataFrame({'species': ['Tdu', 'Tdu', 'Tpr', 'Tpr', 'Tms', 'Tms'],\n",
    "                          'methylation': Trans_CG_Tdu_DNA_body + Trans_CG_Tpr_DNA_body + Trans_CG_Tms_DNA_body})\n",
    "model = ols('methylation ~ species', data=CG_DNA_body).fit()\n",
    "anova_table = sm.stats.anova_lm(model)\n",
    "\n",
    "posthoc = pairwise_tukeyhsd(CG_DNA_body['methylation'], CG_DNA_body['species'])\n",
    "\n",
    "print(\"ANOVA results:\\n\", anova_table)\n",
    "print(\"\\nPost hoc test results:\\n\", posthoc)"
   ]
  },
  {
   "cell_type": "code",
   "execution_count": 8,
   "id": "7df47b15-ac1a-4b73-a8ec-7c63e5739464",
   "metadata": {
    "tags": []
   },
   "outputs": [
    {
     "name": "stdout",
     "output_type": "stream",
     "text": [
      "T-Statistic: -0.9268269397223964\n",
      "P-Value: 0.5241646209166707\n"
     ]
    }
   ],
   "source": [
    "t_statistic, p_value = stats.ttest_1samp(CG_Tms_DNA_body, np.mean(CG_Tdu_DNA_body + CG_Tpr_DNA_body))\n",
    "\n",
    "print(\"T-Statistic:\", t_statistic)\n",
    "print(\"P-Value:\", p_value)"
   ]
  },
  {
   "cell_type": "markdown",
   "id": "962a512a-c43f-43dc-8aaa-5371347b40e1",
   "metadata": {},
   "source": [
    "## CG context; DNA; downstream"
   ]
  },
  {
   "cell_type": "code",
   "execution_count": 9,
   "id": "e3e089f1-864b-4c2d-8485-9d9da3e7a460",
   "metadata": {
    "tags": []
   },
   "outputs": [],
   "source": [
    "CG_Tdu_DNA_down = [0.899022624, 0.882461451]\n",
    "CG_Tpr_DNA_down = [0.832479779, 0.853148736]\n",
    "CG_Tms_DNA_down = [0.862705425, 0.854376165]\n",
    "\n",
    "Trans_CG_Tdu_DNA_down = np.arcsin(np.sqrt(CG_Tdu_DNA_down)).tolist()\n",
    "Trans_CG_Tpr_DNA_down = np.arcsin(np.sqrt(CG_Tpr_DNA_down)).tolist()\n",
    "Trans_CG_Tms_DNA_down = np.arcsin(np.sqrt(CG_Tms_DNA_down)).tolist()"
   ]
  },
  {
   "cell_type": "code",
   "execution_count": 10,
   "id": "adca5711-64e8-40e8-a9a8-710f3fdd0b00",
   "metadata": {
    "tags": []
   },
   "outputs": [
    {
     "name": "stdout",
     "output_type": "stream",
     "text": [
      "0.5022590966904905 0.7779215865765629\n"
     ]
    }
   ],
   "source": [
    "statistic, p_value = bartlett(Trans_CG_Tdu_DNA_down, Trans_CG_Tpr_DNA_down, Trans_CG_Tms_DNA_down)\n",
    "print(statistic, p_value)"
   ]
  },
  {
   "cell_type": "code",
   "execution_count": 11,
   "id": "5404cc8c-c644-49fa-a142-3243ff285a1c",
   "metadata": {
    "tags": []
   },
   "outputs": [
    {
     "name": "stdout",
     "output_type": "stream",
     "text": [
      "ANOVA results:\n",
      "            df    sum_sq   mean_sq         F    PR(>F)\n",
      "species   2.0  0.005258  0.002629  9.529145  0.050156\n",
      "Residual  3.0  0.000828  0.000276       NaN       NaN\n",
      "\n",
      "Post hoc test results:\n",
      " Multiple Comparison of Means - Tukey HSD, FWER=0.05 \n",
      "====================================================\n",
      "group1 group2 meandiff p-adj   lower   upper  reject\n",
      "----------------------------------------------------\n",
      "   Tdu    Tms  -0.0489 0.1177 -0.1183  0.0205  False\n",
      "   Tdu    Tpr  -0.0708 0.0475 -0.1402 -0.0014   True\n",
      "   Tms    Tpr  -0.0219 0.4772 -0.0913  0.0475  False\n",
      "----------------------------------------------------\n"
     ]
    }
   ],
   "source": [
    "CG_DNA_down = pd.DataFrame({'species': ['Tdu', 'Tdu', 'Tpr', 'Tpr', 'Tms', 'Tms'],\n",
    "                          'methylation': Trans_CG_Tdu_DNA_down + Trans_CG_Tpr_DNA_down + Trans_CG_Tms_DNA_down})\n",
    "model = ols('methylation ~ species', data=CG_DNA_down).fit()\n",
    "anova_table = sm.stats.anova_lm(model)\n",
    "\n",
    "posthoc = pairwise_tukeyhsd(CG_DNA_down['methylation'], CG_DNA_down['species'])\n",
    "\n",
    "print(\"ANOVA results:\\n\", anova_table)\n",
    "print(\"\\nPost hoc test results:\\n\", posthoc)"
   ]
  },
  {
   "cell_type": "markdown",
   "id": "e81f1fa8-48bc-4f00-8b1e-7000c2c8a3a2",
   "metadata": {},
   "source": [
    "## CHG; DNA; upstream"
   ]
  },
  {
   "cell_type": "code",
   "execution_count": 12,
   "id": "941a3d98-4c09-4e36-9b40-6c4ee5e971ca",
   "metadata": {
    "tags": []
   },
   "outputs": [],
   "source": [
    "CHG_Tdu_DNA_upstream = [0.732091786, 0.719637537]\n",
    "CHG_Tpr_DNA_upstream = [0.649912599, 0.676107095]\n",
    "CHG_Tms_DNA_upstream = [0.677726007, 0.666931299]\n",
    "\n",
    "Trans_CHG_Tdu_DNA_upstream = np.arcsin(np.sqrt(CHG_Tdu_DNA_upstream)).tolist()\n",
    "Trans_CHG_Tpr_DNA_upstream = np.arcsin(np.sqrt(CHG_Tpr_DNA_upstream)).tolist()\n",
    "Trans_CHG_Tms_DNA_upstream = np.arcsin(np.sqrt(CHG_Tms_DNA_upstream)).tolist()"
   ]
  },
  {
   "cell_type": "code",
   "execution_count": 13,
   "id": "5cd3086d-fc67-4093-a958-e563f60cae81",
   "metadata": {
    "tags": []
   },
   "outputs": [
    {
     "name": "stdout",
     "output_type": "stream",
     "text": [
      "0.6225316161068299 0.7325191405025384\n"
     ]
    }
   ],
   "source": [
    "statistic, p_value = bartlett(Trans_CHG_Tdu_DNA_upstream, Trans_CHG_Tpr_DNA_upstream, Trans_CHG_Tms_DNA_upstream)\n",
    "print(statistic, p_value)"
   ]
  },
  {
   "cell_type": "code",
   "execution_count": 14,
   "id": "6f570636-8703-4f90-ab22-f4d9c5990ace",
   "metadata": {
    "tags": []
   },
   "outputs": [
    {
     "name": "stdout",
     "output_type": "stream",
     "text": [
      "ANOVA results:\n",
      "            df    sum_sq   mean_sq          F    PR(>F)\n",
      "species   2.0  0.005447  0.002724  14.921237  0.027608\n",
      "Residual  3.0  0.000548  0.000183        NaN       NaN\n",
      "\n",
      "Post hoc test results:\n",
      " Multiple Comparison of Means - Tukey HSD, FWER=0.05 \n",
      "====================================================\n",
      "group1 group2 meandiff p-adj   lower   upper  reject\n",
      "----------------------------------------------------\n",
      "   Tdu    Tms  -0.0584 0.0457 -0.1149  -0.002   True\n",
      "   Tdu    Tpr  -0.0683 0.0302 -0.1247 -0.0118   True\n",
      "   Tms    Tpr  -0.0098 0.7659 -0.0663  0.0466  False\n",
      "----------------------------------------------------\n"
     ]
    }
   ],
   "source": [
    "CHG_DNA_upstream = pd.DataFrame({'species': ['Tdu', 'Tdu', 'Tpr', 'Tpr', 'Tms', 'Tms'],\n",
    "                          'methylation': Trans_CHG_Tdu_DNA_upstream + Trans_CHG_Tpr_DNA_upstream + Trans_CHG_Tms_DNA_upstream})\n",
    "model = ols('methylation ~ species', data=CHG_DNA_upstream).fit()\n",
    "anova_table = sm.stats.anova_lm(model)\n",
    "\n",
    "posthoc = pairwise_tukeyhsd(CHG_DNA_upstream['methylation'], CHG_DNA_upstream['species'])\n",
    "\n",
    "print(\"ANOVA results:\\n\", anova_table)\n",
    "print(\"\\nPost hoc test results:\\n\", posthoc)"
   ]
  },
  {
   "cell_type": "code",
   "execution_count": 16,
   "id": "9b1b2ada-c406-4be7-82b3-bf0f6fbba534",
   "metadata": {
    "tags": []
   },
   "outputs": [
    {
     "name": "stdout",
     "output_type": "stream",
     "text": [
      "T-Statistic: -4.096192551016675\n",
      "P-Value: 0.15243578365125482\n"
     ]
    }
   ],
   "source": [
    "t_statistic, p_value = stats.ttest_1samp(CHG_Tms_DNA_upstream, np.mean(CHG_Tdu_DNA_upstream + CHG_Tpr_DNA_upstream))\n",
    "\n",
    "print(\"T-Statistic:\", t_statistic)\n",
    "print(\"P-Value:\", p_value)"
   ]
  },
  {
   "cell_type": "markdown",
   "id": "d445f83c-b460-43b4-b0c5-8e8d90a401b0",
   "metadata": {},
   "source": [
    "## CHG; DNA; body"
   ]
  },
  {
   "cell_type": "code",
   "execution_count": 17,
   "id": "996443e9-0489-4926-acff-8ddc236d9dcb",
   "metadata": {
    "tags": []
   },
   "outputs": [],
   "source": [
    "CHG_Tdu_DNA_body = [0.768672099, 0.771243756]\n",
    "CHG_Tpr_DNA_body = [0.71515398, 0.723998008]\n",
    "CHG_Tms_DNA_body = [0.730676782, 0.732300465]\n",
    "\n",
    "Trans_CHG_Tdu_DNA_body = np.arcsin(np.sqrt(CHG_Tdu_DNA_body)).tolist()\n",
    "Trans_CHG_Tpr_DNA_body = np.arcsin(np.sqrt(CHG_Tpr_DNA_body)).tolist()\n",
    "Trans_CHG_Tms_DNA_body = np.arcsin(np.sqrt(CHG_Tms_DNA_body)).tolist()"
   ]
  },
  {
   "cell_type": "code",
   "execution_count": 18,
   "id": "ac357e4f-0001-47b9-a7c5-d8a0aaeb2275",
   "metadata": {
    "tags": []
   },
   "outputs": [
    {
     "name": "stdout",
     "output_type": "stream",
     "text": [
      "1.9222266227429134 0.3824668441737024\n"
     ]
    }
   ],
   "source": [
    "statistic, p_value = bartlett(Trans_CHG_Tdu_DNA_body, Trans_CHG_Tpr_DNA_body, Trans_CHG_Tms_DNA_body)\n",
    "print(statistic, p_value)"
   ]
  },
  {
   "cell_type": "code",
   "execution_count": 19,
   "id": "3db11f0b-5bbe-4716-bca1-2b03d6232894",
   "metadata": {
    "tags": []
   },
   "outputs": [
    {
     "name": "stdout",
     "output_type": "stream",
     "text": [
      "ANOVA results:\n",
      "            df    sum_sq   mean_sq           F    PR(>F)\n",
      "species   2.0  0.003668  0.001834  100.400676  0.001786\n",
      "Residual  3.0  0.000055  0.000018         NaN       NaN\n",
      "\n",
      "Post hoc test results:\n",
      " Multiple Comparison of Means - Tukey HSD, FWER=0.05 \n",
      "====================================================\n",
      "group1 group2 meandiff p-adj   lower   upper  reject\n",
      "----------------------------------------------------\n",
      "   Tdu    Tms  -0.0445 0.0039 -0.0624 -0.0266   True\n",
      "   Tdu    Tpr  -0.0578 0.0018 -0.0757   -0.04   True\n",
      "   Tms    Tpr  -0.0133 0.1029 -0.0312  0.0045  False\n",
      "----------------------------------------------------\n"
     ]
    }
   ],
   "source": [
    "CHG_DNA_body = pd.DataFrame({'species': ['Tdu', 'Tdu', 'Tpr', 'Tpr', 'Tms', 'Tms'],\n",
    "                          'methylation': Trans_CHG_Tdu_DNA_body + Trans_CHG_Tpr_DNA_body + Trans_CHG_Tms_DNA_body})\n",
    "model = ols('methylation ~ species', data=CHG_DNA_body).fit()\n",
    "anova_table = sm.stats.anova_lm(model)\n",
    "\n",
    "posthoc = pairwise_tukeyhsd(CHG_DNA_body['methylation'], CHG_DNA_body['species'])\n",
    "\n",
    "print(\"ANOVA results:\\n\", anova_table)\n",
    "print(\"\\nPost hoc test results:\\n\", posthoc)"
   ]
  },
  {
   "cell_type": "markdown",
   "id": "6dc0ae2f-1261-47be-9fa0-062c7be101ef",
   "metadata": {},
   "source": [
    "### Tms vs MPV"
   ]
  },
  {
   "cell_type": "code",
   "execution_count": 20,
   "id": "ec8c8562-a8d4-41e9-b251-4bd437a130c1",
   "metadata": {
    "tags": []
   },
   "outputs": [
    {
     "name": "stdout",
     "output_type": "stream",
     "text": [
      "T-Statistic: -16.35582468991742\n",
      "P-Value: 0.03887473128106246\n"
     ]
    }
   ],
   "source": [
    "t_statistic, p_value = stats.ttest_1samp(CHG_Tms_DNA_body, np.mean(CHG_Tdu_DNA_body + CHG_Tpr_DNA_body))\n",
    "\n",
    "print(\"T-Statistic:\", t_statistic)\n",
    "print(\"P-Value:\", p_value)"
   ]
  },
  {
   "cell_type": "code",
   "execution_count": 21,
   "id": "31365ade-a1dc-4afb-8d78-a5189a514c52",
   "metadata": {
    "tags": []
   },
   "outputs": [
    {
     "name": "stdout",
     "output_type": "stream",
     "text": [
      "T-Statistic: -16.35582468991742\n",
      "P-Value: 0.01943736564053123\n"
     ]
    }
   ],
   "source": [
    "t_statistic, p_value = stats.ttest_1samp(CHG_Tms_DNA_body, np.mean(CHG_Tdu_DNA_body + CHG_Tpr_DNA_body), alternative='less')\n",
    "\n",
    "print(\"T-Statistic:\", t_statistic)\n",
    "print(\"P-Value:\", p_value)"
   ]
  },
  {
   "cell_type": "markdown",
   "id": "cd7a6e25-2c44-448f-82f2-ef80352cba85",
   "metadata": {},
   "source": [
    "## CHG; DNA; downstream"
   ]
  },
  {
   "cell_type": "code",
   "execution_count": 22,
   "id": "fe651900-001e-425a-969b-d5a67a4d9811",
   "metadata": {
    "tags": []
   },
   "outputs": [],
   "source": [
    "CHG_Tdu_DNA_down = [0.740366581, 0.726231438]\n",
    "CHG_Tpr_DNA_down = [0.653732997, 0.677189013]\n",
    "CHG_Tms_DNA_down = [0.681464518, 0.672751555]\n",
    "\n",
    "Trans_CHG_Tdu_DNA_down = np.arcsin(np.sqrt(CHG_Tdu_DNA_down)).tolist()\n",
    "Trans_CHG_Tpr_DNA_down = np.arcsin(np.sqrt(CHG_Tpr_DNA_down)).tolist()\n",
    "Trans_CHG_Tms_DNA_down = np.arcsin(np.sqrt(CHG_Tms_DNA_down)).tolist()"
   ]
  },
  {
   "cell_type": "code",
   "execution_count": 23,
   "id": "c88119f3-d4b9-45b2-89aa-a6335b57c1f9",
   "metadata": {
    "tags": []
   },
   "outputs": [
    {
     "name": "stdout",
     "output_type": "stream",
     "text": [
      "0.6040801220114028 0.7393084468563671\n"
     ]
    }
   ],
   "source": [
    "statistic, p_value = bartlett(Trans_CHG_Tdu_DNA_down, Trans_CHG_Tpr_DNA_down, Trans_CHG_Tms_DNA_down)\n",
    "print(statistic, p_value)"
   ]
  },
  {
   "cell_type": "code",
   "execution_count": 24,
   "id": "c8b8c680-6f51-4e49-b19e-fc557f158df2",
   "metadata": {
    "tags": []
   },
   "outputs": [
    {
     "name": "stdout",
     "output_type": "stream",
     "text": [
      "ANOVA results:\n",
      "            df    sum_sq   mean_sq          F    PR(>F)\n",
      "species   2.0  0.006297  0.003148  19.671891  0.018858\n",
      "Residual  3.0  0.000480  0.000160        NaN       NaN\n",
      "\n",
      "Post hoc test results:\n",
      " Multiple Comparison of Means - Tukey HSD, FWER=0.05 \n",
      "====================================================\n",
      "group1 group2 meandiff p-adj   lower   upper  reject\n",
      "----------------------------------------------------\n",
      "   Tdu    Tms  -0.0617 0.0332 -0.1146 -0.0088   True\n",
      "   Tdu    Tpr  -0.0741 0.0202 -0.1269 -0.0212   True\n",
      "   Tms    Tpr  -0.0124 0.6379 -0.0652  0.0405  False\n",
      "----------------------------------------------------\n"
     ]
    }
   ],
   "source": [
    "CHG_DNA_down = pd.DataFrame({'species': ['Tdu', 'Tdu', 'Tpr', 'Tpr', 'Tms', 'Tms'],\n",
    "                          'methylation': Trans_CHG_Tdu_DNA_down + Trans_CHG_Tpr_DNA_down + Trans_CHG_Tms_DNA_down})\n",
    "model = ols('methylation ~ species', data=CHG_DNA_down).fit()\n",
    "anova_table = sm.stats.anova_lm(model)\n",
    "\n",
    "posthoc = pairwise_tukeyhsd(CHG_DNA_down['methylation'], CHG_DNA_down['species'])\n",
    "\n",
    "print(\"ANOVA results:\\n\", anova_table)\n",
    "print(\"\\nPost hoc test results:\\n\", posthoc)"
   ]
  },
  {
   "cell_type": "code",
   "execution_count": 25,
   "id": "b3ed9b95-0e6c-46f5-9c30-1e855e11443b",
   "metadata": {
    "tags": []
   },
   "outputs": [
    {
     "name": "stdout",
     "output_type": "stream",
     "text": [
      "T-Statistic: -5.112375835866638\n",
      "P-Value: 0.1229725733454722\n"
     ]
    }
   ],
   "source": [
    "t_statistic, p_value = stats.ttest_1samp(CHG_Tms_DNA_down, np.mean(CHG_Tdu_DNA_down + CHG_Tpr_DNA_down))\n",
    "\n",
    "print(\"T-Statistic:\", t_statistic)\n",
    "print(\"P-Value:\", p_value)"
   ]
  },
  {
   "cell_type": "markdown",
   "id": "20338137-fc77-48b4-80b6-a031455768f8",
   "metadata": {},
   "source": [
    "## CHH; DNA; upstream"
   ]
  },
  {
   "cell_type": "code",
   "execution_count": 26,
   "id": "cb996d6e-dc1b-4982-a64e-ff81f747656e",
   "metadata": {
    "tags": []
   },
   "outputs": [],
   "source": [
    "CHH_Tdu_DNA_upstream = [0.120363014, 0.138694359]\n",
    "CHH_Tpr_DNA_upstream = [0.107084651, 0.117643478]\n",
    "CHH_Tms_DNA_upstream = [0.123793978, 0.117858304]\n",
    "\n",
    "Trans_CHH_Tdu_DNA_upstream = np.arcsin(np.sqrt(CHH_Tdu_DNA_upstream)).tolist()\n",
    "Trans_CHH_Tpr_DNA_upstream = np.arcsin(np.sqrt(CHH_Tpr_DNA_upstream)).tolist()\n",
    "Trans_CHH_Tms_DNA_upstream = np.arcsin(np.sqrt(CHH_Tms_DNA_upstream)).tolist()"
   ]
  },
  {
   "cell_type": "code",
   "execution_count": 27,
   "id": "70bc8f05-e5fd-45c9-9727-66620302fda1",
   "metadata": {
    "tags": []
   },
   "outputs": [
    {
     "name": "stdout",
     "output_type": "stream",
     "text": [
      "0.7410459764694506 0.6903731791563299\n"
     ]
    }
   ],
   "source": [
    "statistic, p_value = bartlett(Trans_CHH_Tdu_DNA_upstream, Trans_CHH_Tpr_DNA_upstream, Trans_CHH_Tms_DNA_upstream)\n",
    "print(statistic, p_value)"
   ]
  },
  {
   "cell_type": "code",
   "execution_count": 28,
   "id": "ff36e523-ab91-42a7-b9d3-a7e3206c08c3",
   "metadata": {
    "tags": []
   },
   "outputs": [
    {
     "name": "stdout",
     "output_type": "stream",
     "text": [
      "ANOVA results:\n",
      "            df    sum_sq   mean_sq        F    PR(>F)\n",
      "species   2.0  0.000687  0.000344  1.86016  0.298261\n",
      "Residual  3.0  0.000554  0.000185      NaN       NaN\n",
      "\n",
      "Post hoc test results:\n",
      " Multiple Comparison of Means - Tukey HSD, FWER=0.05\n",
      "===================================================\n",
      "group1 group2 meandiff p-adj   lower  upper  reject\n",
      "---------------------------------------------------\n",
      "   Tdu    Tms   -0.013 0.6491 -0.0698 0.0438  False\n",
      "   Tdu    Tpr  -0.0262 0.2758  -0.083 0.0306  False\n",
      "   Tms    Tpr  -0.0132 0.6387   -0.07 0.0436  False\n",
      "---------------------------------------------------\n"
     ]
    }
   ],
   "source": [
    "CHH_DNA_upstream = pd.DataFrame({'species': ['Tdu', 'Tdu', 'Tpr', 'Tpr', 'Tms', 'Tms'],\n",
    "                          'methylation': Trans_CHH_Tdu_DNA_upstream + Trans_CHH_Tpr_DNA_upstream + Trans_CHH_Tms_DNA_upstream})\n",
    "model = ols('methylation ~ species', data=CHH_DNA_upstream).fit()\n",
    "anova_table = sm.stats.anova_lm(model)\n",
    "\n",
    "posthoc = pairwise_tukeyhsd(CHH_DNA_upstream['methylation'], CHH_DNA_upstream['species'])\n",
    "\n",
    "print(\"ANOVA results:\\n\", anova_table)\n",
    "print(\"\\nPost hoc test results:\\n\", posthoc)"
   ]
  },
  {
   "cell_type": "markdown",
   "id": "3afef566-72ed-4bfc-83da-3ed9c3aeeaca",
   "metadata": {},
   "source": [
    "## CHH; DNA; body"
   ]
  },
  {
   "cell_type": "code",
   "execution_count": 29,
   "id": "e5d4a96e-1613-491e-9dcd-48f0f75de707",
   "metadata": {
    "tags": []
   },
   "outputs": [],
   "source": [
    "CHH_Tdu_DNA_body = [0.130368364, 0.156397682]\n",
    "CHH_Tpr_DNA_body = [0.123949954, 0.134141027]\n",
    "CHH_Tms_DNA_body = [0.139464909, 0.134059826]\n",
    "\n",
    "Trans_CHH_Tdu_DNA_body = np.arcsin(np.sqrt(CHH_Tdu_DNA_body)).tolist()\n",
    "Trans_CHH_Tpr_DNA_body = np.arcsin(np.sqrt(CHH_Tpr_DNA_body)).tolist()\n",
    "Trans_CHH_Tms_DNA_body = np.arcsin(np.sqrt(CHH_Tms_DNA_body)).tolist()"
   ]
  },
  {
   "cell_type": "code",
   "execution_count": 30,
   "id": "ba41f54c-a179-4ec5-8a11-7f52a45e37f3",
   "metadata": {
    "tags": []
   },
   "outputs": [
    {
     "name": "stdout",
     "output_type": "stream",
     "text": [
      "1.5059602768749236 0.47096093053530563\n"
     ]
    }
   ],
   "source": [
    "statistic, p_value = bartlett(Trans_CHH_Tdu_DNA_body, Trans_CHH_Tpr_DNA_body, Trans_CHH_Tms_DNA_body)\n",
    "print(statistic, p_value)"
   ]
  },
  {
   "cell_type": "code",
   "execution_count": 31,
   "id": "b628df62-9eed-4e54-9e55-725876752cb3",
   "metadata": {
    "tags": []
   },
   "outputs": [
    {
     "name": "stdout",
     "output_type": "stream",
     "text": [
      "ANOVA results:\n",
      "            df    sum_sq   mean_sq         F    PR(>F)\n",
      "species   2.0  0.000427  0.000213  0.764463  0.539125\n",
      "Residual  3.0  0.000837  0.000279       NaN       NaN\n",
      "\n",
      "Post hoc test results:\n",
      " Multiple Comparison of Means - Tukey HSD, FWER=0.05\n",
      "===================================================\n",
      "group1 group2 meandiff p-adj   lower  upper  reject\n",
      "---------------------------------------------------\n",
      "   Tdu    Tms  -0.0092 0.8534  -0.079 0.0606  False\n",
      "   Tdu    Tpr  -0.0206 0.5142 -0.0904 0.0492  False\n",
      "   Tms    Tpr  -0.0114 0.7888 -0.0812 0.0584  False\n",
      "---------------------------------------------------\n"
     ]
    }
   ],
   "source": [
    "CHH_DNA_body = pd.DataFrame({'species': ['Tdu', 'Tdu', 'Tpr', 'Tpr', 'Tms', 'Tms'],\n",
    "                          'methylation': Trans_CHH_Tdu_DNA_body + Trans_CHH_Tpr_DNA_body + Trans_CHH_Tms_DNA_body})\n",
    "model = ols('methylation ~ species', data=CHH_DNA_body).fit()\n",
    "anova_table = sm.stats.anova_lm(model)\n",
    "\n",
    "posthoc = pairwise_tukeyhsd(CHH_DNA_body['methylation'], CHH_DNA_body['species'])\n",
    "\n",
    "print(\"ANOVA results:\\n\", anova_table)\n",
    "print(\"\\nPost hoc test results:\\n\", posthoc)"
   ]
  },
  {
   "cell_type": "markdown",
   "id": "f6a2500a-94f7-4be9-a47f-e8eb7e6c9f45",
   "metadata": {},
   "source": [
    "## CHH; DNA; downstream"
   ]
  },
  {
   "cell_type": "code",
   "execution_count": 32,
   "id": "b9420396-9e71-4d54-a6c3-325bc4c5f3b3",
   "metadata": {
    "tags": []
   },
   "outputs": [],
   "source": [
    "CHH_Tdu_DNA_down = [0.121291693, 0.139360785]\n",
    "CHH_Tpr_DNA_down = [0.106447767, 0.11697079]\n",
    "CHH_Tms_DNA_down = [0.124131386, 0.11830005]\n",
    "\n",
    "Trans_CHH_Tdu_DNA_down = np.arcsin(np.sqrt(CHH_Tdu_DNA_down)).tolist()\n",
    "Trans_CHH_Tpr_DNA_down = np.arcsin(np.sqrt(CHH_Tpr_DNA_down)).tolist()\n",
    "Trans_CHH_Tms_DNA_down = np.arcsin(np.sqrt(CHH_Tms_DNA_down)).tolist()"
   ]
  },
  {
   "cell_type": "code",
   "execution_count": 33,
   "id": "30b628bf-2db8-4524-b309-5c7f844316a0",
   "metadata": {
    "tags": []
   },
   "outputs": [
    {
     "name": "stdout",
     "output_type": "stream",
     "text": [
      "0.7380361687906523 0.6914129065529105\n"
     ]
    }
   ],
   "source": [
    "statistic, p_value = bartlett(Trans_CHH_Tdu_DNA_down, Trans_CHH_Tpr_DNA_down, Trans_CHH_Tms_DNA_down)\n",
    "print(statistic, p_value)"
   ]
  },
  {
   "cell_type": "code",
   "execution_count": 34,
   "id": "538c495b-ddb8-464c-b1f5-7ede6d5b3b0f",
   "metadata": {
    "tags": []
   },
   "outputs": [
    {
     "name": "stdout",
     "output_type": "stream",
     "text": [
      "ANOVA results:\n",
      "            df   sum_sq   mean_sq         F    PR(>F)\n",
      "species   2.0  0.00081  0.000405  2.249901  0.252992\n",
      "Residual  3.0  0.00054  0.000180       NaN       NaN\n",
      "\n",
      "Post hoc test results:\n",
      " Multiple Comparison of Means - Tukey HSD, FWER=0.05\n",
      "===================================================\n",
      "group1 group2 meandiff p-adj   lower  upper  reject\n",
      "---------------------------------------------------\n",
      "   Tdu    Tms  -0.0136 0.6204 -0.0696 0.0425  False\n",
      "   Tdu    Tpr  -0.0284 0.2327 -0.0845 0.0276  False\n",
      "   Tms    Tpr  -0.0149 0.5721 -0.0709 0.0412  False\n",
      "---------------------------------------------------\n"
     ]
    }
   ],
   "source": [
    "CHH_DNA_down = pd.DataFrame({'species': ['Tdu', 'Tdu', 'Tpr', 'Tpr', 'Tms', 'Tms'],\n",
    "                          'methylation': Trans_CHH_Tdu_DNA_down + Trans_CHH_Tpr_DNA_down + Trans_CHH_Tms_DNA_down})\n",
    "model = ols('methylation ~ species', data=CHH_DNA_down).fit()\n",
    "anova_table = sm.stats.anova_lm(model)\n",
    "\n",
    "posthoc = pairwise_tukeyhsd(CHH_DNA_down['methylation'], CHH_DNA_down['species'])\n",
    "\n",
    "print(\"ANOVA results:\\n\", anova_table)\n",
    "print(\"\\nPost hoc test results:\\n\", posthoc)"
   ]
  },
  {
   "cell_type": "code",
   "execution_count": null,
   "id": "4395f1ff-4763-4bd4-abd9-f34df8f57493",
   "metadata": {},
   "outputs": [],
   "source": []
  }
 ],
 "metadata": {
  "kernelspec": {
   "display_name": "PyTorch-1.10",
   "language": "python",
   "name": "pytorch-1.10"
  },
  "language_info": {
   "codemirror_mode": {
    "name": "ipython",
    "version": 3
   },
   "file_extension": ".py",
   "mimetype": "text/x-python",
   "name": "python",
   "nbconvert_exporter": "python",
   "pygments_lexer": "ipython3",
   "version": "3.9.7"
  }
 },
 "nbformat": 4,
 "nbformat_minor": 5
}
