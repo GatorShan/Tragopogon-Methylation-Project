{
 "cells": [
  {
   "cell_type": "code",
   "execution_count": 1,
   "id": "6ce770be-b825-4f2a-b213-6bc50cc096f6",
   "metadata": {
    "tags": []
   },
   "outputs": [],
   "source": [
    "from scipy.stats import bartlett\n",
    "import pandas as pd\n",
    "import statsmodels.api as sm\n",
    "from statsmodels.formula.api import ols\n",
    "from statsmodels.stats.multicomp import pairwise_tukeyhsd\n",
    "import scipy.stats as stats\n",
    "import numpy as np"
   ]
  },
  {
   "cell_type": "markdown",
   "id": "dea68851-9e63-4d46-97fc-04e67bf7902a",
   "metadata": {},
   "source": [
    "## CG_TE_body_vs_upstream"
   ]
  },
  {
   "cell_type": "code",
   "execution_count": 3,
   "id": "f032b429-72e6-47f9-8a58-754f9fa9cc57",
   "metadata": {
    "tags": []
   },
   "outputs": [
    {
     "name": "stdout",
     "output_type": "stream",
     "text": [
      "T-Statistic: 5.177029273843317\n",
      "P-Value: 0.017672442534060452\n"
     ]
    }
   ],
   "source": [
    "CG_Tdu_TE_body = [0.929022168, 0.927088216]\n",
    "CG_Tdu_TE_upstream = [0.902809441, 0.890915138]\n",
    "\n",
    "t_statistic, p_value = stats.ttest_ind(CG_Tdu_TE_body, CG_Tdu_TE_upstream, alternative='greater')\n",
    "print(\"T-Statistic:\", t_statistic)\n",
    "print(\"P-Value:\", p_value)"
   ]
  },
  {
   "cell_type": "code",
   "execution_count": 4,
   "id": "d7e668a8-e1b0-47cd-9c92-9000946b8212",
   "metadata": {
    "tags": []
   },
   "outputs": [
    {
     "name": "stdout",
     "output_type": "stream",
     "text": [
      "T-Statistic: 4.129156501950585\n",
      "P-Value: 0.026974430814103993\n"
     ]
    }
   ],
   "source": [
    "CG_Tpr_TE_body = [0.880771565, 0.888415578]\n",
    "CG_Tpr_TE_upstream = [0.83815226, 0.854924864]\n",
    "\n",
    "t_statistic, p_value = stats.ttest_ind(CG_Tpr_TE_body, CG_Tpr_TE_upstream, alternative='greater')\n",
    "print(\"T-Statistic:\", t_statistic)\n",
    "print(\"P-Value:\", p_value)"
   ]
  },
  {
   "cell_type": "code",
   "execution_count": 5,
   "id": "170f84ea-8abe-4117-9330-de1e6d66c64a",
   "metadata": {
    "tags": []
   },
   "outputs": [
    {
     "name": "stdout",
     "output_type": "stream",
     "text": [
      "T-Statistic: 11.93247726837591\n",
      "P-Value: 0.0034750633237213753\n"
     ]
    }
   ],
   "source": [
    "CG_Tms_TE_body = [0.903621586, 0.903985638]\n",
    "CG_Tms_TE_upstream = [0.868784358, 0.862389196]\n",
    "\n",
    "t_statistic, p_value = stats.ttest_ind(CG_Tms_TE_body, CG_Tms_TE_upstream, alternative='greater')\n",
    "print(\"T-Statistic:\", t_statistic)\n",
    "print(\"P-Value:\", p_value)"
   ]
  },
  {
   "cell_type": "markdown",
   "id": "e8b605ba-c42b-42c2-8e91-9d4d2d237b5b",
   "metadata": {},
   "source": [
    "## CG_TE_body_vs_downstream"
   ]
  },
  {
   "cell_type": "code",
   "execution_count": 6,
   "id": "5c936004-3f1f-4fec-a076-13a65099629a",
   "metadata": {
    "tags": []
   },
   "outputs": [
    {
     "name": "stdout",
     "output_type": "stream",
     "text": [
      "T-Statistic: 5.077187946016129\n",
      "P-Value: 0.01833617671606259\n"
     ]
    }
   ],
   "source": [
    "CG_Tdu_TE_body = [0.929022168, 0.927088216]\n",
    "CG_Tdu_TE_down = [0.904779773, 0.893568579]\n",
    "\n",
    "t_statistic, p_value = stats.ttest_ind(CG_Tdu_TE_body, CG_Tdu_TE_down, alternative='greater')\n",
    "print(\"T-Statistic:\", t_statistic)\n",
    "print(\"P-Value:\", p_value)"
   ]
  },
  {
   "cell_type": "code",
   "execution_count": 7,
   "id": "674ced93-e4ee-4226-bc38-785b0496f5aa",
   "metadata": {
    "tags": []
   },
   "outputs": [
    {
     "name": "stdout",
     "output_type": "stream",
     "text": [
      "T-Statistic: 3.7492388503208196\n",
      "P-Value: 0.032174680605576364\n"
     ]
    }
   ],
   "source": [
    "CG_Tpr_TE_body = [0.880771565, 0.888415578]\n",
    "CG_Tpr_TE_down = [0.842762567, 0.859031414]\n",
    "\n",
    "t_statistic, p_value = stats.ttest_ind(CG_Tpr_TE_body, CG_Tpr_TE_down, alternative='greater')\n",
    "print(\"T-Statistic:\", t_statistic)\n",
    "print(\"P-Value:\", p_value)"
   ]
  },
  {
   "cell_type": "code",
   "execution_count": 8,
   "id": "622d3f0d-9e42-4f14-b344-c81504d08b24",
   "metadata": {
    "tags": []
   },
   "outputs": [
    {
     "name": "stdout",
     "output_type": "stream",
     "text": [
      "T-Statistic: 12.681220772437175\n",
      "P-Value: 0.003080490469247934\n"
     ]
    }
   ],
   "source": [
    "CG_Tms_TE_body = [0.903621586, 0.903985638]\n",
    "CG_Tms_TE_down = [0.871698715, 0.86621498]\n",
    "\n",
    "t_statistic, p_value = stats.ttest_ind(CG_Tms_TE_body, CG_Tms_TE_down, alternative='greater')\n",
    "print(\"T-Statistic:\", t_statistic)\n",
    "print(\"P-Value:\", p_value)"
   ]
  },
  {
   "cell_type": "markdown",
   "id": "d976ec6e-44cb-4592-988c-9b1f56be840d",
   "metadata": {},
   "source": [
    "## CHG_TE_body_vs_upstream"
   ]
  },
  {
   "cell_type": "code",
   "execution_count": 9,
   "id": "2358972b-7928-4f15-a749-6fd051677843",
   "metadata": {
    "tags": []
   },
   "outputs": [
    {
     "name": "stdout",
     "output_type": "stream",
     "text": [
      "T-Statistic: 7.034042047221437\n",
      "P-Value: 0.00980915420257531\n"
     ]
    }
   ],
   "source": [
    "CHG_Tdu_TE_body = [0.792491292, 0.788490789]\n",
    "CHG_Tdu_TE_upstream = [0.744685764, 0.730132785]\n",
    "t_statistic, p_value = stats.ttest_ind(CHG_Tdu_TE_body, CHG_Tdu_TE_upstream, alternative='greater')\n",
    "print(\"T-Statistic:\", t_statistic)\n",
    "print(\"P-Value:\", p_value)"
   ]
  },
  {
   "cell_type": "code",
   "execution_count": 10,
   "id": "f805cf09-f680-4659-b4fc-d157cc81e416",
   "metadata": {
    "tags": []
   },
   "outputs": [
    {
     "name": "stdout",
     "output_type": "stream",
     "text": [
      "T-Statistic: 5.199147474704706\n",
      "P-Value: 0.017530196570918852\n"
     ]
    }
   ],
   "source": [
    "CHG_Tpr_TE_body = [0.73317691, 0.744328893]\n",
    "CHG_Tpr_TE_upstream = [0.667256525, 0.687964717]\n",
    "t_statistic, p_value = stats.ttest_ind(CHG_Tpr_TE_body, CHG_Tpr_TE_upstream, alternative='greater')\n",
    "print(\"T-Statistic:\", t_statistic)\n",
    "print(\"P-Value:\", p_value)"
   ]
  },
  {
   "cell_type": "code",
   "execution_count": 11,
   "id": "7049aab2-e4fa-42e9-949e-8db50e5b3f73",
   "metadata": {
    "tags": []
   },
   "outputs": [
    {
     "name": "stdout",
     "output_type": "stream",
     "text": [
      "T-Statistic: 15.697708827466027\n",
      "P-Value: 0.0020168035880630962\n"
     ]
    }
   ],
   "source": [
    "CHG_Tms_TE_body = [0.748785519, 0.747089245]\n",
    "CHG_Tms_TE_upstream = [0.689551242, 0.681802283]\n",
    "t_statistic, p_value = stats.ttest_ind(CHG_Tms_TE_body, CHG_Tms_TE_upstream, alternative='greater')\n",
    "print(\"T-Statistic:\", t_statistic)\n",
    "print(\"P-Value:\", p_value)"
   ]
  },
  {
   "cell_type": "markdown",
   "id": "8eab6009-8e9f-4a9e-a9a4-da3eda23d779",
   "metadata": {},
   "source": [
    "## CHG_TE_body_vs_downstream"
   ]
  },
  {
   "cell_type": "code",
   "execution_count": 12,
   "id": "ad3f215f-9ebf-4133-aaac-2bdd0d3b9308",
   "metadata": {
    "tags": []
   },
   "outputs": [
    {
     "name": "stdout",
     "output_type": "stream",
     "text": [
      "T-Statistic: 6.977826549781794\n",
      "P-Value: 0.009963130109475074\n"
     ]
    }
   ],
   "source": [
    "CHG_Tdu_TE_body = [0.792491292, 0.788490789]\n",
    "CHG_Tdu_TE_down = [0.747819285, 0.734214965]\n",
    "\n",
    "t_statistic, p_value = stats.ttest_ind(CHG_Tdu_TE_body, CHG_Tdu_TE_down, alternative='greater')\n",
    "print(\"T-Statistic:\", t_statistic)\n",
    "print(\"P-Value:\", p_value)"
   ]
  },
  {
   "cell_type": "code",
   "execution_count": 13,
   "id": "4a6ea179-8f81-43e6-8194-4297928fb81b",
   "metadata": {
    "tags": []
   },
   "outputs": [
    {
     "name": "stdout",
     "output_type": "stream",
     "text": [
      "T-Statistic: 5.03419253065759\n",
      "P-Value: 0.01863335459838663\n"
     ]
    }
   ],
   "source": [
    "CHG_Tpr_TE_body = [0.73317691, 0.744328893]\n",
    "CHG_Tpr_TE_down = [0.670819452, 0.690928467]\n",
    "\n",
    "t_statistic, p_value = stats.ttest_ind(CHG_Tpr_TE_body, CHG_Tpr_TE_down, alternative='greater')\n",
    "print(\"T-Statistic:\", t_statistic)\n",
    "print(\"P-Value:\", p_value)"
   ]
  },
  {
   "cell_type": "code",
   "execution_count": 14,
   "id": "97717679-2b2f-4410-8c9a-b73d010b835e",
   "metadata": {
    "tags": []
   },
   "outputs": [
    {
     "name": "stdout",
     "output_type": "stream",
     "text": [
      "T-Statistic: 15.960085026816145\n",
      "P-Value: 0.0019514225633735164\n"
     ]
    }
   ],
   "source": [
    "CHG_Tms_TE_body = [0.748785519, 0.747089245]\n",
    "CHG_Tms_TE_down = [0.692812895, 0.685654846]\n",
    "\n",
    "t_statistic, p_value = stats.ttest_ind(CHG_Tms_TE_body, CHG_Tms_TE_down, alternative='greater')\n",
    "print(\"T-Statistic:\", t_statistic)\n",
    "print(\"P-Value:\", p_value)"
   ]
  },
  {
   "cell_type": "markdown",
   "id": "67973efb-2d95-432e-a657-a9bd679e021d",
   "metadata": {},
   "source": [
    "## CHH_TE_body_vs_upstream"
   ]
  },
  {
   "cell_type": "code",
   "execution_count": 15,
   "id": "559eb4bb-5743-4076-862c-3bf3f2f4fd5a",
   "metadata": {
    "tags": []
   },
   "outputs": [
    {
     "name": "stdout",
     "output_type": "stream",
     "text": [
      "T-Statistic: -0.4855313881058264\n",
      "P-Value: 0.6623590853437289\n"
     ]
    }
   ],
   "source": [
    "CHH_Tdu_TE_body = [0.100231736, 0.120534747]\n",
    "CHH_Tdu_TE_upstream = [0.108408375, 0.125128307]\n",
    "\n",
    "t_statistic, p_value = stats.ttest_ind(CHH_Tdu_TE_body, CHH_Tdu_TE_upstream, alternative='greater')\n",
    "print(\"T-Statistic:\", t_statistic)\n",
    "print(\"P-Value:\", p_value)"
   ]
  },
  {
   "cell_type": "code",
   "execution_count": 16,
   "id": "e9e70530-a60a-46d5-8a1b-ba65dff7ea2f",
   "metadata": {
    "tags": []
   },
   "outputs": [
    {
     "name": "stdout",
     "output_type": "stream",
     "text": [
      "T-Statistic: -0.8035711412168703\n",
      "P-Value: 0.747014163364343\n"
     ]
    }
   ],
   "source": [
    "CHH_Tpr_TE_body = [0.096859226, 0.102202639]\n",
    "CHH_Tpr_TE_upstream = [0.099338136, 0.107693327]\n",
    "t_statistic, p_value = stats.ttest_ind(CHH_Tpr_TE_body, CHH_Tpr_TE_upstream, alternative='greater')\n",
    "print(\"T-Statistic:\", t_statistic)\n",
    "print(\"P-Value:\", p_value)"
   ]
  },
  {
   "cell_type": "code",
   "execution_count": 17,
   "id": "75fead43-df5d-49d6-b320-23cb274c183d",
   "metadata": {
    "tags": []
   },
   "outputs": [
    {
     "name": "stdout",
     "output_type": "stream",
     "text": [
      "T-Statistic: -1.1568752771888582\n",
      "P-Value: 0.8165847085103654\n"
     ]
    }
   ],
   "source": [
    "CHH_Tms_TE_body = [0.109912719, 0.107765289]\n",
    "CHH_Tms_TE_upstream = [0.113732161, 0.109468584]\n",
    "t_statistic, p_value = stats.ttest_ind(CHH_Tms_TE_body, CHH_Tms_TE_upstream, alternative='greater')\n",
    "print(\"T-Statistic:\", t_statistic)\n",
    "print(\"P-Value:\", p_value)"
   ]
  },
  {
   "cell_type": "markdown",
   "id": "5cb3e31a-620d-48b8-8962-cf739967a26f",
   "metadata": {},
   "source": [
    "## CHH_TE_body_vs_downstream"
   ]
  },
  {
   "cell_type": "code",
   "execution_count": 18,
   "id": "83606499-af57-4ae8-91f4-d4170687936b",
   "metadata": {
    "tags": []
   },
   "outputs": [
    {
     "name": "stdout",
     "output_type": "stream",
     "text": [
      "T-Statistic: -0.5406204058395092\n",
      "P-Value: 0.6785375262876829\n"
     ]
    }
   ],
   "source": [
    "CHH_Tdu_TE_body = [0.100231736, 0.120534747]\n",
    "CHH_Tdu_TE_down = [0.109116204, 0.125886844]\n",
    "\n",
    "t_statistic, p_value = stats.ttest_ind(CHH_Tdu_TE_body, CHH_Tdu_TE_down, alternative='greater')\n",
    "print(\"T-Statistic:\", t_statistic)\n",
    "print(\"P-Value:\", p_value)"
   ]
  },
  {
   "cell_type": "code",
   "execution_count": 19,
   "id": "b4412786-7e1e-4c98-9994-def1df0b877d",
   "metadata": {
    "tags": []
   },
   "outputs": [
    {
     "name": "stdout",
     "output_type": "stream",
     "text": [
      "T-Statistic: -0.7980452033367492\n",
      "P-Value: 0.7457268594718862\n"
     ]
    }
   ],
   "source": [
    "CHH_Tpr_TE_body = [0.096859226, 0.102202639]\n",
    "CHH_Tpr_TE_down = [0.099315734, 0.107640439]\n",
    "t_statistic, p_value = stats.ttest_ind(CHH_Tpr_TE_body, CHH_Tpr_TE_down, alternative='greater')\n",
    "print(\"T-Statistic:\", t_statistic)\n",
    "print(\"P-Value:\", p_value)"
   ]
  },
  {
   "cell_type": "code",
   "execution_count": 20,
   "id": "b7eda0a5-9914-41b2-bad8-58a45a089be1",
   "metadata": {
    "tags": []
   },
   "outputs": [
    {
     "name": "stdout",
     "output_type": "stream",
     "text": [
      "T-Statistic: -1.3170534765453192\n",
      "P-Value: 0.8407608012488165\n"
     ]
    }
   ],
   "source": [
    "CHH_Tms_TE_body = [0.109912719, 0.107765289]\n",
    "CHH_Tms_TE_down = [0.11406288, 0.109846765]\n",
    "t_statistic, p_value = stats.ttest_ind(CHH_Tms_TE_body, CHH_Tms_TE_down, alternative='greater')\n",
    "print(\"T-Statistic:\", t_statistic)\n",
    "print(\"P-Value:\", p_value)"
   ]
  },
  {
   "cell_type": "code",
   "execution_count": null,
   "id": "9e59a514-3621-4b25-b9b3-aa358874fb03",
   "metadata": {},
   "outputs": [],
   "source": []
  }
 ],
 "metadata": {
  "kernelspec": {
   "display_name": "PyTorch-1.10",
   "language": "python",
   "name": "pytorch-1.10"
  },
  "language_info": {
   "codemirror_mode": {
    "name": "ipython",
    "version": 3
   },
   "file_extension": ".py",
   "mimetype": "text/x-python",
   "name": "python",
   "nbconvert_exporter": "python",
   "pygments_lexer": "ipython3",
   "version": "3.9.7"
  }
 },
 "nbformat": 4,
 "nbformat_minor": 5
}
