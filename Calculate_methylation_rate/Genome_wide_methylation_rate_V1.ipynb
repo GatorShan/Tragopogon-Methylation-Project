{
 "cells": [
  {
   "cell_type": "code",
   "execution_count": 1,
   "metadata": {},
   "outputs": [],
   "source": [
    "import sys\n",
    "import pandas\n",
    "import pybedtools\n",
    "import math\n",
    "import numpy\n",
    "import os\n",
    "import gzip\n",
    "\n",
    "#calculate the genome-wide weighted methylation\n",
    "#use: weighted_mC_plant(\"input bismark.cov.gz\", \"output file\", <cutoff for coverage needed to include site, default=0>)\n",
    "#outputs tab-delimited file: column 1 = sequence context, column 2 = total number reads mapping, \n",
    "#column 3 = total methylated reads, column 4 = weighted methylation (decimal)\n",
    "def weighted_mC_plant(bismark_cov, mC_results, cutoff=0):\n",
    "    Filename = bismark_cov\n",
    "    SampleID = Filename.split('.')[0]\n",
    "    Coverage = Methylated = 0\n",
    "    with open(bismark_cov) as f:\n",
    "        for l in f:\n",
    "            c = l.split('\\t')\n",
    "            if int(c[4]) + int(c[5]) >= int(cutoff):\n",
    "                #coverage is the sum of number of methylated (c[4]) and unmethylated (c[5]) reads\n",
    "                Coverage = Coverage + int(c[4]) + int(c[5])\n",
    "                Methylated = Methylated + int(c[4])  \n",
    "    with open(mC_results, \"a\") as out:\n",
    "        # \"a\" means append\n",
    "        out.write('\\t'.join([str(SampleID),str(Coverage),str(Methylated),str(numpy.float64(Methylated)/numpy.float64(Coverage))]) + '\\n')"
   ]
  },
  {
   "cell_type": "code",
   "execution_count": 2,
   "metadata": {},
   "outputs": [],
   "source": [
    "os.chdir(\"/orange/soltis/shan158538/Methylation_output/bismark_coverage_files/\")"
   ]
  },
  {
   "cell_type": "code",
   "execution_count": 3,
   "metadata": {},
   "outputs": [],
   "source": [
    "import glob"
   ]
  },
  {
   "cell_type": "code",
   "execution_count": 9,
   "metadata": {},
   "outputs": [],
   "source": [
    "for file in glob.glob(\"*.cov\"):\n",
    "    weighted_mC_plant(file, 'Genome_wide_methylation.report.txt',0)"
   ]
  },
  {
   "cell_type": "code",
   "execution_count": null,
   "metadata": {},
   "outputs": [],
   "source": []
  }
 ],
 "metadata": {
  "kernelspec": {
   "display_name": "Python 3.6. (full)",
   "language": "python",
   "name": "python3-3.6-ufrc"
  },
  "language_info": {
   "codemirror_mode": {
    "name": "ipython",
    "version": 3
   },
   "file_extension": ".py",
   "mimetype": "text/x-python",
   "name": "python",
   "nbconvert_exporter": "python",
   "pygments_lexer": "ipython3",
   "version": "3.6.5"
  }
 },
 "nbformat": 4,
 "nbformat_minor": 4
}
