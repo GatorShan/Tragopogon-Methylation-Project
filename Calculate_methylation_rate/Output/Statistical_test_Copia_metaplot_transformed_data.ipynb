{
 "cells": [
  {
   "cell_type": "code",
   "execution_count": 1,
   "id": "77595395-a8c9-4325-88cb-c89be3adf9a5",
   "metadata": {
    "tags": []
   },
   "outputs": [],
   "source": [
    "from scipy.stats import bartlett\n",
    "import pandas as pd\n",
    "import statsmodels.api as sm\n",
    "from statsmodels.formula.api import ols\n",
    "from statsmodels.stats.multicomp import pairwise_tukeyhsd\n",
    "import scipy.stats as stats\n",
    "import numpy as np"
   ]
  },
  {
   "cell_type": "markdown",
   "id": "f8068d97-0a65-4cc5-a3b3-a37658ad08d7",
   "metadata": {},
   "source": [
    "## The following test used the arcsine square root transformed data\n",
    "## The methylation levels are from excel files: CG/CHG/CHH_anova_new_Copia_Gypsy.xlsx"
   ]
  },
  {
   "cell_type": "markdown",
   "id": "d8d396f6-a5d3-4afb-9d89-fb09791ec1d3",
   "metadata": {},
   "source": [
    "## CG context; Copia; upstream"
   ]
  },
  {
   "cell_type": "code",
   "execution_count": 2,
   "id": "a318f191-84ee-4927-8c97-b7b6cbb65d84",
   "metadata": {
    "tags": []
   },
   "outputs": [],
   "source": [
    "CG_Tdu_Copia_upstream = [0.903119136, 0.891431991]\n",
    "CG_Tpr_Copia_upstream = [0.83669493, 0.853086323]\n",
    "CG_Tms_Copia_upstream = [0.868074974, 0.862105898]\n",
    "\n",
    "Trans_CG_Tdu_Copia_upstream = np.arcsin(np.sqrt(CG_Tdu_Copia_upstream)).tolist()\n",
    "Trans_CG_Tpr_Copia_upstream = np.arcsin(np.sqrt(CG_Tpr_Copia_upstream)).tolist()\n",
    "Trans_CG_Tms_Copia_upstream = np.arcsin(np.sqrt(CG_Tms_Copia_upstream)).tolist()"
   ]
  },
  {
   "cell_type": "markdown",
   "id": "e06aca33-b4af-48f1-84c3-7b2af05012ae",
   "metadata": {},
   "source": [
    "### Variance homo test"
   ]
  },
  {
   "cell_type": "code",
   "execution_count": 3,
   "id": "79408b68-a726-4fb0-8674-f8fbd49bbe48",
   "metadata": {
    "tags": []
   },
   "outputs": [
    {
     "name": "stdout",
     "output_type": "stream",
     "text": [
      "0.5636695780044587 0.7543983091354969\n"
     ]
    }
   ],
   "source": [
    "statistic, p_value = bartlett(Trans_CG_Tdu_Copia_upstream, Trans_CG_Tpr_Copia_upstream, Trans_CG_Tms_Copia_upstream)\n",
    "print(statistic, p_value)"
   ]
  },
  {
   "cell_type": "markdown",
   "id": "68e6b6f2-383d-4998-a82c-c1b381b4b138",
   "metadata": {},
   "source": [
    "### ANOVA and post hoc Tukey"
   ]
  },
  {
   "cell_type": "code",
   "execution_count": 4,
   "id": "928c0515-b58e-4c8a-8d7c-b7177efc93ed",
   "metadata": {},
   "outputs": [
    {
     "name": "stdout",
     "output_type": "stream",
     "text": [
      "ANOVA results:\n",
      "            df   sum_sq  mean_sq          F    PR(>F)\n",
      "species   2.0  0.00632  0.00316  19.751886  0.018752\n",
      "Residual  3.0  0.00048  0.00016        NaN       NaN\n",
      "\n",
      "Post hoc test results:\n",
      " Multiple Comparison of Means - Tukey HSD, FWER=0.05 \n",
      "====================================================\n",
      "group1 group2 meandiff p-adj   lower   upper  reject\n",
      "----------------------------------------------------\n",
      "   Tdu    Tms  -0.0499 0.0578 -0.1028  0.0029  False\n",
      "   Tdu    Tpr  -0.0785 0.0171 -0.1314 -0.0257   True\n",
      "   Tms    Tpr  -0.0286 0.2059 -0.0815  0.0243  False\n",
      "----------------------------------------------------\n"
     ]
    }
   ],
   "source": [
    "CG_Copia_upstream = pd.DataFrame({'species': ['Tdu', 'Tdu', 'Tpr', 'Tpr', 'Tms', 'Tms'],\n",
    "                          'methylation': Trans_CG_Tdu_Copia_upstream + Trans_CG_Tpr_Copia_upstream + Trans_CG_Tms_Copia_upstream})\n",
    "model = ols('methylation ~ species', data=CG_Copia_upstream).fit()\n",
    "anova_table = sm.stats.anova_lm(model)\n",
    "\n",
    "posthoc = pairwise_tukeyhsd(CG_Copia_upstream['methylation'], CG_Copia_upstream['species'])\n",
    "\n",
    "print(\"ANOVA results:\\n\", anova_table)\n",
    "print(\"\\nPost hoc test results:\\n\", posthoc)"
   ]
  },
  {
   "cell_type": "markdown",
   "id": "9edeead0-1dcd-40be-bffc-e9365e0bdd9c",
   "metadata": {},
   "source": [
    "### Tms vs MPV"
   ]
  },
  {
   "cell_type": "code",
   "execution_count": 5,
   "id": "466ee226-b011-4d3e-84bf-53db0aaff351",
   "metadata": {
    "tags": []
   },
   "outputs": [
    {
     "name": "stdout",
     "output_type": "stream",
     "text": [
      "T-Statistic: -2.0079017254932086\n",
      "P-Value: 0.2941643270783814\n"
     ]
    }
   ],
   "source": [
    "t_statistic, p_value = stats.ttest_1samp(CG_Tms_Copia_upstream, np.mean(CG_Tdu_Copia_upstream + CG_Tpr_Copia_upstream))\n",
    "\n",
    "print(\"T-Statistic:\", t_statistic)\n",
    "print(\"P-Value:\", p_value)"
   ]
  },
  {
   "cell_type": "markdown",
   "id": "338e8be2-569c-4469-9055-d6d66f5554be",
   "metadata": {},
   "source": [
    "## CG context; Copia; body"
   ]
  },
  {
   "cell_type": "code",
   "execution_count": 2,
   "id": "bd6fd08d-ed84-4d47-b0b7-c5dcc09f145b",
   "metadata": {
    "tags": []
   },
   "outputs": [],
   "source": [
    "CG_Tdu_Copia_body = [0.928795993, 0.926723414]\n",
    "CG_Tpr_Copia_body = [0.875911121, 0.883135738]\n",
    "CG_Tms_Copia_body = [0.899822095, 0.900261217]\n",
    "\n",
    "Trans_CG_Tdu_Copia_body = np.arcsin(np.sqrt(CG_Tdu_Copia_body)).tolist()\n",
    "Trans_CG_Tpr_Copia_body = np.arcsin(np.sqrt(CG_Tpr_Copia_body)).tolist()\n",
    "Trans_CG_Tms_Copia_body = np.arcsin(np.sqrt(CG_Tms_Copia_body)).tolist()"
   ]
  },
  {
   "cell_type": "code",
   "execution_count": 3,
   "id": "0f11d2c8-cb85-4774-9c9d-62c9376b513e",
   "metadata": {
    "tags": []
   },
   "outputs": [
    {
     "name": "stdout",
     "output_type": "stream",
     "text": [
      "3.1566456795611804 0.20632084129801867\n"
     ]
    }
   ],
   "source": [
    "statistic, p_value = bartlett(Trans_CG_Tdu_Copia_body, Trans_CG_Tpr_Copia_body, Trans_CG_Tms_Copia_body)\n",
    "print(statistic, p_value)"
   ]
  },
  {
   "cell_type": "code",
   "execution_count": 4,
   "id": "202e65ba-0a70-4198-aee6-7db5c65f7dfd",
   "metadata": {
    "tags": []
   },
   "outputs": [
    {
     "name": "stdout",
     "output_type": "stream",
     "text": [
      "ANOVA results:\n",
      "            df    sum_sq   mean_sq           F   PR(>F)\n",
      "species   2.0  0.006871  0.003436  147.525697  0.00101\n",
      "Residual  3.0  0.000070  0.000023         NaN      NaN\n",
      "\n",
      "Post hoc test results:\n",
      " Multiple Comparison of Means - Tukey HSD, FWER=0.05 \n",
      "====================================================\n",
      "group1 group2 meandiff p-adj   lower   upper  reject\n",
      "----------------------------------------------------\n",
      "   Tdu    Tms  -0.0496  0.004 -0.0697 -0.0294   True\n",
      "   Tdu    Tpr  -0.0823 0.0009 -0.1025 -0.0622   True\n",
      "   Tms    Tpr  -0.0328 0.0133 -0.0529 -0.0126   True\n",
      "----------------------------------------------------\n"
     ]
    }
   ],
   "source": [
    "CG_Copia_body = pd.DataFrame({'species': ['Tdu', 'Tdu', 'Tpr', 'Tpr', 'Tms', 'Tms'],\n",
    "                          'methylation': Trans_CG_Tdu_Copia_body + Trans_CG_Tpr_Copia_body + Trans_CG_Tms_Copia_body})\n",
    "model = ols('methylation ~ species', data=CG_Copia_body).fit()\n",
    "anova_table = sm.stats.anova_lm(model)\n",
    "\n",
    "posthoc = pairwise_tukeyhsd(CG_Copia_body['methylation'], CG_Copia_body['species'])\n",
    "\n",
    "print(\"ANOVA results:\\n\", anova_table)\n",
    "print(\"\\nPost hoc test results:\\n\", posthoc)"
   ]
  },
  {
   "cell_type": "code",
   "execution_count": 9,
   "id": "7df47b15-ac1a-4b73-a8ec-7c63e5739464",
   "metadata": {
    "tags": []
   },
   "outputs": [
    {
     "name": "stdout",
     "output_type": "stream",
     "text": [
      "T-Statistic: -16.39594691224954\n",
      "P-Value: 0.038779837078097484\n"
     ]
    }
   ],
   "source": [
    "t_statistic, p_value = stats.ttest_1samp(CG_Tms_Copia_body, np.mean(CG_Tdu_Copia_body + CG_Tpr_Copia_body))\n",
    "\n",
    "print(\"T-Statistic:\", t_statistic)\n",
    "print(\"P-Value:\", p_value)"
   ]
  },
  {
   "cell_type": "code",
   "execution_count": 11,
   "id": "11df3d8c-1d45-4dfa-8119-cd2c623acc18",
   "metadata": {
    "tags": []
   },
   "outputs": [
    {
     "name": "stdout",
     "output_type": "stream",
     "text": [
      "T-Statistic: -16.39594691224954\n",
      "P-Value: 0.019389918539048742\n"
     ]
    }
   ],
   "source": [
    "t_statistic, p_value = stats.ttest_1samp(CG_Tms_Copia_body, np.mean(CG_Tdu_Copia_body + CG_Tpr_Copia_body), alternative='less')\n",
    "\n",
    "print(\"T-Statistic:\", t_statistic)\n",
    "print(\"P-Value:\", p_value)"
   ]
  },
  {
   "cell_type": "markdown",
   "id": "51ca1e65-6812-4c87-8355-d4705f117cec",
   "metadata": {},
   "source": [
    "### the result above means T. miscellus Copia body methylation level is significantly lower then MPV"
   ]
  },
  {
   "cell_type": "code",
   "execution_count": 10,
   "id": "8582afba-66ab-426a-b082-9d0a904414b3",
   "metadata": {
    "tags": []
   },
   "outputs": [
    {
     "name": "stdout",
     "output_type": "stream",
     "text": [
      "T-Statistic: -16.529227845753947\n",
      "P-Value: 0.03846790538391967\n"
     ]
    }
   ],
   "source": [
    "t_statistic, p_value = stats.ttest_1samp(Trans_CG_Tms_Copia_body, np.arcsin(np.sqrt(np.mean(CG_Tdu_Copia_body + CG_Tpr_Copia_body))))\n",
    "\n",
    "print(\"T-Statistic:\", t_statistic)\n",
    "print(\"P-Value:\", p_value)"
   ]
  },
  {
   "cell_type": "markdown",
   "id": "962a512a-c43f-43dc-8aaa-5371347b40e1",
   "metadata": {},
   "source": [
    "## CG context; Copia; downstream"
   ]
  },
  {
   "cell_type": "code",
   "execution_count": 12,
   "id": "e3e089f1-864b-4c2d-8485-9d9da3e7a460",
   "metadata": {
    "tags": []
   },
   "outputs": [],
   "source": [
    "CG_Tdu_Copia_down = [0.904247749, 0.892058444]\n",
    "CG_Tpr_Copia_down = [0.837105468, 0.854459954]\n",
    "CG_Tms_Copia_down = [0.868804366, 0.862680547]\n",
    "\n",
    "Trans_CG_Tdu_Copia_down = np.arcsin(np.sqrt(CG_Tdu_Copia_down)).tolist()\n",
    "Trans_CG_Tpr_Copia_down = np.arcsin(np.sqrt(CG_Tpr_Copia_down)).tolist()\n",
    "Trans_CG_Tms_Copia_down = np.arcsin(np.sqrt(CG_Tms_Copia_down)).tolist()"
   ]
  },
  {
   "cell_type": "code",
   "execution_count": 13,
   "id": "adca5711-64e8-40e8-a9a8-710f3fdd0b00",
   "metadata": {
    "tags": []
   },
   "outputs": [
    {
     "name": "stdout",
     "output_type": "stream",
     "text": [
      "0.5946439201861151 0.7428048203497813\n"
     ]
    }
   ],
   "source": [
    "statistic, p_value = bartlett(Trans_CG_Tdu_Copia_down, Trans_CG_Tpr_Copia_down, Trans_CG_Tms_Copia_down)\n",
    "print(statistic, p_value)"
   ]
  },
  {
   "cell_type": "code",
   "execution_count": 14,
   "id": "5404cc8c-c644-49fa-a142-3243ff285a1c",
   "metadata": {
    "tags": []
   },
   "outputs": [
    {
     "name": "stdout",
     "output_type": "stream",
     "text": [
      "ANOVA results:\n",
      "            df    sum_sq   mean_sq          F    PR(>F)\n",
      "species   2.0  0.006365  0.003183  17.933749  0.021444\n",
      "Residual  3.0  0.000532  0.000177        NaN       NaN\n",
      "\n",
      "Post hoc test results:\n",
      " Multiple Comparison of Means - Tukey HSD, FWER=0.05 \n",
      "====================================================\n",
      "group1 group2 meandiff p-adj   lower   upper  reject\n",
      "----------------------------------------------------\n",
      "   Tdu    Tms  -0.0504 0.0643 -0.1061  0.0052  False\n",
      "   Tdu    Tpr  -0.0788 0.0196 -0.1344 -0.0231   True\n",
      "   Tms    Tpr  -0.0283 0.2318  -0.084  0.0274  False\n",
      "----------------------------------------------------\n"
     ]
    }
   ],
   "source": [
    "CG_Copia_down = pd.DataFrame({'species': ['Tdu', 'Tdu', 'Tpr', 'Tpr', 'Tms', 'Tms'],\n",
    "                          'methylation': Trans_CG_Tdu_Copia_down + Trans_CG_Tpr_Copia_down + Trans_CG_Tms_Copia_down})\n",
    "model = ols('methylation ~ species', data=CG_Copia_down).fit()\n",
    "anova_table = sm.stats.anova_lm(model)\n",
    "\n",
    "posthoc = pairwise_tukeyhsd(CG_Copia_down['methylation'], CG_Copia_down['species'])\n",
    "\n",
    "print(\"ANOVA results:\\n\", anova_table)\n",
    "print(\"\\nPost hoc test results:\\n\", posthoc)"
   ]
  },
  {
   "cell_type": "code",
   "execution_count": 15,
   "id": "8a5a3ffa-b04c-4d83-a881-6c1791cb911c",
   "metadata": {
    "tags": []
   },
   "outputs": [
    {
     "name": "stdout",
     "output_type": "stream",
     "text": [
      "T-Statistic: -2.0331911344864433\n",
      "P-Value: 0.29099663997789593\n"
     ]
    }
   ],
   "source": [
    "t_statistic, p_value = stats.ttest_1samp(CG_Tms_Copia_down, np.mean(CG_Tdu_Copia_down + CG_Tpr_Copia_down))\n",
    "\n",
    "print(\"T-Statistic:\", t_statistic)\n",
    "print(\"P-Value:\", p_value)"
   ]
  },
  {
   "cell_type": "markdown",
   "id": "e81f1fa8-48bc-4f00-8b1e-7000c2c8a3a2",
   "metadata": {},
   "source": [
    "## CHG; Copia; upstream"
   ]
  },
  {
   "cell_type": "code",
   "execution_count": 16,
   "id": "941a3d98-4c09-4e36-9b40-6c4ee5e971ca",
   "metadata": {
    "tags": []
   },
   "outputs": [],
   "source": [
    "CHG_Tdu_Copia_upstream = [0.745737733, 0.731069643]\n",
    "CHG_Tpr_Copia_upstream = [0.667292501, 0.688658192]\n",
    "CHG_Tms_Copia_upstream = [0.689851464, 0.682041371]\n",
    "\n",
    "Trans_CHG_Tdu_Copia_upstream = np.arcsin(np.sqrt(CHG_Tdu_Copia_upstream)).tolist()\n",
    "Trans_CHG_Tpr_Copia_upstream = np.arcsin(np.sqrt(CHG_Tpr_Copia_upstream)).tolist()\n",
    "Trans_CHG_Tms_Copia_upstream = np.arcsin(np.sqrt(CHG_Tms_Copia_upstream)).tolist()"
   ]
  },
  {
   "cell_type": "code",
   "execution_count": 17,
   "id": "5cd3086d-fc67-4093-a958-e563f60cae81",
   "metadata": {
    "tags": []
   },
   "outputs": [
    {
     "name": "stdout",
     "output_type": "stream",
     "text": [
      "0.6013265434643725 0.7403270198150838\n"
     ]
    }
   ],
   "source": [
    "statistic, p_value = bartlett(Trans_CHG_Tdu_Copia_upstream, Trans_CHG_Tpr_Copia_upstream, Trans_CHG_Tms_Copia_upstream)\n",
    "print(statistic, p_value)"
   ]
  },
  {
   "cell_type": "code",
   "execution_count": 18,
   "id": "6f570636-8703-4f90-ab22-f4d9c5990ace",
   "metadata": {
    "tags": []
   },
   "outputs": [
    {
     "name": "stdout",
     "output_type": "stream",
     "text": [
      "ANOVA results:\n",
      "            df    sum_sq   mean_sq          F    PR(>F)\n",
      "species   2.0  0.005243  0.002622  18.035696  0.021276\n",
      "Residual  3.0  0.000436  0.000145        NaN       NaN\n",
      "\n",
      "Post hoc test results:\n",
      " Multiple Comparison of Means - Tukey HSD, FWER=0.05 \n",
      "====================================================\n",
      "group1 group2 meandiff p-adj   lower   upper  reject\n",
      "----------------------------------------------------\n",
      "   Tdu    Tms   -0.058 0.0345 -0.1084 -0.0076   True\n",
      "   Tdu    Tpr  -0.0665 0.0238 -0.1169 -0.0162   True\n",
      "   Tms    Tpr  -0.0085 0.7771 -0.0589  0.0419  False\n",
      "----------------------------------------------------\n"
     ]
    }
   ],
   "source": [
    "CHG_Copia_upstream = pd.DataFrame({'species': ['Tdu', 'Tdu', 'Tpr', 'Tpr', 'Tms', 'Tms'],\n",
    "                          'methylation': Trans_CHG_Tdu_Copia_upstream + Trans_CHG_Tpr_Copia_upstream + Trans_CHG_Tms_Copia_upstream})\n",
    "model = ols('methylation ~ species', data=CHG_Copia_upstream).fit()\n",
    "anova_table = sm.stats.anova_lm(model)\n",
    "\n",
    "posthoc = pairwise_tukeyhsd(CHG_Copia_upstream['methylation'], CHG_Copia_upstream['species'])\n",
    "\n",
    "print(\"ANOVA results:\\n\", anova_table)\n",
    "print(\"\\nPost hoc test results:\\n\", posthoc)"
   ]
  },
  {
   "cell_type": "markdown",
   "id": "2464d541-1f04-4820-bf74-d0c0783ac766",
   "metadata": {},
   "source": [
    "### Tms vs MPV"
   ]
  },
  {
   "cell_type": "code",
   "execution_count": 19,
   "id": "43ffb07a-0abb-48b0-9097-b34ee182387d",
   "metadata": {
    "tags": []
   },
   "outputs": [
    {
     "name": "stdout",
     "output_type": "stream",
     "text": [
      "T-Statistic: -5.695988447256646\n",
      "P-Value: 0.11063882746345653\n"
     ]
    }
   ],
   "source": [
    "t_statistic, p_value = stats.ttest_1samp(CHG_Tms_Copia_upstream, np.mean(CHG_Tdu_Copia_upstream + CHG_Tpr_Copia_upstream))\n",
    "\n",
    "print(\"T-Statistic:\", t_statistic)\n",
    "print(\"P-Value:\", p_value)"
   ]
  },
  {
   "cell_type": "markdown",
   "id": "3c3084f9-94ee-43c6-975e-320e3c6f7e36",
   "metadata": {},
   "source": [
    "### Tms vs MPV transformed"
   ]
  },
  {
   "cell_type": "code",
   "execution_count": 20,
   "id": "df6bdae6-9a2b-4f45-b772-3ee506878ee6",
   "metadata": {
    "tags": []
   },
   "outputs": [
    {
     "name": "stdout",
     "output_type": "stream",
     "text": [
      "T-Statistic: -5.752238808656239\n",
      "P-Value: 0.1095782501682041\n"
     ]
    }
   ],
   "source": [
    "t_statistic, p_value = stats.ttest_1samp(Trans_CHG_Tms_Copia_upstream, np.arcsin(np.sqrt(np.mean(CHG_Tdu_Copia_upstream + CHG_Tpr_Copia_upstream))))\n",
    "\n",
    "print(\"T-Statistic:\", t_statistic)\n",
    "print(\"P-Value:\", p_value)"
   ]
  },
  {
   "cell_type": "markdown",
   "id": "d445f83c-b460-43b4-b0c5-8e8d90a401b0",
   "metadata": {},
   "source": [
    "## CHG; Copia; body"
   ]
  },
  {
   "cell_type": "code",
   "execution_count": 21,
   "id": "996443e9-0489-4926-acff-8ddc236d9dcb",
   "metadata": {
    "tags": []
   },
   "outputs": [],
   "source": [
    "CHG_Tdu_Copia_body = [0.821439146, 0.817313519]\n",
    "CHG_Tpr_Copia_body = [0.763143268, 0.773038406]\n",
    "CHG_Tms_Copia_body = [0.777663571, 0.776843105]\n",
    "\n",
    "Trans_CHG_Tdu_Copia_body = np.arcsin(np.sqrt(CHG_Tdu_Copia_body)).tolist()\n",
    "Trans_CHG_Tpr_Copia_body = np.arcsin(np.sqrt(CHG_Tpr_Copia_body)).tolist()\n",
    "Trans_CHG_Tms_Copia_body = np.arcsin(np.sqrt(CHG_Tms_Copia_body)).tolist()"
   ]
  },
  {
   "cell_type": "code",
   "execution_count": 22,
   "id": "ac357e4f-0001-47b9-a7c5-d8a0aaeb2275",
   "metadata": {
    "tags": []
   },
   "outputs": [
    {
     "name": "stdout",
     "output_type": "stream",
     "text": [
      "2.6359506381539606 0.267676713623581\n"
     ]
    }
   ],
   "source": [
    "statistic, p_value = bartlett(Trans_CHG_Tdu_Copia_body, Trans_CHG_Tpr_Copia_body, Trans_CHG_Tms_Copia_body)\n",
    "print(statistic, p_value)"
   ]
  },
  {
   "cell_type": "code",
   "execution_count": 23,
   "id": "3db11f0b-5bbe-4716-bca1-2b03d6232894",
   "metadata": {
    "tags": []
   },
   "outputs": [
    {
     "name": "stdout",
     "output_type": "stream",
     "text": [
      "ANOVA results:\n",
      "            df    sum_sq   mean_sq          F    PR(>F)\n",
      "species   2.0  0.004606  0.002303  82.672189  0.002379\n",
      "Residual  3.0  0.000084  0.000028        NaN       NaN\n",
      "\n",
      "Post hoc test results:\n",
      " Multiple Comparison of Means - Tukey HSD, FWER=0.05 \n",
      "====================================================\n",
      "group1 group2 meandiff p-adj   lower   upper  reject\n",
      "----------------------------------------------------\n",
      "   Tdu    Tms  -0.0526 0.0044 -0.0746 -0.0305   True\n",
      "   Tdu    Tpr  -0.0635 0.0025 -0.0855 -0.0414   True\n",
      "   Tms    Tpr  -0.0109 0.2439  -0.033  0.0111  False\n",
      "----------------------------------------------------\n"
     ]
    }
   ],
   "source": [
    "CHG_Copia_body = pd.DataFrame({'species': ['Tdu', 'Tdu', 'Tpr', 'Tpr', 'Tms', 'Tms'],\n",
    "                          'methylation': Trans_CHG_Tdu_Copia_body + Trans_CHG_Tpr_Copia_body + Trans_CHG_Tms_Copia_body})\n",
    "model = ols('methylation ~ species', data=CHG_Copia_body).fit()\n",
    "anova_table = sm.stats.anova_lm(model)\n",
    "\n",
    "posthoc = pairwise_tukeyhsd(CHG_Copia_body['methylation'], CHG_Copia_body['species'])\n",
    "\n",
    "print(\"ANOVA results:\\n\", anova_table)\n",
    "print(\"\\nPost hoc test results:\\n\", posthoc)"
   ]
  },
  {
   "cell_type": "markdown",
   "id": "6dc0ae2f-1261-47be-9fa0-062c7be101ef",
   "metadata": {},
   "source": [
    "### Tms vs MPV"
   ]
  },
  {
   "cell_type": "code",
   "execution_count": 24,
   "id": "ec8c8562-a8d4-41e9-b251-4bd437a130c1",
   "metadata": {
    "tags": []
   },
   "outputs": [
    {
     "name": "stdout",
     "output_type": "stream",
     "text": [
      "T-Statistic: -40.172893818874954\n",
      "P-Value: 0.01584372622316915\n"
     ]
    }
   ],
   "source": [
    "t_statistic, p_value = stats.ttest_1samp(CHG_Tms_Copia_body, np.mean(CHG_Tdu_Copia_body + CHG_Tpr_Copia_body))\n",
    "\n",
    "print(\"T-Statistic:\", t_statistic)\n",
    "print(\"P-Value:\", p_value)"
   ]
  },
  {
   "cell_type": "code",
   "execution_count": 26,
   "id": "31365ade-a1dc-4afb-8d78-a5189a514c52",
   "metadata": {
    "tags": []
   },
   "outputs": [
    {
     "name": "stdout",
     "output_type": "stream",
     "text": [
      "T-Statistic: -40.172893818874954\n",
      "P-Value: 0.007921863111584574\n"
     ]
    }
   ],
   "source": [
    "t_statistic, p_value = stats.ttest_1samp(CHG_Tms_Copia_body, np.mean(CHG_Tdu_Copia_body + CHG_Tpr_Copia_body), alternative='less')\n",
    "\n",
    "print(\"T-Statistic:\", t_statistic)\n",
    "print(\"P-Value:\", p_value)"
   ]
  },
  {
   "cell_type": "markdown",
   "id": "cd7a6e25-2c44-448f-82f2-ef80352cba85",
   "metadata": {},
   "source": [
    "## CHG; Copia; downstream"
   ]
  },
  {
   "cell_type": "code",
   "execution_count": 27,
   "id": "fe651900-001e-425a-969b-d5a67a4d9811",
   "metadata": {
    "tags": []
   },
   "outputs": [],
   "source": [
    "CHG_Tdu_Copia_down = [0.74766884, 0.733640324]\n",
    "CHG_Tpr_Copia_down = [0.667451824, 0.688657798]\n",
    "CHG_Tms_Copia_down = [0.691833883, 0.684096469]\n",
    "\n",
    "Trans_CHG_Tdu_Copia_down = np.arcsin(np.sqrt(CHG_Tdu_Copia_down)).tolist()\n",
    "Trans_CHG_Tpr_Copia_down = np.arcsin(np.sqrt(CHG_Tpr_Copia_down)).tolist()\n",
    "Trans_CHG_Tms_Copia_down = np.arcsin(np.sqrt(CHG_Tms_Copia_down)).tolist()"
   ]
  },
  {
   "cell_type": "code",
   "execution_count": 28,
   "id": "c88119f3-d4b9-45b2-89aa-a6335b57c1f9",
   "metadata": {
    "tags": []
   },
   "outputs": [
    {
     "name": "stdout",
     "output_type": "stream",
     "text": [
      "0.604540325988146 0.739138350083279\n"
     ]
    }
   ],
   "source": [
    "statistic, p_value = bartlett(Trans_CHG_Tdu_Copia_down, Trans_CHG_Tpr_Copia_down, Trans_CHG_Tms_Copia_down)\n",
    "print(statistic, p_value)"
   ]
  },
  {
   "cell_type": "code",
   "execution_count": 29,
   "id": "c8b8c680-6f51-4e49-b19e-fc557f158df2",
   "metadata": {
    "tags": []
   },
   "outputs": [
    {
     "name": "stdout",
     "output_type": "stream",
     "text": [
      "ANOVA results:\n",
      "            df    sum_sq   mean_sq          F    PR(>F)\n",
      "species   2.0  0.005524  0.002762  19.703346  0.018816\n",
      "Residual  3.0  0.000421  0.000140        NaN       NaN\n",
      "\n",
      "Post hoc test results:\n",
      " Multiple Comparison of Means - Tukey HSD, FWER=0.05 \n",
      "====================================================\n",
      "group1 group2 meandiff p-adj   lower   upper  reject\n",
      "----------------------------------------------------\n",
      "   Tdu    Tms  -0.0584 0.0322 -0.1079 -0.0089   True\n",
      "   Tdu    Tpr   -0.069 0.0204 -0.1185 -0.0195   True\n",
      "   Tms    Tpr  -0.0106  0.679 -0.0601  0.0389  False\n",
      "----------------------------------------------------\n"
     ]
    }
   ],
   "source": [
    "CHG_Copia_down = pd.DataFrame({'species': ['Tdu', 'Tdu', 'Tpr', 'Tpr', 'Tms', 'Tms'],\n",
    "                          'methylation': Trans_CHG_Tdu_Copia_down + Trans_CHG_Tpr_Copia_down + Trans_CHG_Tms_Copia_down})\n",
    "model = ols('methylation ~ species', data=CHG_Copia_down).fit()\n",
    "anova_table = sm.stats.anova_lm(model)\n",
    "\n",
    "posthoc = pairwise_tukeyhsd(CHG_Copia_down['methylation'], CHG_Copia_down['species'])\n",
    "\n",
    "print(\"ANOVA results:\\n\", anova_table)\n",
    "print(\"\\nPost hoc test results:\\n\", posthoc)"
   ]
  },
  {
   "cell_type": "code",
   "execution_count": 30,
   "id": "b3ed9b95-0e6c-46f5-9c30-1e855e11443b",
   "metadata": {
    "tags": []
   },
   "outputs": [
    {
     "name": "stdout",
     "output_type": "stream",
     "text": [
      "T-Statistic: -5.528855118777368\n",
      "P-Value: 0.11391343282853528\n"
     ]
    }
   ],
   "source": [
    "t_statistic, p_value = stats.ttest_1samp(CHG_Tms_Copia_down, np.mean(CHG_Tdu_Copia_down + CHG_Tpr_Copia_down))\n",
    "\n",
    "print(\"T-Statistic:\", t_statistic)\n",
    "print(\"P-Value:\", p_value)"
   ]
  },
  {
   "cell_type": "markdown",
   "id": "20338137-fc77-48b4-80b6-a031455768f8",
   "metadata": {},
   "source": [
    "## CHH; Copia; upstream"
   ]
  },
  {
   "cell_type": "code",
   "execution_count": 31,
   "id": "cb996d6e-dc1b-4982-a64e-ff81f747656e",
   "metadata": {
    "tags": []
   },
   "outputs": [],
   "source": [
    "CHH_Tdu_Copia_upstream = [0.106638489, 0.123647298]\n",
    "CHH_Tpr_Copia_upstream = [0.097503003, 0.105718738]\n",
    "CHH_Tms_Copia_upstream = [0.112049017, 0.108028287]\n",
    "\n",
    "Trans_CHH_Tdu_Copia_upstream = np.arcsin(np.sqrt(CHH_Tdu_Copia_upstream)).tolist()\n",
    "Trans_CHH_Tpr_Copia_upstream = np.arcsin(np.sqrt(CHH_Tpr_Copia_upstream)).tolist()\n",
    "Trans_CHH_Tms_Copia_upstream = np.arcsin(np.sqrt(CHH_Tms_Copia_upstream)).tolist()"
   ]
  },
  {
   "cell_type": "code",
   "execution_count": 32,
   "id": "70bc8f05-e5fd-45c9-9727-66620302fda1",
   "metadata": {
    "tags": []
   },
   "outputs": [
    {
     "name": "stdout",
     "output_type": "stream",
     "text": [
      "1.1946481476905886 0.5502821821639055\n"
     ]
    }
   ],
   "source": [
    "statistic, p_value = bartlett(Trans_CHH_Tdu_Copia_upstream, Trans_CHH_Tpr_Copia_upstream, Trans_CHH_Tms_Copia_upstream)\n",
    "print(statistic, p_value)"
   ]
  },
  {
   "cell_type": "code",
   "execution_count": 33,
   "id": "ff36e523-ab91-42a7-b9d3-a7e3206c08c3",
   "metadata": {
    "tags": []
   },
   "outputs": [
    {
     "name": "stdout",
     "output_type": "stream",
     "text": [
      "ANOVA results:\n",
      "            df    sum_sq   mean_sq         F    PR(>F)\n",
      "species   2.0  0.000479  0.000240  1.533776  0.347665\n",
      "Residual  3.0  0.000468  0.000156       NaN       NaN\n",
      "\n",
      "Post hoc test results:\n",
      " Multiple Comparison of Means - Tukey HSD, FWER=0.05\n",
      "===================================================\n",
      "group1 group2 meandiff p-adj   lower  upper  reject\n",
      "---------------------------------------------------\n",
      "   Tdu    Tms  -0.0079 0.8154 -0.0601 0.0443  False\n",
      "   Tdu    Tpr  -0.0216 0.3298 -0.0738 0.0306  False\n",
      "   Tms    Tpr  -0.0137 0.5765  -0.066 0.0385  False\n",
      "---------------------------------------------------\n"
     ]
    }
   ],
   "source": [
    "CHH_Copia_upstream = pd.DataFrame({'species': ['Tdu', 'Tdu', 'Tpr', 'Tpr', 'Tms', 'Tms'],\n",
    "                          'methylation': Trans_CHH_Tdu_Copia_upstream + Trans_CHH_Tpr_Copia_upstream + Trans_CHH_Tms_Copia_upstream})\n",
    "model = ols('methylation ~ species', data=CHH_Copia_upstream).fit()\n",
    "anova_table = sm.stats.anova_lm(model)\n",
    "\n",
    "posthoc = pairwise_tukeyhsd(CHH_Copia_upstream['methylation'], CHH_Copia_upstream['species'])\n",
    "\n",
    "print(\"ANOVA results:\\n\", anova_table)\n",
    "print(\"\\nPost hoc test results:\\n\", posthoc)"
   ]
  },
  {
   "cell_type": "markdown",
   "id": "3afef566-72ed-4bfc-83da-3ed9c3aeeaca",
   "metadata": {},
   "source": [
    "## CHH; Copia; body"
   ]
  },
  {
   "cell_type": "code",
   "execution_count": 34,
   "id": "e5d4a96e-1613-491e-9dcd-48f0f75de707",
   "metadata": {
    "tags": []
   },
   "outputs": [],
   "source": [
    "CHH_Tdu_Copia_body = [0.095655382, 0.117189578]\n",
    "CHH_Tpr_Copia_body = [0.094727815, 0.099611501]\n",
    "CHH_Tms_Copia_body = [0.107353653, 0.105608699]\n",
    "\n",
    "Trans_CHH_Tdu_Copia_body = np.arcsin(np.sqrt(CHH_Tdu_Copia_body)).tolist()\n",
    "Trans_CHH_Tpr_Copia_body = np.arcsin(np.sqrt(CHH_Tpr_Copia_body)).tolist()\n",
    "Trans_CHH_Tms_Copia_body = np.arcsin(np.sqrt(CHH_Tms_Copia_body)).tolist()"
   ]
  },
  {
   "cell_type": "code",
   "execution_count": 35,
   "id": "ba41f54c-a179-4ec5-8a11-7f52a45e37f3",
   "metadata": {
    "tags": []
   },
   "outputs": [
    {
     "name": "stdout",
     "output_type": "stream",
     "text": [
      "3.325083190244443 0.1896563373981315\n"
     ]
    }
   ],
   "source": [
    "statistic, p_value = bartlett(Trans_CHH_Tdu_Copia_body, Trans_CHH_Tpr_Copia_body, Trans_CHH_Tms_Copia_body)\n",
    "print(statistic, p_value)"
   ]
  },
  {
   "cell_type": "code",
   "execution_count": 36,
   "id": "b628df62-9eed-4e54-9e55-725876752cb3",
   "metadata": {
    "tags": []
   },
   "outputs": [
    {
     "name": "stdout",
     "output_type": "stream",
     "text": [
      "ANOVA results:\n",
      "            df    sum_sq   mean_sq         F    PR(>F)\n",
      "species   2.0  0.000307  0.000154  0.710471  0.558997\n",
      "Residual  3.0  0.000649  0.000216       NaN       NaN\n",
      "\n",
      "Post hoc test results:\n",
      " Multiple Comparison of Means - Tukey HSD, FWER=0.05\n",
      "===================================================\n",
      "group1 group2 meandiff p-adj   lower  upper  reject\n",
      "---------------------------------------------------\n",
      "   Tdu    Tms   0.0005 0.9994  -0.061 0.0619  False\n",
      "   Tdu    Tpr  -0.0149 0.6181 -0.0764 0.0465  False\n",
      "   Tms    Tpr  -0.0154 0.6018 -0.0769  0.046  False\n",
      "---------------------------------------------------\n"
     ]
    }
   ],
   "source": [
    "CHH_Copia_body = pd.DataFrame({'species': ['Tdu', 'Tdu', 'Tpr', 'Tpr', 'Tms', 'Tms'],\n",
    "                          'methylation': Trans_CHH_Tdu_Copia_body + Trans_CHH_Tpr_Copia_body + Trans_CHH_Tms_Copia_body})\n",
    "model = ols('methylation ~ species', data=CHH_Copia_body).fit()\n",
    "anova_table = sm.stats.anova_lm(model)\n",
    "\n",
    "posthoc = pairwise_tukeyhsd(CHH_Copia_body['methylation'], CHH_Copia_body['species'])\n",
    "\n",
    "print(\"ANOVA results:\\n\", anova_table)\n",
    "print(\"\\nPost hoc test results:\\n\", posthoc)"
   ]
  },
  {
   "cell_type": "markdown",
   "id": "f6a2500a-94f7-4be9-a47f-e8eb7e6c9f45",
   "metadata": {},
   "source": [
    "## CHH; Copia; downstream"
   ]
  },
  {
   "cell_type": "code",
   "execution_count": 37,
   "id": "b9420396-9e71-4d54-a6c3-325bc4c5f3b3",
   "metadata": {
    "tags": []
   },
   "outputs": [],
   "source": [
    "CHH_Tdu_Copia_down = [0.107737857, 0.12424714]\n",
    "CHH_Tpr_Copia_down = [0.098153554, 0.106506922]\n",
    "CHH_Tms_Copia_down = [0.112863317, 0.108802279]\n",
    "\n",
    "Trans_CHH_Tdu_Copia_down = np.arcsin(np.sqrt(CHH_Tdu_Copia_down)).tolist()\n",
    "Trans_CHH_Tpr_Copia_down = np.arcsin(np.sqrt(CHH_Tpr_Copia_down)).tolist()\n",
    "Trans_CHH_Tms_Copia_down = np.arcsin(np.sqrt(CHH_Tms_Copia_down)).tolist()"
   ]
  },
  {
   "cell_type": "code",
   "execution_count": 38,
   "id": "30b628bf-2db8-4524-b309-5c7f844316a0",
   "metadata": {
    "tags": []
   },
   "outputs": [
    {
     "name": "stdout",
     "output_type": "stream",
     "text": [
      "1.1220398911302822 0.5706267587076275\n"
     ]
    }
   ],
   "source": [
    "statistic, p_value = bartlett(Trans_CHH_Tdu_Copia_down, Trans_CHH_Tpr_Copia_down, Trans_CHH_Tms_Copia_down)\n",
    "print(statistic, p_value)"
   ]
  },
  {
   "cell_type": "code",
   "execution_count": 39,
   "id": "538c495b-ddb8-464c-b1f5-7ede6d5b3b0f",
   "metadata": {
    "tags": []
   },
   "outputs": [
    {
     "name": "stdout",
     "output_type": "stream",
     "text": [
      "ANOVA results:\n",
      "            df    sum_sq   mean_sq         F    PR(>F)\n",
      "species   2.0  0.000486  0.000243  1.624603  0.332617\n",
      "Residual  3.0  0.000449  0.000150       NaN       NaN\n",
      "\n",
      "Post hoc test results:\n",
      " Multiple Comparison of Means - Tukey HSD, FWER=0.05\n",
      "===================================================\n",
      "group1 group2 meandiff p-adj   lower  upper  reject\n",
      "---------------------------------------------------\n",
      "   Tdu    Tms  -0.0079 0.8055  -0.059 0.0431  False\n",
      "   Tdu    Tpr  -0.0218  0.315 -0.0729 0.0293  False\n",
      "   Tms    Tpr  -0.0138 0.5618 -0.0649 0.0373  False\n",
      "---------------------------------------------------\n"
     ]
    }
   ],
   "source": [
    "CHH_Copia_down = pd.DataFrame({'species': ['Tdu', 'Tdu', 'Tpr', 'Tpr', 'Tms', 'Tms'],\n",
    "                          'methylation': Trans_CHH_Tdu_Copia_down + Trans_CHH_Tpr_Copia_down + Trans_CHH_Tms_Copia_down})\n",
    "model = ols('methylation ~ species', data=CHH_Copia_down).fit()\n",
    "anova_table = sm.stats.anova_lm(model)\n",
    "\n",
    "posthoc = pairwise_tukeyhsd(CHH_Copia_down['methylation'], CHH_Copia_down['species'])\n",
    "\n",
    "print(\"ANOVA results:\\n\", anova_table)\n",
    "print(\"\\nPost hoc test results:\\n\", posthoc)"
   ]
  },
  {
   "cell_type": "code",
   "execution_count": null,
   "id": "4395f1ff-4763-4bd4-abd9-f34df8f57493",
   "metadata": {},
   "outputs": [],
   "source": []
  }
 ],
 "metadata": {
  "kernelspec": {
   "display_name": "PyTorch-1.10",
   "language": "python",
   "name": "pytorch-1.10"
  },
  "language_info": {
   "codemirror_mode": {
    "name": "ipython",
    "version": 3
   },
   "file_extension": ".py",
   "mimetype": "text/x-python",
   "name": "python",
   "nbconvert_exporter": "python",
   "pygments_lexer": "ipython3",
   "version": "3.9.7"
  }
 },
 "nbformat": 4,
 "nbformat_minor": 5
}
