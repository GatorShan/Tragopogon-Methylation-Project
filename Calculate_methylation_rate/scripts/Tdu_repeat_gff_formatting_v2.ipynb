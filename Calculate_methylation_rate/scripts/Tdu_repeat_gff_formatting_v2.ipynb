{
 "cells": [
  {
   "cell_type": "code",
   "execution_count": 1,
   "id": "3a2b2676-da90-41a5-87df-4fc73fa15e41",
   "metadata": {},
   "outputs": [],
   "source": [
    "import sys,os,re\n",
    "import pandas as pd\n",
    "Delimiter = '\\t'"
   ]
  },
  {
   "cell_type": "code",
   "execution_count": 6,
   "id": "85b1f967-1cb9-4cb3-a7de-f8c5d76e59c9",
   "metadata": {},
   "outputs": [],
   "source": [
    "InFileName1 = \"/blue/soltis/shan158538/Methylation/OutPut/TE_annotation/Tdub2_rnd3_50aa.all.maker.rm.gff\""
   ]
  },
  {
   "cell_type": "code",
   "execution_count": 8,
   "id": "d4fb90c9-8519-41cf-9cba-8b3a6be7aadb",
   "metadata": {},
   "outputs": [],
   "source": [
    "# read the repeat gff file; there are three extra columns\n",
    "GFF = pd.read_csv(InFileName1, sep=Delimiter, header=None, names=['Scaffold', 'Source', 'Feature', 'Start', 'End', 'Score', 'Strand', 'Frame', 'Attribute', 'extra_1', 'extra_2', 'extra_3'])"
   ]
  },
  {
   "cell_type": "code",
   "execution_count": 9,
   "id": "0fb9ed8c-25a5-4aca-90db-6c9d28718f11",
   "metadata": {},
   "outputs": [
    {
     "data": {
      "text/html": [
       "<div>\n",
       "<style scoped>\n",
       "    .dataframe tbody tr th:only-of-type {\n",
       "        vertical-align: middle;\n",
       "    }\n",
       "\n",
       "    .dataframe tbody tr th {\n",
       "        vertical-align: top;\n",
       "    }\n",
       "\n",
       "    .dataframe thead th {\n",
       "        text-align: right;\n",
       "    }\n",
       "</style>\n",
       "<table border=\"1\" class=\"dataframe\">\n",
       "  <thead>\n",
       "    <tr style=\"text-align: right;\">\n",
       "      <th></th>\n",
       "      <th>Scaffold</th>\n",
       "      <th>Source</th>\n",
       "      <th>Feature</th>\n",
       "      <th>Start</th>\n",
       "      <th>End</th>\n",
       "      <th>Score</th>\n",
       "      <th>Strand</th>\n",
       "      <th>Frame</th>\n",
       "      <th>Attribute</th>\n",
       "      <th>extra_1</th>\n",
       "      <th>extra_2</th>\n",
       "      <th>extra_3</th>\n",
       "    </tr>\n",
       "  </thead>\n",
       "  <tbody>\n",
       "    <tr>\n",
       "      <th>0</th>\n",
       "      <td>Tdub_V1_scaffold_11007</td>\n",
       "      <td>.</td>\n",
       "      <td>contig</td>\n",
       "      <td>1</td>\n",
       "      <td>121246</td>\n",
       "      <td>.</td>\n",
       "      <td>.</td>\n",
       "      <td>.</td>\n",
       "      <td>ID=1256831;Name=1256831</td>\n",
       "      <td>NaN</td>\n",
       "      <td>NaN</td>\n",
       "      <td>NaN</td>\n",
       "    </tr>\n",
       "    <tr>\n",
       "      <th>1</th>\n",
       "      <td>Tdub_V1_scaffold_11007</td>\n",
       "      <td>maker</td>\n",
       "      <td>gene</td>\n",
       "      <td>9764</td>\n",
       "      <td>12106</td>\n",
       "      <td>.</td>\n",
       "      <td>-</td>\n",
       "      <td>.</td>\n",
       "      <td>ID=TragDub17217;Name=TragDub17217;Alias=maker-...</td>\n",
       "      <td>NaN</td>\n",
       "      <td>NaN</td>\n",
       "      <td>NaN</td>\n",
       "    </tr>\n",
       "    <tr>\n",
       "      <th>2</th>\n",
       "      <td>Tdub_V1_scaffold_11007</td>\n",
       "      <td>maker</td>\n",
       "      <td>mRNA</td>\n",
       "      <td>9764</td>\n",
       "      <td>12106</td>\n",
       "      <td>.</td>\n",
       "      <td>-</td>\n",
       "      <td>.</td>\n",
       "      <td>ID=TragDub17217-RA;Parent=TragDub17217;Name=Tr...</td>\n",
       "      <td>NaN</td>\n",
       "      <td>NaN</td>\n",
       "      <td>NaN</td>\n",
       "    </tr>\n",
       "    <tr>\n",
       "      <th>3</th>\n",
       "      <td>Tdub_V1_scaffold_11007</td>\n",
       "      <td>maker</td>\n",
       "      <td>exon</td>\n",
       "      <td>9764</td>\n",
       "      <td>10899</td>\n",
       "      <td>.</td>\n",
       "      <td>-</td>\n",
       "      <td>.</td>\n",
       "      <td>ID=TragDub17217-RA:exon:1007;Parent=TragDub172...</td>\n",
       "      <td>NaN</td>\n",
       "      <td>NaN</td>\n",
       "      <td>NaN</td>\n",
       "    </tr>\n",
       "    <tr>\n",
       "      <th>4</th>\n",
       "      <td>Tdub_V1_scaffold_11007</td>\n",
       "      <td>maker</td>\n",
       "      <td>exon</td>\n",
       "      <td>11056</td>\n",
       "      <td>12106</td>\n",
       "      <td>.</td>\n",
       "      <td>-</td>\n",
       "      <td>.</td>\n",
       "      <td>ID=TragDub17217-RA:exon:1006;Parent=TragDub172...</td>\n",
       "      <td>NaN</td>\n",
       "      <td>NaN</td>\n",
       "      <td>NaN</td>\n",
       "    </tr>\n",
       "  </tbody>\n",
       "</table>\n",
       "</div>"
      ],
      "text/plain": [
       "                 Scaffold Source Feature  Start     End Score Strand Frame  \\\n",
       "0  Tdub_V1_scaffold_11007      .  contig      1  121246     .      .     .   \n",
       "1  Tdub_V1_scaffold_11007  maker    gene   9764   12106     .      -     .   \n",
       "2  Tdub_V1_scaffold_11007  maker    mRNA   9764   12106     .      -     .   \n",
       "3  Tdub_V1_scaffold_11007  maker    exon   9764   10899     .      -     .   \n",
       "4  Tdub_V1_scaffold_11007  maker    exon  11056   12106     .      -     .   \n",
       "\n",
       "                                           Attribute  extra_1  extra_2 extra_3  \n",
       "0                            ID=1256831;Name=1256831      NaN      NaN     NaN  \n",
       "1  ID=TragDub17217;Name=TragDub17217;Alias=maker-...      NaN      NaN     NaN  \n",
       "2  ID=TragDub17217-RA;Parent=TragDub17217;Name=Tr...      NaN      NaN     NaN  \n",
       "3  ID=TragDub17217-RA:exon:1007;Parent=TragDub172...      NaN      NaN     NaN  \n",
       "4  ID=TragDub17217-RA:exon:1006;Parent=TragDub172...      NaN      NaN     NaN  "
      ]
     },
     "execution_count": 9,
     "metadata": {},
     "output_type": "execute_result"
    }
   ],
   "source": [
    "GFF.head()"
   ]
  },
  {
   "cell_type": "code",
   "execution_count": 10,
   "id": "5c4ba705-67f9-4dbb-b43d-5345b39cdfca",
   "metadata": {},
   "outputs": [],
   "source": [
    "# Drop the three extra columns\n",
    "GFF = GFF.drop(['extra_1', 'extra_2', 'extra_3'], axis=1)"
   ]
  },
  {
   "cell_type": "code",
   "execution_count": 14,
   "id": "b6a52980-8542-4b95-995d-5e90e13f1591",
   "metadata": {},
   "outputs": [],
   "source": [
    "# Only extract rows with TE annotation\n",
    "TE_GFF = GFF[GFF['Attribute'].str.contains('genus:LTR|genus:SINE|genus:LINE|genus:DNA')]"
   ]
  },
  {
   "cell_type": "code",
   "execution_count": 16,
   "id": "465187df-20e7-4f8b-91fe-be5dbcccb089",
   "metadata": {
    "tags": []
   },
   "outputs": [
    {
     "data": {
      "text/plain": [
       "(125664, 9)"
      ]
     },
     "execution_count": 16,
     "metadata": {},
     "output_type": "execute_result"
    }
   ],
   "source": [
    "TE_GFF.shape"
   ]
  },
  {
   "cell_type": "code",
   "execution_count": 17,
   "id": "5e791ea9-e449-442e-90d9-1c61079246cc",
   "metadata": {},
   "outputs": [
    {
     "name": "stderr",
     "output_type": "stream",
     "text": [
      "/orange/soltis/shan158538/methylpy_temp/ipykernel_72827/41699621.py:2: SettingWithCopyWarning: \n",
      "A value is trying to be set on a copy of a slice from a DataFrame.\n",
      "Try using .loc[row_indexer,col_indexer] = value instead\n",
      "\n",
      "See the caveats in the documentation: https://pandas.pydata.org/pandas-docs/stable/user_guide/indexing.html#returning-a-view-versus-a-copy\n",
      "  TE_GFF['Feature'] = TE_GFF['Feature'].replace('match', 'TE')\n",
      "/orange/soltis/shan158538/methylpy_temp/ipykernel_72827/41699621.py:3: SettingWithCopyWarning: \n",
      "A value is trying to be set on a copy of a slice from a DataFrame.\n",
      "Try using .loc[row_indexer,col_indexer] = value instead\n",
      "\n",
      "See the caveats in the documentation: https://pandas.pydata.org/pandas-docs/stable/user_guide/indexing.html#returning-a-view-versus-a-copy\n",
      "  TE_GFF['Feature'] = TE_GFF['Feature'].replace('match_part', 'TE_CDS')\n"
     ]
    }
   ],
   "source": [
    "# Replace match to TE; match_part to TE_CDS\n",
    "TE_GFF['Feature'] = TE_GFF['Feature'].replace('match', 'TE')\n",
    "TE_GFF['Feature'] = TE_GFF['Feature'].replace('match_part', 'TE_CDS')"
   ]
  },
  {
   "cell_type": "code",
   "execution_count": 18,
   "id": "44ecf796-ce5d-4baa-9abd-08f93a4f59ec",
   "metadata": {},
   "outputs": [
    {
     "data": {
      "text/html": [
       "<div>\n",
       "<style scoped>\n",
       "    .dataframe tbody tr th:only-of-type {\n",
       "        vertical-align: middle;\n",
       "    }\n",
       "\n",
       "    .dataframe tbody tr th {\n",
       "        vertical-align: top;\n",
       "    }\n",
       "\n",
       "    .dataframe thead th {\n",
       "        text-align: right;\n",
       "    }\n",
       "</style>\n",
       "<table border=\"1\" class=\"dataframe\">\n",
       "  <thead>\n",
       "    <tr style=\"text-align: right;\">\n",
       "      <th></th>\n",
       "      <th>Scaffold</th>\n",
       "      <th>Source</th>\n",
       "      <th>Feature</th>\n",
       "      <th>Start</th>\n",
       "      <th>End</th>\n",
       "      <th>Score</th>\n",
       "      <th>Strand</th>\n",
       "      <th>Frame</th>\n",
       "      <th>Attribute</th>\n",
       "    </tr>\n",
       "  </thead>\n",
       "  <tbody>\n",
       "    <tr>\n",
       "      <th>81</th>\n",
       "      <td>Tdub_V1_scaffold_11007</td>\n",
       "      <td>repeat_gff:repeatmasker</td>\n",
       "      <td>TE</td>\n",
       "      <td>857</td>\n",
       "      <td>3068</td>\n",
       "      <td>2499</td>\n",
       "      <td>+</td>\n",
       "      <td>.</td>\n",
       "      <td>ID=1256831:hit:13903:1.3.0.0;Name=species:rnd-...</td>\n",
       "    </tr>\n",
       "    <tr>\n",
       "      <th>82</th>\n",
       "      <td>Tdub_V1_scaffold_11007</td>\n",
       "      <td>repeat_gff:repeatmasker</td>\n",
       "      <td>TE_CDS</td>\n",
       "      <td>857</td>\n",
       "      <td>3068</td>\n",
       "      <td>2499</td>\n",
       "      <td>+</td>\n",
       "      <td>.</td>\n",
       "      <td>ID=1256831:hsp:26987:1.3.0.0;Parent=1256831:hi...</td>\n",
       "    </tr>\n",
       "    <tr>\n",
       "      <th>83</th>\n",
       "      <td>Tdub_V1_scaffold_11007</td>\n",
       "      <td>repeat_gff:repeatmasker</td>\n",
       "      <td>TE</td>\n",
       "      <td>3119</td>\n",
       "      <td>3620</td>\n",
       "      <td>1800</td>\n",
       "      <td>+</td>\n",
       "      <td>.</td>\n",
       "      <td>ID=1256831:hit:13904:1.3.0.0;Name=species:rnd-...</td>\n",
       "    </tr>\n",
       "    <tr>\n",
       "      <th>84</th>\n",
       "      <td>Tdub_V1_scaffold_11007</td>\n",
       "      <td>repeat_gff:repeatmasker</td>\n",
       "      <td>TE_CDS</td>\n",
       "      <td>3119</td>\n",
       "      <td>3620</td>\n",
       "      <td>1800</td>\n",
       "      <td>+</td>\n",
       "      <td>.</td>\n",
       "      <td>ID=1256831:hsp:26988:1.3.0.0;Parent=1256831:hi...</td>\n",
       "    </tr>\n",
       "    <tr>\n",
       "      <th>97</th>\n",
       "      <td>Tdub_V1_scaffold_11007</td>\n",
       "      <td>repeat_gff:repeatmasker</td>\n",
       "      <td>TE</td>\n",
       "      <td>9556</td>\n",
       "      <td>9682</td>\n",
       "      <td>464</td>\n",
       "      <td>+</td>\n",
       "      <td>.</td>\n",
       "      <td>ID=1256831:hit:13911:1.3.0.0;Name=species:rnd-...</td>\n",
       "    </tr>\n",
       "  </tbody>\n",
       "</table>\n",
       "</div>"
      ],
      "text/plain": [
       "                  Scaffold                   Source Feature  Start   End  \\\n",
       "81  Tdub_V1_scaffold_11007  repeat_gff:repeatmasker      TE    857  3068   \n",
       "82  Tdub_V1_scaffold_11007  repeat_gff:repeatmasker  TE_CDS    857  3068   \n",
       "83  Tdub_V1_scaffold_11007  repeat_gff:repeatmasker      TE   3119  3620   \n",
       "84  Tdub_V1_scaffold_11007  repeat_gff:repeatmasker  TE_CDS   3119  3620   \n",
       "97  Tdub_V1_scaffold_11007  repeat_gff:repeatmasker      TE   9556  9682   \n",
       "\n",
       "   Score Strand Frame                                          Attribute  \n",
       "81  2499      +     .  ID=1256831:hit:13903:1.3.0.0;Name=species:rnd-...  \n",
       "82  2499      +     .  ID=1256831:hsp:26987:1.3.0.0;Parent=1256831:hi...  \n",
       "83  1800      +     .  ID=1256831:hit:13904:1.3.0.0;Name=species:rnd-...  \n",
       "84  1800      +     .  ID=1256831:hsp:26988:1.3.0.0;Parent=1256831:hi...  \n",
       "97   464      +     .  ID=1256831:hit:13911:1.3.0.0;Name=species:rnd-...  "
      ]
     },
     "execution_count": 18,
     "metadata": {},
     "output_type": "execute_result"
    }
   ],
   "source": [
    "TE_GFF.head()"
   ]
  },
  {
   "cell_type": "code",
   "execution_count": 20,
   "id": "e09ce028-cc77-473d-894a-ce7755132b5d",
   "metadata": {
    "tags": []
   },
   "outputs": [
    {
     "data": {
      "text/plain": [
       "array(['repeat_gff:repeatmasker'], dtype=object)"
      ]
     },
     "execution_count": 20,
     "metadata": {},
     "output_type": "execute_result"
    }
   ],
   "source": [
    "# All source are from repeatmasker\n",
    "TE_GFF['Source'].unique()"
   ]
  },
  {
   "cell_type": "code",
   "execution_count": 21,
   "id": "9ab354cb-ca43-4f4d-8457-d638cb3e02b7",
   "metadata": {
    "tags": []
   },
   "outputs": [
    {
     "data": {
      "text/plain": [
       "array(['+'], dtype=object)"
      ]
     },
     "execution_count": 21,
     "metadata": {},
     "output_type": "execute_result"
    }
   ],
   "source": [
    "# All on + strand\n",
    "TE_GFF['Strand'].unique()"
   ]
  },
  {
   "cell_type": "code",
   "execution_count": 19,
   "id": "dcbea9fa-574d-4bc0-a420-5e77c135fa54",
   "metadata": {},
   "outputs": [],
   "source": [
    "TE_GFF.to_csv(\"/blue/soltis/shan158538/Methylation/OutPut/TE_annotation/Tdub2_rnd3_50aa.TE.maker.rm.gff\", sep=Delimiter, header=False, index=False)"
   ]
  },
  {
   "cell_type": "code",
   "execution_count": null,
   "id": "f7141be9-80cc-488c-895d-4ef411fc8409",
   "metadata": {},
   "outputs": [],
   "source": []
  }
 ],
 "metadata": {
  "kernelspec": {
   "display_name": "PyTorch-1.10",
   "language": "python",
   "name": "pytorch-1.10"
  },
  "language_info": {
   "codemirror_mode": {
    "name": "ipython",
    "version": 3
   },
   "file_extension": ".py",
   "mimetype": "text/x-python",
   "name": "python",
   "nbconvert_exporter": "python",
   "pygments_lexer": "ipython3",
   "version": "3.9.7"
  }
 },
 "nbformat": 4,
 "nbformat_minor": 5
}
