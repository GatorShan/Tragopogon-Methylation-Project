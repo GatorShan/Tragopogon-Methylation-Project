{
 "cells": [
  {
   "cell_type": "code",
   "execution_count": 14,
   "id": "6ce770be-b825-4f2a-b213-6bc50cc096f6",
   "metadata": {
    "tags": []
   },
   "outputs": [],
   "source": [
    "import pandas as pd\n",
    "import statsmodels.api as sm\n",
    "from statsmodels.formula.api import ols\n",
    "from statsmodels.stats.multicomp import pairwise_tukeyhsd"
   ]
  },
  {
   "cell_type": "markdown",
   "id": "dea68851-9e63-4d46-97fc-04e67bf7902a",
   "metadata": {},
   "source": [
    "## CG_TE_body"
   ]
  },
  {
   "cell_type": "code",
   "execution_count": 4,
   "id": "f032b429-72e6-47f9-8a58-754f9fa9cc57",
   "metadata": {
    "tags": []
   },
   "outputs": [],
   "source": [
    "CG_TE_body = pd.DataFrame({'species': ['Tdu', 'Tdu', 'Tpr', 'Tpr', 'Tms', 'Tms'],\n",
    "                          'methylation': [0.938282705, 0.935396559, 0.892349412, 0.900955696, 0.916044855, 0.915590914]})"
   ]
  },
  {
   "cell_type": "code",
   "execution_count": 5,
   "id": "dd398308-03e2-4bed-bbdd-d05ac3b6d5a3",
   "metadata": {
    "tags": []
   },
   "outputs": [],
   "source": [
    "model = ols('methylation ~ species', data=CG_TE_body).fit()\n",
    "anova_table = sm.stats.anova_lm(model)"
   ]
  },
  {
   "cell_type": "code",
   "execution_count": 7,
   "id": "a1f4be8f-5808-42ce-801d-bb52e0b12c2e",
   "metadata": {
    "tags": []
   },
   "outputs": [],
   "source": [
    "posthoc = pairwise_tukeyhsd(CG_TE_body['methylation'], CG_TE_body['species'])"
   ]
  },
  {
   "cell_type": "code",
   "execution_count": 8,
   "id": "922190f8-78ea-423a-b23a-6e5711802532",
   "metadata": {
    "tags": []
   },
   "outputs": [
    {
     "name": "stdout",
     "output_type": "stream",
     "text": [
      "ANOVA results:\n",
      "            df    sum_sq   mean_sq          F    PR(>F)\n",
      "species   2.0  0.001616  0.000808  58.695081  0.003934\n",
      "Residual  3.0  0.000041  0.000014        NaN       NaN\n"
     ]
    }
   ],
   "source": [
    "print(\"ANOVA results:\\n\", anova_table)"
   ]
  },
  {
   "cell_type": "code",
   "execution_count": 9,
   "id": "a63716d3-54ef-4db7-a538-2e6d02c44349",
   "metadata": {
    "tags": []
   },
   "outputs": [
    {
     "name": "stdout",
     "output_type": "stream",
     "text": [
      "\n",
      "Post hoc test results:\n",
      " Multiple Comparison of Means - Tukey HSD, FWER=0.05 \n",
      "====================================================\n",
      "group1 group2 meandiff p-adj   lower   upper  reject\n",
      "----------------------------------------------------\n",
      "   Tdu    Tms   -0.021 0.0221 -0.0365 -0.0055   True\n",
      "   Tdu    Tpr  -0.0402 0.0035 -0.0557 -0.0247   True\n",
      "   Tms    Tpr  -0.0192 0.0285 -0.0347 -0.0037   True\n",
      "----------------------------------------------------\n"
     ]
    }
   ],
   "source": [
    "print(\"\\nPost hoc test results:\\n\", posthoc)"
   ]
  },
  {
   "cell_type": "markdown",
   "id": "7742e989-6b1a-42dc-97a5-93c6723de488",
   "metadata": {},
   "source": [
    "## CHG_gene_upstream"
   ]
  },
  {
   "cell_type": "code",
   "execution_count": 15,
   "id": "0b77ae82-aba8-41b8-9535-2fe38fe50e7d",
   "metadata": {
    "tags": []
   },
   "outputs": [],
   "source": [
    "CHG_gene_upstream = pd.DataFrame({'species': ['Tdu', 'Tdu', 'Tpr', 'Tpr', 'Tms', 'Tms'],\n",
    "                          'methylation': [0.697022076, 0.667568198, 0.572108976, 0.609770358, 0.615360467, 0.599295049]})"
   ]
  },
  {
   "cell_type": "code",
   "execution_count": 16,
   "id": "179e0bff-31cb-442a-a648-3ad4fb01acef",
   "metadata": {
    "tags": []
   },
   "outputs": [],
   "source": [
    "model = ols('methylation ~ species', data=CHG_gene_upstream).fit()\n",
    "anova_table = sm.stats.anova_lm(model)\n",
    "\n",
    "posthoc = pairwise_tukeyhsd(CHG_gene_upstream['methylation'], CHG_gene_upstream['species'])"
   ]
  },
  {
   "cell_type": "code",
   "execution_count": 17,
   "id": "4bf7786a-7f81-449d-b458-9ec84596f76c",
   "metadata": {
    "tags": []
   },
   "outputs": [
    {
     "name": "stdout",
     "output_type": "stream",
     "text": [
      "ANOVA results:\n",
      "            df    sum_sq   mean_sq          F    PR(>F)\n",
      "species   2.0  0.009490  0.004745  11.190608  0.040636\n",
      "Residual  3.0  0.001272  0.000424        NaN       NaN\n"
     ]
    }
   ],
   "source": [
    "print(\"ANOVA results:\\n\", anova_table)"
   ]
  },
  {
   "cell_type": "code",
   "execution_count": 18,
   "id": "7ad5da57-b4ec-4f4c-80b1-77a2a28cac2a",
   "metadata": {
    "tags": []
   },
   "outputs": [
    {
     "name": "stdout",
     "output_type": "stream",
     "text": [
      "\n",
      "Post hoc test results:\n",
      " Multiple Comparison of Means - Tukey HSD, FWER=0.05 \n",
      "====================================================\n",
      "group1 group2 meandiff p-adj   lower   upper  reject\n",
      "----------------------------------------------------\n",
      "   Tdu    Tms   -0.075 0.0709  -0.161  0.0111  False\n",
      "   Tdu    Tpr  -0.0914 0.0428 -0.1774 -0.0053   True\n",
      "   Tms    Tpr  -0.0164 0.7309 -0.1024  0.0697  False\n",
      "----------------------------------------------------\n"
     ]
    }
   ],
   "source": [
    "print(\"\\nPost hoc test results:\\n\", posthoc)"
   ]
  },
  {
   "cell_type": "markdown",
   "id": "5c360fe7-4e86-4fc4-9d03-bb0d3fe12af7",
   "metadata": {},
   "source": [
    "## CHG_TE_upstream"
   ]
  },
  {
   "cell_type": "code",
   "execution_count": 19,
   "id": "e8421be8-cab2-4434-a0d7-be67b8a40d25",
   "metadata": {
    "tags": []
   },
   "outputs": [],
   "source": [
    "CHG_TE_upstream = pd.DataFrame({'species': ['Tdu', 'Tdu', 'Tpr', 'Tpr', 'Tms', 'Tms'],\n",
    "                          'methylation': [0.722581195, 0.706769916, 0.629746481, 0.660759507, 0.664017772, 0.650264175]})"
   ]
  },
  {
   "cell_type": "code",
   "execution_count": 20,
   "id": "27796c99-28c0-447f-9805-eb2adf26de77",
   "metadata": {
    "tags": []
   },
   "outputs": [],
   "source": [
    "model = ols('methylation ~ species', data=CHG_TE_upstream).fit()\n",
    "anova_table = sm.stats.anova_lm(model)\n",
    "\n",
    "posthoc = pairwise_tukeyhsd(CHG_TE_upstream['methylation'], CHG_TE_upstream['species'])"
   ]
  },
  {
   "cell_type": "code",
   "execution_count": 21,
   "id": "afba31f4-0743-49ca-8a5d-1d1dfb925608",
   "metadata": {
    "tags": []
   },
   "outputs": [
    {
     "name": "stdout",
     "output_type": "stream",
     "text": [
      "ANOVA results:\n",
      "            df    sum_sq   mean_sq          F    PR(>F)\n",
      "species   2.0  0.005514  0.002757  11.807632  0.037843\n",
      "Residual  3.0  0.000700  0.000233        NaN       NaN\n"
     ]
    }
   ],
   "source": [
    "print(\"ANOVA results:\\n\", anova_table)"
   ]
  },
  {
   "cell_type": "code",
   "execution_count": 22,
   "id": "2fcfd1ac-3a40-4f82-9666-7fec929c63d2",
   "metadata": {
    "tags": []
   },
   "outputs": [
    {
     "name": "stdout",
     "output_type": "stream",
     "text": [
      "\n",
      "Post hoc test results:\n",
      " Multiple Comparison of Means - Tukey HSD, FWER=0.05 \n",
      "====================================================\n",
      "group1 group2 meandiff p-adj   lower   upper  reject\n",
      "----------------------------------------------------\n",
      "   Tdu    Tms  -0.0575 0.0652 -0.1214  0.0063  False\n",
      "   Tdu    Tpr  -0.0694 0.0402 -0.1333 -0.0056   True\n",
      "   Tms    Tpr  -0.0119 0.7402 -0.0757   0.052  False\n",
      "----------------------------------------------------\n"
     ]
    }
   ],
   "source": [
    "print(\"\\nPost hoc test results:\\n\", posthoc)"
   ]
  },
  {
   "cell_type": "markdown",
   "id": "39523c98-c02b-4e7a-b9c4-abebb785614a",
   "metadata": {},
   "source": [
    "## CHG_TE_body"
   ]
  },
  {
   "cell_type": "code",
   "execution_count": 23,
   "id": "df03e824-de02-4f1d-8af7-ef1c799bcc54",
   "metadata": {
    "tags": []
   },
   "outputs": [],
   "source": [
    "CHG_TE_body = pd.DataFrame({'species': ['Tdu', 'Tdu', 'Tpr', 'Tpr', 'Tms', 'Tms'],\n",
    "                          'methylation': [0.761610711, 0.764065083, 0.699673073, 0.712329704, 0.7189503, 0.718847516]})"
   ]
  },
  {
   "cell_type": "code",
   "execution_count": 24,
   "id": "0ae22bb0-c0a9-4a02-8129-e0f9667b356b",
   "metadata": {
    "tags": []
   },
   "outputs": [],
   "source": [
    "model = ols('methylation ~ species', data=CHG_TE_body).fit()\n",
    "anova_table = sm.stats.anova_lm(model)\n",
    "\n",
    "posthoc = pairwise_tukeyhsd(CHG_TE_body['methylation'], CHG_TE_body['species'])"
   ]
  },
  {
   "cell_type": "code",
   "execution_count": 25,
   "id": "c24aab28-ef36-4285-bbb9-1c146900c1f5",
   "metadata": {
    "tags": []
   },
   "outputs": [
    {
     "name": "stdout",
     "output_type": "stream",
     "text": [
      "ANOVA results:\n",
      "            df    sum_sq   mean_sq          F    PR(>F)\n",
      "species   2.0  0.003552  0.001776  64.098365  0.003458\n",
      "Residual  3.0  0.000083  0.000028        NaN       NaN\n",
      "\n",
      "Post hoc test results:\n",
      " Multiple Comparison of Means - Tukey HSD, FWER=0.05 \n",
      "====================================================\n",
      "group1 group2 meandiff p-adj   lower   upper  reject\n",
      "----------------------------------------------------\n",
      "   Tdu    Tms  -0.0439 0.0074 -0.0659 -0.0219   True\n",
      "   Tdu    Tpr  -0.0568 0.0035 -0.0788 -0.0348   True\n",
      "   Tms    Tpr  -0.0129 0.1753 -0.0349  0.0091  False\n",
      "----------------------------------------------------\n"
     ]
    }
   ],
   "source": [
    "print(\"ANOVA results:\\n\", anova_table)\n",
    "print(\"\\nPost hoc test results:\\n\", posthoc)"
   ]
  },
  {
   "cell_type": "markdown",
   "id": "8b2436aa-6dbf-43b6-aaaf-46bc0158a4e4",
   "metadata": {},
   "source": [
    "## CHG_TE_downstream"
   ]
  },
  {
   "cell_type": "code",
   "execution_count": 26,
   "id": "3401576b-e083-4bd2-99df-615c01be067e",
   "metadata": {
    "tags": []
   },
   "outputs": [],
   "source": [
    "CHG_TE_downstream = pd.DataFrame({'species': ['Tdu', 'Tdu', 'Tpr', 'Tpr', 'Tms', 'Tms'],\n",
    "                          'methylation': [0.713915019, 0.694932983, 0.611210027, 0.644194092, 0.651408688, 0.635817067]})"
   ]
  },
  {
   "cell_type": "code",
   "execution_count": 27,
   "id": "aece7f2c-9cb0-4097-9aaf-901ea605caf5",
   "metadata": {
    "tags": []
   },
   "outputs": [],
   "source": [
    "model = ols('methylation ~ species', data=CHG_TE_downstream).fit()\n",
    "anova_table = sm.stats.anova_lm(model)\n",
    "\n",
    "posthoc = pairwise_tukeyhsd(CHG_TE_downstream['methylation'], CHG_TE_downstream['species'])"
   ]
  },
  {
   "cell_type": "code",
   "execution_count": 28,
   "id": "099486f1-a92e-4fe5-a985-93d0619f53a8",
   "metadata": {
    "tags": []
   },
   "outputs": [
    {
     "name": "stdout",
     "output_type": "stream",
     "text": [
      "ANOVA results:\n",
      "            df    sum_sq   mean_sq          F    PR(>F)\n",
      "species   2.0  0.006558  0.003279  11.632503  0.038603\n",
      "Residual  3.0  0.000846  0.000282        NaN       NaN\n",
      "\n",
      "Post hoc test results:\n",
      " Multiple Comparison of Means - Tukey HSD, FWER=0.05 \n",
      "====================================================\n",
      "group1 group2 meandiff p-adj   lower   upper  reject\n",
      "----------------------------------------------------\n",
      "   Tdu    Tms  -0.0608 0.0719  -0.131  0.0093  False\n",
      "   Tdu    Tpr  -0.0767 0.0396 -0.1469 -0.0066   True\n",
      "   Tms    Tpr  -0.0159 0.6525 -0.0861  0.0542  False\n",
      "----------------------------------------------------\n"
     ]
    }
   ],
   "source": [
    "print(\"ANOVA results:\\n\", anova_table)\n",
    "print(\"\\nPost hoc test results:\\n\", posthoc)"
   ]
  },
  {
   "cell_type": "markdown",
   "id": "4c201466-fa2a-4575-b402-a1f1724691e0",
   "metadata": {},
   "source": [
    "## CHH_gene_upstream"
   ]
  },
  {
   "cell_type": "code",
   "execution_count": 29,
   "id": "e9d3e80b-54f2-448e-bd59-b156f0f574a3",
   "metadata": {
    "tags": []
   },
   "outputs": [],
   "source": [
    "CHH_gene_upstream = pd.DataFrame({'species': ['Tdu', 'Tdu', 'Tpr', 'Tpr', 'Tms', 'Tms'],\n",
    "                          'methylation': [0.178035671, 0.187641771, 0.125319166, 0.145308954, 0.158212283, 0.145746969]})"
   ]
  },
  {
   "cell_type": "code",
   "execution_count": 30,
   "id": "1bb663db-52f4-4650-892e-ba844dc99213",
   "metadata": {
    "tags": []
   },
   "outputs": [
    {
     "name": "stdout",
     "output_type": "stream",
     "text": [
      "ANOVA results:\n",
      "            df    sum_sq   mean_sq         F    PR(>F)\n",
      "species   2.0  0.002326  0.001163  10.77977  0.042692\n",
      "Residual  3.0  0.000324  0.000108       NaN       NaN\n",
      "\n",
      "Post hoc test results:\n",
      " Multiple Comparison of Means - Tukey HSD, FWER=0.05 \n",
      "====================================================\n",
      "group1 group2 meandiff p-adj   lower   upper  reject\n",
      "----------------------------------------------------\n",
      "   Tdu    Tms  -0.0309 0.1153 -0.0743  0.0125  False\n",
      "   Tdu    Tpr  -0.0475 0.0394 -0.0909 -0.0041   True\n",
      "   Tms    Tpr  -0.0167 0.3695 -0.0601  0.0267  False\n",
      "----------------------------------------------------\n"
     ]
    }
   ],
   "source": [
    "model = ols('methylation ~ species', data=CHH_gene_upstream).fit()\n",
    "anova_table = sm.stats.anova_lm(model)\n",
    "\n",
    "posthoc = pairwise_tukeyhsd(CHH_gene_upstream['methylation'], CHH_gene_upstream['species'])\n",
    "\n",
    "print(\"ANOVA results:\\n\", anova_table)\n",
    "print(\"\\nPost hoc test results:\\n\", posthoc)"
   ]
  },
  {
   "cell_type": "code",
   "execution_count": null,
   "id": "922da7a1-e9f2-4fe0-9b19-36ccda6554cf",
   "metadata": {},
   "outputs": [],
   "source": []
  }
 ],
 "metadata": {
  "kernelspec": {
   "display_name": "PyTorch-1.10",
   "language": "python",
   "name": "pytorch-1.10"
  },
  "language_info": {
   "codemirror_mode": {
    "name": "ipython",
    "version": 3
   },
   "file_extension": ".py",
   "mimetype": "text/x-python",
   "name": "python",
   "nbconvert_exporter": "python",
   "pygments_lexer": "ipython3",
   "version": "3.9.7"
  }
 },
 "nbformat": 4,
 "nbformat_minor": 5
}
