{
 "cells": [
  {
   "cell_type": "code",
   "execution_count": 1,
   "id": "77595395-a8c9-4325-88cb-c89be3adf9a5",
   "metadata": {
    "tags": []
   },
   "outputs": [],
   "source": [
    "from scipy.stats import bartlett\n",
    "import pandas as pd\n",
    "import statsmodels.api as sm\n",
    "from statsmodels.formula.api import ols\n",
    "from statsmodels.stats.multicomp import pairwise_tukeyhsd\n",
    "import scipy.stats as stats\n",
    "import numpy as np"
   ]
  },
  {
   "cell_type": "markdown",
   "id": "f8068d97-0a65-4cc5-a3b3-a37658ad08d7",
   "metadata": {},
   "source": [
    "## The following test used the arcsine square root transformed data\n",
    "## The methylation levels are from excel files: CG/CHG/CHH_anova_new_Copia_Gypsy.xlsx"
   ]
  },
  {
   "cell_type": "markdown",
   "id": "d8d396f6-a5d3-4afb-9d89-fb09791ec1d3",
   "metadata": {},
   "source": [
    "## CG context; Gypsy; upstream"
   ]
  },
  {
   "cell_type": "code",
   "execution_count": 2,
   "id": "a318f191-84ee-4927-8c97-b7b6cbb65d84",
   "metadata": {
    "tags": []
   },
   "outputs": [],
   "source": [
    "CG_Tdu_Gypsy_upstream = [0.913656164, 0.906735642]\n",
    "CG_Tpr_Gypsy_upstream = [0.860383291, 0.872440118]\n",
    "CG_Tms_Gypsy_upstream = [0.885644814, 0.882409619]\n",
    "\n",
    "Trans_CG_Tdu_Gypsy_upstream = np.arcsin(np.sqrt(CG_Tdu_Gypsy_upstream)).tolist()\n",
    "Trans_CG_Tpr_Gypsy_upstream = np.arcsin(np.sqrt(CG_Tpr_Gypsy_upstream)).tolist()\n",
    "Trans_CG_Tms_Gypsy_upstream = np.arcsin(np.sqrt(CG_Tms_Gypsy_upstream)).tolist()"
   ]
  },
  {
   "cell_type": "markdown",
   "id": "e06aca33-b4af-48f1-84c3-7b2af05012ae",
   "metadata": {},
   "source": [
    "### Variance homo test"
   ]
  },
  {
   "cell_type": "code",
   "execution_count": 3,
   "id": "79408b68-a726-4fb0-8674-f8fbd49bbe48",
   "metadata": {
    "tags": []
   },
   "outputs": [
    {
     "name": "stdout",
     "output_type": "stream",
     "text": [
      "0.8912086795125518 0.6404371174449723\n"
     ]
    }
   ],
   "source": [
    "statistic, p_value = bartlett(Trans_CG_Tdu_Gypsy_upstream, Trans_CG_Tpr_Gypsy_upstream, Trans_CG_Tms_Gypsy_upstream)\n",
    "print(statistic, p_value)"
   ]
  },
  {
   "cell_type": "markdown",
   "id": "68e6b6f2-383d-4998-a82c-c1b381b4b138",
   "metadata": {},
   "source": [
    "### ANOVA and post hoc Tukey"
   ]
  },
  {
   "cell_type": "code",
   "execution_count": 4,
   "id": "928c0515-b58e-4c8a-8d7c-b7177efc93ed",
   "metadata": {},
   "outputs": [
    {
     "name": "stdout",
     "output_type": "stream",
     "text": [
      "ANOVA results:\n",
      "            df    sum_sq   mean_sq          F    PR(>F)\n",
      "species   2.0  0.004962  0.002481  30.616278  0.010094\n",
      "Residual  3.0  0.000243  0.000081        NaN       NaN\n",
      "\n",
      "Post hoc test results:\n",
      " Multiple Comparison of Means - Tukey HSD, FWER=0.05 \n",
      "====================================================\n",
      "group1 group2 meandiff p-adj   lower   upper  reject\n",
      "----------------------------------------------------\n",
      "   Tdu    Tms  -0.0432 0.0347 -0.0808 -0.0056   True\n",
      "   Tdu    Tpr  -0.0698 0.0091 -0.1074 -0.0322   True\n",
      "   Tms    Tpr  -0.0266 0.1168 -0.0642   0.011  False\n",
      "----------------------------------------------------\n"
     ]
    }
   ],
   "source": [
    "CG_Gypsy_upstream = pd.DataFrame({'species': ['Tdu', 'Tdu', 'Tpr', 'Tpr', 'Tms', 'Tms'],\n",
    "                          'methylation': Trans_CG_Tdu_Gypsy_upstream + Trans_CG_Tpr_Gypsy_upstream + Trans_CG_Tms_Gypsy_upstream})\n",
    "model = ols('methylation ~ species', data=CG_Gypsy_upstream).fit()\n",
    "anova_table = sm.stats.anova_lm(model)\n",
    "\n",
    "posthoc = pairwise_tukeyhsd(CG_Gypsy_upstream['methylation'], CG_Gypsy_upstream['species'])\n",
    "\n",
    "print(\"ANOVA results:\\n\", anova_table)\n",
    "print(\"\\nPost hoc test results:\\n\", posthoc)"
   ]
  },
  {
   "cell_type": "markdown",
   "id": "9edeead0-1dcd-40be-bffc-e9365e0bdd9c",
   "metadata": {},
   "source": [
    "### Tms vs MPV"
   ]
  },
  {
   "cell_type": "code",
   "execution_count": 5,
   "id": "466ee226-b011-4d3e-84bf-53db0aaff351",
   "metadata": {
    "tags": []
   },
   "outputs": [
    {
     "name": "stdout",
     "output_type": "stream",
     "text": [
      "T-Statistic: -2.6437894779140194\n",
      "P-Value: 0.2302096752385309\n"
     ]
    }
   ],
   "source": [
    "t_statistic, p_value = stats.ttest_1samp(CG_Tms_Gypsy_upstream, np.mean(CG_Tdu_Gypsy_upstream + CG_Tpr_Gypsy_upstream))\n",
    "\n",
    "print(\"T-Statistic:\", t_statistic)\n",
    "print(\"P-Value:\", p_value)"
   ]
  },
  {
   "cell_type": "markdown",
   "id": "338e8be2-569c-4469-9055-d6d66f5554be",
   "metadata": {},
   "source": [
    "## CG context; Gypsy; body"
   ]
  },
  {
   "cell_type": "code",
   "execution_count": 6,
   "id": "bd6fd08d-ed84-4d47-b0b7-c5dcc09f145b",
   "metadata": {
    "tags": []
   },
   "outputs": [],
   "source": [
    "CG_Tdu_Gypsy_body = [0.926584645, 0.925598166]\n",
    "CG_Tpr_Gypsy_body = [0.885020325, 0.893161071]\n",
    "CG_Tms_Gypsy_body = [0.906023602, 0.906410912]\n",
    "\n",
    "Trans_CG_Tdu_Gypsy_body = np.arcsin(np.sqrt(CG_Tdu_Gypsy_body)).tolist()\n",
    "Trans_CG_Tpr_Gypsy_body = np.arcsin(np.sqrt(CG_Tpr_Gypsy_body)).tolist()\n",
    "Trans_CG_Tms_Gypsy_body = np.arcsin(np.sqrt(CG_Tms_Gypsy_body)).tolist()"
   ]
  },
  {
   "cell_type": "code",
   "execution_count": 7,
   "id": "0f11d2c8-cb85-4774-9c9d-62c9376b513e",
   "metadata": {
    "tags": []
   },
   "outputs": [
    {
     "name": "stdout",
     "output_type": "stream",
     "text": [
      "4.550759160365327 0.102757896170615\n"
     ]
    }
   ],
   "source": [
    "statistic, p_value = bartlett(Trans_CG_Tdu_Gypsy_body, Trans_CG_Tpr_Gypsy_body, Trans_CG_Tms_Gypsy_body)\n",
    "print(statistic, p_value)"
   ]
  },
  {
   "cell_type": "code",
   "execution_count": 8,
   "id": "202e65ba-0a70-4198-aee6-7db5c65f7dfd",
   "metadata": {
    "tags": []
   },
   "outputs": [
    {
     "name": "stdout",
     "output_type": "stream",
     "text": [
      "ANOVA results:\n",
      "            df    sum_sq   mean_sq          F    PR(>F)\n",
      "species   2.0  0.004133  0.002067  72.067461  0.002911\n",
      "Residual  3.0  0.000086  0.000029        NaN       NaN\n",
      "\n",
      "Post hoc test results:\n",
      " Multiple Comparison of Means - Tukey HSD, FWER=0.05 \n",
      "====================================================\n",
      "group1 group2 meandiff p-adj   lower   upper  reject\n",
      "----------------------------------------------------\n",
      "   Tdu    Tms  -0.0359 0.0138 -0.0583 -0.0135   True\n",
      "   Tdu    Tpr  -0.0641 0.0026 -0.0865 -0.0418   True\n",
      "   Tms    Tpr  -0.0282 0.0269 -0.0506 -0.0058   True\n",
      "----------------------------------------------------\n"
     ]
    }
   ],
   "source": [
    "CG_Gypsy_body = pd.DataFrame({'species': ['Tdu', 'Tdu', 'Tpr', 'Tpr', 'Tms', 'Tms'],\n",
    "                          'methylation': Trans_CG_Tdu_Gypsy_body + Trans_CG_Tpr_Gypsy_body + Trans_CG_Tms_Gypsy_body})\n",
    "model = ols('methylation ~ species', data=CG_Gypsy_body).fit()\n",
    "anova_table = sm.stats.anova_lm(model)\n",
    "\n",
    "posthoc = pairwise_tukeyhsd(CG_Gypsy_body['methylation'], CG_Gypsy_body['species'])\n",
    "\n",
    "print(\"ANOVA results:\\n\", anova_table)\n",
    "print(\"\\nPost hoc test results:\\n\", posthoc)"
   ]
  },
  {
   "cell_type": "code",
   "execution_count": 9,
   "id": "7df47b15-ac1a-4b73-a8ec-7c63e5739464",
   "metadata": {
    "tags": []
   },
   "outputs": [
    {
     "name": "stdout",
     "output_type": "stream",
     "text": [
      "T-Statistic: -7.094031912421556\n",
      "P-Value: 0.0891527768523871\n"
     ]
    }
   ],
   "source": [
    "t_statistic, p_value = stats.ttest_1samp(CG_Tms_Gypsy_body, np.mean(CG_Tdu_Gypsy_body + CG_Tpr_Gypsy_body))\n",
    "\n",
    "print(\"T-Statistic:\", t_statistic)\n",
    "print(\"P-Value:\", p_value)"
   ]
  },
  {
   "cell_type": "code",
   "execution_count": 11,
   "id": "11df3d8c-1d45-4dfa-8119-cd2c623acc18",
   "metadata": {
    "tags": []
   },
   "outputs": [
    {
     "name": "stdout",
     "output_type": "stream",
     "text": [
      "T-Statistic: -7.094031912421556\n",
      "P-Value: 0.04457638842619355\n"
     ]
    }
   ],
   "source": [
    "t_statistic, p_value = stats.ttest_1samp(CG_Tms_Gypsy_body, np.mean(CG_Tdu_Gypsy_body + CG_Tpr_Gypsy_body), alternative='less')\n",
    "\n",
    "print(\"T-Statistic:\", t_statistic)\n",
    "print(\"P-Value:\", p_value)"
   ]
  },
  {
   "cell_type": "markdown",
   "id": "51ca1e65-6812-4c87-8355-d4705f117cec",
   "metadata": {},
   "source": [
    "### the result above means T. miscellus Gypsy body methylation level is significantly lower then MPV"
   ]
  },
  {
   "cell_type": "code",
   "execution_count": 12,
   "id": "8582afba-66ab-426a-b082-9d0a904414b3",
   "metadata": {
    "tags": []
   },
   "outputs": [
    {
     "name": "stdout",
     "output_type": "stream",
     "text": [
      "T-Statistic: -7.11703738241522\n",
      "P-Value: 0.0888683300564721\n"
     ]
    }
   ],
   "source": [
    "t_statistic, p_value = stats.ttest_1samp(Trans_CG_Tms_Gypsy_body, np.arcsin(np.sqrt(np.mean(CG_Tdu_Gypsy_body + CG_Tpr_Gypsy_body))))\n",
    "\n",
    "print(\"T-Statistic:\", t_statistic)\n",
    "print(\"P-Value:\", p_value)"
   ]
  },
  {
   "cell_type": "markdown",
   "id": "962a512a-c43f-43dc-8aaa-5371347b40e1",
   "metadata": {},
   "source": [
    "## CG context; Gypsy; downstream"
   ]
  },
  {
   "cell_type": "code",
   "execution_count": 13,
   "id": "e3e089f1-864b-4c2d-8485-9d9da3e7a460",
   "metadata": {
    "tags": []
   },
   "outputs": [],
   "source": [
    "CG_Tdu_Gypsy_down = [0.91409032, 0.907505183]\n",
    "CG_Tpr_Gypsy_down = [0.863781818, 0.875495954]\n",
    "CG_Tms_Gypsy_down = [0.887787449, 0.885105909]\n",
    "\n",
    "Trans_CG_Tdu_Gypsy_down = np.arcsin(np.sqrt(CG_Tdu_Gypsy_down)).tolist()\n",
    "Trans_CG_Tpr_Gypsy_down = np.arcsin(np.sqrt(CG_Tpr_Gypsy_down)).tolist()\n",
    "Trans_CG_Tms_Gypsy_down = np.arcsin(np.sqrt(CG_Tms_Gypsy_down)).tolist()"
   ]
  },
  {
   "cell_type": "code",
   "execution_count": 14,
   "id": "adca5711-64e8-40e8-a9a8-710f3fdd0b00",
   "metadata": {
    "tags": []
   },
   "outputs": [
    {
     "name": "stdout",
     "output_type": "stream",
     "text": [
      "1.0866681592296343 0.5808085586486501\n"
     ]
    }
   ],
   "source": [
    "statistic, p_value = bartlett(Trans_CG_Tdu_Gypsy_down, Trans_CG_Tpr_Gypsy_down, Trans_CG_Tms_Gypsy_down)\n",
    "print(statistic, p_value)"
   ]
  },
  {
   "cell_type": "code",
   "execution_count": 15,
   "id": "5404cc8c-c644-49fa-a142-3243ff285a1c",
   "metadata": {
    "tags": []
   },
   "outputs": [
    {
     "name": "stdout",
     "output_type": "stream",
     "text": [
      "ANOVA results:\n",
      "            df    sum_sq   mean_sq          F    PR(>F)\n",
      "species   2.0  0.004438  0.002219  29.323175  0.010735\n",
      "Residual  3.0  0.000227  0.000076        NaN       NaN\n",
      "\n",
      "Post hoc test results:\n",
      " Multiple Comparison of Means - Tukey HSD, FWER=0.05 \n",
      "====================================================\n",
      "group1 group2 meandiff p-adj   lower   upper  reject\n",
      "----------------------------------------------------\n",
      "   Tdu    Tms  -0.0405 0.0378 -0.0768 -0.0041   True\n",
      "   Tdu    Tpr  -0.0661 0.0097 -0.1024 -0.0297   True\n",
      "   Tms    Tpr  -0.0256 0.1176  -0.062  0.0107  False\n",
      "----------------------------------------------------\n"
     ]
    }
   ],
   "source": [
    "CG_Gypsy_down = pd.DataFrame({'species': ['Tdu', 'Tdu', 'Tpr', 'Tpr', 'Tms', 'Tms'],\n",
    "                          'methylation': Trans_CG_Tdu_Gypsy_down + Trans_CG_Tpr_Gypsy_down + Trans_CG_Tms_Gypsy_down})\n",
    "model = ols('methylation ~ species', data=CG_Gypsy_down).fit()\n",
    "anova_table = sm.stats.anova_lm(model)\n",
    "\n",
    "posthoc = pairwise_tukeyhsd(CG_Gypsy_down['methylation'], CG_Gypsy_down['species'])\n",
    "\n",
    "print(\"ANOVA results:\\n\", anova_table)\n",
    "print(\"\\nPost hoc test results:\\n\", posthoc)"
   ]
  },
  {
   "cell_type": "code",
   "execution_count": 16,
   "id": "8a5a3ffa-b04c-4d83-a881-6c1791cb911c",
   "metadata": {
    "tags": []
   },
   "outputs": [
    {
     "name": "stdout",
     "output_type": "stream",
     "text": [
      "T-Statistic: -2.813040081445879\n",
      "P-Value: 0.21744059431165902\n"
     ]
    }
   ],
   "source": [
    "t_statistic, p_value = stats.ttest_1samp(CG_Tms_Gypsy_down, np.mean(CG_Tdu_Gypsy_down + CG_Tpr_Gypsy_down))\n",
    "\n",
    "print(\"T-Statistic:\", t_statistic)\n",
    "print(\"P-Value:\", p_value)"
   ]
  },
  {
   "cell_type": "markdown",
   "id": "e81f1fa8-48bc-4f00-8b1e-7000c2c8a3a2",
   "metadata": {},
   "source": [
    "## CHG; Gypsy; upstream"
   ]
  },
  {
   "cell_type": "code",
   "execution_count": 17,
   "id": "941a3d98-4c09-4e36-9b40-6c4ee5e971ca",
   "metadata": {
    "tags": []
   },
   "outputs": [],
   "source": [
    "CHG_Tdu_Gypsy_upstream = [0.740215078, 0.728185381]\n",
    "CHG_Tpr_Gypsy_upstream = [0.671559782, 0.688658726]\n",
    "CHG_Tms_Gypsy_upstream = [0.689155175, 0.683644349]\n",
    "\n",
    "Trans_CHG_Tdu_Gypsy_upstream = np.arcsin(np.sqrt(CHG_Tdu_Gypsy_upstream)).tolist()\n",
    "Trans_CHG_Tpr_Gypsy_upstream = np.arcsin(np.sqrt(CHG_Tpr_Gypsy_upstream)).tolist()\n",
    "Trans_CHG_Tms_Gypsy_upstream = np.arcsin(np.sqrt(CHG_Tms_Gypsy_upstream)).tolist()"
   ]
  },
  {
   "cell_type": "code",
   "execution_count": 18,
   "id": "5cd3086d-fc67-4093-a958-e563f60cae81",
   "metadata": {
    "tags": []
   },
   "outputs": [
    {
     "name": "stdout",
     "output_type": "stream",
     "text": [
      "0.7389935324042115 0.691082018974821\n"
     ]
    }
   ],
   "source": [
    "statistic, p_value = bartlett(Trans_CHG_Tdu_Gypsy_upstream, Trans_CHG_Tpr_Gypsy_upstream, Trans_CHG_Tms_Gypsy_upstream)\n",
    "print(statistic, p_value)"
   ]
  },
  {
   "cell_type": "code",
   "execution_count": 19,
   "id": "6f570636-8703-4f90-ab22-f4d9c5990ace",
   "metadata": {
    "tags": []
   },
   "outputs": [
    {
     "name": "stdout",
     "output_type": "stream",
     "text": [
      "ANOVA results:\n",
      "            df    sum_sq   mean_sq          F    PR(>F)\n",
      "species   2.0  0.004244  0.002122  22.869324  0.015271\n",
      "Residual  3.0  0.000278  0.000093        NaN       NaN\n",
      "\n",
      "Post hoc test results:\n",
      " Multiple Comparison of Means - Tukey HSD, FWER=0.05 \n",
      "====================================================\n",
      "group1 group2 meandiff p-adj   lower   upper  reject\n",
      "----------------------------------------------------\n",
      "   Tdu    Tms  -0.0527 0.0243  -0.093 -0.0125   True\n",
      "   Tdu    Tpr  -0.0595 0.0174 -0.0997 -0.0192   True\n",
      "   Tms    Tpr  -0.0067 0.7809  -0.047  0.0335  False\n",
      "----------------------------------------------------\n"
     ]
    }
   ],
   "source": [
    "CHG_Gypsy_upstream = pd.DataFrame({'species': ['Tdu', 'Tdu', 'Tpr', 'Tpr', 'Tms', 'Tms'],\n",
    "                          'methylation': Trans_CHG_Tdu_Gypsy_upstream + Trans_CHG_Tpr_Gypsy_upstream + Trans_CHG_Tms_Gypsy_upstream})\n",
    "model = ols('methylation ~ species', data=CHG_Gypsy_upstream).fit()\n",
    "anova_table = sm.stats.anova_lm(model)\n",
    "\n",
    "posthoc = pairwise_tukeyhsd(CHG_Gypsy_upstream['methylation'], CHG_Gypsy_upstream['species'])\n",
    "\n",
    "print(\"ANOVA results:\\n\", anova_table)\n",
    "print(\"\\nPost hoc test results:\\n\", posthoc)"
   ]
  },
  {
   "cell_type": "markdown",
   "id": "2464d541-1f04-4820-bf74-d0c0783ac766",
   "metadata": {},
   "source": [
    "### Tms vs MPV"
   ]
  },
  {
   "cell_type": "code",
   "execution_count": 20,
   "id": "43ffb07a-0abb-48b0-9097-b34ee182387d",
   "metadata": {
    "tags": []
   },
   "outputs": [
    {
     "name": "stdout",
     "output_type": "stream",
     "text": [
      "T-Statistic: -7.532438785038786\n",
      "P-Value: 0.08402573362864017\n"
     ]
    }
   ],
   "source": [
    "t_statistic, p_value = stats.ttest_1samp(CHG_Tms_Gypsy_upstream, np.mean(CHG_Tdu_Gypsy_upstream + CHG_Tpr_Gypsy_upstream))\n",
    "\n",
    "print(\"T-Statistic:\", t_statistic)\n",
    "print(\"P-Value:\", p_value)"
   ]
  },
  {
   "cell_type": "code",
   "execution_count": 22,
   "id": "370d1e2c-de03-4cc0-8b7c-c38ff1d8ac41",
   "metadata": {
    "tags": []
   },
   "outputs": [
    {
     "name": "stdout",
     "output_type": "stream",
     "text": [
      "T-Statistic: -7.532438785038786\n",
      "P-Value: 0.042012866814320086\n"
     ]
    }
   ],
   "source": [
    "t_statistic, p_value = stats.ttest_1samp(CHG_Tms_Gypsy_upstream, np.mean(CHG_Tdu_Gypsy_upstream + CHG_Tpr_Gypsy_upstream), alternative='less')\n",
    "\n",
    "print(\"T-Statistic:\", t_statistic)\n",
    "print(\"P-Value:\", p_value)"
   ]
  },
  {
   "cell_type": "markdown",
   "id": "3c3084f9-94ee-43c6-975e-320e3c6f7e36",
   "metadata": {},
   "source": [
    "### Tms vs MPV transformed"
   ]
  },
  {
   "cell_type": "code",
   "execution_count": 21,
   "id": "df6bdae6-9a2b-4f45-b772-3ee506878ee6",
   "metadata": {
    "tags": []
   },
   "outputs": [
    {
     "name": "stdout",
     "output_type": "stream",
     "text": [
      "T-Statistic: -7.602733392748446\n",
      "P-Value: 0.0832577033489889\n"
     ]
    }
   ],
   "source": [
    "t_statistic, p_value = stats.ttest_1samp(Trans_CHG_Tms_Gypsy_upstream, np.arcsin(np.sqrt(np.mean(CHG_Tdu_Gypsy_upstream + CHG_Tpr_Gypsy_upstream))))\n",
    "\n",
    "print(\"T-Statistic:\", t_statistic)\n",
    "print(\"P-Value:\", p_value)"
   ]
  },
  {
   "cell_type": "markdown",
   "id": "d445f83c-b460-43b4-b0c5-8e8d90a401b0",
   "metadata": {},
   "source": [
    "## CHG; Gypsy; body"
   ]
  },
  {
   "cell_type": "code",
   "execution_count": 23,
   "id": "996443e9-0489-4926-acff-8ddc236d9dcb",
   "metadata": {
    "tags": []
   },
   "outputs": [],
   "source": [
    "CHG_Tdu_Gypsy_body = [0.742895807, 0.74005215]\n",
    "CHG_Tpr_Gypsy_body = [0.686054372, 0.697535611]\n",
    "CHG_Tms_Gypsy_body = [0.701892291, 0.698806131]\n",
    "\n",
    "Trans_CHG_Tdu_Gypsy_body = np.arcsin(np.sqrt(CHG_Tdu_Gypsy_body)).tolist()\n",
    "Trans_CHG_Tpr_Gypsy_body = np.arcsin(np.sqrt(CHG_Tpr_Gypsy_body)).tolist()\n",
    "Trans_CHG_Tms_Gypsy_body = np.arcsin(np.sqrt(CHG_Tms_Gypsy_body)).tolist()"
   ]
  },
  {
   "cell_type": "code",
   "execution_count": 24,
   "id": "ac357e4f-0001-47b9-a7c5-d8a0aaeb2275",
   "metadata": {
    "tags": []
   },
   "outputs": [
    {
     "name": "stdout",
     "output_type": "stream",
     "text": [
      "1.6603097045424706 0.43598176832697055\n"
     ]
    }
   ],
   "source": [
    "statistic, p_value = bartlett(Trans_CHG_Tdu_Gypsy_body, Trans_CHG_Tpr_Gypsy_body, Trans_CHG_Tms_Gypsy_body)\n",
    "print(statistic, p_value)"
   ]
  },
  {
   "cell_type": "code",
   "execution_count": 25,
   "id": "3db11f0b-5bbe-4716-bca1-2b03d6232894",
   "metadata": {
    "tags": []
   },
   "outputs": [
    {
     "name": "stdout",
     "output_type": "stream",
     "text": [
      "ANOVA results:\n",
      "            df    sum_sq   mean_sq          F    PR(>F)\n",
      "species   2.0  0.003488  0.001744  59.300256  0.003875\n",
      "Residual  3.0  0.000088  0.000029        NaN       NaN\n",
      "\n",
      "Post hoc test results:\n",
      " Multiple Comparison of Means - Tukey HSD, FWER=0.05 \n",
      "====================================================\n",
      "group1 group2 meandiff p-adj   lower   upper  reject\n",
      "----------------------------------------------------\n",
      "   Tdu    Tms  -0.0459 0.0071 -0.0685 -0.0232   True\n",
      "   Tdu    Tpr  -0.0552 0.0042 -0.0778 -0.0325   True\n",
      "   Tms    Tpr  -0.0093 0.3353 -0.0319  0.0134  False\n",
      "----------------------------------------------------\n"
     ]
    }
   ],
   "source": [
    "CHG_Gypsy_body = pd.DataFrame({'species': ['Tdu', 'Tdu', 'Tpr', 'Tpr', 'Tms', 'Tms'],\n",
    "                          'methylation': Trans_CHG_Tdu_Gypsy_body + Trans_CHG_Tpr_Gypsy_body + Trans_CHG_Tms_Gypsy_body})\n",
    "model = ols('methylation ~ species', data=CHG_Gypsy_body).fit()\n",
    "anova_table = sm.stats.anova_lm(model)\n",
    "\n",
    "posthoc = pairwise_tukeyhsd(CHG_Gypsy_body['methylation'], CHG_Gypsy_body['species'])\n",
    "\n",
    "print(\"ANOVA results:\\n\", anova_table)\n",
    "print(\"\\nPost hoc test results:\\n\", posthoc)"
   ]
  },
  {
   "cell_type": "markdown",
   "id": "6dc0ae2f-1261-47be-9fa0-062c7be101ef",
   "metadata": {},
   "source": [
    "### Tms vs MPV"
   ]
  },
  {
   "cell_type": "code",
   "execution_count": 26,
   "id": "ec8c8562-a8d4-41e9-b251-4bd437a130c1",
   "metadata": {
    "tags": []
   },
   "outputs": [
    {
     "name": "stdout",
     "output_type": "stream",
     "text": [
      "T-Statistic: -10.553745755242947\n",
      "P-Value: 0.06014212989726989\n"
     ]
    }
   ],
   "source": [
    "t_statistic, p_value = stats.ttest_1samp(CHG_Tms_Gypsy_body, np.mean(CHG_Tdu_Gypsy_body + CHG_Tpr_Gypsy_body))\n",
    "\n",
    "print(\"T-Statistic:\", t_statistic)\n",
    "print(\"P-Value:\", p_value)"
   ]
  },
  {
   "cell_type": "code",
   "execution_count": 27,
   "id": "31365ade-a1dc-4afb-8d78-a5189a514c52",
   "metadata": {
    "tags": []
   },
   "outputs": [
    {
     "name": "stdout",
     "output_type": "stream",
     "text": [
      "T-Statistic: -10.553745755242947\n",
      "P-Value: 0.030071064948634946\n"
     ]
    }
   ],
   "source": [
    "t_statistic, p_value = stats.ttest_1samp(CHG_Tms_Gypsy_body, np.mean(CHG_Tdu_Gypsy_body + CHG_Tpr_Gypsy_body), alternative='less')\n",
    "\n",
    "print(\"T-Statistic:\", t_statistic)\n",
    "print(\"P-Value:\", p_value)"
   ]
  },
  {
   "cell_type": "markdown",
   "id": "cd7a6e25-2c44-448f-82f2-ef80352cba85",
   "metadata": {},
   "source": [
    "## CHG; Gypsy; downstream"
   ]
  },
  {
   "cell_type": "code",
   "execution_count": 28,
   "id": "fe651900-001e-425a-969b-d5a67a4d9811",
   "metadata": {
    "tags": []
   },
   "outputs": [],
   "source": [
    "CHG_Tdu_Gypsy_down = [0.748681831, 0.739122509]\n",
    "CHG_Tpr_Gypsy_down = [0.679376641, 0.696385177]\n",
    "CHG_Tms_Gypsy_down = [0.698080503, 0.693155135]\n",
    "\n",
    "Trans_CHG_Tdu_Gypsy_down = np.arcsin(np.sqrt(CHG_Tdu_Gypsy_down)).tolist()\n",
    "Trans_CHG_Tpr_Gypsy_down = np.arcsin(np.sqrt(CHG_Tpr_Gypsy_down)).tolist()\n",
    "Trans_CHG_Tms_Gypsy_down = np.arcsin(np.sqrt(CHG_Tms_Gypsy_down)).tolist()"
   ]
  },
  {
   "cell_type": "code",
   "execution_count": 29,
   "id": "c88119f3-d4b9-45b2-89aa-a6335b57c1f9",
   "metadata": {
    "tags": []
   },
   "outputs": [
    {
     "name": "stdout",
     "output_type": "stream",
     "text": [
      "0.8985771197540879 0.6380819472774413\n"
     ]
    }
   ],
   "source": [
    "statistic, p_value = bartlett(Trans_CHG_Tdu_Gypsy_down, Trans_CHG_Tpr_Gypsy_down, Trans_CHG_Tms_Gypsy_down)\n",
    "print(statistic, p_value)"
   ]
  },
  {
   "cell_type": "code",
   "execution_count": 30,
   "id": "c8b8c680-6f51-4e49-b19e-fc557f158df2",
   "metadata": {
    "tags": []
   },
   "outputs": [
    {
     "name": "stdout",
     "output_type": "stream",
     "text": [
      "ANOVA results:\n",
      "            df    sum_sq   mean_sq          F    PR(>F)\n",
      "species   2.0  0.004553  0.002276  28.134532  0.011388\n",
      "Residual  3.0  0.000243  0.000081        NaN       NaN\n",
      "\n",
      "Post hoc test results:\n",
      " Multiple Comparison of Means - Tukey HSD, FWER=0.05 \n",
      "====================================================\n",
      "group1 group2 meandiff p-adj   lower   upper  reject\n",
      "----------------------------------------------------\n",
      "   Tdu    Tms  -0.0538  0.019 -0.0914 -0.0162   True\n",
      "   Tdu    Tpr  -0.0622 0.0127 -0.0997 -0.0246   True\n",
      "   Tms    Tpr  -0.0083 0.6626 -0.0459  0.0292  False\n",
      "----------------------------------------------------\n"
     ]
    }
   ],
   "source": [
    "CHG_Gypsy_down = pd.DataFrame({'species': ['Tdu', 'Tdu', 'Tpr', 'Tpr', 'Tms', 'Tms'],\n",
    "                          'methylation': Trans_CHG_Tdu_Gypsy_down + Trans_CHG_Tpr_Gypsy_down + Trans_CHG_Tms_Gypsy_down})\n",
    "model = ols('methylation ~ species', data=CHG_Gypsy_down).fit()\n",
    "anova_table = sm.stats.anova_lm(model)\n",
    "\n",
    "posthoc = pairwise_tukeyhsd(CHG_Gypsy_down['methylation'], CHG_Gypsy_down['species'])\n",
    "\n",
    "print(\"ANOVA results:\\n\", anova_table)\n",
    "print(\"\\nPost hoc test results:\\n\", posthoc)"
   ]
  },
  {
   "cell_type": "code",
   "execution_count": 31,
   "id": "b3ed9b95-0e6c-46f5-9c30-1e855e11443b",
   "metadata": {
    "tags": []
   },
   "outputs": [
    {
     "name": "stdout",
     "output_type": "stream",
     "text": [
      "T-Statistic: -8.232367814953088\n",
      "P-Value: 0.0769542893982327\n"
     ]
    }
   ],
   "source": [
    "t_statistic, p_value = stats.ttest_1samp(CHG_Tms_Gypsy_down, np.mean(CHG_Tdu_Gypsy_down + CHG_Tpr_Gypsy_down))\n",
    "\n",
    "print(\"T-Statistic:\", t_statistic)\n",
    "print(\"P-Value:\", p_value)"
   ]
  },
  {
   "cell_type": "code",
   "execution_count": 32,
   "id": "19262022-4d20-4e99-99bb-de1f97f1c95b",
   "metadata": {
    "tags": []
   },
   "outputs": [
    {
     "name": "stdout",
     "output_type": "stream",
     "text": [
      "T-Statistic: -8.232367814953088\n",
      "P-Value: 0.03847714469911635\n"
     ]
    }
   ],
   "source": [
    "t_statistic, p_value = stats.ttest_1samp(CHG_Tms_Gypsy_down, np.mean(CHG_Tdu_Gypsy_down + CHG_Tpr_Gypsy_down), alternative='less')\n",
    "\n",
    "print(\"T-Statistic:\", t_statistic)\n",
    "print(\"P-Value:\", p_value)"
   ]
  },
  {
   "cell_type": "markdown",
   "id": "20338137-fc77-48b4-80b6-a031455768f8",
   "metadata": {},
   "source": [
    "## CHH; Gypsy; upstream"
   ]
  },
  {
   "cell_type": "code",
   "execution_count": 33,
   "id": "cb996d6e-dc1b-4982-a64e-ff81f747656e",
   "metadata": {
    "tags": []
   },
   "outputs": [],
   "source": [
    "CHH_Tdu_Gypsy_upstream = [0.09850718, 0.116944827]\n",
    "CHH_Tpr_Gypsy_upstream = [0.095574438, 0.101768258]\n",
    "CHH_Tms_Gypsy_upstream = [0.107710501, 0.104652609]\n",
    "\n",
    "Trans_CHH_Tdu_Gypsy_upstream = np.arcsin(np.sqrt(CHH_Tdu_Gypsy_upstream)).tolist()\n",
    "Trans_CHH_Tpr_Gypsy_upstream = np.arcsin(np.sqrt(CHH_Tpr_Gypsy_upstream)).tolist()\n",
    "Trans_CHH_Tms_Gypsy_upstream = np.arcsin(np.sqrt(CHH_Tms_Gypsy_upstream)).tolist()"
   ]
  },
  {
   "cell_type": "code",
   "execution_count": 34,
   "id": "70bc8f05-e5fd-45c9-9727-66620302fda1",
   "metadata": {
    "tags": []
   },
   "outputs": [
    {
     "name": "stdout",
     "output_type": "stream",
     "text": [
      "1.9455011680049032 0.3780417710659126\n"
     ]
    }
   ],
   "source": [
    "statistic, p_value = bartlett(Trans_CHH_Tdu_Gypsy_upstream, Trans_CHH_Tpr_Gypsy_upstream, Trans_CHH_Tms_Gypsy_upstream)\n",
    "print(statistic, p_value)"
   ]
  },
  {
   "cell_type": "code",
   "execution_count": 35,
   "id": "ff36e523-ab91-42a7-b9d3-a7e3206c08c3",
   "metadata": {
    "tags": []
   },
   "outputs": [
    {
     "name": "stdout",
     "output_type": "stream",
     "text": [
      "ANOVA results:\n",
      "            df    sum_sq   mean_sq         F   PR(>F)\n",
      "species   2.0  0.000249  0.000124  0.733564  0.55035\n",
      "Residual  3.0  0.000509  0.000170       NaN      NaN\n",
      "\n",
      "Post hoc test results:\n",
      " Multiple Comparison of Means - Tukey HSD, FWER=0.05\n",
      "===================================================\n",
      "group1 group2 meandiff p-adj   lower  upper  reject\n",
      "---------------------------------------------------\n",
      "   Tdu    Tms  -0.0022 0.9841 -0.0567 0.0522  False\n",
      "   Tdu    Tpr  -0.0146 0.5652 -0.0691 0.0398  False\n",
      "   Tms    Tpr  -0.0124 0.6497 -0.0669  0.042  False\n",
      "---------------------------------------------------\n"
     ]
    }
   ],
   "source": [
    "CHH_Gypsy_upstream = pd.DataFrame({'species': ['Tdu', 'Tdu', 'Tpr', 'Tpr', 'Tms', 'Tms'],\n",
    "                          'methylation': Trans_CHH_Tdu_Gypsy_upstream + Trans_CHH_Tpr_Gypsy_upstream + Trans_CHH_Tms_Gypsy_upstream})\n",
    "model = ols('methylation ~ species', data=CHH_Gypsy_upstream).fit()\n",
    "anova_table = sm.stats.anova_lm(model)\n",
    "\n",
    "posthoc = pairwise_tukeyhsd(CHH_Gypsy_upstream['methylation'], CHH_Gypsy_upstream['species'])\n",
    "\n",
    "print(\"ANOVA results:\\n\", anova_table)\n",
    "print(\"\\nPost hoc test results:\\n\", posthoc)"
   ]
  },
  {
   "cell_type": "markdown",
   "id": "3afef566-72ed-4bfc-83da-3ed9c3aeeaca",
   "metadata": {},
   "source": [
    "## CHH; Gypsy; body"
   ]
  },
  {
   "cell_type": "code",
   "execution_count": 36,
   "id": "e5d4a96e-1613-491e-9dcd-48f0f75de707",
   "metadata": {
    "tags": []
   },
   "outputs": [],
   "source": [
    "CHH_Tdu_Gypsy_body = [0.091892474, 0.111690271]\n",
    "CHH_Tpr_Gypsy_body = [0.093399427, 0.097345653]\n",
    "CHH_Tms_Gypsy_body = [0.104367164, 0.102952177]\n",
    "\n",
    "Trans_CHH_Tdu_Gypsy_body = np.arcsin(np.sqrt(CHH_Tdu_Gypsy_body)).tolist()\n",
    "Trans_CHH_Tpr_Gypsy_body = np.arcsin(np.sqrt(CHH_Tpr_Gypsy_body)).tolist()\n",
    "Trans_CHH_Tms_Gypsy_body = np.arcsin(np.sqrt(CHH_Tms_Gypsy_body)).tolist()"
   ]
  },
  {
   "cell_type": "code",
   "execution_count": 37,
   "id": "ba41f54c-a179-4ec5-8a11-7f52a45e37f3",
   "metadata": {
    "tags": []
   },
   "outputs": [
    {
     "name": "stdout",
     "output_type": "stream",
     "text": [
      "3.674068505277699 0.15928913761212687\n"
     ]
    }
   ],
   "source": [
    "statistic, p_value = bartlett(Trans_CHH_Tdu_Gypsy_body, Trans_CHH_Tpr_Gypsy_body, Trans_CHH_Tms_Gypsy_body)\n",
    "print(statistic, p_value)"
   ]
  },
  {
   "cell_type": "code",
   "execution_count": 38,
   "id": "b628df62-9eed-4e54-9e55-725876752cb3",
   "metadata": {
    "tags": []
   },
   "outputs": [
    {
     "name": "stdout",
     "output_type": "stream",
     "text": [
      "ANOVA results:\n",
      "            df    sum_sq   mean_sq         F    PR(>F)\n",
      "species   2.0  0.000208  0.000104  0.555878  0.623219\n",
      "Residual  3.0  0.000562  0.000187       NaN       NaN\n",
      "\n",
      "Post hoc test results:\n",
      " Multiple Comparison of Means - Tukey HSD, FWER=0.05\n",
      "===================================================\n",
      "group1 group2 meandiff p-adj   lower  upper  reject\n",
      "---------------------------------------------------\n",
      "   Tdu    Tms   0.0034 0.9664 -0.0538 0.0606  False\n",
      "   Tdu    Tpr  -0.0104 0.7486 -0.0676 0.0468  False\n",
      "   Tms    Tpr  -0.0139 0.6198 -0.0711 0.0434  False\n",
      "---------------------------------------------------\n"
     ]
    }
   ],
   "source": [
    "CHH_Gypsy_body = pd.DataFrame({'species': ['Tdu', 'Tdu', 'Tpr', 'Tpr', 'Tms', 'Tms'],\n",
    "                          'methylation': Trans_CHH_Tdu_Gypsy_body + Trans_CHH_Tpr_Gypsy_body + Trans_CHH_Tms_Gypsy_body})\n",
    "model = ols('methylation ~ species', data=CHH_Gypsy_body).fit()\n",
    "anova_table = sm.stats.anova_lm(model)\n",
    "\n",
    "posthoc = pairwise_tukeyhsd(CHH_Gypsy_body['methylation'], CHH_Gypsy_body['species'])\n",
    "\n",
    "print(\"ANOVA results:\\n\", anova_table)\n",
    "print(\"\\nPost hoc test results:\\n\", posthoc)"
   ]
  },
  {
   "cell_type": "markdown",
   "id": "f6a2500a-94f7-4be9-a47f-e8eb7e6c9f45",
   "metadata": {},
   "source": [
    "## CHH; Gypsy; downstream"
   ]
  },
  {
   "cell_type": "code",
   "execution_count": 39,
   "id": "b9420396-9e71-4d54-a6c3-325bc4c5f3b3",
   "metadata": {
    "tags": []
   },
   "outputs": [],
   "source": [
    "CHH_Tdu_Gypsy_down = [0.098936251, 0.116702487]\n",
    "CHH_Tpr_Gypsy_down = [0.095376117, 0.101562317]\n",
    "CHH_Tms_Gypsy_down = [0.107371233, 0.104423806]\n",
    "\n",
    "Trans_CHH_Tdu_Gypsy_down = np.arcsin(np.sqrt(CHH_Tdu_Gypsy_down)).tolist()\n",
    "Trans_CHH_Tpr_Gypsy_down = np.arcsin(np.sqrt(CHH_Tpr_Gypsy_down)).tolist()\n",
    "Trans_CHH_Tms_Gypsy_down = np.arcsin(np.sqrt(CHH_Tms_Gypsy_down)).tolist()"
   ]
  },
  {
   "cell_type": "code",
   "execution_count": 40,
   "id": "30b628bf-2db8-4524-b309-5c7f844316a0",
   "metadata": {
    "tags": []
   },
   "outputs": [
    {
     "name": "stdout",
     "output_type": "stream",
     "text": [
      "1.9084276240832034 0.3851147981830022\n"
     ]
    }
   ],
   "source": [
    "statistic, p_value = bartlett(Trans_CHH_Tdu_Gypsy_down, Trans_CHH_Tpr_Gypsy_down, Trans_CHH_Tms_Gypsy_down)\n",
    "print(statistic, p_value)"
   ]
  },
  {
   "cell_type": "code",
   "execution_count": 41,
   "id": "538c495b-ddb8-464c-b1f5-7ede6d5b3b0f",
   "metadata": {
    "tags": []
   },
   "outputs": [
    {
     "name": "stdout",
     "output_type": "stream",
     "text": [
      "ANOVA results:\n",
      "            df    sum_sq   mean_sq         F    PR(>F)\n",
      "species   2.0  0.000259  0.000130  0.816609  0.521024\n",
      "Residual  3.0  0.000476  0.000159       NaN       NaN\n",
      "\n",
      "Post hoc test results:\n",
      " Multiple Comparison of Means - Tukey HSD, FWER=0.05\n",
      "===================================================\n",
      "group1 group2 meandiff p-adj   lower  upper  reject\n",
      "---------------------------------------------------\n",
      "   Tdu    Tms  -0.0029 0.9723 -0.0555 0.0498  False\n",
      "   Tdu    Tpr  -0.0152 0.5285 -0.0678 0.0375  False\n",
      "   Tms    Tpr  -0.0123 0.6382 -0.0649 0.0404  False\n",
      "---------------------------------------------------\n"
     ]
    }
   ],
   "source": [
    "CHH_Gypsy_down = pd.DataFrame({'species': ['Tdu', 'Tdu', 'Tpr', 'Tpr', 'Tms', 'Tms'],\n",
    "                          'methylation': Trans_CHH_Tdu_Gypsy_down + Trans_CHH_Tpr_Gypsy_down + Trans_CHH_Tms_Gypsy_down})\n",
    "model = ols('methylation ~ species', data=CHH_Gypsy_down).fit()\n",
    "anova_table = sm.stats.anova_lm(model)\n",
    "\n",
    "posthoc = pairwise_tukeyhsd(CHH_Gypsy_down['methylation'], CHH_Gypsy_down['species'])\n",
    "\n",
    "print(\"ANOVA results:\\n\", anova_table)\n",
    "print(\"\\nPost hoc test results:\\n\", posthoc)"
   ]
  },
  {
   "cell_type": "code",
   "execution_count": null,
   "id": "4395f1ff-4763-4bd4-abd9-f34df8f57493",
   "metadata": {},
   "outputs": [],
   "source": []
  }
 ],
 "metadata": {
  "kernelspec": {
   "display_name": "PyTorch-1.10",
   "language": "python",
   "name": "pytorch-1.10"
  },
  "language_info": {
   "codemirror_mode": {
    "name": "ipython",
    "version": 3
   },
   "file_extension": ".py",
   "mimetype": "text/x-python",
   "name": "python",
   "nbconvert_exporter": "python",
   "pygments_lexer": "ipython3",
   "version": "3.9.7"
  }
 },
 "nbformat": 4,
 "nbformat_minor": 5
}
