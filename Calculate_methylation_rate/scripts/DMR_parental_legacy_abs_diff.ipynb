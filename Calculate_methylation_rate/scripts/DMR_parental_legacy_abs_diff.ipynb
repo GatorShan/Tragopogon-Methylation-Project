{
 "cells": [
  {
   "cell_type": "code",
   "execution_count": 1,
   "id": "d2c814b4-6e43-48cd-bb00-a654b4bd3113",
   "metadata": {
    "tags": []
   },
   "outputs": [],
   "source": [
    "import sys,os,re\n",
    "import pandas as pd\n",
    "Delimiter = '\\t'"
   ]
  },
  {
   "cell_type": "markdown",
   "id": "ec5cb212-0397-4024-b36e-fdcd9f899624",
   "metadata": {},
   "source": [
    "## CG context"
   ]
  },
  {
   "cell_type": "code",
   "execution_count": 2,
   "id": "d0e7eaef-ac6f-4533-abdb-8b4c9c2509b5",
   "metadata": {
    "tags": []
   },
   "outputs": [],
   "source": [
    "CpG_parental_legacy = \"/blue/soltis/shan158538/Methylation/OutPut/DMR_methylkit/CpG_Compare_DMR_between-parents_between-subgenomes_mincov3_v4/Overlap_same_direction_parents_methylDiff_all_subgenomes_methylDiff_all.txt\""
   ]
  },
  {
   "cell_type": "code",
   "execution_count": 3,
   "id": "fb13611d-7854-4919-837b-eed13e808b46",
   "metadata": {
    "tags": []
   },
   "outputs": [],
   "source": [
    "CpG_InFile = pd.read_csv(CpG_parental_legacy, sep=Delimiter)"
   ]
  },
  {
   "cell_type": "code",
   "execution_count": 4,
   "id": "8c5a3edf-04ce-4bf5-987c-189ba5c48961",
   "metadata": {
    "tags": []
   },
   "outputs": [
    {
     "data": {
      "text/html": [
       "<div>\n",
       "<style scoped>\n",
       "    .dataframe tbody tr th:only-of-type {\n",
       "        vertical-align: middle;\n",
       "    }\n",
       "\n",
       "    .dataframe tbody tr th {\n",
       "        vertical-align: top;\n",
       "    }\n",
       "\n",
       "    .dataframe thead th {\n",
       "        text-align: right;\n",
       "    }\n",
       "</style>\n",
       "<table border=\"1\" class=\"dataframe\">\n",
       "  <thead>\n",
       "    <tr style=\"text-align: right;\">\n",
       "      <th></th>\n",
       "      <th>Unnamed: 0</th>\n",
       "      <th>Scaffold</th>\n",
       "      <th>Start</th>\n",
       "      <th>End_x</th>\n",
       "      <th>Strand_x</th>\n",
       "      <th>P_x</th>\n",
       "      <th>Q_x</th>\n",
       "      <th>Direction_x</th>\n",
       "      <th>End_y</th>\n",
       "      <th>Strand_y</th>\n",
       "      <th>P_y</th>\n",
       "      <th>Q_y</th>\n",
       "      <th>Direction_y</th>\n",
       "    </tr>\n",
       "  </thead>\n",
       "  <tbody>\n",
       "    <tr>\n",
       "      <th>0</th>\n",
       "      <td>0</td>\n",
       "      <td>Tdub_V1_scaffold_1</td>\n",
       "      <td>162301</td>\n",
       "      <td>162600</td>\n",
       "      <td>*</td>\n",
       "      <td>0.0</td>\n",
       "      <td>0.0</td>\n",
       "      <td>-43.377124</td>\n",
       "      <td>162600</td>\n",
       "      <td>*</td>\n",
       "      <td>0.0</td>\n",
       "      <td>0.0</td>\n",
       "      <td>-80.124069</td>\n",
       "    </tr>\n",
       "    <tr>\n",
       "      <th>1</th>\n",
       "      <td>1</td>\n",
       "      <td>Tdub_V1_scaffold_10</td>\n",
       "      <td>472501</td>\n",
       "      <td>472800</td>\n",
       "      <td>*</td>\n",
       "      <td>0.0</td>\n",
       "      <td>0.0</td>\n",
       "      <td>48.795181</td>\n",
       "      <td>472800</td>\n",
       "      <td>*</td>\n",
       "      <td>0.0</td>\n",
       "      <td>0.0</td>\n",
       "      <td>70.147516</td>\n",
       "    </tr>\n",
       "    <tr>\n",
       "      <th>2</th>\n",
       "      <td>2</td>\n",
       "      <td>Tdub_V1_scaffold_10</td>\n",
       "      <td>472801</td>\n",
       "      <td>473100</td>\n",
       "      <td>*</td>\n",
       "      <td>0.0</td>\n",
       "      <td>0.0</td>\n",
       "      <td>87.368421</td>\n",
       "      <td>473100</td>\n",
       "      <td>*</td>\n",
       "      <td>0.0</td>\n",
       "      <td>0.0</td>\n",
       "      <td>89.076048</td>\n",
       "    </tr>\n",
       "    <tr>\n",
       "      <th>3</th>\n",
       "      <td>3</td>\n",
       "      <td>Tdub_V1_scaffold_10</td>\n",
       "      <td>632701</td>\n",
       "      <td>633000</td>\n",
       "      <td>*</td>\n",
       "      <td>0.0</td>\n",
       "      <td>0.0</td>\n",
       "      <td>95.744994</td>\n",
       "      <td>633000</td>\n",
       "      <td>*</td>\n",
       "      <td>0.0</td>\n",
       "      <td>0.0</td>\n",
       "      <td>75.754717</td>\n",
       "    </tr>\n",
       "    <tr>\n",
       "      <th>4</th>\n",
       "      <td>4</td>\n",
       "      <td>Tdub_V1_scaffold_10</td>\n",
       "      <td>633001</td>\n",
       "      <td>633300</td>\n",
       "      <td>*</td>\n",
       "      <td>0.0</td>\n",
       "      <td>0.0</td>\n",
       "      <td>93.336048</td>\n",
       "      <td>633300</td>\n",
       "      <td>*</td>\n",
       "      <td>0.0</td>\n",
       "      <td>0.0</td>\n",
       "      <td>55.854418</td>\n",
       "    </tr>\n",
       "  </tbody>\n",
       "</table>\n",
       "</div>"
      ],
      "text/plain": [
       "   Unnamed: 0             Scaffold   Start   End_x Strand_x  P_x  Q_x  \\\n",
       "0           0   Tdub_V1_scaffold_1  162301  162600        *  0.0  0.0   \n",
       "1           1  Tdub_V1_scaffold_10  472501  472800        *  0.0  0.0   \n",
       "2           2  Tdub_V1_scaffold_10  472801  473100        *  0.0  0.0   \n",
       "3           3  Tdub_V1_scaffold_10  632701  633000        *  0.0  0.0   \n",
       "4           4  Tdub_V1_scaffold_10  633001  633300        *  0.0  0.0   \n",
       "\n",
       "   Direction_x   End_y Strand_y  P_y  Q_y  Direction_y  \n",
       "0   -43.377124  162600        *  0.0  0.0   -80.124069  \n",
       "1    48.795181  472800        *  0.0  0.0    70.147516  \n",
       "2    87.368421  473100        *  0.0  0.0    89.076048  \n",
       "3    95.744994  633000        *  0.0  0.0    75.754717  \n",
       "4    93.336048  633300        *  0.0  0.0    55.854418  "
      ]
     },
     "execution_count": 4,
     "metadata": {},
     "output_type": "execute_result"
    }
   ],
   "source": [
    "CpG_InFile.head()"
   ]
  },
  {
   "cell_type": "code",
   "execution_count": 5,
   "id": "3f033e28-ee38-4301-969e-558ea12d823a",
   "metadata": {
    "tags": []
   },
   "outputs": [],
   "source": [
    "CpG_InFile['Abs_diff'] = (CpG_InFile['Direction_x'] - CpG_InFile['Direction_y']).abs()"
   ]
  },
  {
   "cell_type": "code",
   "execution_count": 6,
   "id": "e9fb7cf1-2c8f-4fb6-a328-1b0336e05640",
   "metadata": {
    "tags": []
   },
   "outputs": [
    {
     "data": {
      "text/html": [
       "<div>\n",
       "<style scoped>\n",
       "    .dataframe tbody tr th:only-of-type {\n",
       "        vertical-align: middle;\n",
       "    }\n",
       "\n",
       "    .dataframe tbody tr th {\n",
       "        vertical-align: top;\n",
       "    }\n",
       "\n",
       "    .dataframe thead th {\n",
       "        text-align: right;\n",
       "    }\n",
       "</style>\n",
       "<table border=\"1\" class=\"dataframe\">\n",
       "  <thead>\n",
       "    <tr style=\"text-align: right;\">\n",
       "      <th></th>\n",
       "      <th>Unnamed: 0</th>\n",
       "      <th>Scaffold</th>\n",
       "      <th>Start</th>\n",
       "      <th>End_x</th>\n",
       "      <th>Strand_x</th>\n",
       "      <th>P_x</th>\n",
       "      <th>Q_x</th>\n",
       "      <th>Direction_x</th>\n",
       "      <th>End_y</th>\n",
       "      <th>Strand_y</th>\n",
       "      <th>P_y</th>\n",
       "      <th>Q_y</th>\n",
       "      <th>Direction_y</th>\n",
       "      <th>Abs_diff</th>\n",
       "    </tr>\n",
       "  </thead>\n",
       "  <tbody>\n",
       "    <tr>\n",
       "      <th>0</th>\n",
       "      <td>0</td>\n",
       "      <td>Tdub_V1_scaffold_1</td>\n",
       "      <td>162301</td>\n",
       "      <td>162600</td>\n",
       "      <td>*</td>\n",
       "      <td>0.0</td>\n",
       "      <td>0.0</td>\n",
       "      <td>-43.377124</td>\n",
       "      <td>162600</td>\n",
       "      <td>*</td>\n",
       "      <td>0.0</td>\n",
       "      <td>0.0</td>\n",
       "      <td>-80.124069</td>\n",
       "      <td>36.746946</td>\n",
       "    </tr>\n",
       "    <tr>\n",
       "      <th>1</th>\n",
       "      <td>1</td>\n",
       "      <td>Tdub_V1_scaffold_10</td>\n",
       "      <td>472501</td>\n",
       "      <td>472800</td>\n",
       "      <td>*</td>\n",
       "      <td>0.0</td>\n",
       "      <td>0.0</td>\n",
       "      <td>48.795181</td>\n",
       "      <td>472800</td>\n",
       "      <td>*</td>\n",
       "      <td>0.0</td>\n",
       "      <td>0.0</td>\n",
       "      <td>70.147516</td>\n",
       "      <td>21.352335</td>\n",
       "    </tr>\n",
       "    <tr>\n",
       "      <th>2</th>\n",
       "      <td>2</td>\n",
       "      <td>Tdub_V1_scaffold_10</td>\n",
       "      <td>472801</td>\n",
       "      <td>473100</td>\n",
       "      <td>*</td>\n",
       "      <td>0.0</td>\n",
       "      <td>0.0</td>\n",
       "      <td>87.368421</td>\n",
       "      <td>473100</td>\n",
       "      <td>*</td>\n",
       "      <td>0.0</td>\n",
       "      <td>0.0</td>\n",
       "      <td>89.076048</td>\n",
       "      <td>1.707627</td>\n",
       "    </tr>\n",
       "    <tr>\n",
       "      <th>3</th>\n",
       "      <td>3</td>\n",
       "      <td>Tdub_V1_scaffold_10</td>\n",
       "      <td>632701</td>\n",
       "      <td>633000</td>\n",
       "      <td>*</td>\n",
       "      <td>0.0</td>\n",
       "      <td>0.0</td>\n",
       "      <td>95.744994</td>\n",
       "      <td>633000</td>\n",
       "      <td>*</td>\n",
       "      <td>0.0</td>\n",
       "      <td>0.0</td>\n",
       "      <td>75.754717</td>\n",
       "      <td>19.990277</td>\n",
       "    </tr>\n",
       "    <tr>\n",
       "      <th>4</th>\n",
       "      <td>4</td>\n",
       "      <td>Tdub_V1_scaffold_10</td>\n",
       "      <td>633001</td>\n",
       "      <td>633300</td>\n",
       "      <td>*</td>\n",
       "      <td>0.0</td>\n",
       "      <td>0.0</td>\n",
       "      <td>93.336048</td>\n",
       "      <td>633300</td>\n",
       "      <td>*</td>\n",
       "      <td>0.0</td>\n",
       "      <td>0.0</td>\n",
       "      <td>55.854418</td>\n",
       "      <td>37.481630</td>\n",
       "    </tr>\n",
       "  </tbody>\n",
       "</table>\n",
       "</div>"
      ],
      "text/plain": [
       "   Unnamed: 0             Scaffold   Start   End_x Strand_x  P_x  Q_x  \\\n",
       "0           0   Tdub_V1_scaffold_1  162301  162600        *  0.0  0.0   \n",
       "1           1  Tdub_V1_scaffold_10  472501  472800        *  0.0  0.0   \n",
       "2           2  Tdub_V1_scaffold_10  472801  473100        *  0.0  0.0   \n",
       "3           3  Tdub_V1_scaffold_10  632701  633000        *  0.0  0.0   \n",
       "4           4  Tdub_V1_scaffold_10  633001  633300        *  0.0  0.0   \n",
       "\n",
       "   Direction_x   End_y Strand_y  P_y  Q_y  Direction_y   Abs_diff  \n",
       "0   -43.377124  162600        *  0.0  0.0   -80.124069  36.746946  \n",
       "1    48.795181  472800        *  0.0  0.0    70.147516  21.352335  \n",
       "2    87.368421  473100        *  0.0  0.0    89.076048   1.707627  \n",
       "3    95.744994  633000        *  0.0  0.0    75.754717  19.990277  \n",
       "4    93.336048  633300        *  0.0  0.0    55.854418  37.481630  "
      ]
     },
     "execution_count": 6,
     "metadata": {},
     "output_type": "execute_result"
    }
   ],
   "source": [
    "CpG_InFile.head()"
   ]
  },
  {
   "cell_type": "code",
   "execution_count": null,
   "id": "917b3ba7-0cb6-4f29-8a33-5f87b474f21d",
   "metadata": {
    "tags": []
   },
   "outputs": [],
   "source": [
    "CpG_InFile['Abs_diff'].to_csv('/blue/soltis/shan158538/Methylation/OutPut/DMR_methylkit/CpG_Compare_DMR_between-parents_between-subgenomes_mincov3_v4/CG_parental_legacy_abs_diff.txt', index=False)"
   ]
  },
  {
   "cell_type": "markdown",
   "id": "3029b835-34c0-4647-a2ce-2590258f5988",
   "metadata": {},
   "source": [
    "## CHG context"
   ]
  },
  {
   "cell_type": "code",
   "execution_count": 5,
   "id": "09bb3935-4858-4a8f-914d-a9edfbe3b3b3",
   "metadata": {},
   "outputs": [],
   "source": [
    "CHG_parental_legacy = \"/blue/soltis/shan158538/Methylation/OutPut/DMR_methylkit/CHG_Compare_DMR_between-parents_between-subgenomes_mincov3_v5/Overlap_same_direction_parents_CHG_methylDiff_all_subgenomes_CHG_methylDiff_all.txt\""
   ]
  },
  {
   "cell_type": "code",
   "execution_count": 6,
   "id": "4490b48f-8c51-49dc-93c4-f416d1701733",
   "metadata": {
    "tags": []
   },
   "outputs": [],
   "source": [
    "CHG_InFile = pd.read_csv(CHG_parental_legacy, sep=Delimiter)"
   ]
  },
  {
   "cell_type": "code",
   "execution_count": 8,
   "id": "d2b89df3-caa8-4b63-8b06-85f9255c772e",
   "metadata": {
    "tags": []
   },
   "outputs": [],
   "source": [
    "CHG_InFile['Abs_diff'] = (CHG_InFile['Direction_x'] - CHG_InFile['Direction_y']).abs()"
   ]
  },
  {
   "cell_type": "code",
   "execution_count": 9,
   "id": "7b2e293f-9748-4aa5-914d-e439fc881dda",
   "metadata": {
    "tags": []
   },
   "outputs": [
    {
     "data": {
      "text/html": [
       "<div>\n",
       "<style scoped>\n",
       "    .dataframe tbody tr th:only-of-type {\n",
       "        vertical-align: middle;\n",
       "    }\n",
       "\n",
       "    .dataframe tbody tr th {\n",
       "        vertical-align: top;\n",
       "    }\n",
       "\n",
       "    .dataframe thead th {\n",
       "        text-align: right;\n",
       "    }\n",
       "</style>\n",
       "<table border=\"1\" class=\"dataframe\">\n",
       "  <thead>\n",
       "    <tr style=\"text-align: right;\">\n",
       "      <th></th>\n",
       "      <th>Unnamed: 0</th>\n",
       "      <th>Scaffold</th>\n",
       "      <th>Start</th>\n",
       "      <th>End_x</th>\n",
       "      <th>Strand_x</th>\n",
       "      <th>P_x</th>\n",
       "      <th>Q_x</th>\n",
       "      <th>Direction_x</th>\n",
       "      <th>End_y</th>\n",
       "      <th>Strand_y</th>\n",
       "      <th>P_y</th>\n",
       "      <th>Q_y</th>\n",
       "      <th>Direction_y</th>\n",
       "      <th>Abs_diff</th>\n",
       "    </tr>\n",
       "  </thead>\n",
       "  <tbody>\n",
       "    <tr>\n",
       "      <th>0</th>\n",
       "      <td>0</td>\n",
       "      <td>Tdub_V1_scaffold_1</td>\n",
       "      <td>150301</td>\n",
       "      <td>150600</td>\n",
       "      <td>*</td>\n",
       "      <td>0.0</td>\n",
       "      <td>0.0</td>\n",
       "      <td>59.773501</td>\n",
       "      <td>150600</td>\n",
       "      <td>*</td>\n",
       "      <td>0.0</td>\n",
       "      <td>0.0</td>\n",
       "      <td>53.717868</td>\n",
       "      <td>6.055633</td>\n",
       "    </tr>\n",
       "    <tr>\n",
       "      <th>1</th>\n",
       "      <td>1</td>\n",
       "      <td>Tdub_V1_scaffold_10</td>\n",
       "      <td>117301</td>\n",
       "      <td>117600</td>\n",
       "      <td>*</td>\n",
       "      <td>0.0</td>\n",
       "      <td>0.0</td>\n",
       "      <td>89.296771</td>\n",
       "      <td>117600</td>\n",
       "      <td>*</td>\n",
       "      <td>0.0</td>\n",
       "      <td>0.0</td>\n",
       "      <td>48.570649</td>\n",
       "      <td>40.726122</td>\n",
       "    </tr>\n",
       "    <tr>\n",
       "      <th>2</th>\n",
       "      <td>2</td>\n",
       "      <td>Tdub_V1_scaffold_10</td>\n",
       "      <td>632401</td>\n",
       "      <td>632700</td>\n",
       "      <td>*</td>\n",
       "      <td>0.0</td>\n",
       "      <td>0.0</td>\n",
       "      <td>92.800789</td>\n",
       "      <td>632700</td>\n",
       "      <td>*</td>\n",
       "      <td>0.0</td>\n",
       "      <td>0.0</td>\n",
       "      <td>91.903153</td>\n",
       "      <td>0.897636</td>\n",
       "    </tr>\n",
       "    <tr>\n",
       "      <th>3</th>\n",
       "      <td>3</td>\n",
       "      <td>Tdub_V1_scaffold_10</td>\n",
       "      <td>633301</td>\n",
       "      <td>633600</td>\n",
       "      <td>*</td>\n",
       "      <td>0.0</td>\n",
       "      <td>0.0</td>\n",
       "      <td>94.102886</td>\n",
       "      <td>633600</td>\n",
       "      <td>*</td>\n",
       "      <td>0.0</td>\n",
       "      <td>0.0</td>\n",
       "      <td>90.845070</td>\n",
       "      <td>3.257815</td>\n",
       "    </tr>\n",
       "    <tr>\n",
       "      <th>4</th>\n",
       "      <td>4</td>\n",
       "      <td>Tdub_V1_scaffold_10</td>\n",
       "      <td>633601</td>\n",
       "      <td>633900</td>\n",
       "      <td>*</td>\n",
       "      <td>0.0</td>\n",
       "      <td>0.0</td>\n",
       "      <td>89.977728</td>\n",
       "      <td>633900</td>\n",
       "      <td>*</td>\n",
       "      <td>0.0</td>\n",
       "      <td>0.0</td>\n",
       "      <td>85.480183</td>\n",
       "      <td>4.497546</td>\n",
       "    </tr>\n",
       "  </tbody>\n",
       "</table>\n",
       "</div>"
      ],
      "text/plain": [
       "   Unnamed: 0             Scaffold   Start   End_x Strand_x  P_x  Q_x  \\\n",
       "0           0   Tdub_V1_scaffold_1  150301  150600        *  0.0  0.0   \n",
       "1           1  Tdub_V1_scaffold_10  117301  117600        *  0.0  0.0   \n",
       "2           2  Tdub_V1_scaffold_10  632401  632700        *  0.0  0.0   \n",
       "3           3  Tdub_V1_scaffold_10  633301  633600        *  0.0  0.0   \n",
       "4           4  Tdub_V1_scaffold_10  633601  633900        *  0.0  0.0   \n",
       "\n",
       "   Direction_x   End_y Strand_y  P_y  Q_y  Direction_y   Abs_diff  \n",
       "0    59.773501  150600        *  0.0  0.0    53.717868   6.055633  \n",
       "1    89.296771  117600        *  0.0  0.0    48.570649  40.726122  \n",
       "2    92.800789  632700        *  0.0  0.0    91.903153   0.897636  \n",
       "3    94.102886  633600        *  0.0  0.0    90.845070   3.257815  \n",
       "4    89.977728  633900        *  0.0  0.0    85.480183   4.497546  "
      ]
     },
     "execution_count": 9,
     "metadata": {},
     "output_type": "execute_result"
    }
   ],
   "source": []
  },
  {
   "cell_type": "code",
   "execution_count": 10,
   "id": "9f11839c-d2e0-4dd1-b046-098653d8d262",
   "metadata": {
    "tags": []
   },
   "outputs": [],
   "source": [
    "CHG_InFile['Abs_diff'].to_csv('/blue/soltis/shan158538/Methylation/OutPut/DMR_methylkit/CHG_Compare_DMR_between-parents_between-subgenomes_mincov3_v5/CHG_parental_legacy_abs_diff.txt', index=False)"
   ]
  },
  {
   "cell_type": "markdown",
   "id": "fc23c4f8-64bb-4f15-a8da-f156a7d970a8",
   "metadata": {},
   "source": [
    "## CHH context"
   ]
  },
  {
   "cell_type": "code",
   "execution_count": 11,
   "id": "1d9fa38e-7b27-4c56-8f3e-84769fd80123",
   "metadata": {
    "tags": []
   },
   "outputs": [],
   "source": [
    "CHH_parental_legacy = \"/blue/soltis/shan158538/Methylation/OutPut/DMR_methylkit/CHH_Compare_DMR_between-parents_between-subgenomes_mincov3_v4/Overlap_same_direction_parents_CHH_methylDiff_all_subgenomes_CHH_methylDiff_all.txt\""
   ]
  },
  {
   "cell_type": "code",
   "execution_count": 12,
   "id": "3ebd43af-de32-4d0b-be62-3cec88e097eb",
   "metadata": {
    "tags": []
   },
   "outputs": [],
   "source": [
    "CHH_InFile = pd.read_csv(CHH_parental_legacy, sep=Delimiter)"
   ]
  },
  {
   "cell_type": "code",
   "execution_count": 14,
   "id": "f35086f0-a549-4290-a98f-91afcf6ee709",
   "metadata": {
    "tags": []
   },
   "outputs": [],
   "source": [
    "CHH_InFile['Abs_diff'] = (CHH_InFile['Direction_x'] - CHH_InFile['Direction_y']).abs()"
   ]
  },
  {
   "cell_type": "code",
   "execution_count": 16,
   "id": "670fa3c2-c479-4220-8b6f-ed3ef26dfdda",
   "metadata": {
    "tags": []
   },
   "outputs": [],
   "source": [
    "CHH_InFile['Abs_diff'].to_csv('/blue/soltis/shan158538/Methylation/OutPut/DMR_methylkit/CHH_Compare_DMR_between-parents_between-subgenomes_mincov3_v4/CHH_parental_legacy_abs_diff.txt', index=False)"
   ]
  },
  {
   "cell_type": "code",
   "execution_count": null,
   "id": "3fe9aacb-1c44-4ecb-9ee6-4b60d7a8ebf8",
   "metadata": {},
   "outputs": [],
   "source": []
  }
 ],
 "metadata": {
  "kernelspec": {
   "display_name": "PyTorch-1.10",
   "language": "python",
   "name": "pytorch-1.10"
  },
  "language_info": {
   "codemirror_mode": {
    "name": "ipython",
    "version": 3
   },
   "file_extension": ".py",
   "mimetype": "text/x-python",
   "name": "python",
   "nbconvert_exporter": "python",
   "pygments_lexer": "ipython3",
   "version": "3.9.7"
  }
 },
 "nbformat": 4,
 "nbformat_minor": 5
}
