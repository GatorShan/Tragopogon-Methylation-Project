{
 "cells": [
  {
   "cell_type": "code",
   "execution_count": 1,
   "id": "cbec06bf-c804-4e9a-8bf8-9645c8940fc3",
   "metadata": {},
   "outputs": [],
   "source": [
    "import sys,os,re\n",
    "import pandas as pd\n",
    "Delimiter = '\\t'"
   ]
  },
  {
   "cell_type": "code",
   "execution_count": 7,
   "id": "f6afdfd4-3b77-42b5-a76d-c4d9c4788443",
   "metadata": {},
   "outputs": [],
   "source": [
    "InFileName1 = \"/blue/soltis/shan158538/Methylation/OutPut/DMR_heatmap/Overlap_same_direction_parents_methylDiff_all_subgenomes_methylDiff_all.txt\""
   ]
  },
  {
   "cell_type": "code",
   "execution_count": 8,
   "id": "31722ac9-8be4-4a2e-9cec-b195dabee040",
   "metadata": {},
   "outputs": [],
   "source": [
    "InFile1 = pd.read_csv(InFileName1, sep=Delimiter)"
   ]
  },
  {
   "cell_type": "code",
   "execution_count": 10,
   "id": "f126a44f-f18c-47d9-87fb-1d130dd23b98",
   "metadata": {},
   "outputs": [],
   "source": [
    "columns_to_keep = ['Scaffold', 'Start', 'Direction_x', 'Direction_y']"
   ]
  },
  {
   "cell_type": "code",
   "execution_count": 11,
   "id": "aba79ee1-3878-474c-9ff0-e6f44b25f978",
   "metadata": {},
   "outputs": [],
   "source": [
    "InFile1_filtered = InFile1[columns_to_keep]"
   ]
  },
  {
   "cell_type": "code",
   "execution_count": 13,
   "id": "f7c65240-040c-4a11-9a2d-a16999afb6a1",
   "metadata": {},
   "outputs": [],
   "source": [
    "InFile1_filtered_sorted = InFile1_filtered.sort_values('Direction_x', ascending=False)"
   ]
  },
  {
   "cell_type": "code",
   "execution_count": 31,
   "id": "884814a7-c294-4b31-9f21-fa5d97b4b5ca",
   "metadata": {},
   "outputs": [
    {
     "data": {
      "text/html": [
       "<div>\n",
       "<style scoped>\n",
       "    .dataframe tbody tr th:only-of-type {\n",
       "        vertical-align: middle;\n",
       "    }\n",
       "\n",
       "    .dataframe tbody tr th {\n",
       "        vertical-align: top;\n",
       "    }\n",
       "\n",
       "    .dataframe thead th {\n",
       "        text-align: right;\n",
       "    }\n",
       "</style>\n",
       "<table border=\"1\" class=\"dataframe\">\n",
       "  <thead>\n",
       "    <tr style=\"text-align: right;\">\n",
       "      <th></th>\n",
       "      <th>Scaffold</th>\n",
       "      <th>Start</th>\n",
       "      <th>Direction_x</th>\n",
       "      <th>Direction_y</th>\n",
       "    </tr>\n",
       "  </thead>\n",
       "  <tbody>\n",
       "    <tr>\n",
       "      <th>1858</th>\n",
       "      <td>Tdub_V1_scaffold_6978</td>\n",
       "      <td>23401</td>\n",
       "      <td>99.040767</td>\n",
       "      <td>94.636015</td>\n",
       "    </tr>\n",
       "    <tr>\n",
       "      <th>652</th>\n",
       "      <td>Tdub_V1_scaffold_12154</td>\n",
       "      <td>601</td>\n",
       "      <td>98.930481</td>\n",
       "      <td>95.967742</td>\n",
       "    </tr>\n",
       "    <tr>\n",
       "      <th>42</th>\n",
       "      <td>Tdub_V1_scaffold_10131</td>\n",
       "      <td>15901</td>\n",
       "      <td>98.697068</td>\n",
       "      <td>95.947036</td>\n",
       "    </tr>\n",
       "    <tr>\n",
       "      <th>844</th>\n",
       "      <td>Tdub_V1_scaffold_1521</td>\n",
       "      <td>2401</td>\n",
       "      <td>98.688525</td>\n",
       "      <td>96.078089</td>\n",
       "    </tr>\n",
       "    <tr>\n",
       "      <th>2208</th>\n",
       "      <td>Tdub_V1_scaffold_9538</td>\n",
       "      <td>52501</td>\n",
       "      <td>98.583569</td>\n",
       "      <td>69.836150</td>\n",
       "    </tr>\n",
       "    <tr>\n",
       "      <th>...</th>\n",
       "      <td>...</td>\n",
       "      <td>...</td>\n",
       "      <td>...</td>\n",
       "      <td>...</td>\n",
       "    </tr>\n",
       "    <tr>\n",
       "      <th>1690</th>\n",
       "      <td>Tdub_V1_scaffold_5424</td>\n",
       "      <td>18301</td>\n",
       "      <td>-98.844058</td>\n",
       "      <td>-96.641791</td>\n",
       "    </tr>\n",
       "    <tr>\n",
       "      <th>218</th>\n",
       "      <td>Tdub_V1_scaffold_10856</td>\n",
       "      <td>107401</td>\n",
       "      <td>-98.938638</td>\n",
       "      <td>-87.017930</td>\n",
       "    </tr>\n",
       "    <tr>\n",
       "      <th>1025</th>\n",
       "      <td>Tdub_V1_scaffold_1944</td>\n",
       "      <td>10201</td>\n",
       "      <td>-99.198054</td>\n",
       "      <td>-95.503611</td>\n",
       "    </tr>\n",
       "    <tr>\n",
       "      <th>1592</th>\n",
       "      <td>Tdub_V1_scaffold_477</td>\n",
       "      <td>85201</td>\n",
       "      <td>-99.481865</td>\n",
       "      <td>-61.605346</td>\n",
       "    </tr>\n",
       "    <tr>\n",
       "      <th>540</th>\n",
       "      <td>Tdub_V1_scaffold_11920</td>\n",
       "      <td>90601</td>\n",
       "      <td>-100.000000</td>\n",
       "      <td>-96.078431</td>\n",
       "    </tr>\n",
       "  </tbody>\n",
       "</table>\n",
       "<p>2300 rows × 4 columns</p>\n",
       "</div>"
      ],
      "text/plain": [
       "                    Scaffold   Start  Direction_x  Direction_y\n",
       "1858   Tdub_V1_scaffold_6978   23401    99.040767    94.636015\n",
       "652   Tdub_V1_scaffold_12154     601    98.930481    95.967742\n",
       "42    Tdub_V1_scaffold_10131   15901    98.697068    95.947036\n",
       "844    Tdub_V1_scaffold_1521    2401    98.688525    96.078089\n",
       "2208   Tdub_V1_scaffold_9538   52501    98.583569    69.836150\n",
       "...                      ...     ...          ...          ...\n",
       "1690   Tdub_V1_scaffold_5424   18301   -98.844058   -96.641791\n",
       "218   Tdub_V1_scaffold_10856  107401   -98.938638   -87.017930\n",
       "1025   Tdub_V1_scaffold_1944   10201   -99.198054   -95.503611\n",
       "1592    Tdub_V1_scaffold_477   85201   -99.481865   -61.605346\n",
       "540   Tdub_V1_scaffold_11920   90601  -100.000000   -96.078431\n",
       "\n",
       "[2300 rows x 4 columns]"
      ]
     },
     "execution_count": 31,
     "metadata": {},
     "output_type": "execute_result"
    }
   ],
   "source": [
    "InFile1_filtered_sorted"
   ]
  },
  {
   "cell_type": "code",
   "execution_count": 17,
   "id": "0a20b701-f1a8-472a-8678-fe76b887fe31",
   "metadata": {},
   "outputs": [],
   "source": [
    "InFile1_filtered_sorted.to_csv(\"/blue/soltis/shan158538/Methylation/OutPut/DMR_heatmap/Filtered_sorted_Overlap_same.txt\", sep=Delimiter, header=False, index=False)"
   ]
  },
  {
   "cell_type": "code",
   "execution_count": 18,
   "id": "287d63c2-df4e-4580-8e19-7ddcddbc421c",
   "metadata": {},
   "outputs": [],
   "source": [
    "InFileName2 = \"/blue/soltis/shan158538/Methylation/OutPut/DMR_heatmap/Unique_parents_methylDiff_all.txt\"\n",
    "InFile2 = pd.read_csv(InFileName2, sep=Delimiter)\n",
    "columns_to_keep = ['Scaffold', 'Start', 'Direction_x', 'Direction_y']\n",
    "InFile2_filtered = InFile2[columns_to_keep]"
   ]
  },
  {
   "cell_type": "code",
   "execution_count": 24,
   "id": "76b27129-642a-44e9-8dc0-521b8d76080f",
   "metadata": {},
   "outputs": [],
   "source": [
    "# To replace the missing value with 0\n",
    "InFile2_filtered_filled = InFile2_filtered.fillna(0)"
   ]
  },
  {
   "cell_type": "code",
   "execution_count": 26,
   "id": "4f151fd7-1bef-4e05-830f-9f623739c250",
   "metadata": {},
   "outputs": [],
   "source": [
    "# Sort the df based on column 'Direction_x'\n",
    "InFile2_filtered_filled_sorted = InFile2_filtered_filled.sort_values('Direction_x', ascending=False)"
   ]
  },
  {
   "cell_type": "code",
   "execution_count": 28,
   "id": "6e33760e-6572-4cc8-bfa0-dd4507da2ac6",
   "metadata": {},
   "outputs": [],
   "source": [
    "InFile2_filtered_filled_sorted.to_csv(\"/blue/soltis/shan158538/Methylation/OutPut/DMR_heatmap/Filtered_sorted_Unique_parents.txt\", sep=Delimiter, header=False, index=False)"
   ]
  },
  {
   "cell_type": "markdown",
   "id": "71d14773-71ef-4451-bc85-b33297c93bf6",
   "metadata": {},
   "source": [
    "### Processing file Unique_subgenomes_methylDiff_all.txt"
   ]
  },
  {
   "cell_type": "code",
   "execution_count": 29,
   "id": "6d699fd4-3590-4b5c-b22d-2f8240e5d4f8",
   "metadata": {},
   "outputs": [],
   "source": [
    "InFileName3 = \"/blue/soltis/shan158538/Methylation/OutPut/DMR_heatmap/Unique_subgenomes_methylDiff_all.txt\"\n",
    "InFile3 = pd.read_csv(InFileName3, sep=Delimiter)\n",
    "columns_to_keep = ['Scaffold', 'Start', 'Direction_x', 'Direction_y']\n",
    "InFile3_filtered = InFile3[columns_to_keep]\n",
    "InFile3_filtered_filled = InFile3_filtered.fillna(0)\n",
    "InFile3_filtered_filled_sorted = InFile3_filtered_filled.sort_values('Direction_y', ascending=False)\n",
    "InFile3_filtered_filled_sorted.to_csv(\"/blue/soltis/shan158538/Methylation/OutPut/DMR_heatmap/Filtered_sorted_Unique_subgenomes.txt\", sep=Delimiter, header=False, index=False)"
   ]
  },
  {
   "cell_type": "markdown",
   "id": "7ce58c07-9172-4147-8033-c2840b2d4db7",
   "metadata": {},
   "source": [
    "### Processing file Overlap_diff_direction_parents_methylDiff_all_subgenomes_methylDiff_all.txt"
   ]
  },
  {
   "cell_type": "code",
   "execution_count": 30,
   "id": "9518fca4-e4f9-48bf-9f49-df65b7457595",
   "metadata": {},
   "outputs": [],
   "source": [
    "InFileName4 = \"/blue/soltis/shan158538/Methylation/OutPut/DMR_heatmap/Overlap_diff_direction_parents_methylDiff_all_subgenomes_methylDiff_all.txt\"\n",
    "InFile4 = pd.read_csv(InFileName4, sep=Delimiter)\n",
    "columns_to_keep = ['Scaffold', 'Start', 'Direction_x', 'Direction_y']\n",
    "InFile4_filtered = InFile4[columns_to_keep]\n",
    "InFile4_filtered_sorted = InFile4_filtered.sort_values('Direction_x', ascending=False)\n",
    "InFile4_filtered_sorted.to_csv(\"/blue/soltis/shan158538/Methylation/OutPut/DMR_heatmap/Filtered_sorted_Overlap_diff.txt\", sep=Delimiter, header=False, index=False)\n",
    "\n"
   ]
  },
  {
   "cell_type": "code",
   "execution_count": null,
   "id": "f2bc7528-6b79-43bd-aa06-74862ad02474",
   "metadata": {},
   "outputs": [],
   "source": []
  }
 ],
 "metadata": {
  "kernelspec": {
   "display_name": "Python 3 (ipykernel)",
   "language": "python",
   "name": "python3"
  },
  "language_info": {
   "codemirror_mode": {
    "name": "ipython",
    "version": 3
   },
   "file_extension": ".py",
   "mimetype": "text/x-python",
   "name": "python",
   "nbconvert_exporter": "python",
   "pygments_lexer": "ipython3",
   "version": "3.10.4"
  }
 },
 "nbformat": 4,
 "nbformat_minor": 5
}
